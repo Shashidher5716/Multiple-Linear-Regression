{
  "nbformat": 4,
  "nbformat_minor": 0,
  "metadata": {
    "colab": {
      "provenance": []
    },
    "kernelspec": {
      "name": "python3",
      "display_name": "Python 3"
    },
    "language_info": {
      "name": "python"
    }
  },
  "cells": [
    {
      "cell_type": "code",
      "execution_count": 204,
      "metadata": {
        "id": "TiD6-P1Sb60B"
      },
      "outputs": [],
      "source": [
        "# Importing the libraries\n",
        "\n",
        "import pandas as pd\n",
        "import numpy as np\n",
        "import matplotlib.pyplot as plt\n",
        "import seaborn as sns\n",
        "import statsmodels.api as sm"
      ]
    },
    {
      "cell_type": "code",
      "source": [
        "# Importing the warnings\n",
        "\n",
        "import warnings\n",
        "warnings.filterwarnings('ignore') "
      ],
      "metadata": {
        "id": "YuINedDHcMdo"
      },
      "execution_count": 114,
      "outputs": []
    },
    {
      "cell_type": "code",
      "source": [
        "# Loading the dataset\n",
        "\n",
        "from google.colab import files\n",
        "\n",
        "uploaded = files.upload()"
      ],
      "metadata": {
        "colab": {
          "base_uri": "https://localhost:8080/",
          "height": 74
        },
        "id": "evphCNGRzAoO",
        "outputId": "b653e9f5-e7bf-409b-ba19-a5d345920e12"
      },
      "execution_count": 115,
      "outputs": [
        {
          "output_type": "display_data",
          "data": {
            "text/plain": [
              "<IPython.core.display.HTML object>"
            ],
            "text/html": [
              "\n",
              "     <input type=\"file\" id=\"files-da06bd41-e687-42e9-a62c-24031a8c9c3b\" name=\"files[]\" multiple disabled\n",
              "        style=\"border:none\" />\n",
              "     <output id=\"result-da06bd41-e687-42e9-a62c-24031a8c9c3b\">\n",
              "      Upload widget is only available when the cell has been executed in the\n",
              "      current browser session. Please rerun this cell to enable.\n",
              "      </output>\n",
              "      <script>// Copyright 2017 Google LLC\n",
              "//\n",
              "// Licensed under the Apache License, Version 2.0 (the \"License\");\n",
              "// you may not use this file except in compliance with the License.\n",
              "// You may obtain a copy of the License at\n",
              "//\n",
              "//      http://www.apache.org/licenses/LICENSE-2.0\n",
              "//\n",
              "// Unless required by applicable law or agreed to in writing, software\n",
              "// distributed under the License is distributed on an \"AS IS\" BASIS,\n",
              "// WITHOUT WARRANTIES OR CONDITIONS OF ANY KIND, either express or implied.\n",
              "// See the License for the specific language governing permissions and\n",
              "// limitations under the License.\n",
              "\n",
              "/**\n",
              " * @fileoverview Helpers for google.colab Python module.\n",
              " */\n",
              "(function(scope) {\n",
              "function span(text, styleAttributes = {}) {\n",
              "  const element = document.createElement('span');\n",
              "  element.textContent = text;\n",
              "  for (const key of Object.keys(styleAttributes)) {\n",
              "    element.style[key] = styleAttributes[key];\n",
              "  }\n",
              "  return element;\n",
              "}\n",
              "\n",
              "// Max number of bytes which will be uploaded at a time.\n",
              "const MAX_PAYLOAD_SIZE = 100 * 1024;\n",
              "\n",
              "function _uploadFiles(inputId, outputId) {\n",
              "  const steps = uploadFilesStep(inputId, outputId);\n",
              "  const outputElement = document.getElementById(outputId);\n",
              "  // Cache steps on the outputElement to make it available for the next call\n",
              "  // to uploadFilesContinue from Python.\n",
              "  outputElement.steps = steps;\n",
              "\n",
              "  return _uploadFilesContinue(outputId);\n",
              "}\n",
              "\n",
              "// This is roughly an async generator (not supported in the browser yet),\n",
              "// where there are multiple asynchronous steps and the Python side is going\n",
              "// to poll for completion of each step.\n",
              "// This uses a Promise to block the python side on completion of each step,\n",
              "// then passes the result of the previous step as the input to the next step.\n",
              "function _uploadFilesContinue(outputId) {\n",
              "  const outputElement = document.getElementById(outputId);\n",
              "  const steps = outputElement.steps;\n",
              "\n",
              "  const next = steps.next(outputElement.lastPromiseValue);\n",
              "  return Promise.resolve(next.value.promise).then((value) => {\n",
              "    // Cache the last promise value to make it available to the next\n",
              "    // step of the generator.\n",
              "    outputElement.lastPromiseValue = value;\n",
              "    return next.value.response;\n",
              "  });\n",
              "}\n",
              "\n",
              "/**\n",
              " * Generator function which is called between each async step of the upload\n",
              " * process.\n",
              " * @param {string} inputId Element ID of the input file picker element.\n",
              " * @param {string} outputId Element ID of the output display.\n",
              " * @return {!Iterable<!Object>} Iterable of next steps.\n",
              " */\n",
              "function* uploadFilesStep(inputId, outputId) {\n",
              "  const inputElement = document.getElementById(inputId);\n",
              "  inputElement.disabled = false;\n",
              "\n",
              "  const outputElement = document.getElementById(outputId);\n",
              "  outputElement.innerHTML = '';\n",
              "\n",
              "  const pickedPromise = new Promise((resolve) => {\n",
              "    inputElement.addEventListener('change', (e) => {\n",
              "      resolve(e.target.files);\n",
              "    });\n",
              "  });\n",
              "\n",
              "  const cancel = document.createElement('button');\n",
              "  inputElement.parentElement.appendChild(cancel);\n",
              "  cancel.textContent = 'Cancel upload';\n",
              "  const cancelPromise = new Promise((resolve) => {\n",
              "    cancel.onclick = () => {\n",
              "      resolve(null);\n",
              "    };\n",
              "  });\n",
              "\n",
              "  // Wait for the user to pick the files.\n",
              "  const files = yield {\n",
              "    promise: Promise.race([pickedPromise, cancelPromise]),\n",
              "    response: {\n",
              "      action: 'starting',\n",
              "    }\n",
              "  };\n",
              "\n",
              "  cancel.remove();\n",
              "\n",
              "  // Disable the input element since further picks are not allowed.\n",
              "  inputElement.disabled = true;\n",
              "\n",
              "  if (!files) {\n",
              "    return {\n",
              "      response: {\n",
              "        action: 'complete',\n",
              "      }\n",
              "    };\n",
              "  }\n",
              "\n",
              "  for (const file of files) {\n",
              "    const li = document.createElement('li');\n",
              "    li.append(span(file.name, {fontWeight: 'bold'}));\n",
              "    li.append(span(\n",
              "        `(${file.type || 'n/a'}) - ${file.size} bytes, ` +\n",
              "        `last modified: ${\n",
              "            file.lastModifiedDate ? file.lastModifiedDate.toLocaleDateString() :\n",
              "                                    'n/a'} - `));\n",
              "    const percent = span('0% done');\n",
              "    li.appendChild(percent);\n",
              "\n",
              "    outputElement.appendChild(li);\n",
              "\n",
              "    const fileDataPromise = new Promise((resolve) => {\n",
              "      const reader = new FileReader();\n",
              "      reader.onload = (e) => {\n",
              "        resolve(e.target.result);\n",
              "      };\n",
              "      reader.readAsArrayBuffer(file);\n",
              "    });\n",
              "    // Wait for the data to be ready.\n",
              "    let fileData = yield {\n",
              "      promise: fileDataPromise,\n",
              "      response: {\n",
              "        action: 'continue',\n",
              "      }\n",
              "    };\n",
              "\n",
              "    // Use a chunked sending to avoid message size limits. See b/62115660.\n",
              "    let position = 0;\n",
              "    do {\n",
              "      const length = Math.min(fileData.byteLength - position, MAX_PAYLOAD_SIZE);\n",
              "      const chunk = new Uint8Array(fileData, position, length);\n",
              "      position += length;\n",
              "\n",
              "      const base64 = btoa(String.fromCharCode.apply(null, chunk));\n",
              "      yield {\n",
              "        response: {\n",
              "          action: 'append',\n",
              "          file: file.name,\n",
              "          data: base64,\n",
              "        },\n",
              "      };\n",
              "\n",
              "      let percentDone = fileData.byteLength === 0 ?\n",
              "          100 :\n",
              "          Math.round((position / fileData.byteLength) * 100);\n",
              "      percent.textContent = `${percentDone}% done`;\n",
              "\n",
              "    } while (position < fileData.byteLength);\n",
              "  }\n",
              "\n",
              "  // All done.\n",
              "  yield {\n",
              "    response: {\n",
              "      action: 'complete',\n",
              "    }\n",
              "  };\n",
              "}\n",
              "\n",
              "scope.google = scope.google || {};\n",
              "scope.google.colab = scope.google.colab || {};\n",
              "scope.google.colab._files = {\n",
              "  _uploadFiles,\n",
              "  _uploadFilesContinue,\n",
              "};\n",
              "})(self);\n",
              "</script> "
            ]
          },
          "metadata": {}
        },
        {
          "output_type": "stream",
          "name": "stdout",
          "text": [
            "Saving Avacado_Price.csv to Avacado_Price (1).csv\n"
          ]
        }
      ]
    },
    {
      "cell_type": "code",
      "source": [
        "# Accessing the dataset\n",
        "\n",
        "data = pd.read_csv('Avacado_Price.csv')"
      ],
      "metadata": {
        "id": "MbbOiocYzQQr"
      },
      "execution_count": 116,
      "outputs": []
    },
    {
      "cell_type": "code",
      "source": [
        "# Checking the head of data\n",
        "\n",
        "data.head()"
      ],
      "metadata": {
        "colab": {
          "base_uri": "https://localhost:8080/",
          "height": 206
        },
        "id": "cVjeXd3tznr4",
        "outputId": "ab1aed5a-c023-4959-b5d2-cffda14a958f"
      },
      "execution_count": 117,
      "outputs": [
        {
          "output_type": "execute_result",
          "data": {
            "text/plain": [
              "   AveragePrice  Total_Volume  tot_ava1   tot_ava2  tot_ava3  Total_Bags  \\\n",
              "0          1.33      64236.62   1036.74   54454.85     48.16     8696.87   \n",
              "1          1.35      54876.98    674.28   44638.81     58.33     9505.56   \n",
              "2          0.93     118220.22    794.70  109149.67    130.50     8145.35   \n",
              "3          1.08      78992.15   1132.00   71976.41     72.58     5811.16   \n",
              "4          1.28      51039.60    941.48   43838.39     75.78     6183.95   \n",
              "\n",
              "   Small_Bags  Large_Bags  XLarge Bags          type  year  region  \n",
              "0     8603.62       93.25          0.0  conventional  2015  Albany  \n",
              "1     9408.07       97.49          0.0  conventional  2015  Albany  \n",
              "2     8042.21      103.14          0.0  conventional  2015  Albany  \n",
              "3     5677.40      133.76          0.0  conventional  2015  Albany  \n",
              "4     5986.26      197.69          0.0  conventional  2015  Albany  "
            ],
            "text/html": [
              "\n",
              "  <div id=\"df-e1f27fc6-c11a-434c-9ee4-58e55d85d874\">\n",
              "    <div class=\"colab-df-container\">\n",
              "      <div>\n",
              "<style scoped>\n",
              "    .dataframe tbody tr th:only-of-type {\n",
              "        vertical-align: middle;\n",
              "    }\n",
              "\n",
              "    .dataframe tbody tr th {\n",
              "        vertical-align: top;\n",
              "    }\n",
              "\n",
              "    .dataframe thead th {\n",
              "        text-align: right;\n",
              "    }\n",
              "</style>\n",
              "<table border=\"1\" class=\"dataframe\">\n",
              "  <thead>\n",
              "    <tr style=\"text-align: right;\">\n",
              "      <th></th>\n",
              "      <th>AveragePrice</th>\n",
              "      <th>Total_Volume</th>\n",
              "      <th>tot_ava1</th>\n",
              "      <th>tot_ava2</th>\n",
              "      <th>tot_ava3</th>\n",
              "      <th>Total_Bags</th>\n",
              "      <th>Small_Bags</th>\n",
              "      <th>Large_Bags</th>\n",
              "      <th>XLarge Bags</th>\n",
              "      <th>type</th>\n",
              "      <th>year</th>\n",
              "      <th>region</th>\n",
              "    </tr>\n",
              "  </thead>\n",
              "  <tbody>\n",
              "    <tr>\n",
              "      <th>0</th>\n",
              "      <td>1.33</td>\n",
              "      <td>64236.62</td>\n",
              "      <td>1036.74</td>\n",
              "      <td>54454.85</td>\n",
              "      <td>48.16</td>\n",
              "      <td>8696.87</td>\n",
              "      <td>8603.62</td>\n",
              "      <td>93.25</td>\n",
              "      <td>0.0</td>\n",
              "      <td>conventional</td>\n",
              "      <td>2015</td>\n",
              "      <td>Albany</td>\n",
              "    </tr>\n",
              "    <tr>\n",
              "      <th>1</th>\n",
              "      <td>1.35</td>\n",
              "      <td>54876.98</td>\n",
              "      <td>674.28</td>\n",
              "      <td>44638.81</td>\n",
              "      <td>58.33</td>\n",
              "      <td>9505.56</td>\n",
              "      <td>9408.07</td>\n",
              "      <td>97.49</td>\n",
              "      <td>0.0</td>\n",
              "      <td>conventional</td>\n",
              "      <td>2015</td>\n",
              "      <td>Albany</td>\n",
              "    </tr>\n",
              "    <tr>\n",
              "      <th>2</th>\n",
              "      <td>0.93</td>\n",
              "      <td>118220.22</td>\n",
              "      <td>794.70</td>\n",
              "      <td>109149.67</td>\n",
              "      <td>130.50</td>\n",
              "      <td>8145.35</td>\n",
              "      <td>8042.21</td>\n",
              "      <td>103.14</td>\n",
              "      <td>0.0</td>\n",
              "      <td>conventional</td>\n",
              "      <td>2015</td>\n",
              "      <td>Albany</td>\n",
              "    </tr>\n",
              "    <tr>\n",
              "      <th>3</th>\n",
              "      <td>1.08</td>\n",
              "      <td>78992.15</td>\n",
              "      <td>1132.00</td>\n",
              "      <td>71976.41</td>\n",
              "      <td>72.58</td>\n",
              "      <td>5811.16</td>\n",
              "      <td>5677.40</td>\n",
              "      <td>133.76</td>\n",
              "      <td>0.0</td>\n",
              "      <td>conventional</td>\n",
              "      <td>2015</td>\n",
              "      <td>Albany</td>\n",
              "    </tr>\n",
              "    <tr>\n",
              "      <th>4</th>\n",
              "      <td>1.28</td>\n",
              "      <td>51039.60</td>\n",
              "      <td>941.48</td>\n",
              "      <td>43838.39</td>\n",
              "      <td>75.78</td>\n",
              "      <td>6183.95</td>\n",
              "      <td>5986.26</td>\n",
              "      <td>197.69</td>\n",
              "      <td>0.0</td>\n",
              "      <td>conventional</td>\n",
              "      <td>2015</td>\n",
              "      <td>Albany</td>\n",
              "    </tr>\n",
              "  </tbody>\n",
              "</table>\n",
              "</div>\n",
              "      <button class=\"colab-df-convert\" onclick=\"convertToInteractive('df-e1f27fc6-c11a-434c-9ee4-58e55d85d874')\"\n",
              "              title=\"Convert this dataframe to an interactive table.\"\n",
              "              style=\"display:none;\">\n",
              "        \n",
              "  <svg xmlns=\"http://www.w3.org/2000/svg\" height=\"24px\"viewBox=\"0 0 24 24\"\n",
              "       width=\"24px\">\n",
              "    <path d=\"M0 0h24v24H0V0z\" fill=\"none\"/>\n",
              "    <path d=\"M18.56 5.44l.94 2.06.94-2.06 2.06-.94-2.06-.94-.94-2.06-.94 2.06-2.06.94zm-11 1L8.5 8.5l.94-2.06 2.06-.94-2.06-.94L8.5 2.5l-.94 2.06-2.06.94zm10 10l.94 2.06.94-2.06 2.06-.94-2.06-.94-.94-2.06-.94 2.06-2.06.94z\"/><path d=\"M17.41 7.96l-1.37-1.37c-.4-.4-.92-.59-1.43-.59-.52 0-1.04.2-1.43.59L10.3 9.45l-7.72 7.72c-.78.78-.78 2.05 0 2.83L4 21.41c.39.39.9.59 1.41.59.51 0 1.02-.2 1.41-.59l7.78-7.78 2.81-2.81c.8-.78.8-2.07 0-2.86zM5.41 20L4 18.59l7.72-7.72 1.47 1.35L5.41 20z\"/>\n",
              "  </svg>\n",
              "      </button>\n",
              "      \n",
              "  <style>\n",
              "    .colab-df-container {\n",
              "      display:flex;\n",
              "      flex-wrap:wrap;\n",
              "      gap: 12px;\n",
              "    }\n",
              "\n",
              "    .colab-df-convert {\n",
              "      background-color: #E8F0FE;\n",
              "      border: none;\n",
              "      border-radius: 50%;\n",
              "      cursor: pointer;\n",
              "      display: none;\n",
              "      fill: #1967D2;\n",
              "      height: 32px;\n",
              "      padding: 0 0 0 0;\n",
              "      width: 32px;\n",
              "    }\n",
              "\n",
              "    .colab-df-convert:hover {\n",
              "      background-color: #E2EBFA;\n",
              "      box-shadow: 0px 1px 2px rgba(60, 64, 67, 0.3), 0px 1px 3px 1px rgba(60, 64, 67, 0.15);\n",
              "      fill: #174EA6;\n",
              "    }\n",
              "\n",
              "    [theme=dark] .colab-df-convert {\n",
              "      background-color: #3B4455;\n",
              "      fill: #D2E3FC;\n",
              "    }\n",
              "\n",
              "    [theme=dark] .colab-df-convert:hover {\n",
              "      background-color: #434B5C;\n",
              "      box-shadow: 0px 1px 3px 1px rgba(0, 0, 0, 0.15);\n",
              "      filter: drop-shadow(0px 1px 2px rgba(0, 0, 0, 0.3));\n",
              "      fill: #FFFFFF;\n",
              "    }\n",
              "  </style>\n",
              "\n",
              "      <script>\n",
              "        const buttonEl =\n",
              "          document.querySelector('#df-e1f27fc6-c11a-434c-9ee4-58e55d85d874 button.colab-df-convert');\n",
              "        buttonEl.style.display =\n",
              "          google.colab.kernel.accessAllowed ? 'block' : 'none';\n",
              "\n",
              "        async function convertToInteractive(key) {\n",
              "          const element = document.querySelector('#df-e1f27fc6-c11a-434c-9ee4-58e55d85d874');\n",
              "          const dataTable =\n",
              "            await google.colab.kernel.invokeFunction('convertToInteractive',\n",
              "                                                     [key], {});\n",
              "          if (!dataTable) return;\n",
              "\n",
              "          const docLinkHtml = 'Like what you see? Visit the ' +\n",
              "            '<a target=\"_blank\" href=https://colab.research.google.com/notebooks/data_table.ipynb>data table notebook</a>'\n",
              "            + ' to learn more about interactive tables.';\n",
              "          element.innerHTML = '';\n",
              "          dataTable['output_type'] = 'display_data';\n",
              "          await google.colab.output.renderOutput(dataTable, element);\n",
              "          const docLink = document.createElement('div');\n",
              "          docLink.innerHTML = docLinkHtml;\n",
              "          element.appendChild(docLink);\n",
              "        }\n",
              "      </script>\n",
              "    </div>\n",
              "  </div>\n",
              "  "
            ]
          },
          "metadata": {},
          "execution_count": 117
        }
      ]
    },
    {
      "cell_type": "code",
      "source": [
        "# Checking the Datatypes\n",
        "\n",
        "data.dtypes"
      ],
      "metadata": {
        "colab": {
          "base_uri": "https://localhost:8080/"
        },
        "id": "S5y5h_8OzwSj",
        "outputId": "be715279-bb74-474d-981e-a43e389bd3b9"
      },
      "execution_count": 118,
      "outputs": [
        {
          "output_type": "execute_result",
          "data": {
            "text/plain": [
              "AveragePrice    float64\n",
              "Total_Volume    float64\n",
              "tot_ava1        float64\n",
              "tot_ava2        float64\n",
              "tot_ava3        float64\n",
              "Total_Bags      float64\n",
              "Small_Bags      float64\n",
              "Large_Bags      float64\n",
              "XLarge Bags     float64\n",
              "type             object\n",
              "year              int64\n",
              "region           object\n",
              "dtype: object"
            ]
          },
          "metadata": {},
          "execution_count": 118
        }
      ]
    },
    {
      "cell_type": "code",
      "source": [
        "data['region'].value_counts()"
      ],
      "metadata": {
        "colab": {
          "base_uri": "https://localhost:8080/"
        },
        "id": "9HBsN3fb3hMB",
        "outputId": "97764604-5a60-44b7-f2c0-20095606e9bf"
      },
      "execution_count": 119,
      "outputs": [
        {
          "output_type": "execute_result",
          "data": {
            "text/plain": [
              "Albany                 338\n",
              "Sacramento             338\n",
              "Northeast              338\n",
              "NorthernNewEngland     338\n",
              "Orlando                338\n",
              "Philadelphia           338\n",
              "PhoenixTucson          338\n",
              "Pittsburgh             338\n",
              "Plains                 338\n",
              "Portland               338\n",
              "RaleighGreensboro      338\n",
              "RichmondNorfolk        338\n",
              "Roanoke                338\n",
              "SanDiego               338\n",
              "Atlanta                338\n",
              "SanFrancisco           338\n",
              "Seattle                338\n",
              "SouthCarolina          338\n",
              "SouthCentral           338\n",
              "Southeast              338\n",
              "Spokane                338\n",
              "StLouis                338\n",
              "Syracuse               338\n",
              "Tampa                  338\n",
              "TotalUS                338\n",
              "West                   338\n",
              "NewYork                338\n",
              "NewOrleansMobile       338\n",
              "Nashville              338\n",
              "Midsouth               338\n",
              "BaltimoreWashington    338\n",
              "Boise                  338\n",
              "Boston                 338\n",
              "BuffaloRochester       338\n",
              "California             338\n",
              "Charlotte              338\n",
              "Chicago                338\n",
              "CincinnatiDayton       338\n",
              "Columbus               338\n",
              "DallasFtWorth          338\n",
              "Denver                 338\n",
              "Detroit                338\n",
              "GrandRapids            338\n",
              "GreatLakes             338\n",
              "HarrisburgScranton     338\n",
              "HartfordSpringfield    338\n",
              "Houston                338\n",
              "Indianapolis           338\n",
              "Jacksonville           338\n",
              "LasVegas               338\n",
              "LosAngeles             338\n",
              "Louisville             338\n",
              "MiamiFtLauderdale      338\n",
              "WestTexNewMexico       335\n",
              "Name: region, dtype: int64"
            ]
          },
          "metadata": {},
          "execution_count": 119
        }
      ]
    },
    {
      "cell_type": "code",
      "source": [
        "data['type'].value_counts()"
      ],
      "metadata": {
        "colab": {
          "base_uri": "https://localhost:8080/"
        },
        "id": "MT-eo6zr30bI",
        "outputId": "cf2079ca-36cb-4d7e-d6e3-0b9804923ac0"
      },
      "execution_count": 120,
      "outputs": [
        {
          "output_type": "execute_result",
          "data": {
            "text/plain": [
              "conventional    9126\n",
              "organic         9123\n",
              "Name: type, dtype: int64"
            ]
          },
          "metadata": {},
          "execution_count": 120
        }
      ]
    },
    {
      "cell_type": "code",
      "source": [
        "data['year'].value_counts()"
      ],
      "metadata": {
        "colab": {
          "base_uri": "https://localhost:8080/"
        },
        "id": "0ZSk2P424APG",
        "outputId": "41503e0f-60b9-433f-a10c-fe6aa6563ba3"
      },
      "execution_count": 121,
      "outputs": [
        {
          "output_type": "execute_result",
          "data": {
            "text/plain": [
              "2017    5722\n",
              "2016    5616\n",
              "2015    5615\n",
              "2018    1296\n",
              "Name: year, dtype: int64"
            ]
          },
          "metadata": {},
          "execution_count": 121
        }
      ]
    },
    {
      "cell_type": "code",
      "source": [
        "# 1st Business Moment : Measures of Central Tendency\n",
        "# Checking the mean, median, mode\n",
        "\n",
        "data.mean()"
      ],
      "metadata": {
        "colab": {
          "base_uri": "https://localhost:8080/"
        },
        "id": "67FYTybF1k2n",
        "outputId": "c50bf5f0-1dc3-4c82-c538-003d973d1c5c"
      },
      "execution_count": 122,
      "outputs": [
        {
          "output_type": "execute_result",
          "data": {
            "text/plain": [
              "AveragePrice         1.405978\n",
              "Total_Volume    850644.013009\n",
              "tot_ava1        293008.424531\n",
              "tot_ava2        295154.568356\n",
              "tot_ava3         22839.735993\n",
              "Total_Bags      239639.202060\n",
              "Small_Bags      182194.686696\n",
              "Large_Bags       54338.088145\n",
              "XLarge Bags       3106.426507\n",
              "year              2016.147899\n",
              "dtype: float64"
            ]
          },
          "metadata": {},
          "execution_count": 122
        }
      ]
    },
    {
      "cell_type": "code",
      "source": [
        "data.median()"
      ],
      "metadata": {
        "colab": {
          "base_uri": "https://localhost:8080/"
        },
        "id": "ap9GI5z_2hvr",
        "outputId": "4467a83b-7378-495e-e1ee-585c0e1759ad"
      },
      "execution_count": 123,
      "outputs": [
        {
          "output_type": "execute_result",
          "data": {
            "text/plain": [
              "AveragePrice         1.37\n",
              "Total_Volume    107376.76\n",
              "tot_ava1          8645.30\n",
              "tot_ava2         29061.02\n",
              "tot_ava3           184.99\n",
              "Total_Bags       39743.83\n",
              "Small_Bags       26362.82\n",
              "Large_Bags        2647.71\n",
              "XLarge Bags          0.00\n",
              "year              2016.00\n",
              "dtype: float64"
            ]
          },
          "metadata": {},
          "execution_count": 123
        }
      ]
    },
    {
      "cell_type": "code",
      "source": [
        "data.mode()"
      ],
      "metadata": {
        "colab": {
          "base_uri": "https://localhost:8080/",
          "height": 1000
        },
        "id": "EbDAU_Ru2rzi",
        "outputId": "848681dc-5f62-4485-c0b8-a45056e135ab"
      },
      "execution_count": 124,
      "outputs": [
        {
          "output_type": "execute_result",
          "data": {
            "text/plain": [
              "    AveragePrice  Total_Volume  tot_ava1  tot_ava2  tot_ava3  Total_Bags  \\\n",
              "0           1.15       2038.99       0.0       0.0       0.0         0.0   \n",
              "1            NaN       2858.31       NaN       NaN       NaN         NaN   \n",
              "2            NaN       3288.85       NaN       NaN       NaN         NaN   \n",
              "3            NaN       3529.44       NaN       NaN       NaN         NaN   \n",
              "4            NaN       3713.49       NaN       NaN       NaN         NaN   \n",
              "5            NaN       4103.97       NaN       NaN       NaN         NaN   \n",
              "6            NaN       7223.46       NaN       NaN       NaN         NaN   \n",
              "7            NaN       9465.99       NaN       NaN       NaN         NaN   \n",
              "8            NaN      13234.04       NaN       NaN       NaN         NaN   \n",
              "9            NaN      19634.24       NaN       NaN       NaN         NaN   \n",
              "10           NaN      46602.16       NaN       NaN       NaN         NaN   \n",
              "11           NaN     569349.05       NaN       NaN       NaN         NaN   \n",
              "12           NaN           NaN       NaN       NaN       NaN         NaN   \n",
              "13           NaN           NaN       NaN       NaN       NaN         NaN   \n",
              "14           NaN           NaN       NaN       NaN       NaN         NaN   \n",
              "15           NaN           NaN       NaN       NaN       NaN         NaN   \n",
              "16           NaN           NaN       NaN       NaN       NaN         NaN   \n",
              "17           NaN           NaN       NaN       NaN       NaN         NaN   \n",
              "18           NaN           NaN       NaN       NaN       NaN         NaN   \n",
              "19           NaN           NaN       NaN       NaN       NaN         NaN   \n",
              "20           NaN           NaN       NaN       NaN       NaN         NaN   \n",
              "21           NaN           NaN       NaN       NaN       NaN         NaN   \n",
              "22           NaN           NaN       NaN       NaN       NaN         NaN   \n",
              "23           NaN           NaN       NaN       NaN       NaN         NaN   \n",
              "24           NaN           NaN       NaN       NaN       NaN         NaN   \n",
              "25           NaN           NaN       NaN       NaN       NaN         NaN   \n",
              "26           NaN           NaN       NaN       NaN       NaN         NaN   \n",
              "27           NaN           NaN       NaN       NaN       NaN         NaN   \n",
              "28           NaN           NaN       NaN       NaN       NaN         NaN   \n",
              "29           NaN           NaN       NaN       NaN       NaN         NaN   \n",
              "30           NaN           NaN       NaN       NaN       NaN         NaN   \n",
              "31           NaN           NaN       NaN       NaN       NaN         NaN   \n",
              "32           NaN           NaN       NaN       NaN       NaN         NaN   \n",
              "33           NaN           NaN       NaN       NaN       NaN         NaN   \n",
              "34           NaN           NaN       NaN       NaN       NaN         NaN   \n",
              "35           NaN           NaN       NaN       NaN       NaN         NaN   \n",
              "36           NaN           NaN       NaN       NaN       NaN         NaN   \n",
              "37           NaN           NaN       NaN       NaN       NaN         NaN   \n",
              "38           NaN           NaN       NaN       NaN       NaN         NaN   \n",
              "39           NaN           NaN       NaN       NaN       NaN         NaN   \n",
              "40           NaN           NaN       NaN       NaN       NaN         NaN   \n",
              "41           NaN           NaN       NaN       NaN       NaN         NaN   \n",
              "42           NaN           NaN       NaN       NaN       NaN         NaN   \n",
              "43           NaN           NaN       NaN       NaN       NaN         NaN   \n",
              "44           NaN           NaN       NaN       NaN       NaN         NaN   \n",
              "45           NaN           NaN       NaN       NaN       NaN         NaN   \n",
              "46           NaN           NaN       NaN       NaN       NaN         NaN   \n",
              "47           NaN           NaN       NaN       NaN       NaN         NaN   \n",
              "48           NaN           NaN       NaN       NaN       NaN         NaN   \n",
              "49           NaN           NaN       NaN       NaN       NaN         NaN   \n",
              "50           NaN           NaN       NaN       NaN       NaN         NaN   \n",
              "51           NaN           NaN       NaN       NaN       NaN         NaN   \n",
              "52           NaN           NaN       NaN       NaN       NaN         NaN   \n",
              "\n",
              "    Small_Bags  Large_Bags  XLarge Bags          type    year  \\\n",
              "0          0.0         0.0          0.0  conventional  2017.0   \n",
              "1          NaN         NaN          NaN           NaN     NaN   \n",
              "2          NaN         NaN          NaN           NaN     NaN   \n",
              "3          NaN         NaN          NaN           NaN     NaN   \n",
              "4          NaN         NaN          NaN           NaN     NaN   \n",
              "5          NaN         NaN          NaN           NaN     NaN   \n",
              "6          NaN         NaN          NaN           NaN     NaN   \n",
              "7          NaN         NaN          NaN           NaN     NaN   \n",
              "8          NaN         NaN          NaN           NaN     NaN   \n",
              "9          NaN         NaN          NaN           NaN     NaN   \n",
              "10         NaN         NaN          NaN           NaN     NaN   \n",
              "11         NaN         NaN          NaN           NaN     NaN   \n",
              "12         NaN         NaN          NaN           NaN     NaN   \n",
              "13         NaN         NaN          NaN           NaN     NaN   \n",
              "14         NaN         NaN          NaN           NaN     NaN   \n",
              "15         NaN         NaN          NaN           NaN     NaN   \n",
              "16         NaN         NaN          NaN           NaN     NaN   \n",
              "17         NaN         NaN          NaN           NaN     NaN   \n",
              "18         NaN         NaN          NaN           NaN     NaN   \n",
              "19         NaN         NaN          NaN           NaN     NaN   \n",
              "20         NaN         NaN          NaN           NaN     NaN   \n",
              "21         NaN         NaN          NaN           NaN     NaN   \n",
              "22         NaN         NaN          NaN           NaN     NaN   \n",
              "23         NaN         NaN          NaN           NaN     NaN   \n",
              "24         NaN         NaN          NaN           NaN     NaN   \n",
              "25         NaN         NaN          NaN           NaN     NaN   \n",
              "26         NaN         NaN          NaN           NaN     NaN   \n",
              "27         NaN         NaN          NaN           NaN     NaN   \n",
              "28         NaN         NaN          NaN           NaN     NaN   \n",
              "29         NaN         NaN          NaN           NaN     NaN   \n",
              "30         NaN         NaN          NaN           NaN     NaN   \n",
              "31         NaN         NaN          NaN           NaN     NaN   \n",
              "32         NaN         NaN          NaN           NaN     NaN   \n",
              "33         NaN         NaN          NaN           NaN     NaN   \n",
              "34         NaN         NaN          NaN           NaN     NaN   \n",
              "35         NaN         NaN          NaN           NaN     NaN   \n",
              "36         NaN         NaN          NaN           NaN     NaN   \n",
              "37         NaN         NaN          NaN           NaN     NaN   \n",
              "38         NaN         NaN          NaN           NaN     NaN   \n",
              "39         NaN         NaN          NaN           NaN     NaN   \n",
              "40         NaN         NaN          NaN           NaN     NaN   \n",
              "41         NaN         NaN          NaN           NaN     NaN   \n",
              "42         NaN         NaN          NaN           NaN     NaN   \n",
              "43         NaN         NaN          NaN           NaN     NaN   \n",
              "44         NaN         NaN          NaN           NaN     NaN   \n",
              "45         NaN         NaN          NaN           NaN     NaN   \n",
              "46         NaN         NaN          NaN           NaN     NaN   \n",
              "47         NaN         NaN          NaN           NaN     NaN   \n",
              "48         NaN         NaN          NaN           NaN     NaN   \n",
              "49         NaN         NaN          NaN           NaN     NaN   \n",
              "50         NaN         NaN          NaN           NaN     NaN   \n",
              "51         NaN         NaN          NaN           NaN     NaN   \n",
              "52         NaN         NaN          NaN           NaN     NaN   \n",
              "\n",
              "                 region  \n",
              "0                Albany  \n",
              "1               Atlanta  \n",
              "2   BaltimoreWashington  \n",
              "3                 Boise  \n",
              "4                Boston  \n",
              "5      BuffaloRochester  \n",
              "6            California  \n",
              "7             Charlotte  \n",
              "8               Chicago  \n",
              "9      CincinnatiDayton  \n",
              "10             Columbus  \n",
              "11        DallasFtWorth  \n",
              "12               Denver  \n",
              "13              Detroit  \n",
              "14          GrandRapids  \n",
              "15           GreatLakes  \n",
              "16   HarrisburgScranton  \n",
              "17  HartfordSpringfield  \n",
              "18              Houston  \n",
              "19         Indianapolis  \n",
              "20         Jacksonville  \n",
              "21             LasVegas  \n",
              "22           LosAngeles  \n",
              "23           Louisville  \n",
              "24    MiamiFtLauderdale  \n",
              "25             Midsouth  \n",
              "26            Nashville  \n",
              "27     NewOrleansMobile  \n",
              "28              NewYork  \n",
              "29            Northeast  \n",
              "30   NorthernNewEngland  \n",
              "31              Orlando  \n",
              "32         Philadelphia  \n",
              "33        PhoenixTucson  \n",
              "34           Pittsburgh  \n",
              "35               Plains  \n",
              "36             Portland  \n",
              "37    RaleighGreensboro  \n",
              "38      RichmondNorfolk  \n",
              "39              Roanoke  \n",
              "40           Sacramento  \n",
              "41             SanDiego  \n",
              "42         SanFrancisco  \n",
              "43              Seattle  \n",
              "44        SouthCarolina  \n",
              "45         SouthCentral  \n",
              "46            Southeast  \n",
              "47              Spokane  \n",
              "48              StLouis  \n",
              "49             Syracuse  \n",
              "50                Tampa  \n",
              "51              TotalUS  \n",
              "52                 West  "
            ],
            "text/html": [
              "\n",
              "  <div id=\"df-7b104648-be90-4596-8f3a-255ae83a9089\">\n",
              "    <div class=\"colab-df-container\">\n",
              "      <div>\n",
              "<style scoped>\n",
              "    .dataframe tbody tr th:only-of-type {\n",
              "        vertical-align: middle;\n",
              "    }\n",
              "\n",
              "    .dataframe tbody tr th {\n",
              "        vertical-align: top;\n",
              "    }\n",
              "\n",
              "    .dataframe thead th {\n",
              "        text-align: right;\n",
              "    }\n",
              "</style>\n",
              "<table border=\"1\" class=\"dataframe\">\n",
              "  <thead>\n",
              "    <tr style=\"text-align: right;\">\n",
              "      <th></th>\n",
              "      <th>AveragePrice</th>\n",
              "      <th>Total_Volume</th>\n",
              "      <th>tot_ava1</th>\n",
              "      <th>tot_ava2</th>\n",
              "      <th>tot_ava3</th>\n",
              "      <th>Total_Bags</th>\n",
              "      <th>Small_Bags</th>\n",
              "      <th>Large_Bags</th>\n",
              "      <th>XLarge Bags</th>\n",
              "      <th>type</th>\n",
              "      <th>year</th>\n",
              "      <th>region</th>\n",
              "    </tr>\n",
              "  </thead>\n",
              "  <tbody>\n",
              "    <tr>\n",
              "      <th>0</th>\n",
              "      <td>1.15</td>\n",
              "      <td>2038.99</td>\n",
              "      <td>0.0</td>\n",
              "      <td>0.0</td>\n",
              "      <td>0.0</td>\n",
              "      <td>0.0</td>\n",
              "      <td>0.0</td>\n",
              "      <td>0.0</td>\n",
              "      <td>0.0</td>\n",
              "      <td>conventional</td>\n",
              "      <td>2017.0</td>\n",
              "      <td>Albany</td>\n",
              "    </tr>\n",
              "    <tr>\n",
              "      <th>1</th>\n",
              "      <td>NaN</td>\n",
              "      <td>2858.31</td>\n",
              "      <td>NaN</td>\n",
              "      <td>NaN</td>\n",
              "      <td>NaN</td>\n",
              "      <td>NaN</td>\n",
              "      <td>NaN</td>\n",
              "      <td>NaN</td>\n",
              "      <td>NaN</td>\n",
              "      <td>NaN</td>\n",
              "      <td>NaN</td>\n",
              "      <td>Atlanta</td>\n",
              "    </tr>\n",
              "    <tr>\n",
              "      <th>2</th>\n",
              "      <td>NaN</td>\n",
              "      <td>3288.85</td>\n",
              "      <td>NaN</td>\n",
              "      <td>NaN</td>\n",
              "      <td>NaN</td>\n",
              "      <td>NaN</td>\n",
              "      <td>NaN</td>\n",
              "      <td>NaN</td>\n",
              "      <td>NaN</td>\n",
              "      <td>NaN</td>\n",
              "      <td>NaN</td>\n",
              "      <td>BaltimoreWashington</td>\n",
              "    </tr>\n",
              "    <tr>\n",
              "      <th>3</th>\n",
              "      <td>NaN</td>\n",
              "      <td>3529.44</td>\n",
              "      <td>NaN</td>\n",
              "      <td>NaN</td>\n",
              "      <td>NaN</td>\n",
              "      <td>NaN</td>\n",
              "      <td>NaN</td>\n",
              "      <td>NaN</td>\n",
              "      <td>NaN</td>\n",
              "      <td>NaN</td>\n",
              "      <td>NaN</td>\n",
              "      <td>Boise</td>\n",
              "    </tr>\n",
              "    <tr>\n",
              "      <th>4</th>\n",
              "      <td>NaN</td>\n",
              "      <td>3713.49</td>\n",
              "      <td>NaN</td>\n",
              "      <td>NaN</td>\n",
              "      <td>NaN</td>\n",
              "      <td>NaN</td>\n",
              "      <td>NaN</td>\n",
              "      <td>NaN</td>\n",
              "      <td>NaN</td>\n",
              "      <td>NaN</td>\n",
              "      <td>NaN</td>\n",
              "      <td>Boston</td>\n",
              "    </tr>\n",
              "    <tr>\n",
              "      <th>5</th>\n",
              "      <td>NaN</td>\n",
              "      <td>4103.97</td>\n",
              "      <td>NaN</td>\n",
              "      <td>NaN</td>\n",
              "      <td>NaN</td>\n",
              "      <td>NaN</td>\n",
              "      <td>NaN</td>\n",
              "      <td>NaN</td>\n",
              "      <td>NaN</td>\n",
              "      <td>NaN</td>\n",
              "      <td>NaN</td>\n",
              "      <td>BuffaloRochester</td>\n",
              "    </tr>\n",
              "    <tr>\n",
              "      <th>6</th>\n",
              "      <td>NaN</td>\n",
              "      <td>7223.46</td>\n",
              "      <td>NaN</td>\n",
              "      <td>NaN</td>\n",
              "      <td>NaN</td>\n",
              "      <td>NaN</td>\n",
              "      <td>NaN</td>\n",
              "      <td>NaN</td>\n",
              "      <td>NaN</td>\n",
              "      <td>NaN</td>\n",
              "      <td>NaN</td>\n",
              "      <td>California</td>\n",
              "    </tr>\n",
              "    <tr>\n",
              "      <th>7</th>\n",
              "      <td>NaN</td>\n",
              "      <td>9465.99</td>\n",
              "      <td>NaN</td>\n",
              "      <td>NaN</td>\n",
              "      <td>NaN</td>\n",
              "      <td>NaN</td>\n",
              "      <td>NaN</td>\n",
              "      <td>NaN</td>\n",
              "      <td>NaN</td>\n",
              "      <td>NaN</td>\n",
              "      <td>NaN</td>\n",
              "      <td>Charlotte</td>\n",
              "    </tr>\n",
              "    <tr>\n",
              "      <th>8</th>\n",
              "      <td>NaN</td>\n",
              "      <td>13234.04</td>\n",
              "      <td>NaN</td>\n",
              "      <td>NaN</td>\n",
              "      <td>NaN</td>\n",
              "      <td>NaN</td>\n",
              "      <td>NaN</td>\n",
              "      <td>NaN</td>\n",
              "      <td>NaN</td>\n",
              "      <td>NaN</td>\n",
              "      <td>NaN</td>\n",
              "      <td>Chicago</td>\n",
              "    </tr>\n",
              "    <tr>\n",
              "      <th>9</th>\n",
              "      <td>NaN</td>\n",
              "      <td>19634.24</td>\n",
              "      <td>NaN</td>\n",
              "      <td>NaN</td>\n",
              "      <td>NaN</td>\n",
              "      <td>NaN</td>\n",
              "      <td>NaN</td>\n",
              "      <td>NaN</td>\n",
              "      <td>NaN</td>\n",
              "      <td>NaN</td>\n",
              "      <td>NaN</td>\n",
              "      <td>CincinnatiDayton</td>\n",
              "    </tr>\n",
              "    <tr>\n",
              "      <th>10</th>\n",
              "      <td>NaN</td>\n",
              "      <td>46602.16</td>\n",
              "      <td>NaN</td>\n",
              "      <td>NaN</td>\n",
              "      <td>NaN</td>\n",
              "      <td>NaN</td>\n",
              "      <td>NaN</td>\n",
              "      <td>NaN</td>\n",
              "      <td>NaN</td>\n",
              "      <td>NaN</td>\n",
              "      <td>NaN</td>\n",
              "      <td>Columbus</td>\n",
              "    </tr>\n",
              "    <tr>\n",
              "      <th>11</th>\n",
              "      <td>NaN</td>\n",
              "      <td>569349.05</td>\n",
              "      <td>NaN</td>\n",
              "      <td>NaN</td>\n",
              "      <td>NaN</td>\n",
              "      <td>NaN</td>\n",
              "      <td>NaN</td>\n",
              "      <td>NaN</td>\n",
              "      <td>NaN</td>\n",
              "      <td>NaN</td>\n",
              "      <td>NaN</td>\n",
              "      <td>DallasFtWorth</td>\n",
              "    </tr>\n",
              "    <tr>\n",
              "      <th>12</th>\n",
              "      <td>NaN</td>\n",
              "      <td>NaN</td>\n",
              "      <td>NaN</td>\n",
              "      <td>NaN</td>\n",
              "      <td>NaN</td>\n",
              "      <td>NaN</td>\n",
              "      <td>NaN</td>\n",
              "      <td>NaN</td>\n",
              "      <td>NaN</td>\n",
              "      <td>NaN</td>\n",
              "      <td>NaN</td>\n",
              "      <td>Denver</td>\n",
              "    </tr>\n",
              "    <tr>\n",
              "      <th>13</th>\n",
              "      <td>NaN</td>\n",
              "      <td>NaN</td>\n",
              "      <td>NaN</td>\n",
              "      <td>NaN</td>\n",
              "      <td>NaN</td>\n",
              "      <td>NaN</td>\n",
              "      <td>NaN</td>\n",
              "      <td>NaN</td>\n",
              "      <td>NaN</td>\n",
              "      <td>NaN</td>\n",
              "      <td>NaN</td>\n",
              "      <td>Detroit</td>\n",
              "    </tr>\n",
              "    <tr>\n",
              "      <th>14</th>\n",
              "      <td>NaN</td>\n",
              "      <td>NaN</td>\n",
              "      <td>NaN</td>\n",
              "      <td>NaN</td>\n",
              "      <td>NaN</td>\n",
              "      <td>NaN</td>\n",
              "      <td>NaN</td>\n",
              "      <td>NaN</td>\n",
              "      <td>NaN</td>\n",
              "      <td>NaN</td>\n",
              "      <td>NaN</td>\n",
              "      <td>GrandRapids</td>\n",
              "    </tr>\n",
              "    <tr>\n",
              "      <th>15</th>\n",
              "      <td>NaN</td>\n",
              "      <td>NaN</td>\n",
              "      <td>NaN</td>\n",
              "      <td>NaN</td>\n",
              "      <td>NaN</td>\n",
              "      <td>NaN</td>\n",
              "      <td>NaN</td>\n",
              "      <td>NaN</td>\n",
              "      <td>NaN</td>\n",
              "      <td>NaN</td>\n",
              "      <td>NaN</td>\n",
              "      <td>GreatLakes</td>\n",
              "    </tr>\n",
              "    <tr>\n",
              "      <th>16</th>\n",
              "      <td>NaN</td>\n",
              "      <td>NaN</td>\n",
              "      <td>NaN</td>\n",
              "      <td>NaN</td>\n",
              "      <td>NaN</td>\n",
              "      <td>NaN</td>\n",
              "      <td>NaN</td>\n",
              "      <td>NaN</td>\n",
              "      <td>NaN</td>\n",
              "      <td>NaN</td>\n",
              "      <td>NaN</td>\n",
              "      <td>HarrisburgScranton</td>\n",
              "    </tr>\n",
              "    <tr>\n",
              "      <th>17</th>\n",
              "      <td>NaN</td>\n",
              "      <td>NaN</td>\n",
              "      <td>NaN</td>\n",
              "      <td>NaN</td>\n",
              "      <td>NaN</td>\n",
              "      <td>NaN</td>\n",
              "      <td>NaN</td>\n",
              "      <td>NaN</td>\n",
              "      <td>NaN</td>\n",
              "      <td>NaN</td>\n",
              "      <td>NaN</td>\n",
              "      <td>HartfordSpringfield</td>\n",
              "    </tr>\n",
              "    <tr>\n",
              "      <th>18</th>\n",
              "      <td>NaN</td>\n",
              "      <td>NaN</td>\n",
              "      <td>NaN</td>\n",
              "      <td>NaN</td>\n",
              "      <td>NaN</td>\n",
              "      <td>NaN</td>\n",
              "      <td>NaN</td>\n",
              "      <td>NaN</td>\n",
              "      <td>NaN</td>\n",
              "      <td>NaN</td>\n",
              "      <td>NaN</td>\n",
              "      <td>Houston</td>\n",
              "    </tr>\n",
              "    <tr>\n",
              "      <th>19</th>\n",
              "      <td>NaN</td>\n",
              "      <td>NaN</td>\n",
              "      <td>NaN</td>\n",
              "      <td>NaN</td>\n",
              "      <td>NaN</td>\n",
              "      <td>NaN</td>\n",
              "      <td>NaN</td>\n",
              "      <td>NaN</td>\n",
              "      <td>NaN</td>\n",
              "      <td>NaN</td>\n",
              "      <td>NaN</td>\n",
              "      <td>Indianapolis</td>\n",
              "    </tr>\n",
              "    <tr>\n",
              "      <th>20</th>\n",
              "      <td>NaN</td>\n",
              "      <td>NaN</td>\n",
              "      <td>NaN</td>\n",
              "      <td>NaN</td>\n",
              "      <td>NaN</td>\n",
              "      <td>NaN</td>\n",
              "      <td>NaN</td>\n",
              "      <td>NaN</td>\n",
              "      <td>NaN</td>\n",
              "      <td>NaN</td>\n",
              "      <td>NaN</td>\n",
              "      <td>Jacksonville</td>\n",
              "    </tr>\n",
              "    <tr>\n",
              "      <th>21</th>\n",
              "      <td>NaN</td>\n",
              "      <td>NaN</td>\n",
              "      <td>NaN</td>\n",
              "      <td>NaN</td>\n",
              "      <td>NaN</td>\n",
              "      <td>NaN</td>\n",
              "      <td>NaN</td>\n",
              "      <td>NaN</td>\n",
              "      <td>NaN</td>\n",
              "      <td>NaN</td>\n",
              "      <td>NaN</td>\n",
              "      <td>LasVegas</td>\n",
              "    </tr>\n",
              "    <tr>\n",
              "      <th>22</th>\n",
              "      <td>NaN</td>\n",
              "      <td>NaN</td>\n",
              "      <td>NaN</td>\n",
              "      <td>NaN</td>\n",
              "      <td>NaN</td>\n",
              "      <td>NaN</td>\n",
              "      <td>NaN</td>\n",
              "      <td>NaN</td>\n",
              "      <td>NaN</td>\n",
              "      <td>NaN</td>\n",
              "      <td>NaN</td>\n",
              "      <td>LosAngeles</td>\n",
              "    </tr>\n",
              "    <tr>\n",
              "      <th>23</th>\n",
              "      <td>NaN</td>\n",
              "      <td>NaN</td>\n",
              "      <td>NaN</td>\n",
              "      <td>NaN</td>\n",
              "      <td>NaN</td>\n",
              "      <td>NaN</td>\n",
              "      <td>NaN</td>\n",
              "      <td>NaN</td>\n",
              "      <td>NaN</td>\n",
              "      <td>NaN</td>\n",
              "      <td>NaN</td>\n",
              "      <td>Louisville</td>\n",
              "    </tr>\n",
              "    <tr>\n",
              "      <th>24</th>\n",
              "      <td>NaN</td>\n",
              "      <td>NaN</td>\n",
              "      <td>NaN</td>\n",
              "      <td>NaN</td>\n",
              "      <td>NaN</td>\n",
              "      <td>NaN</td>\n",
              "      <td>NaN</td>\n",
              "      <td>NaN</td>\n",
              "      <td>NaN</td>\n",
              "      <td>NaN</td>\n",
              "      <td>NaN</td>\n",
              "      <td>MiamiFtLauderdale</td>\n",
              "    </tr>\n",
              "    <tr>\n",
              "      <th>25</th>\n",
              "      <td>NaN</td>\n",
              "      <td>NaN</td>\n",
              "      <td>NaN</td>\n",
              "      <td>NaN</td>\n",
              "      <td>NaN</td>\n",
              "      <td>NaN</td>\n",
              "      <td>NaN</td>\n",
              "      <td>NaN</td>\n",
              "      <td>NaN</td>\n",
              "      <td>NaN</td>\n",
              "      <td>NaN</td>\n",
              "      <td>Midsouth</td>\n",
              "    </tr>\n",
              "    <tr>\n",
              "      <th>26</th>\n",
              "      <td>NaN</td>\n",
              "      <td>NaN</td>\n",
              "      <td>NaN</td>\n",
              "      <td>NaN</td>\n",
              "      <td>NaN</td>\n",
              "      <td>NaN</td>\n",
              "      <td>NaN</td>\n",
              "      <td>NaN</td>\n",
              "      <td>NaN</td>\n",
              "      <td>NaN</td>\n",
              "      <td>NaN</td>\n",
              "      <td>Nashville</td>\n",
              "    </tr>\n",
              "    <tr>\n",
              "      <th>27</th>\n",
              "      <td>NaN</td>\n",
              "      <td>NaN</td>\n",
              "      <td>NaN</td>\n",
              "      <td>NaN</td>\n",
              "      <td>NaN</td>\n",
              "      <td>NaN</td>\n",
              "      <td>NaN</td>\n",
              "      <td>NaN</td>\n",
              "      <td>NaN</td>\n",
              "      <td>NaN</td>\n",
              "      <td>NaN</td>\n",
              "      <td>NewOrleansMobile</td>\n",
              "    </tr>\n",
              "    <tr>\n",
              "      <th>28</th>\n",
              "      <td>NaN</td>\n",
              "      <td>NaN</td>\n",
              "      <td>NaN</td>\n",
              "      <td>NaN</td>\n",
              "      <td>NaN</td>\n",
              "      <td>NaN</td>\n",
              "      <td>NaN</td>\n",
              "      <td>NaN</td>\n",
              "      <td>NaN</td>\n",
              "      <td>NaN</td>\n",
              "      <td>NaN</td>\n",
              "      <td>NewYork</td>\n",
              "    </tr>\n",
              "    <tr>\n",
              "      <th>29</th>\n",
              "      <td>NaN</td>\n",
              "      <td>NaN</td>\n",
              "      <td>NaN</td>\n",
              "      <td>NaN</td>\n",
              "      <td>NaN</td>\n",
              "      <td>NaN</td>\n",
              "      <td>NaN</td>\n",
              "      <td>NaN</td>\n",
              "      <td>NaN</td>\n",
              "      <td>NaN</td>\n",
              "      <td>NaN</td>\n",
              "      <td>Northeast</td>\n",
              "    </tr>\n",
              "    <tr>\n",
              "      <th>30</th>\n",
              "      <td>NaN</td>\n",
              "      <td>NaN</td>\n",
              "      <td>NaN</td>\n",
              "      <td>NaN</td>\n",
              "      <td>NaN</td>\n",
              "      <td>NaN</td>\n",
              "      <td>NaN</td>\n",
              "      <td>NaN</td>\n",
              "      <td>NaN</td>\n",
              "      <td>NaN</td>\n",
              "      <td>NaN</td>\n",
              "      <td>NorthernNewEngland</td>\n",
              "    </tr>\n",
              "    <tr>\n",
              "      <th>31</th>\n",
              "      <td>NaN</td>\n",
              "      <td>NaN</td>\n",
              "      <td>NaN</td>\n",
              "      <td>NaN</td>\n",
              "      <td>NaN</td>\n",
              "      <td>NaN</td>\n",
              "      <td>NaN</td>\n",
              "      <td>NaN</td>\n",
              "      <td>NaN</td>\n",
              "      <td>NaN</td>\n",
              "      <td>NaN</td>\n",
              "      <td>Orlando</td>\n",
              "    </tr>\n",
              "    <tr>\n",
              "      <th>32</th>\n",
              "      <td>NaN</td>\n",
              "      <td>NaN</td>\n",
              "      <td>NaN</td>\n",
              "      <td>NaN</td>\n",
              "      <td>NaN</td>\n",
              "      <td>NaN</td>\n",
              "      <td>NaN</td>\n",
              "      <td>NaN</td>\n",
              "      <td>NaN</td>\n",
              "      <td>NaN</td>\n",
              "      <td>NaN</td>\n",
              "      <td>Philadelphia</td>\n",
              "    </tr>\n",
              "    <tr>\n",
              "      <th>33</th>\n",
              "      <td>NaN</td>\n",
              "      <td>NaN</td>\n",
              "      <td>NaN</td>\n",
              "      <td>NaN</td>\n",
              "      <td>NaN</td>\n",
              "      <td>NaN</td>\n",
              "      <td>NaN</td>\n",
              "      <td>NaN</td>\n",
              "      <td>NaN</td>\n",
              "      <td>NaN</td>\n",
              "      <td>NaN</td>\n",
              "      <td>PhoenixTucson</td>\n",
              "    </tr>\n",
              "    <tr>\n",
              "      <th>34</th>\n",
              "      <td>NaN</td>\n",
              "      <td>NaN</td>\n",
              "      <td>NaN</td>\n",
              "      <td>NaN</td>\n",
              "      <td>NaN</td>\n",
              "      <td>NaN</td>\n",
              "      <td>NaN</td>\n",
              "      <td>NaN</td>\n",
              "      <td>NaN</td>\n",
              "      <td>NaN</td>\n",
              "      <td>NaN</td>\n",
              "      <td>Pittsburgh</td>\n",
              "    </tr>\n",
              "    <tr>\n",
              "      <th>35</th>\n",
              "      <td>NaN</td>\n",
              "      <td>NaN</td>\n",
              "      <td>NaN</td>\n",
              "      <td>NaN</td>\n",
              "      <td>NaN</td>\n",
              "      <td>NaN</td>\n",
              "      <td>NaN</td>\n",
              "      <td>NaN</td>\n",
              "      <td>NaN</td>\n",
              "      <td>NaN</td>\n",
              "      <td>NaN</td>\n",
              "      <td>Plains</td>\n",
              "    </tr>\n",
              "    <tr>\n",
              "      <th>36</th>\n",
              "      <td>NaN</td>\n",
              "      <td>NaN</td>\n",
              "      <td>NaN</td>\n",
              "      <td>NaN</td>\n",
              "      <td>NaN</td>\n",
              "      <td>NaN</td>\n",
              "      <td>NaN</td>\n",
              "      <td>NaN</td>\n",
              "      <td>NaN</td>\n",
              "      <td>NaN</td>\n",
              "      <td>NaN</td>\n",
              "      <td>Portland</td>\n",
              "    </tr>\n",
              "    <tr>\n",
              "      <th>37</th>\n",
              "      <td>NaN</td>\n",
              "      <td>NaN</td>\n",
              "      <td>NaN</td>\n",
              "      <td>NaN</td>\n",
              "      <td>NaN</td>\n",
              "      <td>NaN</td>\n",
              "      <td>NaN</td>\n",
              "      <td>NaN</td>\n",
              "      <td>NaN</td>\n",
              "      <td>NaN</td>\n",
              "      <td>NaN</td>\n",
              "      <td>RaleighGreensboro</td>\n",
              "    </tr>\n",
              "    <tr>\n",
              "      <th>38</th>\n",
              "      <td>NaN</td>\n",
              "      <td>NaN</td>\n",
              "      <td>NaN</td>\n",
              "      <td>NaN</td>\n",
              "      <td>NaN</td>\n",
              "      <td>NaN</td>\n",
              "      <td>NaN</td>\n",
              "      <td>NaN</td>\n",
              "      <td>NaN</td>\n",
              "      <td>NaN</td>\n",
              "      <td>NaN</td>\n",
              "      <td>RichmondNorfolk</td>\n",
              "    </tr>\n",
              "    <tr>\n",
              "      <th>39</th>\n",
              "      <td>NaN</td>\n",
              "      <td>NaN</td>\n",
              "      <td>NaN</td>\n",
              "      <td>NaN</td>\n",
              "      <td>NaN</td>\n",
              "      <td>NaN</td>\n",
              "      <td>NaN</td>\n",
              "      <td>NaN</td>\n",
              "      <td>NaN</td>\n",
              "      <td>NaN</td>\n",
              "      <td>NaN</td>\n",
              "      <td>Roanoke</td>\n",
              "    </tr>\n",
              "    <tr>\n",
              "      <th>40</th>\n",
              "      <td>NaN</td>\n",
              "      <td>NaN</td>\n",
              "      <td>NaN</td>\n",
              "      <td>NaN</td>\n",
              "      <td>NaN</td>\n",
              "      <td>NaN</td>\n",
              "      <td>NaN</td>\n",
              "      <td>NaN</td>\n",
              "      <td>NaN</td>\n",
              "      <td>NaN</td>\n",
              "      <td>NaN</td>\n",
              "      <td>Sacramento</td>\n",
              "    </tr>\n",
              "    <tr>\n",
              "      <th>41</th>\n",
              "      <td>NaN</td>\n",
              "      <td>NaN</td>\n",
              "      <td>NaN</td>\n",
              "      <td>NaN</td>\n",
              "      <td>NaN</td>\n",
              "      <td>NaN</td>\n",
              "      <td>NaN</td>\n",
              "      <td>NaN</td>\n",
              "      <td>NaN</td>\n",
              "      <td>NaN</td>\n",
              "      <td>NaN</td>\n",
              "      <td>SanDiego</td>\n",
              "    </tr>\n",
              "    <tr>\n",
              "      <th>42</th>\n",
              "      <td>NaN</td>\n",
              "      <td>NaN</td>\n",
              "      <td>NaN</td>\n",
              "      <td>NaN</td>\n",
              "      <td>NaN</td>\n",
              "      <td>NaN</td>\n",
              "      <td>NaN</td>\n",
              "      <td>NaN</td>\n",
              "      <td>NaN</td>\n",
              "      <td>NaN</td>\n",
              "      <td>NaN</td>\n",
              "      <td>SanFrancisco</td>\n",
              "    </tr>\n",
              "    <tr>\n",
              "      <th>43</th>\n",
              "      <td>NaN</td>\n",
              "      <td>NaN</td>\n",
              "      <td>NaN</td>\n",
              "      <td>NaN</td>\n",
              "      <td>NaN</td>\n",
              "      <td>NaN</td>\n",
              "      <td>NaN</td>\n",
              "      <td>NaN</td>\n",
              "      <td>NaN</td>\n",
              "      <td>NaN</td>\n",
              "      <td>NaN</td>\n",
              "      <td>Seattle</td>\n",
              "    </tr>\n",
              "    <tr>\n",
              "      <th>44</th>\n",
              "      <td>NaN</td>\n",
              "      <td>NaN</td>\n",
              "      <td>NaN</td>\n",
              "      <td>NaN</td>\n",
              "      <td>NaN</td>\n",
              "      <td>NaN</td>\n",
              "      <td>NaN</td>\n",
              "      <td>NaN</td>\n",
              "      <td>NaN</td>\n",
              "      <td>NaN</td>\n",
              "      <td>NaN</td>\n",
              "      <td>SouthCarolina</td>\n",
              "    </tr>\n",
              "    <tr>\n",
              "      <th>45</th>\n",
              "      <td>NaN</td>\n",
              "      <td>NaN</td>\n",
              "      <td>NaN</td>\n",
              "      <td>NaN</td>\n",
              "      <td>NaN</td>\n",
              "      <td>NaN</td>\n",
              "      <td>NaN</td>\n",
              "      <td>NaN</td>\n",
              "      <td>NaN</td>\n",
              "      <td>NaN</td>\n",
              "      <td>NaN</td>\n",
              "      <td>SouthCentral</td>\n",
              "    </tr>\n",
              "    <tr>\n",
              "      <th>46</th>\n",
              "      <td>NaN</td>\n",
              "      <td>NaN</td>\n",
              "      <td>NaN</td>\n",
              "      <td>NaN</td>\n",
              "      <td>NaN</td>\n",
              "      <td>NaN</td>\n",
              "      <td>NaN</td>\n",
              "      <td>NaN</td>\n",
              "      <td>NaN</td>\n",
              "      <td>NaN</td>\n",
              "      <td>NaN</td>\n",
              "      <td>Southeast</td>\n",
              "    </tr>\n",
              "    <tr>\n",
              "      <th>47</th>\n",
              "      <td>NaN</td>\n",
              "      <td>NaN</td>\n",
              "      <td>NaN</td>\n",
              "      <td>NaN</td>\n",
              "      <td>NaN</td>\n",
              "      <td>NaN</td>\n",
              "      <td>NaN</td>\n",
              "      <td>NaN</td>\n",
              "      <td>NaN</td>\n",
              "      <td>NaN</td>\n",
              "      <td>NaN</td>\n",
              "      <td>Spokane</td>\n",
              "    </tr>\n",
              "    <tr>\n",
              "      <th>48</th>\n",
              "      <td>NaN</td>\n",
              "      <td>NaN</td>\n",
              "      <td>NaN</td>\n",
              "      <td>NaN</td>\n",
              "      <td>NaN</td>\n",
              "      <td>NaN</td>\n",
              "      <td>NaN</td>\n",
              "      <td>NaN</td>\n",
              "      <td>NaN</td>\n",
              "      <td>NaN</td>\n",
              "      <td>NaN</td>\n",
              "      <td>StLouis</td>\n",
              "    </tr>\n",
              "    <tr>\n",
              "      <th>49</th>\n",
              "      <td>NaN</td>\n",
              "      <td>NaN</td>\n",
              "      <td>NaN</td>\n",
              "      <td>NaN</td>\n",
              "      <td>NaN</td>\n",
              "      <td>NaN</td>\n",
              "      <td>NaN</td>\n",
              "      <td>NaN</td>\n",
              "      <td>NaN</td>\n",
              "      <td>NaN</td>\n",
              "      <td>NaN</td>\n",
              "      <td>Syracuse</td>\n",
              "    </tr>\n",
              "    <tr>\n",
              "      <th>50</th>\n",
              "      <td>NaN</td>\n",
              "      <td>NaN</td>\n",
              "      <td>NaN</td>\n",
              "      <td>NaN</td>\n",
              "      <td>NaN</td>\n",
              "      <td>NaN</td>\n",
              "      <td>NaN</td>\n",
              "      <td>NaN</td>\n",
              "      <td>NaN</td>\n",
              "      <td>NaN</td>\n",
              "      <td>NaN</td>\n",
              "      <td>Tampa</td>\n",
              "    </tr>\n",
              "    <tr>\n",
              "      <th>51</th>\n",
              "      <td>NaN</td>\n",
              "      <td>NaN</td>\n",
              "      <td>NaN</td>\n",
              "      <td>NaN</td>\n",
              "      <td>NaN</td>\n",
              "      <td>NaN</td>\n",
              "      <td>NaN</td>\n",
              "      <td>NaN</td>\n",
              "      <td>NaN</td>\n",
              "      <td>NaN</td>\n",
              "      <td>NaN</td>\n",
              "      <td>TotalUS</td>\n",
              "    </tr>\n",
              "    <tr>\n",
              "      <th>52</th>\n",
              "      <td>NaN</td>\n",
              "      <td>NaN</td>\n",
              "      <td>NaN</td>\n",
              "      <td>NaN</td>\n",
              "      <td>NaN</td>\n",
              "      <td>NaN</td>\n",
              "      <td>NaN</td>\n",
              "      <td>NaN</td>\n",
              "      <td>NaN</td>\n",
              "      <td>NaN</td>\n",
              "      <td>NaN</td>\n",
              "      <td>West</td>\n",
              "    </tr>\n",
              "  </tbody>\n",
              "</table>\n",
              "</div>\n",
              "      <button class=\"colab-df-convert\" onclick=\"convertToInteractive('df-7b104648-be90-4596-8f3a-255ae83a9089')\"\n",
              "              title=\"Convert this dataframe to an interactive table.\"\n",
              "              style=\"display:none;\">\n",
              "        \n",
              "  <svg xmlns=\"http://www.w3.org/2000/svg\" height=\"24px\"viewBox=\"0 0 24 24\"\n",
              "       width=\"24px\">\n",
              "    <path d=\"M0 0h24v24H0V0z\" fill=\"none\"/>\n",
              "    <path d=\"M18.56 5.44l.94 2.06.94-2.06 2.06-.94-2.06-.94-.94-2.06-.94 2.06-2.06.94zm-11 1L8.5 8.5l.94-2.06 2.06-.94-2.06-.94L8.5 2.5l-.94 2.06-2.06.94zm10 10l.94 2.06.94-2.06 2.06-.94-2.06-.94-.94-2.06-.94 2.06-2.06.94z\"/><path d=\"M17.41 7.96l-1.37-1.37c-.4-.4-.92-.59-1.43-.59-.52 0-1.04.2-1.43.59L10.3 9.45l-7.72 7.72c-.78.78-.78 2.05 0 2.83L4 21.41c.39.39.9.59 1.41.59.51 0 1.02-.2 1.41-.59l7.78-7.78 2.81-2.81c.8-.78.8-2.07 0-2.86zM5.41 20L4 18.59l7.72-7.72 1.47 1.35L5.41 20z\"/>\n",
              "  </svg>\n",
              "      </button>\n",
              "      \n",
              "  <style>\n",
              "    .colab-df-container {\n",
              "      display:flex;\n",
              "      flex-wrap:wrap;\n",
              "      gap: 12px;\n",
              "    }\n",
              "\n",
              "    .colab-df-convert {\n",
              "      background-color: #E8F0FE;\n",
              "      border: none;\n",
              "      border-radius: 50%;\n",
              "      cursor: pointer;\n",
              "      display: none;\n",
              "      fill: #1967D2;\n",
              "      height: 32px;\n",
              "      padding: 0 0 0 0;\n",
              "      width: 32px;\n",
              "    }\n",
              "\n",
              "    .colab-df-convert:hover {\n",
              "      background-color: #E2EBFA;\n",
              "      box-shadow: 0px 1px 2px rgba(60, 64, 67, 0.3), 0px 1px 3px 1px rgba(60, 64, 67, 0.15);\n",
              "      fill: #174EA6;\n",
              "    }\n",
              "\n",
              "    [theme=dark] .colab-df-convert {\n",
              "      background-color: #3B4455;\n",
              "      fill: #D2E3FC;\n",
              "    }\n",
              "\n",
              "    [theme=dark] .colab-df-convert:hover {\n",
              "      background-color: #434B5C;\n",
              "      box-shadow: 0px 1px 3px 1px rgba(0, 0, 0, 0.15);\n",
              "      filter: drop-shadow(0px 1px 2px rgba(0, 0, 0, 0.3));\n",
              "      fill: #FFFFFF;\n",
              "    }\n",
              "  </style>\n",
              "\n",
              "      <script>\n",
              "        const buttonEl =\n",
              "          document.querySelector('#df-7b104648-be90-4596-8f3a-255ae83a9089 button.colab-df-convert');\n",
              "        buttonEl.style.display =\n",
              "          google.colab.kernel.accessAllowed ? 'block' : 'none';\n",
              "\n",
              "        async function convertToInteractive(key) {\n",
              "          const element = document.querySelector('#df-7b104648-be90-4596-8f3a-255ae83a9089');\n",
              "          const dataTable =\n",
              "            await google.colab.kernel.invokeFunction('convertToInteractive',\n",
              "                                                     [key], {});\n",
              "          if (!dataTable) return;\n",
              "\n",
              "          const docLinkHtml = 'Like what you see? Visit the ' +\n",
              "            '<a target=\"_blank\" href=https://colab.research.google.com/notebooks/data_table.ipynb>data table notebook</a>'\n",
              "            + ' to learn more about interactive tables.';\n",
              "          element.innerHTML = '';\n",
              "          dataTable['output_type'] = 'display_data';\n",
              "          await google.colab.output.renderOutput(dataTable, element);\n",
              "          const docLink = document.createElement('div');\n",
              "          docLink.innerHTML = docLinkHtml;\n",
              "          element.appendChild(docLink);\n",
              "        }\n",
              "      </script>\n",
              "    </div>\n",
              "  </div>\n",
              "  "
            ]
          },
          "metadata": {},
          "execution_count": 124
        }
      ]
    },
    {
      "cell_type": "code",
      "source": [
        "# 2nd Business Moment : Measures of Dispersion\n",
        "\n",
        "data.var()"
      ],
      "metadata": {
        "colab": {
          "base_uri": "https://localhost:8080/"
        },
        "id": "vX9Uizkc2tom",
        "outputId": "8687c93a-dbac-4a38-92dd-4f76ad189041"
      },
      "execution_count": 125,
      "outputs": [
        {
          "output_type": "execute_result",
          "data": {
            "text/plain": [
              "AveragePrice    1.621484e-01\n",
              "Total_Volume    1.192698e+13\n",
              "tot_ava1        1.600197e+12\n",
              "tot_ava2        1.449906e+12\n",
              "tot_ava3        1.154853e+10\n",
              "Total_Bags      9.726741e+11\n",
              "Small_Bags      5.567824e+11\n",
              "Large_Bags      5.951939e+10\n",
              "XLarge Bags     3.130385e+08\n",
              "year            8.834843e-01\n",
              "dtype: float64"
            ]
          },
          "metadata": {},
          "execution_count": 125
        }
      ]
    },
    {
      "cell_type": "code",
      "source": [
        "# 3rd Business Moment : Measures of Skewness\n",
        "\n",
        "data.skew()"
      ],
      "metadata": {
        "colab": {
          "base_uri": "https://localhost:8080/"
        },
        "id": "i2sCJD-C3GTA",
        "outputId": "a33044bf-644c-4528-b7b8-4c2aced0dc85"
      },
      "execution_count": 126,
      "outputs": [
        {
          "output_type": "execute_result",
          "data": {
            "text/plain": [
              "AveragePrice     0.580303\n",
              "Total_Volume     9.007687\n",
              "tot_ava1         8.648220\n",
              "tot_ava2         8.942466\n",
              "tot_ava3        10.159396\n",
              "Total_Bags       9.756072\n",
              "Small_Bags       9.540660\n",
              "Large_Bags       9.796455\n",
              "XLarge Bags     13.139751\n",
              "year             0.215339\n",
              "dtype: float64"
            ]
          },
          "metadata": {},
          "execution_count": 126
        }
      ]
    },
    {
      "cell_type": "code",
      "source": [
        "# 4th Business Moment : Measures of Kurtisos\n",
        "\n",
        "data.kurt()"
      ],
      "metadata": {
        "colab": {
          "base_uri": "https://localhost:8080/"
        },
        "id": "MFf7mm9wD0J9",
        "outputId": "37d14ebd-7184-430f-99f5-050a074238c5"
      },
      "execution_count": 127,
      "outputs": [
        {
          "output_type": "execute_result",
          "data": {
            "text/plain": [
              "AveragePrice      0.325196\n",
              "Total_Volume     92.104458\n",
              "tot_ava1         86.809113\n",
              "tot_ava2         91.949022\n",
              "tot_ava3        132.563441\n",
              "Total_Bags      112.272156\n",
              "Small_Bags      107.012885\n",
              "Large_Bags      117.999481\n",
              "XLarge Bags     233.602612\n",
              "year             -1.032747\n",
              "dtype: float64"
            ]
          },
          "metadata": {},
          "execution_count": 127
        }
      ]
    },
    {
      "cell_type": "code",
      "source": [
        "# 1 hot Encoding\n",
        "\n",
        "data = pd.get_dummies(data, drop_first = False)"
      ],
      "metadata": {
        "id": "gFYnkM6VEa5Z"
      },
      "execution_count": 128,
      "outputs": []
    },
    {
      "cell_type": "code",
      "source": [
        "data.columns"
      ],
      "metadata": {
        "colab": {
          "base_uri": "https://localhost:8080/"
        },
        "id": "-9rVYc_kFgN4",
        "outputId": "55357172-cc3c-4088-cadd-c9e391cb92ba"
      },
      "execution_count": 129,
      "outputs": [
        {
          "output_type": "execute_result",
          "data": {
            "text/plain": [
              "Index(['AveragePrice', 'Total_Volume', 'tot_ava1', 'tot_ava2', 'tot_ava3',\n",
              "       'Total_Bags', 'Small_Bags', 'Large_Bags', 'XLarge Bags', 'year',\n",
              "       'type_conventional', 'type_organic', 'region_Albany', 'region_Atlanta',\n",
              "       'region_BaltimoreWashington', 'region_Boise', 'region_Boston',\n",
              "       'region_BuffaloRochester', 'region_California', 'region_Charlotte',\n",
              "       'region_Chicago', 'region_CincinnatiDayton', 'region_Columbus',\n",
              "       'region_DallasFtWorth', 'region_Denver', 'region_Detroit',\n",
              "       'region_GrandRapids', 'region_GreatLakes', 'region_HarrisburgScranton',\n",
              "       'region_HartfordSpringfield', 'region_Houston', 'region_Indianapolis',\n",
              "       'region_Jacksonville', 'region_LasVegas', 'region_LosAngeles',\n",
              "       'region_Louisville', 'region_MiamiFtLauderdale', 'region_Midsouth',\n",
              "       'region_Nashville', 'region_NewOrleansMobile', 'region_NewYork',\n",
              "       'region_Northeast', 'region_NorthernNewEngland', 'region_Orlando',\n",
              "       'region_Philadelphia', 'region_PhoenixTucson', 'region_Pittsburgh',\n",
              "       'region_Plains', 'region_Portland', 'region_RaleighGreensboro',\n",
              "       'region_RichmondNorfolk', 'region_Roanoke', 'region_Sacramento',\n",
              "       'region_SanDiego', 'region_SanFrancisco', 'region_Seattle',\n",
              "       'region_SouthCarolina', 'region_SouthCentral', 'region_Southeast',\n",
              "       'region_Spokane', 'region_StLouis', 'region_Syracuse', 'region_Tampa',\n",
              "       'region_TotalUS', 'region_West', 'region_WestTexNewMexico'],\n",
              "      dtype='object')"
            ]
          },
          "metadata": {},
          "execution_count": 129
        }
      ]
    },
    {
      "cell_type": "code",
      "source": [
        "# Graphical Representation\n",
        "\n",
        "plt.boxplot(data['AveragePrice'])"
      ],
      "metadata": {
        "colab": {
          "base_uri": "https://localhost:8080/",
          "height": 404
        },
        "id": "Q-yXdKCqHPjz",
        "outputId": "526d7d70-20d3-43bb-ebcb-6c42e6794bfe"
      },
      "execution_count": 130,
      "outputs": [
        {
          "output_type": "execute_result",
          "data": {
            "text/plain": [
              "{'whiskers': [<matplotlib.lines.Line2D at 0x7f75ecabec10>,\n",
              "  <matplotlib.lines.Line2D at 0x7f75ecac0190>],\n",
              " 'caps': [<matplotlib.lines.Line2D at 0x7f75ecac06d0>,\n",
              "  <matplotlib.lines.Line2D at 0x7f75ecac0c10>],\n",
              " 'boxes': [<matplotlib.lines.Line2D at 0x7f75ecabe5d0>],\n",
              " 'medians': [<matplotlib.lines.Line2D at 0x7f75ecacb1d0>],\n",
              " 'fliers': [<matplotlib.lines.Line2D at 0x7f75ecacb710>],\n",
              " 'means': []}"
            ]
          },
          "metadata": {},
          "execution_count": 130
        },
        {
          "output_type": "display_data",
          "data": {
            "text/plain": [
              "<Figure size 432x288 with 1 Axes>"
            ],
            "image/png": "[encoded data removed]"
          },
          "metadata": {
            "needs_background": "light"
          }
        }
      ]
    },
    {
      "cell_type": "code",
      "source": [
        "!pip install feature_engine"
      ],
      "metadata": {
        "colab": {
          "base_uri": "https://localhost:8080/"
        },
        "id": "LI63MMBQKU2M",
        "outputId": "d9ff9efe-b81e-436e-e5f0-620f2655918f"
      },
      "execution_count": 131,
      "outputs": [
        {
          "output_type": "stream",
          "name": "stdout",
          "text": [
            "Looking in indexes: https://pypi.org/simple, https://us-python.pkg.dev/colab-wheels/public/simple/\n",
            "Requirement already satisfied: feature_engine in /usr/local/lib/python3.7/dist-packages (1.4.0)\n",
            "Requirement already satisfied: numpy>=1.18.2 in /usr/local/lib/python3.7/dist-packages (from feature_engine) (1.21.6)\n",
            "Requirement already satisfied: pandas>=1.0.3 in /usr/local/lib/python3.7/dist-packages (from feature_engine) (1.3.5)\n",
            "Requirement already satisfied: scipy>=1.4.1 in /usr/local/lib/python3.7/dist-packages (from feature_engine) (1.7.3)\n",
            "Requirement already satisfied: scikit-learn>=1.0.0 in /usr/local/lib/python3.7/dist-packages (from feature_engine) (1.0.2)\n",
            "Requirement already satisfied: statsmodels>=0.11.1 in /usr/local/lib/python3.7/dist-packages (from feature_engine) (0.12.2)\n",
            "Requirement already satisfied: python-dateutil>=2.7.3 in /usr/local/lib/python3.7/dist-packages (from pandas>=1.0.3->feature_engine) (2.8.2)\n",
            "Requirement already satisfied: pytz>=2017.3 in /usr/local/lib/python3.7/dist-packages (from pandas>=1.0.3->feature_engine) (2022.6)\n",
            "Requirement already satisfied: six>=1.5 in /usr/local/lib/python3.7/dist-packages (from python-dateutil>=2.7.3->pandas>=1.0.3->feature_engine) (1.15.0)\n",
            "Requirement already satisfied: threadpoolctl>=2.0.0 in /usr/local/lib/python3.7/dist-packages (from scikit-learn>=1.0.0->feature_engine) (3.1.0)\n",
            "Requirement already satisfied: joblib>=0.11 in /usr/local/lib/python3.7/dist-packages (from scikit-learn>=1.0.0->feature_engine) (1.2.0)\n",
            "Requirement already satisfied: patsy>=0.5 in /usr/local/lib/python3.7/dist-packages (from statsmodels>=0.11.1->feature_engine) (0.5.3)\n"
          ]
        }
      ]
    },
    {
      "cell_type": "code",
      "source": [
        "# Cleaning the outliers with Winsorizer\n",
        "from feature_engine.outliers import Winsorizer"
      ],
      "metadata": {
        "id": "GIlIC_npHck6"
      },
      "execution_count": 132,
      "outputs": []
    },
    {
      "cell_type": "code",
      "source": [
        "winsor_iqr = Winsorizer(capping_method = 'iqr',\n",
        "                             tail = 'both',\n",
        "                              fold = 1.5,\n",
        "                               variables = ('Total_Volume'))\n",
        "\n",
        "data_iqr = winsor_iqr.fit_transform(data[['Total_Volume']])\n",
        "\n",
        "sns.boxplot(data_iqr['Total_Volume'])"
      ],
      "metadata": {
        "colab": {
          "base_uri": "https://localhost:8080/",
          "height": 297
        },
        "id": "ZW9ZZR1oKf_W",
        "outputId": "ff585596-e444-4d5a-d366-ccaece8e37dc"
      },
      "execution_count": 133,
      "outputs": [
        {
          "output_type": "execute_result",
          "data": {
            "text/plain": [
              "<matplotlib.axes._subplots.AxesSubplot at 0x7f75edcadd50>"
            ]
          },
          "metadata": {},
          "execution_count": 133
        },
        {
          "output_type": "display_data",
          "data": {
            "text/plain": [
              "<Figure size 432x288 with 1 Axes>"
            ],
            "image/png": "[encoded data removed]"
          },
          "metadata": {
            "needs_background": "light"
          }
        }
      ]
    },
    {
      "cell_type": "code",
      "source": [
        "plt.boxplot(data['AveragePrice'])"
      ],
      "metadata": {
        "colab": {
          "base_uri": "https://localhost:8080/",
          "height": 404
        },
        "id": "tV5tRwuuLRzg",
        "outputId": "14d16dab-c703-4544-d804-2c2063e1025f"
      },
      "execution_count": 134,
      "outputs": [
        {
          "output_type": "execute_result",
          "data": {
            "text/plain": [
              "{'whiskers': [<matplotlib.lines.Line2D at 0x7f75ed4b16d0>,\n",
              "  <matplotlib.lines.Line2D at 0x7f75ed4b1c10>],\n",
              " 'caps': [<matplotlib.lines.Line2D at 0x7f75ed4bc190>,\n",
              "  <matplotlib.lines.Line2D at 0x7f75ed4bc6d0>],\n",
              " 'boxes': [<matplotlib.lines.Line2D at 0x7f75ed4b1110>],\n",
              " 'medians': [<matplotlib.lines.Line2D at 0x7f75ed4bcc50>],\n",
              " 'fliers': [<matplotlib.lines.Line2D at 0x7f75ed4b71d0>],\n",
              " 'means': []}"
            ]
          },
          "metadata": {},
          "execution_count": 134
        },
        {
          "output_type": "display_data",
          "data": {
            "text/plain": [
              "<Figure size 432x288 with 1 Axes>"
            ],
            "image/png": "[encoded data removed]"
          },
          "metadata": {
            "needs_background": "light"
          }
        }
      ]
    },
    {
      "cell_type": "code",
      "source": [
        "winsor_iqr = Winsorizer(capping_method = 'iqr',\n",
        "                             tail = 'both',\n",
        "                              fold = 1.5,\n",
        "                               variables = ('AveragePrice'))\n",
        "\n",
        "data_iqr = winsor_iqr.fit_transform(data[['AveragePrice']])\n",
        "\n",
        "sns.boxplot(data_iqr['AveragePrice'])"
      ],
      "metadata": {
        "colab": {
          "base_uri": "https://localhost:8080/",
          "height": 296
        },
        "id": "MLcgvHB4Ldl4",
        "outputId": "5dc55e60-8e9a-45ee-f402-39b8a0b5d852"
      },
      "execution_count": 135,
      "outputs": [
        {
          "output_type": "execute_result",
          "data": {
            "text/plain": [
              "<matplotlib.axes._subplots.AxesSubplot at 0x7f75ed5bfcd0>"
            ]
          },
          "metadata": {},
          "execution_count": 135
        },
        {
          "output_type": "display_data",
          "data": {
            "text/plain": [
              "<Figure size 432x288 with 1 Axes>"
            ],
            "image/png": "[encoded data removed]"
          },
          "metadata": {
            "needs_background": "light"
          }
        }
      ]
    },
    {
      "cell_type": "code",
      "source": [
        "plt.boxplot(data['tot_ava1'])"
      ],
      "metadata": {
        "colab": {
          "base_uri": "https://localhost:8080/",
          "height": 415
        },
        "id": "3xYp8wFgLnm_",
        "outputId": "04d9c85d-9975-4165-b047-c2ed5d0a980e"
      },
      "execution_count": 136,
      "outputs": [
        {
          "output_type": "execute_result",
          "data": {
            "text/plain": [
              "{'whiskers': [<matplotlib.lines.Line2D at 0x7f75e54c5390>,\n",
              "  <matplotlib.lines.Line2D at 0x7f75e54c58d0>],\n",
              " 'caps': [<matplotlib.lines.Line2D at 0x7f75e54c5e10>,\n",
              "  <matplotlib.lines.Line2D at 0x7f75e54cb390>],\n",
              " 'boxes': [<matplotlib.lines.Line2D at 0x7f75e54bed90>],\n",
              " 'medians': [<matplotlib.lines.Line2D at 0x7f75e54cb910>],\n",
              " 'fliers': [<matplotlib.lines.Line2D at 0x7f75e54cbe50>],\n",
              " 'means': []}"
            ]
          },
          "metadata": {},
          "execution_count": 136
        },
        {
          "output_type": "display_data",
          "data": {
            "text/plain": [
              "<Figure size 432x288 with 1 Axes>"
            ],
            "image/png": "[encoded data removed]"
          },
          "metadata": {
            "needs_background": "light"
          }
        }
      ]
    },
    {
      "cell_type": "code",
      "source": [
        "winsor_iqr = Winsorizer(capping_method = 'iqr',\n",
        "                             tail = 'both',\n",
        "                              fold = 1.5,\n",
        "                               variables = ('tot_ava1'))\n",
        "\n",
        "data_iqr = winsor_iqr.fit_transform(data[['tot_ava1']])\n",
        "\n",
        "sns.boxplot(data_iqr['tot_ava1'])"
      ],
      "metadata": {
        "colab": {
          "base_uri": "https://localhost:8080/",
          "height": 297
        },
        "id": "_qgimymlLvaS",
        "outputId": "5af7fc2b-b7d7-4d4e-8cb9-49c6ae20fadb"
      },
      "execution_count": 137,
      "outputs": [
        {
          "output_type": "execute_result",
          "data": {
            "text/plain": [
              "<matplotlib.axes._subplots.AxesSubplot at 0x7f75e5514bd0>"
            ]
          },
          "metadata": {},
          "execution_count": 137
        },
        {
          "output_type": "display_data",
          "data": {
            "text/plain": [
              "<Figure size 432x288 with 1 Axes>"
            ],
            "image/png": "[encoded data removed]"
          },
          "metadata": {
            "needs_background": "light"
          }
        }
      ]
    },
    {
      "cell_type": "code",
      "source": [
        "plt.boxplot(data['tot_ava2'])"
      ],
      "metadata": {
        "colab": {
          "base_uri": "https://localhost:8080/",
          "height": 415
        },
        "id": "_Z9o0xe6L42M",
        "outputId": "72f9a20d-6f01-42f6-9324-88983d89530a"
      },
      "execution_count": 138,
      "outputs": [
        {
          "output_type": "execute_result",
          "data": {
            "text/plain": [
              "{'whiskers': [<matplotlib.lines.Line2D at 0x7f75e542cb50>,\n",
              "  <matplotlib.lines.Line2D at 0x7f75e53b20d0>],\n",
              " 'caps': [<matplotlib.lines.Line2D at 0x7f75e53b2610>,\n",
              "  <matplotlib.lines.Line2D at 0x7f75e53b2b50>],\n",
              " 'boxes': [<matplotlib.lines.Line2D at 0x7f75e542c590>],\n",
              " 'medians': [<matplotlib.lines.Line2D at 0x7f75e53ba110>],\n",
              " 'fliers': [<matplotlib.lines.Line2D at 0x7f75e53ba650>],\n",
              " 'means': []}"
            ]
          },
          "metadata": {},
          "execution_count": 138
        },
        {
          "output_type": "display_data",
          "data": {
            "text/plain": [
              "<Figure size 432x288 with 1 Axes>"
            ],
            "image/png": "[encoded data removed]"
          },
          "metadata": {
            "needs_background": "light"
          }
        }
      ]
    },
    {
      "cell_type": "code",
      "source": [
        "winsor_iqr = Winsorizer(capping_method = 'iqr',\n",
        "                             tail = 'both',\n",
        "                              fold = 1.5,\n",
        "                               variables = ('tot_ava2'))\n",
        "\n",
        "data_iqr = winsor_iqr.fit_transform(data[['tot_ava2']])\n",
        "\n",
        "sns.boxplot(data_iqr['tot_ava2'])"
      ],
      "metadata": {
        "colab": {
          "base_uri": "https://localhost:8080/",
          "height": 297
        },
        "id": "jwC3r1DoMIYl",
        "outputId": "f0bdf9ca-4bc7-4603-a957-70bb949f0c65"
      },
      "execution_count": 139,
      "outputs": [
        {
          "output_type": "execute_result",
          "data": {
            "text/plain": [
              "<matplotlib.axes._subplots.AxesSubplot at 0x7f75e53e2950>"
            ]
          },
          "metadata": {},
          "execution_count": 139
        },
        {
          "output_type": "display_data",
          "data": {
            "text/plain": [
              "<Figure size 432x288 with 1 Axes>"
            ],
            "image/png": "[encoded data removed]"
          },
          "metadata": {
            "needs_background": "light"
          }
        }
      ]
    },
    {
      "cell_type": "code",
      "source": [
        "plt.boxplot(data['tot_ava3'])"
      ],
      "metadata": {
        "colab": {
          "base_uri": "https://localhost:8080/",
          "height": 415
        },
        "id": "uCrJrcbuML8D",
        "outputId": "f0c57dcf-da53-40bc-a655-4cfad88c1146"
      },
      "execution_count": 140,
      "outputs": [
        {
          "output_type": "execute_result",
          "data": {
            "text/plain": [
              "{'whiskers': [<matplotlib.lines.Line2D at 0x7f75e530a850>,\n",
              "  <matplotlib.lines.Line2D at 0x7f75e530ad90>],\n",
              " 'caps': [<matplotlib.lines.Line2D at 0x7f75e5313310>,\n",
              "  <matplotlib.lines.Line2D at 0x7f75e5313850>],\n",
              " 'boxes': [<matplotlib.lines.Line2D at 0x7f75e530a290>],\n",
              " 'medians': [<matplotlib.lines.Line2D at 0x7f75e5313dd0>],\n",
              " 'fliers': [<matplotlib.lines.Line2D at 0x7f75e531a350>],\n",
              " 'means': []}"
            ]
          },
          "metadata": {},
          "execution_count": 140
        },
        {
          "output_type": "display_data",
          "data": {
            "text/plain": [
              "<Figure size 432x288 with 1 Axes>"
            ],
            "image/png": "[encoded data removed]"
          },
          "metadata": {
            "needs_background": "light"
          }
        }
      ]
    },
    {
      "cell_type": "code",
      "source": [
        "winsor_iqr = Winsorizer(capping_method = 'iqr',\n",
        "                             tail = 'both',\n",
        "                              fold = 1.5,\n",
        "                               variables = ('tot_ava3'))\n",
        "\n",
        "data_iqr = winsor_iqr.fit_transform(data[['tot_ava3']])\n",
        "\n",
        "sns.boxplot(data_iqr['tot_ava3'])"
      ],
      "metadata": {
        "colab": {
          "base_uri": "https://localhost:8080/",
          "height": 297
        },
        "id": "HHnTbTobYnQ5",
        "outputId": "8fdd6b06-c9ab-49b9-db01-6f97bea1649b"
      },
      "execution_count": 141,
      "outputs": [
        {
          "output_type": "execute_result",
          "data": {
            "text/plain": [
              "<matplotlib.axes._subplots.AxesSubplot at 0x7f75e52b78d0>"
            ]
          },
          "metadata": {},
          "execution_count": 141
        },
        {
          "output_type": "display_data",
          "data": {
            "text/plain": [
              "<Figure size 432x288 with 1 Axes>"
            ],
            "image/png": "[encoded data removed]"
          },
          "metadata": {
            "needs_background": "light"
          }
        }
      ]
    },
    {
      "cell_type": "code",
      "source": [
        "plt.boxplot(data['Total_Bags'])"
      ],
      "metadata": {
        "colab": {
          "base_uri": "https://localhost:8080/",
          "height": 415
        },
        "id": "ysM_YOldYr2j",
        "outputId": "e81a149c-5bf5-4e6a-d4e0-45280b62b925"
      },
      "execution_count": 142,
      "outputs": [
        {
          "output_type": "execute_result",
          "data": {
            "text/plain": [
              "{'whiskers': [<matplotlib.lines.Line2D at 0x7f75e51f8450>,\n",
              "  <matplotlib.lines.Line2D at 0x7f75e51f8990>],\n",
              " 'caps': [<matplotlib.lines.Line2D at 0x7f75e51f8ed0>,\n",
              "  <matplotlib.lines.Line2D at 0x7f75e51fd450>],\n",
              " 'boxes': [<matplotlib.lines.Line2D at 0x7f75e51f0e50>],\n",
              " 'medians': [<matplotlib.lines.Line2D at 0x7f75e51fd9d0>],\n",
              " 'fliers': [<matplotlib.lines.Line2D at 0x7f75e51fdf10>],\n",
              " 'means': []}"
            ]
          },
          "metadata": {},
          "execution_count": 142
        },
        {
          "output_type": "display_data",
          "data": {
            "text/plain": [
              "<Figure size 432x288 with 1 Axes>"
            ],
            "image/png": "[encoded data removed]"
          },
          "metadata": {
            "needs_background": "light"
          }
        }
      ]
    },
    {
      "cell_type": "code",
      "source": [
        "winsor_iqr = Winsorizer(capping_method = 'iqr',\n",
        "                             tail = 'both',\n",
        "                              fold = 1.5,\n",
        "                               variables = ('Total_Bags'))\n",
        "\n",
        "data_iqr = winsor_iqr.fit_transform(data[['Total_Bags']])\n",
        "\n",
        "sns.boxplot(data_iqr['Total_Bags'])"
      ],
      "metadata": {
        "colab": {
          "base_uri": "https://localhost:8080/",
          "height": 297
        },
        "id": "i0Xjo3lnY4Jk",
        "outputId": "d4ef0c63-6b87-40af-9e8c-d8edd85086d5"
      },
      "execution_count": 143,
      "outputs": [
        {
          "output_type": "execute_result",
          "data": {
            "text/plain": [
              "<matplotlib.axes._subplots.AxesSubplot at 0x7f75e51b2950>"
            ]
          },
          "metadata": {},
          "execution_count": 143
        },
        {
          "output_type": "display_data",
          "data": {
            "text/plain": [
              "<Figure size 432x288 with 1 Axes>"
            ],
            "image/png": "[encoded data removed]"
          },
          "metadata": {
            "needs_background": "light"
          }
        }
      ]
    },
    {
      "cell_type": "code",
      "source": [
        "plt.boxplot(data['Small_Bags'])"
      ],
      "metadata": {
        "colab": {
          "base_uri": "https://localhost:8080/",
          "height": 415
        },
        "id": "PP-VJfJaZCAN",
        "outputId": "c1b6c745-c605-4ff1-9429-ffe016c03806"
      },
      "execution_count": 144,
      "outputs": [
        {
          "output_type": "execute_result",
          "data": {
            "text/plain": [
              "{'whiskers': [<matplotlib.lines.Line2D at 0x7f75e515aa50>,\n",
              "  <matplotlib.lines.Line2D at 0x7f75e515af90>],\n",
              " 'caps': [<matplotlib.lines.Line2D at 0x7f75e5161510>,\n",
              "  <matplotlib.lines.Line2D at 0x7f75e5161a50>],\n",
              " 'boxes': [<matplotlib.lines.Line2D at 0x7f75e515a490>],\n",
              " 'medians': [<matplotlib.lines.Line2D at 0x7f75e5161fd0>],\n",
              " 'fliers': [<matplotlib.lines.Line2D at 0x7f75e5169550>],\n",
              " 'means': []}"
            ]
          },
          "metadata": {},
          "execution_count": 144
        },
        {
          "output_type": "display_data",
          "data": {
            "text/plain": [
              "<Figure size 432x288 with 1 Axes>"
            ],
            "image/png": "[encoded data removed]"
          },
          "metadata": {
            "needs_background": "light"
          }
        }
      ]
    },
    {
      "cell_type": "code",
      "source": [
        "winsor_iqr = Winsorizer(capping_method = 'iqr',\n",
        "                             tail = 'both',\n",
        "                              fold = 1.5,\n",
        "                               variables = ('Small_Bags'))\n",
        "\n",
        "data_iqr = winsor_iqr.fit_transform(data[['Small_Bags']])\n",
        "\n",
        "sns.boxplot(data_iqr['Small_Bags'])"
      ],
      "metadata": {
        "colab": {
          "base_uri": "https://localhost:8080/",
          "height": 297
        },
        "id": "rACRxxK_ZK6w",
        "outputId": "37c88ffc-ff2e-4065-ecee-0ffd566f6e45"
      },
      "execution_count": 145,
      "outputs": [
        {
          "output_type": "execute_result",
          "data": {
            "text/plain": [
              "<matplotlib.axes._subplots.AxesSubplot at 0x7f75ed2ce910>"
            ]
          },
          "metadata": {},
          "execution_count": 145
        },
        {
          "output_type": "display_data",
          "data": {
            "text/plain": [
              "<Figure size 432x288 with 1 Axes>"
            ],
            "image/png": "[encoded data removed]"
          },
          "metadata": {
            "needs_background": "light"
          }
        }
      ]
    },
    {
      "cell_type": "code",
      "source": [
        "plt.boxplot(data['Large_Bags'])"
      ],
      "metadata": {
        "colab": {
          "base_uri": "https://localhost:8080/",
          "height": 415
        },
        "id": "4IYu3f3sb9U7",
        "outputId": "7b1b55ef-20c0-4121-ee23-4a9f025291bd"
      },
      "execution_count": 146,
      "outputs": [
        {
          "output_type": "execute_result",
          "data": {
            "text/plain": [
              "{'whiskers': [<matplotlib.lines.Line2D at 0x7f75e5043950>,\n",
              "  <matplotlib.lines.Line2D at 0x7f75e5043e90>],\n",
              " 'caps': [<matplotlib.lines.Line2D at 0x7f75e5049410>,\n",
              "  <matplotlib.lines.Line2D at 0x7f75e5049950>],\n",
              " 'boxes': [<matplotlib.lines.Line2D at 0x7f75e5043390>],\n",
              " 'medians': [<matplotlib.lines.Line2D at 0x7f75e5049ed0>],\n",
              " 'fliers': [<matplotlib.lines.Line2D at 0x7f75e504f450>],\n",
              " 'means': []}"
            ]
          },
          "metadata": {},
          "execution_count": 146
        },
        {
          "output_type": "display_data",
          "data": {
            "text/plain": [
              "<Figure size 432x288 with 1 Axes>"
            ],
            "image/png": "[encoded data removed]"
          },
          "metadata": {
            "needs_background": "light"
          }
        }
      ]
    },
    {
      "cell_type": "code",
      "source": [
        "winsor_iqr = Winsorizer(capping_method = 'iqr',\n",
        "                             tail = 'both',\n",
        "                              fold = 1.5,\n",
        "                               variables = ('Large_Bags'))\n",
        "\n",
        "data_iqr = winsor_iqr.fit_transform(data[['Large_Bags']])\n",
        "\n",
        "sns.boxplot(data_iqr['Large_Bags'])"
      ],
      "metadata": {
        "colab": {
          "base_uri": "https://localhost:8080/",
          "height": 297
        },
        "id": "cCtTxza2b9h-",
        "outputId": "a8ec3637-88c7-4c75-89fd-9dcfda2b4a8f"
      },
      "execution_count": 147,
      "outputs": [
        {
          "output_type": "execute_result",
          "data": {
            "text/plain": [
              "<matplotlib.axes._subplots.AxesSubplot at 0x7f75e4ff71d0>"
            ]
          },
          "metadata": {},
          "execution_count": 147
        },
        {
          "output_type": "display_data",
          "data": {
            "text/plain": [
              "<Figure size 432x288 with 1 Axes>"
            ],
            "image/png": "[encoded data removed]"
          },
          "metadata": {
            "needs_background": "light"
          }
        }
      ]
    },
    {
      "cell_type": "code",
      "source": [
        "plt.boxplot(data['XLarge Bags'])"
      ],
      "metadata": {
        "colab": {
          "base_uri": "https://localhost:8080/",
          "height": 404
        },
        "id": "NcgTUsKeb9zi",
        "outputId": "c4072834-c288-4d96-a63a-010cee6f9a1f"
      },
      "execution_count": 148,
      "outputs": [
        {
          "output_type": "execute_result",
          "data": {
            "text/plain": [
              "{'whiskers': [<matplotlib.lines.Line2D at 0x7f75e4f9afd0>,\n",
              "  <matplotlib.lines.Line2D at 0x7f75e4f9d550>],\n",
              " 'caps': [<matplotlib.lines.Line2D at 0x7f75e4f9da90>,\n",
              "  <matplotlib.lines.Line2D at 0x7f75e4f9dfd0>],\n",
              " 'boxes': [<matplotlib.lines.Line2D at 0x7f75e4f9aa10>],\n",
              " 'medians': [<matplotlib.lines.Line2D at 0x7f75e4fa7590>],\n",
              " 'fliers': [<matplotlib.lines.Line2D at 0x7f75e4fa7ad0>],\n",
              " 'means': []}"
            ]
          },
          "metadata": {},
          "execution_count": 148
        },
        {
          "output_type": "display_data",
          "data": {
            "text/plain": [
              "<Figure size 432x288 with 1 Axes>"
            ],
            "image/png": "[encoded data removed]"
          },
          "metadata": {
            "needs_background": "light"
          }
        }
      ]
    },
    {
      "cell_type": "code",
      "source": [
        "winsor_iqr = Winsorizer(capping_method = 'iqr',\n",
        "                             tail = 'both',\n",
        "                              fold = 1.5,\n",
        "                               variables = ('XLarge Bags'))\n",
        "\n",
        "data_iqr = winsor_iqr.fit_transform(data[['XLarge Bags']])\n",
        "\n",
        "sns.boxplot(data_iqr['XLarge Bags'])"
      ],
      "metadata": {
        "colab": {
          "base_uri": "https://localhost:8080/",
          "height": 296
        },
        "id": "98-1QQ9Wb9-j",
        "outputId": "d0898ff6-bc74-4d75-a598-4a5f010d325e"
      },
      "execution_count": 149,
      "outputs": [
        {
          "output_type": "execute_result",
          "data": {
            "text/plain": [
              "<matplotlib.axes._subplots.AxesSubplot at 0x7f75e4febe50>"
            ]
          },
          "metadata": {},
          "execution_count": 149
        },
        {
          "output_type": "display_data",
          "data": {
            "text/plain": [
              "<Figure size 432x288 with 1 Axes>"
            ],
            "image/png": "[encoded data removed]"
          },
          "metadata": {
            "needs_background": "light"
          }
        }
      ]
    },
    {
      "cell_type": "code",
      "source": [
        "plt.boxplot(data['year'])"
      ],
      "metadata": {
        "colab": {
          "base_uri": "https://localhost:8080/",
          "height": 404
        },
        "id": "nv6OFnudc0Or",
        "outputId": "2e3cf7fb-e8b1-4ab7-f90d-ddd328757e29"
      },
      "execution_count": 150,
      "outputs": [
        {
          "output_type": "execute_result",
          "data": {
            "text/plain": [
              "{'whiskers': [<matplotlib.lines.Line2D at 0x7f75ed41f410>,\n",
              "  <matplotlib.lines.Line2D at 0x7f75e5526990>],\n",
              " 'caps': [<matplotlib.lines.Line2D at 0x7f75ed35a690>,\n",
              "  <matplotlib.lines.Line2D at 0x7f75ecae48d0>],\n",
              " 'boxes': [<matplotlib.lines.Line2D at 0x7f75ed5bb410>],\n",
              " 'medians': [<matplotlib.lines.Line2D at 0x7f75ecae4910>],\n",
              " 'fliers': [<matplotlib.lines.Line2D at 0x7f75e5474710>],\n",
              " 'means': []}"
            ]
          },
          "metadata": {},
          "execution_count": 150
        },
        {
          "output_type": "display_data",
          "data": {
            "text/plain": [
              "<Figure size 432x288 with 1 Axes>"
            ],
            "image/png": "[encoded data removed]"
          },
          "metadata": {
            "needs_background": "light"
          }
        }
      ]
    },
    {
      "cell_type": "code",
      "source": [
        "# Creating the Scater plots\n",
        "\n",
        "plt.scatter(x = data['AveragePrice'], y = data['Total_Volume'])"
      ],
      "metadata": {
        "colab": {
          "base_uri": "https://localhost:8080/",
          "height": 293
        },
        "id": "hKTw5GwXbn-R",
        "outputId": "81f20c36-dd3e-41a7-9009-cb2c58a8283b"
      },
      "execution_count": 151,
      "outputs": [
        {
          "output_type": "execute_result",
          "data": {
            "text/plain": [
              "<matplotlib.collections.PathCollection at 0x7f75ed2ce590>"
            ]
          },
          "metadata": {},
          "execution_count": 151
        },
        {
          "output_type": "display_data",
          "data": {
            "text/plain": [
              "<Figure size 432x288 with 1 Axes>"
            ],
            "image/png": "[encoded data removed]"
          },
          "metadata": {
            "needs_background": "light"
          }
        }
      ]
    },
    {
      "cell_type": "code",
      "source": [
        "plt.scatter(x = data['tot_ava1'], y = data['tot_ava2'])"
      ],
      "metadata": {
        "colab": {
          "base_uri": "https://localhost:8080/",
          "height": 306
        },
        "id": "LK2rCTP4anKo",
        "outputId": "dc5d2735-e3bb-4dd7-afdf-d35f18412f96"
      },
      "execution_count": 152,
      "outputs": [
        {
          "output_type": "execute_result",
          "data": {
            "text/plain": [
              "<matplotlib.collections.PathCollection at 0x7f75e5224c50>"
            ]
          },
          "metadata": {},
          "execution_count": 152
        },
        {
          "output_type": "display_data",
          "data": {
            "text/plain": [
              "<Figure size 432x288 with 1 Axes>"
            ],
            "image/png": "[encoded data removed]"
          },
          "metadata": {
            "needs_background": "light"
          }
        }
      ]
    },
    {
      "cell_type": "code",
      "source": [
        "plt.scatter(x = data['tot_ava2'], y = data['tot_ava3'])"
      ],
      "metadata": {
        "colab": {
          "base_uri": "https://localhost:8080/",
          "height": 306
        },
        "id": "tgQ5M7EIdEYd",
        "outputId": "b11b9786-5063-4f3a-d189-d77bcdb208b3"
      },
      "execution_count": 153,
      "outputs": [
        {
          "output_type": "execute_result",
          "data": {
            "text/plain": [
              "<matplotlib.collections.PathCollection at 0x7f75ee47e550>"
            ]
          },
          "metadata": {},
          "execution_count": 153
        },
        {
          "output_type": "display_data",
          "data": {
            "text/plain": [
              "<Figure size 432x288 with 1 Axes>"
            ],
            "image/png": "[encoded data removed]"
          },
          "metadata": {
            "needs_background": "light"
          }
        }
      ]
    },
    {
      "cell_type": "code",
      "source": [
        "plt.scatter(x = data['Total_Bags'], y = data['Small_Bags'])"
      ],
      "metadata": {
        "colab": {
          "base_uri": "https://localhost:8080/",
          "height": 306
        },
        "id": "LXahqIDVdKWt",
        "outputId": "80fd1b2d-b526-457d-9aab-c1be863f1201"
      },
      "execution_count": 154,
      "outputs": [
        {
          "output_type": "execute_result",
          "data": {
            "text/plain": [
              "<matplotlib.collections.PathCollection at 0x7f75ed619950>"
            ]
          },
          "metadata": {},
          "execution_count": 154
        },
        {
          "output_type": "display_data",
          "data": {
            "text/plain": [
              "<Figure size 432x288 with 1 Axes>"
            ],
            "image/png": "[encoded data removed]"
          },
          "metadata": {
            "needs_background": "light"
          }
        }
      ]
    },
    {
      "cell_type": "code",
      "source": [
        "plt.scatter(x = data['Small_Bags'], y = data['Large_Bags'])"
      ],
      "metadata": {
        "colab": {
          "base_uri": "https://localhost:8080/",
          "height": 306
        },
        "id": "TOFkoaLzdcP9",
        "outputId": "424bc37e-0e1b-4528-b38c-d72410b48386"
      },
      "execution_count": 155,
      "outputs": [
        {
          "output_type": "execute_result",
          "data": {
            "text/plain": [
              "<matplotlib.collections.PathCollection at 0x7f75edc38910>"
            ]
          },
          "metadata": {},
          "execution_count": 155
        },
        {
          "output_type": "display_data",
          "data": {
            "text/plain": [
              "<Figure size 432x288 with 1 Axes>"
            ],
            "image/png": "[encoded data removed]"
          },
          "metadata": {
            "needs_background": "light"
          }
        }
      ]
    },
    {
      "cell_type": "code",
      "source": [
        "plt.scatter(x = data['Large_Bags'], y = data['XLarge Bags'])"
      ],
      "metadata": {
        "colab": {
          "base_uri": "https://localhost:8080/",
          "height": 295
        },
        "id": "Bp_C4syqdkFF",
        "outputId": "81f59d19-668f-4767-c033-1a963f55971e"
      },
      "execution_count": 156,
      "outputs": [
        {
          "output_type": "execute_result",
          "data": {
            "text/plain": [
              "<matplotlib.collections.PathCollection at 0x7f75edc7de50>"
            ]
          },
          "metadata": {},
          "execution_count": 156
        },
        {
          "output_type": "display_data",
          "data": {
            "text/plain": [
              "<Figure size 432x288 with 1 Axes>"
            ],
            "image/png": "[encoded data removed]"
          },
          "metadata": {
            "needs_background": "light"
          }
        }
      ]
    },
    {
      "cell_type": "code",
      "source": [
        "# Checking duplicates\n",
        "\n",
        "duplicates = data.duplicated()\n",
        "sum(duplicates)"
      ],
      "metadata": {
        "colab": {
          "base_uri": "https://localhost:8080/"
        },
        "id": "UFuVfpW5dr1b",
        "outputId": "55ba7210-1909-4db2-b66f-95301e15f851"
      },
      "execution_count": 157,
      "outputs": [
        {
          "output_type": "execute_result",
          "data": {
            "text/plain": [
              "0"
            ]
          },
          "metadata": {},
          "execution_count": 157
        }
      ]
    },
    {
      "cell_type": "code",
      "source": [
        "# Checking the Zero Variance\n",
        "\n",
        "data.var() == 0"
      ],
      "metadata": {
        "colab": {
          "base_uri": "https://localhost:8080/"
        },
        "id": "eN-IUTN0eDks",
        "outputId": "531518cc-92b1-4679-f1c9-300fff50ea53"
      },
      "execution_count": 158,
      "outputs": [
        {
          "output_type": "execute_result",
          "data": {
            "text/plain": [
              "AveragePrice               False\n",
              "Total_Volume               False\n",
              "tot_ava1                   False\n",
              "tot_ava2                   False\n",
              "tot_ava3                   False\n",
              "                           ...  \n",
              "region_Syracuse            False\n",
              "region_Tampa               False\n",
              "region_TotalUS             False\n",
              "region_West                False\n",
              "region_WestTexNewMexico    False\n",
              "Length: 66, dtype: bool"
            ]
          },
          "metadata": {},
          "execution_count": 158
        }
      ]
    },
    {
      "cell_type": "code",
      "source": [
        "# Checking the Missing Values\n",
        "\n",
        "data.isna().sum()"
      ],
      "metadata": {
        "colab": {
          "base_uri": "https://localhost:8080/"
        },
        "id": "iHYD-cvJeIrG",
        "outputId": "49b20bdb-19cb-455c-9dfd-73e54d02f1df"
      },
      "execution_count": 159,
      "outputs": [
        {
          "output_type": "execute_result",
          "data": {
            "text/plain": [
              "AveragePrice               0\n",
              "Total_Volume               0\n",
              "tot_ava1                   0\n",
              "tot_ava2                   0\n",
              "tot_ava3                   0\n",
              "                          ..\n",
              "region_Syracuse            0\n",
              "region_Tampa               0\n",
              "region_TotalUS             0\n",
              "region_West                0\n",
              "region_WestTexNewMexico    0\n",
              "Length: 66, dtype: int64"
            ]
          },
          "metadata": {},
          "execution_count": 159
        }
      ]
    },
    {
      "cell_type": "code",
      "source": [
        "# Transformation\n",
        "\n",
        "import scipy.stats as stats\n",
        "import pylab\n",
        "\n",
        "stats.probplot(data['AveragePrice'], dist = 'norm', plot = pylab)"
      ],
      "metadata": {
        "colab": {
          "base_uri": "https://localhost:8080/",
          "height": 364
        },
        "id": "zwKppSKNeOph",
        "outputId": "4e911449-5db7-498a-fcf7-73eeda147d9f"
      },
      "execution_count": 160,
      "outputs": [
        {
          "output_type": "execute_result",
          "data": {
            "text/plain": [
              "((array([-3.95678874, -3.73949546, -3.62054525, ...,  3.62054525,\n",
              "          3.73949546,  3.95678874]),\n",
              "  array([0.44, 0.46, 0.48, ..., 3.12, 3.17, 3.25])),\n",
              " (0.3984250061123529, 1.4059784097758783, 0.9892635030043417))"
            ]
          },
          "metadata": {},
          "execution_count": 160
        },
        {
          "output_type": "display_data",
          "data": {
            "text/plain": [
              "<Figure size 432x288 with 1 Axes>"
            ],
            "image/png": "[encoded data removed]"
          },
          "metadata": {
            "needs_background": "light"
          }
        }
      ]
    },
    {
      "cell_type": "code",
      "source": [
        "stats.probplot(data['Total_Volume'], dist = 'norm', plot = pylab)"
      ],
      "metadata": {
        "colab": {
          "base_uri": "https://localhost:8080/",
          "height": 382
        },
        "id": "4WnVV0-Xehv9",
        "outputId": "ee6998a3-655e-4737-f025-b8e2afa63877"
      },
      "execution_count": 161,
      "outputs": [
        {
          "output_type": "execute_result",
          "data": {
            "text/plain": [
              "((array([-3.95678874, -3.73949546, -3.62054525, ...,  3.62054525,\n",
              "          3.73949546,  3.95678874]),\n",
              "  array([8.45600000e+01, 3.79820000e+02, 3.85550000e+02, ...,\n",
              "         5.22886979e+07, 6.10344571e+07, 6.25056465e+07])),\n",
              " (1622078.2412138488, 850644.0130089328, 0.4696003139646748))"
            ]
          },
          "metadata": {},
          "execution_count": 161
        },
        {
          "output_type": "display_data",
          "data": {
            "text/plain": [
              "<Figure size 432x288 with 1 Axes>"
            ],
            "image/png": "[encoded data removed]"
          },
          "metadata": {
            "needs_background": "light"
          }
        }
      ]
    },
    {
      "cell_type": "code",
      "source": [
        "stats.probplot(np.log(data['Total_Volume']), dist = 'norm', plot = pylab)"
      ],
      "metadata": {
        "colab": {
          "base_uri": "https://localhost:8080/",
          "height": 382
        },
        "id": "TfB8QOaH-vVH",
        "outputId": "6659e5a2-f361-43aa-9bca-565cb285a98d"
      },
      "execution_count": 162,
      "outputs": [
        {
          "output_type": "execute_result",
          "data": {
            "text/plain": [
              "((array([-3.95678874, -3.73949546, -3.62054525, ...,  3.62054525,\n",
              "          3.73949546,  3.95678874]),\n",
              "  array([ 4.43746134,  5.93969746,  5.95467089, ..., 17.7722908 ,\n",
              "         17.92694913, 17.95076745])),\n",
              " (2.270169548159426, 11.316294155488299, 0.9896346862252916))"
            ]
          },
          "metadata": {},
          "execution_count": 162
        },
        {
          "output_type": "display_data",
          "data": {
            "text/plain": [
              "<Figure size 432x288 with 1 Axes>"
            ],
            "image/png": "[encoded data removed]"
          },
          "metadata": {
            "needs_background": "light"
          }
        }
      ]
    },
    {
      "cell_type": "code",
      "source": [
        "stats.probplot(data['tot_ava1'], dist = 'norm', plot = pylab)"
      ],
      "metadata": {
        "colab": {
          "base_uri": "https://localhost:8080/",
          "height": 382
        },
        "id": "pG2bE28EAV47",
        "outputId": "608f642a-fcea-48ab-e698-76b684ada540"
      },
      "execution_count": 163,
      "outputs": [
        {
          "output_type": "execute_result",
          "data": {
            "text/plain": [
              "((array([-3.95678874, -3.73949546, -3.62054525, ...,  3.62054525,\n",
              "          3.73949546,  3.95678874]),\n",
              "  array([       0.  ,        0.  ,        0.  , ..., 18933038.04,\n",
              "         21620180.9 , 22743616.17])),\n",
              " (594025.5920606704, 293008.42453065945, 0.46950489299301085))"
            ]
          },
          "metadata": {},
          "execution_count": 163
        },
        {
          "output_type": "display_data",
          "data": {
            "text/plain": [
              "<Figure size 432x288 with 1 Axes>"
            ],
            "image/png": "[encoded data removed]"
          },
          "metadata": {
            "needs_background": "light"
          }
        }
      ]
    },
    {
      "cell_type": "code",
      "source": [
        "stats.probplot(np.log(data['tot_ava1']), dist = 'norm', plot = pylab)"
      ],
      "metadata": {
        "colab": {
          "base_uri": "https://localhost:8080/",
          "height": 382
        },
        "id": "giWffWGcAdHr",
        "outputId": "e13b125a-d901-4ab7-e9e2-b85547b0781d"
      },
      "execution_count": 164,
      "outputs": [
        {
          "output_type": "execute_result",
          "data": {
            "text/plain": [
              "((array([-3.95678874, -3.73949546, -3.62054525, ...,  3.62054525,\n",
              "          3.73949546,  3.95678874]),\n",
              "  array([       -inf,        -inf,        -inf, ..., 16.756419  ,\n",
              "         16.88913774, 16.93979506])),\n",
              " (nan, nan, nan))"
            ]
          },
          "metadata": {},
          "execution_count": 164
        },
        {
          "output_type": "display_data",
          "data": {
            "text/plain": [
              "<Figure size 432x288 with 1 Axes>"
            ],
            "image/png": "[encoded data removed]"
          },
          "metadata": {
            "needs_background": "light"
          }
        }
      ]
    },
    {
      "cell_type": "code",
      "source": [
        "stats.probplot(data['tot_ava2'], dist = 'norm', plot = pylab)"
      ],
      "metadata": {
        "colab": {
          "base_uri": "https://localhost:8080/",
          "height": 382
        },
        "id": "JWBX17D0AlAy",
        "outputId": "d7f5144f-b2de-4f6b-94be-0932c692c185"
      },
      "execution_count": 165,
      "outputs": [
        {
          "output_type": "execute_result",
          "data": {
            "text/plain": [
              "((array([-3.95678874, -3.73949546, -3.62054525, ...,  3.62054525,\n",
              "          3.73949546,  3.95678874]),\n",
              "  array([       0.  ,        0.  ,        0.  , ..., 20328161.55,\n",
              "         20445501.03, 20470572.61])),\n",
              " (570024.5144847208, 295154.56835607457, 0.473309653878893))"
            ]
          },
          "metadata": {},
          "execution_count": 165
        },
        {
          "output_type": "display_data",
          "data": {
            "text/plain": [
              "<Figure size 432x288 with 1 Axes>"
            ],
            "image/png": "[encoded data removed]"
          },
          "metadata": {
            "needs_background": "light"
          }
        }
      ]
    },
    {
      "cell_type": "code",
      "source": [
        "stats.probplot(np.log(data['tot_ava2']), dist = 'norm', plot = pylab)"
      ],
      "metadata": {
        "colab": {
          "base_uri": "https://localhost:8080/",
          "height": 382
        },
        "id": "8s9JPTVtAw74",
        "outputId": "5e93fc3e-cbdf-41e4-fea4-6de279e89e29"
      },
      "execution_count": 166,
      "outputs": [
        {
          "output_type": "execute_result",
          "data": {
            "text/plain": [
              "((array([-3.95678874, -3.73949546, -3.62054525, ...,  3.62054525,\n",
              "          3.73949546,  3.95678874]),\n",
              "  array([       -inf,        -inf,        -inf, ..., 16.82751775,\n",
              "         16.83327342, 16.83449893])),\n",
              " (nan, nan, nan))"
            ]
          },
          "metadata": {},
          "execution_count": 166
        },
        {
          "output_type": "display_data",
          "data": {
            "text/plain": [
              "<Figure size 432x288 with 1 Axes>"
            ],
            "image/png": "[encoded data removed]"
          },
          "metadata": {
            "needs_background": "light"
          }
        }
      ]
    },
    {
      "cell_type": "code",
      "source": [
        "stats.probplot(data['tot_ava3'], dist = 'norm', plot = pylab)"
      ],
      "metadata": {
        "colab": {
          "base_uri": "https://localhost:8080/",
          "height": 382
        },
        "id": "FdF8oy4EA5RR",
        "outputId": "1dd2f891-0ee6-4442-bc3b-194e4b5bbdf2"
      },
      "execution_count": 167,
      "outputs": [
        {
          "output_type": "execute_result",
          "data": {
            "text/plain": [
              "((array([-3.95678874, -3.73949546, -3.62054525, ...,  3.62054525,\n",
              "          3.73949546,  3.95678874]),\n",
              "  array([      0.  ,       0.  ,       0.  , ..., 1896149.5 , 1993645.36,\n",
              "         2546439.11])),\n",
              " (48376.16438275285, 22839.735992657148, 0.45008018874737266))"
            ]
          },
          "metadata": {},
          "execution_count": 167
        },
        {
          "output_type": "display_data",
          "data": {
            "text/plain": [
              "<Figure size 432x288 with 1 Axes>"
            ],
            "image/png": "[encoded data removed]"
          },
          "metadata": {
            "needs_background": "light"
          }
        }
      ]
    },
    {
      "cell_type": "code",
      "source": [
        "stats.probplot(data['Total_Bags'], dist = 'norm', plot = pylab)"
      ],
      "metadata": {
        "colab": {
          "base_uri": "https://localhost:8080/",
          "height": 382
        },
        "id": "zPOZbQ3yA_4h",
        "outputId": "40e022f8-7728-4ceb-ab87-2309f7841ce4"
      },
      "execution_count": 168,
      "outputs": [
        {
          "output_type": "execute_result",
          "data": {
            "text/plain": [
              "((array([-3.95678874, -3.73949546, -3.62054525, ...,  3.62054525,\n",
              "          3.73949546,  3.95678874]),\n",
              "  array([       0.  ,        0.  ,        0.  , ..., 16298296.29,\n",
              "         16394524.11, 19373134.37])),\n",
              " (457179.3168986249, 239639.20205983904, 0.46347322418490094))"
            ]
          },
          "metadata": {},
          "execution_count": 168
        },
        {
          "output_type": "display_data",
          "data": {
            "text/plain": [
              "<Figure size 432x288 with 1 Axes>"
            ],
            "image/png": "[encoded data removed]"
          },
          "metadata": {
            "needs_background": "light"
          }
        }
      ]
    },
    {
      "cell_type": "code",
      "source": [
        "stats.probplot(data['Small_Bags'], dist = 'norm', plot = pylab)"
      ],
      "metadata": {
        "colab": {
          "base_uri": "https://localhost:8080/",
          "height": 382
        },
        "id": "IAUtOjgsBO7S",
        "outputId": "3afd7781-ac43-4981-f163-d270cb0f4d63"
      },
      "execution_count": 169,
      "outputs": [
        {
          "output_type": "execute_result",
          "data": {
            "text/plain": [
              "((array([-3.95678874, -3.73949546, -3.62054525, ...,  3.62054525,\n",
              "          3.73949546,  3.95678874]),\n",
              "  array([       0.  ,        0.  ,        0.  , ..., 12540327.19,\n",
              "         12567155.58, 13384586.8 ])),\n",
              " (348974.6090759029, 182194.68669570948, 0.46759820279251796))"
            ]
          },
          "metadata": {},
          "execution_count": 169
        },
        {
          "output_type": "display_data",
          "data": {
            "text/plain": [
              "<Figure size 432x288 with 1 Axes>"
            ],
            "image/png": "[encoded data removed]"
          },
          "metadata": {
            "needs_background": "light"
          }
        }
      ]
    },
    {
      "cell_type": "code",
      "source": [
        "stats.probplot(data['Large_Bags'], dist = 'norm', plot = pylab)"
      ],
      "metadata": {
        "colab": {
          "base_uri": "https://localhost:8080/",
          "height": 382
        },
        "id": "O3fo1EPEBala",
        "outputId": "da888ba0-0002-4ddf-b948-7c3f1928247a"
      },
      "execution_count": 170,
      "outputs": [
        {
          "output_type": "execute_result",
          "data": {
            "text/plain": [
              "((array([-3.95678874, -3.73949546, -3.62054525, ...,  3.62054525,\n",
              "          3.73949546,  3.95678874]),\n",
              "  array([      0.  ,       0.  ,       0.  , ..., 4081397.72, 4324231.19,\n",
              "         5719096.61])),\n",
              " (110691.12026652858, 54338.088144555906, 0.4536336726059007))"
            ]
          },
          "metadata": {},
          "execution_count": 170
        },
        {
          "output_type": "display_data",
          "data": {
            "text/plain": [
              "<Figure size 432x288 with 1 Axes>"
            ],
            "image/png": "[encoded data removed]"
          },
          "metadata": {
            "needs_background": "light"
          }
        }
      ]
    },
    {
      "cell_type": "code",
      "source": [
        "stats.probplot(data['XLarge Bags'], dist = 'norm', plot = pylab)"
      ],
      "metadata": {
        "colab": {
          "base_uri": "https://localhost:8080/",
          "height": 382
        },
        "id": "_SpH43HWBrG9",
        "outputId": "51c7f32d-fd95-49dc-ec48-a63e18a98696"
      },
      "execution_count": 171,
      "outputs": [
        {
          "output_type": "execute_result",
          "data": {
            "text/plain": [
              "((array([-3.95678874, -3.73949546, -3.62054525, ...,  3.62054525,\n",
              "          3.73949546,  3.95678874]),\n",
              "  array([     0.  ,      0.  ,      0.  , ..., 390478.73, 454343.65,\n",
              "         551693.65])),\n",
              " (7060.134263194293, 3106.4265072058774, 0.398965931919514))"
            ]
          },
          "metadata": {},
          "execution_count": 171
        },
        {
          "output_type": "display_data",
          "data": {
            "text/plain": [
              "<Figure size 432x288 with 1 Axes>"
            ],
            "image/png": "[encoded data removed]"
          },
          "metadata": {
            "needs_background": "light"
          }
        }
      ]
    },
    {
      "cell_type": "code",
      "source": [
        "data.describe()"
      ],
      "metadata": {
        "colab": {
          "base_uri": "https://localhost:8080/",
          "height": 394
        },
        "id": "81UbV9xuCqbp",
        "outputId": "795a6b14-6e6a-4924-c6aa-e9218b6d3df0"
      },
      "execution_count": 172,
      "outputs": [
        {
          "output_type": "execute_result",
          "data": {
            "text/plain": [
              "       AveragePrice  Total_Volume      tot_ava1      tot_ava2      tot_ava3  \\\n",
              "count  18249.000000  1.824900e+04  1.824900e+04  1.824900e+04  1.824900e+04   \n",
              "mean       1.405978  8.506440e+05  2.930084e+05  2.951546e+05  2.283974e+04   \n",
              "std        0.402677  3.453545e+06  1.264989e+06  1.204120e+06  1.074641e+05   \n",
              "min        0.440000  8.456000e+01  0.000000e+00  0.000000e+00  0.000000e+00   \n",
              "25%        1.100000  1.083858e+04  8.540700e+02  3.008780e+03  0.000000e+00   \n",
              "50%        1.370000  1.073768e+05  8.645300e+03  2.906102e+04  1.849900e+02   \n",
              "75%        1.660000  4.329623e+05  1.110202e+05  1.502069e+05  6.243420e+03   \n",
              "max        3.250000  6.250565e+07  2.274362e+07  2.047057e+07  2.546439e+06   \n",
              "\n",
              "         Total_Bags    Small_Bags    Large_Bags    XLarge Bags          year  \\\n",
              "count  1.824900e+04  1.824900e+04  1.824900e+04   18249.000000  18249.000000   \n",
              "mean   2.396392e+05  1.821947e+05  5.433809e+04    3106.426507   2016.147899   \n",
              "std    9.862424e+05  7.461785e+05  2.439660e+05   17692.894652      0.939938   \n",
              "min    0.000000e+00  0.000000e+00  0.000000e+00       0.000000   2015.000000   \n",
              "25%    5.088640e+03  2.849420e+03  1.274700e+02       0.000000   2015.000000   \n",
              "50%    3.974383e+04  2.636282e+04  2.647710e+03       0.000000   2016.000000   \n",
              "75%    1.107834e+05  8.333767e+04  2.202925e+04     132.500000   2017.000000   \n",
              "max    1.937313e+07  1.338459e+07  5.719097e+06  551693.650000   2018.000000   \n",
              "\n",
              "       ...  region_SouthCarolina  region_SouthCentral  region_Southeast  \\\n",
              "count  ...          18249.000000         18249.000000      18249.000000   \n",
              "mean   ...              0.018522             0.018522          0.018522   \n",
              "std    ...              0.134831             0.134831          0.134831   \n",
              "min    ...              0.000000             0.000000          0.000000   \n",
              "25%    ...              0.000000             0.000000          0.000000   \n",
              "50%    ...              0.000000             0.000000          0.000000   \n",
              "75%    ...              0.000000             0.000000          0.000000   \n",
              "max    ...              1.000000             1.000000          1.000000   \n",
              "\n",
              "       region_Spokane  region_StLouis  region_Syracuse  region_Tampa  \\\n",
              "count    18249.000000    18249.000000     18249.000000  18249.000000   \n",
              "mean         0.018522        0.018522         0.018522      0.018522   \n",
              "std          0.134831        0.134831         0.134831      0.134831   \n",
              "min          0.000000        0.000000         0.000000      0.000000   \n",
              "25%          0.000000        0.000000         0.000000      0.000000   \n",
              "50%          0.000000        0.000000         0.000000      0.000000   \n",
              "75%          0.000000        0.000000         0.000000      0.000000   \n",
              "max          1.000000        1.000000         1.000000      1.000000   \n",
              "\n",
              "       region_TotalUS   region_West  region_WestTexNewMexico  \n",
              "count    18249.000000  18249.000000             18249.000000  \n",
              "mean         0.018522      0.018522                 0.018357  \n",
              "std          0.134831      0.134831                 0.134243  \n",
              "min          0.000000      0.000000                 0.000000  \n",
              "25%          0.000000      0.000000                 0.000000  \n",
              "50%          0.000000      0.000000                 0.000000  \n",
              "75%          0.000000      0.000000                 0.000000  \n",
              "max          1.000000      1.000000                 1.000000  \n",
              "\n",
              "[8 rows x 66 columns]"
            ],
            "text/html": [
              "\n",
              "  <div id=\"df-fdd6325e-1a71-48df-8924-4feee151dab5\">\n",
              "    <div class=\"colab-df-container\">\n",
              "      <div>\n",
              "<style scoped>\n",
              "    .dataframe tbody tr th:only-of-type {\n",
              "        vertical-align: middle;\n",
              "    }\n",
              "\n",
              "    .dataframe tbody tr th {\n",
              "        vertical-align: top;\n",
              "    }\n",
              "\n",
              "    .dataframe thead th {\n",
              "        text-align: right;\n",
              "    }\n",
              "</style>\n",
              "<table border=\"1\" class=\"dataframe\">\n",
              "  <thead>\n",
              "    <tr style=\"text-align: right;\">\n",
              "      <th></th>\n",
              "      <th>AveragePrice</th>\n",
              "      <th>Total_Volume</th>\n",
              "      <th>tot_ava1</th>\n",
              "      <th>tot_ava2</th>\n",
              "      <th>tot_ava3</th>\n",
              "      <th>Total_Bags</th>\n",
              "      <th>Small_Bags</th>\n",
              "      <th>Large_Bags</th>\n",
              "      <th>XLarge Bags</th>\n",
              "      <th>year</th>\n",
              "      <th>...</th>\n",
              "      <th>region_SouthCarolina</th>\n",
              "      <th>region_SouthCentral</th>\n",
              "      <th>region_Southeast</th>\n",
              "      <th>region_Spokane</th>\n",
              "      <th>region_StLouis</th>\n",
              "      <th>region_Syracuse</th>\n",
              "      <th>region_Tampa</th>\n",
              "      <th>region_TotalUS</th>\n",
              "      <th>region_West</th>\n",
              "      <th>region_WestTexNewMexico</th>\n",
              "    </tr>\n",
              "  </thead>\n",
              "  <tbody>\n",
              "    <tr>\n",
              "      <th>count</th>\n",
              "      <td>18249.000000</td>\n",
              "      <td>1.824900e+04</td>\n",
              "      <td>1.824900e+04</td>\n",
              "      <td>1.824900e+04</td>\n",
              "      <td>1.824900e+04</td>\n",
              "      <td>1.824900e+04</td>\n",
              "      <td>1.824900e+04</td>\n",
              "      <td>1.824900e+04</td>\n",
              "      <td>18249.000000</td>\n",
              "      <td>18249.000000</td>\n",
              "      <td>...</td>\n",
              "      <td>18249.000000</td>\n",
              "      <td>18249.000000</td>\n",
              "      <td>18249.000000</td>\n",
              "      <td>18249.000000</td>\n",
              "      <td>18249.000000</td>\n",
              "      <td>18249.000000</td>\n",
              "      <td>18249.000000</td>\n",
              "      <td>18249.000000</td>\n",
              "      <td>18249.000000</td>\n",
              "      <td>18249.000000</td>\n",
              "    </tr>\n",
              "    <tr>\n",
              "      <th>mean</th>\n",
              "      <td>1.405978</td>\n",
              "      <td>8.506440e+05</td>\n",
              "      <td>2.930084e+05</td>\n",
              "      <td>2.951546e+05</td>\n",
              "      <td>2.283974e+04</td>\n",
              "      <td>2.396392e+05</td>\n",
              "      <td>1.821947e+05</td>\n",
              "      <td>5.433809e+04</td>\n",
              "      <td>3106.426507</td>\n",
              "      <td>2016.147899</td>\n",
              "      <td>...</td>\n",
              "      <td>0.018522</td>\n",
              "      <td>0.018522</td>\n",
              "      <td>0.018522</td>\n",
              "      <td>0.018522</td>\n",
              "      <td>0.018522</td>\n",
              "      <td>0.018522</td>\n",
              "      <td>0.018522</td>\n",
              "      <td>0.018522</td>\n",
              "      <td>0.018522</td>\n",
              "      <td>0.018357</td>\n",
              "    </tr>\n",
              "    <tr>\n",
              "      <th>std</th>\n",
              "      <td>0.402677</td>\n",
              "      <td>3.453545e+06</td>\n",
              "      <td>1.264989e+06</td>\n",
              "      <td>1.204120e+06</td>\n",
              "      <td>1.074641e+05</td>\n",
              "      <td>9.862424e+05</td>\n",
              "      <td>7.461785e+05</td>\n",
              "      <td>2.439660e+05</td>\n",
              "      <td>17692.894652</td>\n",
              "      <td>0.939938</td>\n",
              "      <td>...</td>\n",
              "      <td>0.134831</td>\n",
              "      <td>0.134831</td>\n",
              "      <td>0.134831</td>\n",
              "      <td>0.134831</td>\n",
              "      <td>0.134831</td>\n",
              "      <td>0.134831</td>\n",
              "      <td>0.134831</td>\n",
              "      <td>0.134831</td>\n",
              "      <td>0.134831</td>\n",
              "      <td>0.134243</td>\n",
              "    </tr>\n",
              "    <tr>\n",
              "      <th>min</th>\n",
              "      <td>0.440000</td>\n",
              "      <td>8.456000e+01</td>\n",
              "      <td>0.000000e+00</td>\n",
              "      <td>0.000000e+00</td>\n",
              "      <td>0.000000e+00</td>\n",
              "      <td>0.000000e+00</td>\n",
              "      <td>0.000000e+00</td>\n",
              "      <td>0.000000e+00</td>\n",
              "      <td>0.000000</td>\n",
              "      <td>2015.000000</td>\n",
              "      <td>...</td>\n",
              "      <td>0.000000</td>\n",
              "      <td>0.000000</td>\n",
              "      <td>0.000000</td>\n",
              "      <td>0.000000</td>\n",
              "      <td>0.000000</td>\n",
              "      <td>0.000000</td>\n",
              "      <td>0.000000</td>\n",
              "      <td>0.000000</td>\n",
              "      <td>0.000000</td>\n",
              "      <td>0.000000</td>\n",
              "    </tr>\n",
              "    <tr>\n",
              "      <th>25%</th>\n",
              "      <td>1.100000</td>\n",
              "      <td>1.083858e+04</td>\n",
              "      <td>8.540700e+02</td>\n",
              "      <td>3.008780e+03</td>\n",
              "      <td>0.000000e+00</td>\n",
              "      <td>5.088640e+03</td>\n",
              "      <td>2.849420e+03</td>\n",
              "      <td>1.274700e+02</td>\n",
              "      <td>0.000000</td>\n",
              "      <td>2015.000000</td>\n",
              "      <td>...</td>\n",
              "      <td>0.000000</td>\n",
              "      <td>0.000000</td>\n",
              "      <td>0.000000</td>\n",
              "      <td>0.000000</td>\n",
              "      <td>0.000000</td>\n",
              "      <td>0.000000</td>\n",
              "      <td>0.000000</td>\n",
              "      <td>0.000000</td>\n",
              "      <td>0.000000</td>\n",
              "      <td>0.000000</td>\n",
              "    </tr>\n",
              "    <tr>\n",
              "      <th>50%</th>\n",
              "      <td>1.370000</td>\n",
              "      <td>1.073768e+05</td>\n",
              "      <td>8.645300e+03</td>\n",
              "      <td>2.906102e+04</td>\n",
              "      <td>1.849900e+02</td>\n",
              "      <td>3.974383e+04</td>\n",
              "      <td>2.636282e+04</td>\n",
              "      <td>2.647710e+03</td>\n",
              "      <td>0.000000</td>\n",
              "      <td>2016.000000</td>\n",
              "      <td>...</td>\n",
              "      <td>0.000000</td>\n",
              "      <td>0.000000</td>\n",
              "      <td>0.000000</td>\n",
              "      <td>0.000000</td>\n",
              "      <td>0.000000</td>\n",
              "      <td>0.000000</td>\n",
              "      <td>0.000000</td>\n",
              "      <td>0.000000</td>\n",
              "      <td>0.000000</td>\n",
              "      <td>0.000000</td>\n",
              "    </tr>\n",
              "    <tr>\n",
              "      <th>75%</th>\n",
              "      <td>1.660000</td>\n",
              "      <td>4.329623e+05</td>\n",
              "      <td>1.110202e+05</td>\n",
              "      <td>1.502069e+05</td>\n",
              "      <td>6.243420e+03</td>\n",
              "      <td>1.107834e+05</td>\n",
              "      <td>8.333767e+04</td>\n",
              "      <td>2.202925e+04</td>\n",
              "      <td>132.500000</td>\n",
              "      <td>2017.000000</td>\n",
              "      <td>...</td>\n",
              "      <td>0.000000</td>\n",
              "      <td>0.000000</td>\n",
              "      <td>0.000000</td>\n",
              "      <td>0.000000</td>\n",
              "      <td>0.000000</td>\n",
              "      <td>0.000000</td>\n",
              "      <td>0.000000</td>\n",
              "      <td>0.000000</td>\n",
              "      <td>0.000000</td>\n",
              "      <td>0.000000</td>\n",
              "    </tr>\n",
              "    <tr>\n",
              "      <th>max</th>\n",
              "      <td>3.250000</td>\n",
              "      <td>6.250565e+07</td>\n",
              "      <td>2.274362e+07</td>\n",
              "      <td>2.047057e+07</td>\n",
              "      <td>2.546439e+06</td>\n",
              "      <td>1.937313e+07</td>\n",
              "      <td>1.338459e+07</td>\n",
              "      <td>5.719097e+06</td>\n",
              "      <td>551693.650000</td>\n",
              "      <td>2018.000000</td>\n",
              "      <td>...</td>\n",
              "      <td>1.000000</td>\n",
              "      <td>1.000000</td>\n",
              "      <td>1.000000</td>\n",
              "      <td>1.000000</td>\n",
              "      <td>1.000000</td>\n",
              "      <td>1.000000</td>\n",
              "      <td>1.000000</td>\n",
              "      <td>1.000000</td>\n",
              "      <td>1.000000</td>\n",
              "      <td>1.000000</td>\n",
              "    </tr>\n",
              "  </tbody>\n",
              "</table>\n",
              "<p>8 rows × 66 columns</p>\n",
              "</div>\n",
              "      <button class=\"colab-df-convert\" onclick=\"convertToInteractive('df-fdd6325e-1a71-48df-8924-4feee151dab5')\"\n",
              "              title=\"Convert this dataframe to an interactive table.\"\n",
              "              style=\"display:none;\">\n",
              "        \n",
              "  <svg xmlns=\"http://www.w3.org/2000/svg\" height=\"24px\"viewBox=\"0 0 24 24\"\n",
              "       width=\"24px\">\n",
              "    <path d=\"M0 0h24v24H0V0z\" fill=\"none\"/>\n",
              "    <path d=\"M18.56 5.44l.94 2.06.94-2.06 2.06-.94-2.06-.94-.94-2.06-.94 2.06-2.06.94zm-11 1L8.5 8.5l.94-2.06 2.06-.94-2.06-.94L8.5 2.5l-.94 2.06-2.06.94zm10 10l.94 2.06.94-2.06 2.06-.94-2.06-.94-.94-2.06-.94 2.06-2.06.94z\"/><path d=\"M17.41 7.96l-1.37-1.37c-.4-.4-.92-.59-1.43-.59-.52 0-1.04.2-1.43.59L10.3 9.45l-7.72 7.72c-.78.78-.78 2.05 0 2.83L4 21.41c.39.39.9.59 1.41.59.51 0 1.02-.2 1.41-.59l7.78-7.78 2.81-2.81c.8-.78.8-2.07 0-2.86zM5.41 20L4 18.59l7.72-7.72 1.47 1.35L5.41 20z\"/>\n",
              "  </svg>\n",
              "      </button>\n",
              "      \n",
              "  <style>\n",
              "    .colab-df-container {\n",
              "      display:flex;\n",
              "      flex-wrap:wrap;\n",
              "      gap: 12px;\n",
              "    }\n",
              "\n",
              "    .colab-df-convert {\n",
              "      background-color: #E8F0FE;\n",
              "      border: none;\n",
              "      border-radius: 50%;\n",
              "      cursor: pointer;\n",
              "      display: none;\n",
              "      fill: #1967D2;\n",
              "      height: 32px;\n",
              "      padding: 0 0 0 0;\n",
              "      width: 32px;\n",
              "    }\n",
              "\n",
              "    .colab-df-convert:hover {\n",
              "      background-color: #E2EBFA;\n",
              "      box-shadow: 0px 1px 2px rgba(60, 64, 67, 0.3), 0px 1px 3px 1px rgba(60, 64, 67, 0.15);\n",
              "      fill: #174EA6;\n",
              "    }\n",
              "\n",
              "    [theme=dark] .colab-df-convert {\n",
              "      background-color: #3B4455;\n",
              "      fill: #D2E3FC;\n",
              "    }\n",
              "\n",
              "    [theme=dark] .colab-df-convert:hover {\n",
              "      background-color: #434B5C;\n",
              "      box-shadow: 0px 1px 3px 1px rgba(0, 0, 0, 0.15);\n",
              "      filter: drop-shadow(0px 1px 2px rgba(0, 0, 0, 0.3));\n",
              "      fill: #FFFFFF;\n",
              "    }\n",
              "  </style>\n",
              "\n",
              "      <script>\n",
              "        const buttonEl =\n",
              "          document.querySelector('#df-fdd6325e-1a71-48df-8924-4feee151dab5 button.colab-df-convert');\n",
              "        buttonEl.style.display =\n",
              "          google.colab.kernel.accessAllowed ? 'block' : 'none';\n",
              "\n",
              "        async function convertToInteractive(key) {\n",
              "          const element = document.querySelector('#df-fdd6325e-1a71-48df-8924-4feee151dab5');\n",
              "          const dataTable =\n",
              "            await google.colab.kernel.invokeFunction('convertToInteractive',\n",
              "                                                     [key], {});\n",
              "          if (!dataTable) return;\n",
              "\n",
              "          const docLinkHtml = 'Like what you see? Visit the ' +\n",
              "            '<a target=\"_blank\" href=https://colab.research.google.com/notebooks/data_table.ipynb>data table notebook</a>'\n",
              "            + ' to learn more about interactive tables.';\n",
              "          element.innerHTML = '';\n",
              "          dataTable['output_type'] = 'display_data';\n",
              "          await google.colab.output.renderOutput(dataTable, element);\n",
              "          const docLink = document.createElement('div');\n",
              "          docLink.innerHTML = docLinkHtml;\n",
              "          element.appendChild(docLink);\n",
              "        }\n",
              "      </script>\n",
              "    </div>\n",
              "  </div>\n",
              "  "
            ]
          },
          "metadata": {},
          "execution_count": 172
        }
      ]
    },
    {
      "cell_type": "code",
      "source": [
        "data = data.astype(np.int)"
      ],
      "metadata": {
        "id": "0VQkhoKlC5x2"
      },
      "execution_count": 177,
      "outputs": []
    },
    {
      "cell_type": "code",
      "source": [
        "data['XLarge Bags']"
      ],
      "metadata": {
        "colab": {
          "base_uri": "https://localhost:8080/"
        },
        "id": "zgLvVLjzY7mA",
        "outputId": "9819f546-e311-4449-a958-a2e2f18fd6b4"
      },
      "execution_count": 178,
      "outputs": [
        {
          "output_type": "execute_result",
          "data": {
            "text/plain": [
              "0        0\n",
              "1        0\n",
              "2        0\n",
              "3        0\n",
              "4        0\n",
              "        ..\n",
              "18244    0\n",
              "18245    0\n",
              "18246    0\n",
              "18247    0\n",
              "18248    0\n",
              "Name: XLarge Bags, Length: 18249, dtype: int64"
            ]
          },
          "metadata": {},
          "execution_count": 178
        }
      ]
    },
    {
      "cell_type": "code",
      "source": [
        "data.corr()"
      ],
      "metadata": {
        "colab": {
          "base_uri": "https://localhost:8080/",
          "height": 505
        },
        "id": "-v1zhtytFBFs",
        "outputId": "2d3eef5d-7aa5-4ffd-e198-1610090bda9a"
      },
      "execution_count": 181,
      "outputs": [
        {
          "output_type": "execute_result",
          "data": {
            "text/plain": [
              "                         AveragePrice  Total_Volume  tot_ava1  tot_ava2  \\\n",
              "AveragePrice                 1.000000     -0.154704 -0.179887 -0.126938   \n",
              "Total_Volume                -0.154704      1.000000  0.977863  0.974181   \n",
              "tot_ava1                    -0.179887      0.977863  1.000000  0.926110   \n",
              "tot_ava2                    -0.126938      0.974181  0.926110  1.000000   \n",
              "tot_ava3                    -0.141933      0.872202  0.833389  0.887855   \n",
              "...                               ...           ...       ...       ...   \n",
              "region_Syracuse              0.038192     -0.032549 -0.031714 -0.031517   \n",
              "region_Tampa                -0.003494     -0.026069 -0.020335 -0.030055   \n",
              "region_TotalUS              -0.020509      0.656367  0.628425  0.646471   \n",
              "region_West                 -0.057941      0.094063  0.096246  0.067844   \n",
              "region_WestTexNewMexico     -0.085726     -0.016601 -0.004544 -0.026002   \n",
              "\n",
              "                         tot_ava3  Total_Bags  Small_Bags  Large_Bags  \\\n",
              "AveragePrice            -0.141933   -0.140555   -0.135159   -0.149239   \n",
              "Total_Volume             0.872202    0.963047    0.967238    0.880640   \n",
              "tot_ava1                 0.833389    0.920057    0.925280    0.838645   \n",
              "tot_ava2                 0.887855    0.905787    0.916031    0.810015   \n",
              "tot_ava3                 1.000000    0.792314    0.802733    0.698471   \n",
              "...                           ...         ...         ...         ...   \n",
              "region_Syracuse         -0.029091   -0.031652   -0.031557   -0.029756   \n",
              "region_Tampa            -0.029049   -0.025345   -0.027765   -0.016181   \n",
              "region_TotalUS           0.561470    0.641899    0.643815    0.591779   \n",
              "region_West              0.047791    0.117894    0.087765    0.208520   \n",
              "region_WestTexNewMexico -0.017785   -0.018619   -0.022487   -0.005274   \n",
              "\n",
              "                         XLarge Bags      year  ...  region_SouthCarolina  \\\n",
              "AveragePrice               -0.076810  0.073560  ...              0.011819   \n",
              "Total_Volume                0.747156  0.017193  ...             -0.026687   \n",
              "tot_ava1                    0.699376  0.003353  ...             -0.022692   \n",
              "tot_ava2                    0.688807 -0.009559  ...             -0.029410   \n",
              "tot_ava3                    0.679860 -0.036531  ...             -0.023303   \n",
              "...                              ...       ...  ...                   ...   \n",
              "region_Syracuse            -0.023159  0.000004  ...             -0.018871   \n",
              "region_Tampa               -0.018717  0.000004  ...             -0.018871   \n",
              "region_TotalUS              0.468746  0.000004  ...             -0.018871   \n",
              "region_West                -0.004994  0.000004  ...             -0.018871   \n",
              "region_WestTexNewMexico    -0.016776 -0.000237  ...             -0.018786   \n",
              "\n",
              "                         region_SouthCentral  region_Southeast  \\\n",
              "AveragePrice                       -0.104731         -0.006897   \n",
              "Total_Volume                        0.085177          0.038568   \n",
              "tot_ava1                            0.140087          0.077320   \n",
              "tot_ava2                            0.040737         -0.003005   \n",
              "tot_ava3                            0.055506         -0.017234   \n",
              "...                                      ...               ...   \n",
              "region_Syracuse                    -0.018871         -0.018871   \n",
              "region_Tampa                       -0.018871         -0.018871   \n",
              "region_TotalUS                     -0.018871         -0.018871   \n",
              "region_West                        -0.018871         -0.018871   \n",
              "region_WestTexNewMexico            -0.018786         -0.018786   \n",
              "\n",
              "                         region_Spokane  region_StLouis  region_Syracuse  \\\n",
              "AveragePrice                   0.015222        0.013521         0.038192   \n",
              "Total_Volume                  -0.032005       -0.030063        -0.032549   \n",
              "tot_ava1                      -0.030502       -0.027479        -0.031714   \n",
              "tot_ava2                      -0.032011       -0.032391        -0.031517   \n",
              "tot_ava3                      -0.028137       -0.029097        -0.029091   \n",
              "...                                 ...             ...              ...   \n",
              "region_Syracuse               -0.018871       -0.018871         1.000000   \n",
              "region_Tampa                  -0.018871       -0.018871        -0.018871   \n",
              "region_TotalUS                -0.018871       -0.018871        -0.018871   \n",
              "region_West                   -0.018871       -0.018871        -0.018871   \n",
              "region_WestTexNewMexico       -0.018786       -0.018786        -0.018786   \n",
              "\n",
              "                         region_Tampa  region_TotalUS  region_West  \\\n",
              "AveragePrice                -0.003494       -0.020509    -0.057941   \n",
              "Total_Volume                -0.026069        0.656367     0.094063   \n",
              "tot_ava1                    -0.020335        0.628425     0.096246   \n",
              "tot_ava2                    -0.030055        0.646471     0.067844   \n",
              "tot_ava3                    -0.029049        0.561470     0.047791   \n",
              "...                               ...             ...          ...   \n",
              "region_Syracuse             -0.018871       -0.018871    -0.018871   \n",
              "region_Tampa                 1.000000       -0.018871    -0.018871   \n",
              "region_TotalUS              -0.018871        1.000000    -0.018871   \n",
              "region_West                 -0.018871       -0.018871     1.000000   \n",
              "region_WestTexNewMexico     -0.018786       -0.018786    -0.018786   \n",
              "\n",
              "                         region_WestTexNewMexico  \n",
              "AveragePrice                           -0.085726  \n",
              "Total_Volume                           -0.016601  \n",
              "tot_ava1                               -0.004544  \n",
              "tot_ava2                               -0.026002  \n",
              "tot_ava3                               -0.017785  \n",
              "...                                          ...  \n",
              "region_Syracuse                        -0.018786  \n",
              "region_Tampa                           -0.018786  \n",
              "region_TotalUS                         -0.018786  \n",
              "region_West                            -0.018786  \n",
              "region_WestTexNewMexico                 1.000000  \n",
              "\n",
              "[66 rows x 66 columns]"
            ],
            "text/html": [
              "\n",
              "  <div id=\"df-7dcbd0d0-4907-4eb1-9b0f-51c9f2f10d7d\">\n",
              "    <div class=\"colab-df-container\">\n",
              "      <div>\n",
              "<style scoped>\n",
              "    .dataframe tbody tr th:only-of-type {\n",
              "        vertical-align: middle;\n",
              "    }\n",
              "\n",
              "    .dataframe tbody tr th {\n",
              "        vertical-align: top;\n",
              "    }\n",
              "\n",
              "    .dataframe thead th {\n",
              "        text-align: right;\n",
              "    }\n",
              "</style>\n",
              "<table border=\"1\" class=\"dataframe\">\n",
              "  <thead>\n",
              "    <tr style=\"text-align: right;\">\n",
              "      <th></th>\n",
              "      <th>AveragePrice</th>\n",
              "      <th>Total_Volume</th>\n",
              "      <th>tot_ava1</th>\n",
              "      <th>tot_ava2</th>\n",
              "      <th>tot_ava3</th>\n",
              "      <th>Total_Bags</th>\n",
              "      <th>Small_Bags</th>\n",
              "      <th>Large_Bags</th>\n",
              "      <th>XLarge Bags</th>\n",
              "      <th>year</th>\n",
              "      <th>...</th>\n",
              "      <th>region_SouthCarolina</th>\n",
              "      <th>region_SouthCentral</th>\n",
              "      <th>region_Southeast</th>\n",
              "      <th>region_Spokane</th>\n",
              "      <th>region_StLouis</th>\n",
              "      <th>region_Syracuse</th>\n",
              "      <th>region_Tampa</th>\n",
              "      <th>region_TotalUS</th>\n",
              "      <th>region_West</th>\n",
              "      <th>region_WestTexNewMexico</th>\n",
              "    </tr>\n",
              "  </thead>\n",
              "  <tbody>\n",
              "    <tr>\n",
              "      <th>AveragePrice</th>\n",
              "      <td>1.000000</td>\n",
              "      <td>-0.154704</td>\n",
              "      <td>-0.179887</td>\n",
              "      <td>-0.126938</td>\n",
              "      <td>-0.141933</td>\n",
              "      <td>-0.140555</td>\n",
              "      <td>-0.135159</td>\n",
              "      <td>-0.149239</td>\n",
              "      <td>-0.076810</td>\n",
              "      <td>0.073560</td>\n",
              "      <td>...</td>\n",
              "      <td>0.011819</td>\n",
              "      <td>-0.104731</td>\n",
              "      <td>-0.006897</td>\n",
              "      <td>0.015222</td>\n",
              "      <td>0.013521</td>\n",
              "      <td>0.038192</td>\n",
              "      <td>-0.003494</td>\n",
              "      <td>-0.020509</td>\n",
              "      <td>-0.057941</td>\n",
              "      <td>-0.085726</td>\n",
              "    </tr>\n",
              "    <tr>\n",
              "      <th>Total_Volume</th>\n",
              "      <td>-0.154704</td>\n",
              "      <td>1.000000</td>\n",
              "      <td>0.977863</td>\n",
              "      <td>0.974181</td>\n",
              "      <td>0.872202</td>\n",
              "      <td>0.963047</td>\n",
              "      <td>0.967238</td>\n",
              "      <td>0.880640</td>\n",
              "      <td>0.747156</td>\n",
              "      <td>0.017193</td>\n",
              "      <td>...</td>\n",
              "      <td>-0.026687</td>\n",
              "      <td>0.085177</td>\n",
              "      <td>0.038568</td>\n",
              "      <td>-0.032005</td>\n",
              "      <td>-0.030063</td>\n",
              "      <td>-0.032549</td>\n",
              "      <td>-0.026069</td>\n",
              "      <td>0.656367</td>\n",
              "      <td>0.094063</td>\n",
              "      <td>-0.016601</td>\n",
              "    </tr>\n",
              "    <tr>\n",
              "      <th>tot_ava1</th>\n",
              "      <td>-0.179887</td>\n",
              "      <td>0.977863</td>\n",
              "      <td>1.000000</td>\n",
              "      <td>0.926110</td>\n",
              "      <td>0.833389</td>\n",
              "      <td>0.920057</td>\n",
              "      <td>0.925280</td>\n",
              "      <td>0.838645</td>\n",
              "      <td>0.699376</td>\n",
              "      <td>0.003353</td>\n",
              "      <td>...</td>\n",
              "      <td>-0.022692</td>\n",
              "      <td>0.140087</td>\n",
              "      <td>0.077320</td>\n",
              "      <td>-0.030502</td>\n",
              "      <td>-0.027479</td>\n",
              "      <td>-0.031714</td>\n",
              "      <td>-0.020335</td>\n",
              "      <td>0.628425</td>\n",
              "      <td>0.096246</td>\n",
              "      <td>-0.004544</td>\n",
              "    </tr>\n",
              "    <tr>\n",
              "      <th>tot_ava2</th>\n",
              "      <td>-0.126938</td>\n",
              "      <td>0.974181</td>\n",
              "      <td>0.926110</td>\n",
              "      <td>1.000000</td>\n",
              "      <td>0.887855</td>\n",
              "      <td>0.905787</td>\n",
              "      <td>0.916031</td>\n",
              "      <td>0.810015</td>\n",
              "      <td>0.688807</td>\n",
              "      <td>-0.009559</td>\n",
              "      <td>...</td>\n",
              "      <td>-0.029410</td>\n",
              "      <td>0.040737</td>\n",
              "      <td>-0.003005</td>\n",
              "      <td>-0.032011</td>\n",
              "      <td>-0.032391</td>\n",
              "      <td>-0.031517</td>\n",
              "      <td>-0.030055</td>\n",
              "      <td>0.646471</td>\n",
              "      <td>0.067844</td>\n",
              "      <td>-0.026002</td>\n",
              "    </tr>\n",
              "    <tr>\n",
              "      <th>tot_ava3</th>\n",
              "      <td>-0.141933</td>\n",
              "      <td>0.872202</td>\n",
              "      <td>0.833389</td>\n",
              "      <td>0.887855</td>\n",
              "      <td>1.000000</td>\n",
              "      <td>0.792314</td>\n",
              "      <td>0.802733</td>\n",
              "      <td>0.698471</td>\n",
              "      <td>0.679860</td>\n",
              "      <td>-0.036531</td>\n",
              "      <td>...</td>\n",
              "      <td>-0.023303</td>\n",
              "      <td>0.055506</td>\n",
              "      <td>-0.017234</td>\n",
              "      <td>-0.028137</td>\n",
              "      <td>-0.029097</td>\n",
              "      <td>-0.029091</td>\n",
              "      <td>-0.029049</td>\n",
              "      <td>0.561470</td>\n",
              "      <td>0.047791</td>\n",
              "      <td>-0.017785</td>\n",
              "    </tr>\n",
              "    <tr>\n",
              "      <th>...</th>\n",
              "      <td>...</td>\n",
              "      <td>...</td>\n",
              "      <td>...</td>\n",
              "      <td>...</td>\n",
              "      <td>...</td>\n",
              "      <td>...</td>\n",
              "      <td>...</td>\n",
              "      <td>...</td>\n",
              "      <td>...</td>\n",
              "      <td>...</td>\n",
              "      <td>...</td>\n",
              "      <td>...</td>\n",
              "      <td>...</td>\n",
              "      <td>...</td>\n",
              "      <td>...</td>\n",
              "      <td>...</td>\n",
              "      <td>...</td>\n",
              "      <td>...</td>\n",
              "      <td>...</td>\n",
              "      <td>...</td>\n",
              "      <td>...</td>\n",
              "    </tr>\n",
              "    <tr>\n",
              "      <th>region_Syracuse</th>\n",
              "      <td>0.038192</td>\n",
              "      <td>-0.032549</td>\n",
              "      <td>-0.031714</td>\n",
              "      <td>-0.031517</td>\n",
              "      <td>-0.029091</td>\n",
              "      <td>-0.031652</td>\n",
              "      <td>-0.031557</td>\n",
              "      <td>-0.029756</td>\n",
              "      <td>-0.023159</td>\n",
              "      <td>0.000004</td>\n",
              "      <td>...</td>\n",
              "      <td>-0.018871</td>\n",
              "      <td>-0.018871</td>\n",
              "      <td>-0.018871</td>\n",
              "      <td>-0.018871</td>\n",
              "      <td>-0.018871</td>\n",
              "      <td>1.000000</td>\n",
              "      <td>-0.018871</td>\n",
              "      <td>-0.018871</td>\n",
              "      <td>-0.018871</td>\n",
              "      <td>-0.018786</td>\n",
              "    </tr>\n",
              "    <tr>\n",
              "      <th>region_Tampa</th>\n",
              "      <td>-0.003494</td>\n",
              "      <td>-0.026069</td>\n",
              "      <td>-0.020335</td>\n",
              "      <td>-0.030055</td>\n",
              "      <td>-0.029049</td>\n",
              "      <td>-0.025345</td>\n",
              "      <td>-0.027765</td>\n",
              "      <td>-0.016181</td>\n",
              "      <td>-0.018717</td>\n",
              "      <td>0.000004</td>\n",
              "      <td>...</td>\n",
              "      <td>-0.018871</td>\n",
              "      <td>-0.018871</td>\n",
              "      <td>-0.018871</td>\n",
              "      <td>-0.018871</td>\n",
              "      <td>-0.018871</td>\n",
              "      <td>-0.018871</td>\n",
              "      <td>1.000000</td>\n",
              "      <td>-0.018871</td>\n",
              "      <td>-0.018871</td>\n",
              "      <td>-0.018786</td>\n",
              "    </tr>\n",
              "    <tr>\n",
              "      <th>region_TotalUS</th>\n",
              "      <td>-0.020509</td>\n",
              "      <td>0.656367</td>\n",
              "      <td>0.628425</td>\n",
              "      <td>0.646471</td>\n",
              "      <td>0.561470</td>\n",
              "      <td>0.641899</td>\n",
              "      <td>0.643815</td>\n",
              "      <td>0.591779</td>\n",
              "      <td>0.468746</td>\n",
              "      <td>0.000004</td>\n",
              "      <td>...</td>\n",
              "      <td>-0.018871</td>\n",
              "      <td>-0.018871</td>\n",
              "      <td>-0.018871</td>\n",
              "      <td>-0.018871</td>\n",
              "      <td>-0.018871</td>\n",
              "      <td>-0.018871</td>\n",
              "      <td>-0.018871</td>\n",
              "      <td>1.000000</td>\n",
              "      <td>-0.018871</td>\n",
              "      <td>-0.018786</td>\n",
              "    </tr>\n",
              "    <tr>\n",
              "      <th>region_West</th>\n",
              "      <td>-0.057941</td>\n",
              "      <td>0.094063</td>\n",
              "      <td>0.096246</td>\n",
              "      <td>0.067844</td>\n",
              "      <td>0.047791</td>\n",
              "      <td>0.117894</td>\n",
              "      <td>0.087765</td>\n",
              "      <td>0.208520</td>\n",
              "      <td>-0.004994</td>\n",
              "      <td>0.000004</td>\n",
              "      <td>...</td>\n",
              "      <td>-0.018871</td>\n",
              "      <td>-0.018871</td>\n",
              "      <td>-0.018871</td>\n",
              "      <td>-0.018871</td>\n",
              "      <td>-0.018871</td>\n",
              "      <td>-0.018871</td>\n",
              "      <td>-0.018871</td>\n",
              "      <td>-0.018871</td>\n",
              "      <td>1.000000</td>\n",
              "      <td>-0.018786</td>\n",
              "    </tr>\n",
              "    <tr>\n",
              "      <th>region_WestTexNewMexico</th>\n",
              "      <td>-0.085726</td>\n",
              "      <td>-0.016601</td>\n",
              "      <td>-0.004544</td>\n",
              "      <td>-0.026002</td>\n",
              "      <td>-0.017785</td>\n",
              "      <td>-0.018619</td>\n",
              "      <td>-0.022487</td>\n",
              "      <td>-0.005274</td>\n",
              "      <td>-0.016776</td>\n",
              "      <td>-0.000237</td>\n",
              "      <td>...</td>\n",
              "      <td>-0.018786</td>\n",
              "      <td>-0.018786</td>\n",
              "      <td>-0.018786</td>\n",
              "      <td>-0.018786</td>\n",
              "      <td>-0.018786</td>\n",
              "      <td>-0.018786</td>\n",
              "      <td>-0.018786</td>\n",
              "      <td>-0.018786</td>\n",
              "      <td>-0.018786</td>\n",
              "      <td>1.000000</td>\n",
              "    </tr>\n",
              "  </tbody>\n",
              "</table>\n",
              "<p>66 rows × 66 columns</p>\n",
              "</div>\n",
              "      <button class=\"colab-df-convert\" onclick=\"convertToInteractive('df-7dcbd0d0-4907-4eb1-9b0f-51c9f2f10d7d')\"\n",
              "              title=\"Convert this dataframe to an interactive table.\"\n",
              "              style=\"display:none;\">\n",
              "        \n",
              "  <svg xmlns=\"http://www.w3.org/2000/svg\" height=\"24px\"viewBox=\"0 0 24 24\"\n",
              "       width=\"24px\">\n",
              "    <path d=\"M0 0h24v24H0V0z\" fill=\"none\"/>\n",
              "    <path d=\"M18.56 5.44l.94 2.06.94-2.06 2.06-.94-2.06-.94-.94-2.06-.94 2.06-2.06.94zm-11 1L8.5 8.5l.94-2.06 2.06-.94-2.06-.94L8.5 2.5l-.94 2.06-2.06.94zm10 10l.94 2.06.94-2.06 2.06-.94-2.06-.94-.94-2.06-.94 2.06-2.06.94z\"/><path d=\"M17.41 7.96l-1.37-1.37c-.4-.4-.92-.59-1.43-.59-.52 0-1.04.2-1.43.59L10.3 9.45l-7.72 7.72c-.78.78-.78 2.05 0 2.83L4 21.41c.39.39.9.59 1.41.59.51 0 1.02-.2 1.41-.59l7.78-7.78 2.81-2.81c.8-.78.8-2.07 0-2.86zM5.41 20L4 18.59l7.72-7.72 1.47 1.35L5.41 20z\"/>\n",
              "  </svg>\n",
              "      </button>\n",
              "      \n",
              "  <style>\n",
              "    .colab-df-container {\n",
              "      display:flex;\n",
              "      flex-wrap:wrap;\n",
              "      gap: 12px;\n",
              "    }\n",
              "\n",
              "    .colab-df-convert {\n",
              "      background-color: #E8F0FE;\n",
              "      border: none;\n",
              "      border-radius: 50%;\n",
              "      cursor: pointer;\n",
              "      display: none;\n",
              "      fill: #1967D2;\n",
              "      height: 32px;\n",
              "      padding: 0 0 0 0;\n",
              "      width: 32px;\n",
              "    }\n",
              "\n",
              "    .colab-df-convert:hover {\n",
              "      background-color: #E2EBFA;\n",
              "      box-shadow: 0px 1px 2px rgba(60, 64, 67, 0.3), 0px 1px 3px 1px rgba(60, 64, 67, 0.15);\n",
              "      fill: #174EA6;\n",
              "    }\n",
              "\n",
              "    [theme=dark] .colab-df-convert {\n",
              "      background-color: #3B4455;\n",
              "      fill: #D2E3FC;\n",
              "    }\n",
              "\n",
              "    [theme=dark] .colab-df-convert:hover {\n",
              "      background-color: #434B5C;\n",
              "      box-shadow: 0px 1px 3px 1px rgba(0, 0, 0, 0.15);\n",
              "      filter: drop-shadow(0px 1px 2px rgba(0, 0, 0, 0.3));\n",
              "      fill: #FFFFFF;\n",
              "    }\n",
              "  </style>\n",
              "\n",
              "      <script>\n",
              "        const buttonEl =\n",
              "          document.querySelector('#df-7dcbd0d0-4907-4eb1-9b0f-51c9f2f10d7d button.colab-df-convert');\n",
              "        buttonEl.style.display =\n",
              "          google.colab.kernel.accessAllowed ? 'block' : 'none';\n",
              "\n",
              "        async function convertToInteractive(key) {\n",
              "          const element = document.querySelector('#df-7dcbd0d0-4907-4eb1-9b0f-51c9f2f10d7d');\n",
              "          const dataTable =\n",
              "            await google.colab.kernel.invokeFunction('convertToInteractive',\n",
              "                                                     [key], {});\n",
              "          if (!dataTable) return;\n",
              "\n",
              "          const docLinkHtml = 'Like what you see? Visit the ' +\n",
              "            '<a target=\"_blank\" href=https://colab.research.google.com/notebooks/data_table.ipynb>data table notebook</a>'\n",
              "            + ' to learn more about interactive tables.';\n",
              "          element.innerHTML = '';\n",
              "          dataTable['output_type'] = 'display_data';\n",
              "          await google.colab.output.renderOutput(dataTable, element);\n",
              "          const docLink = document.createElement('div');\n",
              "          docLink.innerHTML = docLinkHtml;\n",
              "          element.appendChild(docLink);\n",
              "        }\n",
              "      </script>\n",
              "    </div>\n",
              "  </div>\n",
              "  "
            ]
          },
          "metadata": {},
          "execution_count": 181
        }
      ]
    },
    {
      "cell_type": "code",
      "source": [
        "# Renaming the col name\n",
        "data = data.rename(columns = {'XLarge Bags': 'XL_Bags'})"
      ],
      "metadata": {
        "id": "jpKqzSPodhuF"
      },
      "execution_count": 182,
      "outputs": []
    },
    {
      "cell_type": "code",
      "source": [
        "m1 = 'AveragePrice ~ Total_Volume + tot_ava1 + tot_ava2 + tot_ava3 + Total_Bags + Small_Bags + Large_Bags + XL_Bags + year + type_conventional + type_organic + region_Albany + region_Atlanta +region_BaltimoreWashington + region_Boise + region_Boston + region_BuffaloRochester + region_California + region_Charlotte + region_Chicago + region_CincinnatiDayton + region_Columbus + region_DallasFtWorth + region_Denver + region_Detroit + region_GrandRapids + region_GreatLakes + region_HarrisburgScranton + region_HartfordSpringfield + region_Houston + region_Indianapolis + region_Jacksonville + region_LasVegas + region_LosAngeles + region_Louisville + region_MiamiFtLauderdale + region_Midsouth + region_Nashville + region_NewOrleansMobile + region_NewYork + region_Northeast + region_NorthernNewEngland + region_Orlando + region_Philadelphia + region_PhoenixTucson + region_Pittsburgh + region_Plains + region_Portland + region_RaleighGreensboro + region_RichmondNorfolk + region_Roanoke + region_Sacramento + region_SanDiego + region_SanFrancisco + region_Seattle + region_SouthCarolina + region_SouthCentral + region_Southeast + region_Spokane + region_StLouis + region_Syracuse + region_Tampa + region_TotalUS + region_West + region_WestTexNewMexico'"
      ],
      "metadata": {
        "id": "ym0OCCKLFjGR"
      },
      "execution_count": 183,
      "outputs": []
    },
    {
      "cell_type": "code",
      "source": [
        "# Importing the Multi Linear Regression\n",
        "\n",
        "import statsmodels.formula.api as smf\n",
        "\n",
        "model = smf.ols(m1, data = data).fit()\n",
        "model.summary()"
      ],
      "metadata": {
        "colab": {
          "base_uri": "https://localhost:8080/",
          "height": 1000
        },
        "id": "t-wDo7UaFOSt",
        "outputId": "c00f97cc-8ae5-435f-d739-a4b9f20a48a2"
      },
      "execution_count": 184,
      "outputs": [
        {
          "output_type": "execute_result",
          "data": {
            "text/plain": [
              "<class 'statsmodels.iolib.summary.Summary'>\n",
              "\"\"\"\n",
              "                            OLS Regression Results                            \n",
              "==============================================================================\n",
              "Dep. Variable:           AveragePrice   R-squared:                       0.347\n",
              "Model:                            OLS   Adj. R-squared:                  0.345\n",
              "Method:                 Least Squares   F-statistic:                     153.5\n",
              "Date:                Fri, 25 Nov 2022   Prob (F-statistic):               0.00\n",
              "Time:                        06:32:24   Log-Likelihood:                -8523.8\n",
              "No. Observations:               18249   AIC:                         1.718e+04\n",
              "Df Residuals:                   18185   BIC:                         1.768e+04\n",
              "Df Model:                          63                                         \n",
              "Covariance Type:            nonrobust                                         \n",
              "==============================================================================================\n",
              "                                 coef    std err          t      P>|t|      [0.025      0.975]\n",
              "----------------------------------------------------------------------------------------------\n",
              "Intercept                    -49.1995      4.175    -11.784      0.000     -57.383     -41.016\n",
              "Total_Volume                  -0.0001   5.97e-05     -2.164      0.030      -0.000   -1.22e-05\n",
              "tot_ava1                       0.0001   5.97e-05      2.163      0.031    1.21e-05       0.000\n",
              "tot_ava2                       0.0001   5.97e-05      2.165      0.030    1.22e-05       0.000\n",
              "tot_ava3                       0.0001   5.97e-05      2.157      0.031    1.18e-05       0.000\n",
              "Total_Bags                    -0.0122      0.005     -2.289      0.022      -0.023      -0.002\n",
              "Small_Bags                     0.0124      0.005      2.313      0.021       0.002       0.023\n",
              "Large_Bags                     0.0124      0.005      2.313      0.021       0.002       0.023\n",
              "XL_Bags                        0.0124      0.005      2.314      0.021       0.002       0.023\n",
              "year                           0.0375      0.003     11.931      0.000       0.031       0.044\n",
              "type_conventional            -24.7950      2.087    -11.878      0.000     -28.886     -20.704\n",
              "type_organic                 -24.4045      2.088    -11.690      0.000     -28.497     -20.313\n",
              "region_Albany                 -0.8192      0.080    -10.201      0.000      -0.977      -0.662\n",
              "region_Atlanta                -0.9743      0.080    -12.169      0.000      -1.131      -0.817\n",
              "region_BaltimoreWashington    -0.7823      0.080     -9.762      0.000      -0.939      -0.625\n",
              "region_Boise                  -0.9642      0.080    -12.039      0.000      -1.121      -0.807\n",
              "region_Boston                 -0.7579      0.080     -9.445      0.000      -0.915      -0.601\n",
              "region_BuffaloRochester       -0.7835      0.080     -9.763      0.000      -0.941      -0.626\n",
              "region_California             -0.9522      0.080    -11.834      0.000      -1.110      -0.795\n",
              "region_Charlotte              -0.7094      0.080     -8.839      0.000      -0.867      -0.552\n",
              "region_Chicago                -0.7682      0.080     -9.552      0.000      -0.926      -0.611\n",
              "region_CincinnatiDayton       -1.1211      0.080    -14.018      0.000      -1.278      -0.964\n",
              "region_Columbus               -1.0521      0.080    -13.146      0.000      -1.209      -0.895\n",
              "region_DallasFtWorth          -1.2878      0.080    -16.069      0.000      -1.445      -1.131\n",
              "region_Denver                 -1.0542      0.080    -13.178      0.000      -1.211      -0.897\n",
              "region_Detroit                -1.0279      0.080    -12.842      0.000      -1.185      -0.871\n",
              "region_GrandRapids            -0.8421      0.080    -10.514      0.000      -0.999      -0.685\n",
              "region_GreatLakes             -0.9134      0.080    -11.377      0.000      -1.071      -0.756\n",
              "region_HarrisburgScranton     -0.7714      0.080     -9.624      0.000      -0.929      -0.614\n",
              "region_HartfordSpringfield    -0.4383      0.080     -5.466      0.000      -0.595      -0.281\n",
              "region_Houston                -1.3532      0.080    -16.871      0.000      -1.510      -1.196\n",
              "region_Indianapolis           -0.9801      0.080    -12.250      0.000      -1.137      -0.823\n",
              "region_Jacksonville           -0.8372      0.080    -10.441      0.000      -0.994      -0.680\n",
              "region_LasVegas               -0.9731      0.080    -12.145      0.000      -1.130      -0.816\n",
              "region_LosAngeles             -1.1090      0.080    -13.849      0.000      -1.266      -0.952\n",
              "region_Louisville             -1.0018      0.080    -12.512      0.000      -1.159      -0.845\n",
              "region_MiamiFtLauderdale      -0.8964      0.080    -11.184      0.000      -1.054      -0.739\n",
              "region_Midsouth               -0.8616      0.080    -10.766      0.000      -1.019      -0.705\n",
              "region_Nashville              -1.1439      0.080    -14.282      0.000      -1.301      -0.987\n",
              "region_NewOrleansMobile       -1.0236      0.080    -12.769      0.000      -1.181      -0.866\n",
              "region_NewYork                -0.5757      0.080     -7.184      0.000      -0.733      -0.419\n",
              "region_Northeast              -0.8501      0.081    -10.514      0.000      -1.009      -0.692\n",
              "region_NorthernNewEngland     -0.8827      0.080    -10.983      0.000      -1.040      -0.725\n",
              "region_Orlando                -0.8431      0.080    -10.518      0.000      -1.000      -0.686\n",
              "region_Philadelphia           -0.7158      0.080     -8.933      0.000      -0.873      -0.559\n",
              "region_PhoenixTucson          -1.1899      0.080    -14.836      0.000      -1.347      -1.033\n",
              "region_Pittsburgh             -0.8803      0.080    -10.976      0.000      -1.038      -0.723\n",
              "region_Plains                 -0.8851      0.080    -11.058      0.000      -1.042      -0.728\n",
              "region_Portland               -1.0413      0.080    -13.025      0.000      -1.198      -0.885\n",
              "region_RaleighGreensboro      -0.7586      0.080     -9.464      0.000      -0.916      -0.601\n",
              "region_RichmondNorfolk        -0.9453      0.080    -11.792      0.000      -1.102      -0.788\n",
              "region_Roanoke                -1.0068      0.080    -12.565      0.000      -1.164      -0.850\n",
              "region_Sacramento             -0.6456      0.080     -8.038      0.000      -0.803      -0.488\n",
              "region_SanDiego               -0.9357      0.080    -11.668      0.000      -1.093      -0.779\n",
              "region_SanFrancisco           -0.5126      0.080     -6.384      0.000      -0.670      -0.355\n",
              "region_Seattle                -0.8633      0.080    -10.802      0.000      -1.020      -0.707\n",
              "region_SouthCarolina          -0.8711      0.080    -10.872      0.000      -1.028      -0.714\n",
              "region_SouthCentral           -1.2046      0.081    -14.955      0.000      -1.362      -1.047\n",
              "region_Southeast              -0.8734      0.080    -10.915      0.000      -1.030      -0.717\n",
              "region_Spokane                -0.8648      0.080    -10.785      0.000      -1.022      -0.708\n",
              "region_StLouis                -0.8691      0.080    -10.850      0.000      -1.026      -0.712\n",
              "region_Syracuse               -0.7882      0.080     -9.818      0.000      -0.946      -0.631\n",
              "region_Tampa                  -0.9232      0.080    -11.513      0.000      -1.080      -0.766\n",
              "region_TotalUS                -0.8615      0.082    -10.544      0.000      -1.022      -0.701\n",
              "region_West                   -1.0182      0.080    -12.764      0.000      -1.175      -0.862\n",
              "region_WestTexNewMexico       -1.1939      0.080    -14.898      0.000      -1.351      -1.037\n",
              "==============================================================================\n",
              "Omnibus:                      138.965   Durbin-Watson:                   0.896\n",
              "Prob(Omnibus):                  0.000   Jarque-Bera (JB):              218.524\n",
              "Skew:                           0.002   Prob(JB):                     3.53e-48\n",
              "Kurtosis:                       3.536   Cond. No.                     9.70e+22\n",
              "==============================================================================\n",
              "\n",
              "Notes:\n",
              "[1] Standard Errors assume that the covariance matrix of the errors is correctly specified.\n",
              "[2] The smallest eigenvalue is 3.36e-29. This might indicate that there are\n",
              "strong multicollinearity problems or that the design matrix is singular.\n",
              "\"\"\""
            ],
            "text/html": [
              "<table class=\"simpletable\">\n",
              "<caption>OLS Regression Results</caption>\n",
              "<tr>\n",
              "  <th>Dep. Variable:</th>      <td>AveragePrice</td>   <th>  R-squared:         </th> <td>   0.347</td> \n",
              "</tr>\n",
              "<tr>\n",
              "  <th>Model:</th>                   <td>OLS</td>       <th>  Adj. R-squared:    </th> <td>   0.345</td> \n",
              "</tr>\n",
              "<tr>\n",
              "  <th>Method:</th>             <td>Least Squares</td>  <th>  F-statistic:       </th> <td>   153.5</td> \n",
              "</tr>\n",
              "<tr>\n",
              "  <th>Date:</th>             <td>Fri, 25 Nov 2022</td> <th>  Prob (F-statistic):</th>  <td>  0.00</td>  \n",
              "</tr>\n",
              "<tr>\n",
              "  <th>Time:</th>                 <td>06:32:24</td>     <th>  Log-Likelihood:    </th> <td> -8523.8</td> \n",
              "</tr>\n",
              "<tr>\n",
              "  <th>No. Observations:</th>      <td> 18249</td>      <th>  AIC:               </th> <td>1.718e+04</td>\n",
              "</tr>\n",
              "<tr>\n",
              "  <th>Df Residuals:</th>          <td> 18185</td>      <th>  BIC:               </th> <td>1.768e+04</td>\n",
              "</tr>\n",
              "<tr>\n",
              "  <th>Df Model:</th>              <td>    63</td>      <th>                     </th>     <td> </td>    \n",
              "</tr>\n",
              "<tr>\n",
              "  <th>Covariance Type:</th>      <td>nonrobust</td>    <th>                     </th>     <td> </td>    \n",
              "</tr>\n",
              "</table>\n",
              "<table class=\"simpletable\">\n",
              "<tr>\n",
              "               <td></td>                 <th>coef</th>     <th>std err</th>      <th>t</th>      <th>P>|t|</th>  <th>[0.025</th>    <th>0.975]</th>  \n",
              "</tr>\n",
              "<tr>\n",
              "  <th>Intercept</th>                  <td>  -49.1995</td> <td>    4.175</td> <td>  -11.784</td> <td> 0.000</td> <td>  -57.383</td> <td>  -41.016</td>\n",
              "</tr>\n",
              "<tr>\n",
              "  <th>Total_Volume</th>               <td>   -0.0001</td> <td> 5.97e-05</td> <td>   -2.164</td> <td> 0.030</td> <td>   -0.000</td> <td>-1.22e-05</td>\n",
              "</tr>\n",
              "<tr>\n",
              "  <th>tot_ava1</th>                   <td>    0.0001</td> <td> 5.97e-05</td> <td>    2.163</td> <td> 0.031</td> <td> 1.21e-05</td> <td>    0.000</td>\n",
              "</tr>\n",
              "<tr>\n",
              "  <th>tot_ava2</th>                   <td>    0.0001</td> <td> 5.97e-05</td> <td>    2.165</td> <td> 0.030</td> <td> 1.22e-05</td> <td>    0.000</td>\n",
              "</tr>\n",
              "<tr>\n",
              "  <th>tot_ava3</th>                   <td>    0.0001</td> <td> 5.97e-05</td> <td>    2.157</td> <td> 0.031</td> <td> 1.18e-05</td> <td>    0.000</td>\n",
              "</tr>\n",
              "<tr>\n",
              "  <th>Total_Bags</th>                 <td>   -0.0122</td> <td>    0.005</td> <td>   -2.289</td> <td> 0.022</td> <td>   -0.023</td> <td>   -0.002</td>\n",
              "</tr>\n",
              "<tr>\n",
              "  <th>Small_Bags</th>                 <td>    0.0124</td> <td>    0.005</td> <td>    2.313</td> <td> 0.021</td> <td>    0.002</td> <td>    0.023</td>\n",
              "</tr>\n",
              "<tr>\n",
              "  <th>Large_Bags</th>                 <td>    0.0124</td> <td>    0.005</td> <td>    2.313</td> <td> 0.021</td> <td>    0.002</td> <td>    0.023</td>\n",
              "</tr>\n",
              "<tr>\n",
              "  <th>XL_Bags</th>                    <td>    0.0124</td> <td>    0.005</td> <td>    2.314</td> <td> 0.021</td> <td>    0.002</td> <td>    0.023</td>\n",
              "</tr>\n",
              "<tr>\n",
              "  <th>year</th>                       <td>    0.0375</td> <td>    0.003</td> <td>   11.931</td> <td> 0.000</td> <td>    0.031</td> <td>    0.044</td>\n",
              "</tr>\n",
              "<tr>\n",
              "  <th>type_conventional</th>          <td>  -24.7950</td> <td>    2.087</td> <td>  -11.878</td> <td> 0.000</td> <td>  -28.886</td> <td>  -20.704</td>\n",
              "</tr>\n",
              "<tr>\n",
              "  <th>type_organic</th>               <td>  -24.4045</td> <td>    2.088</td> <td>  -11.690</td> <td> 0.000</td> <td>  -28.497</td> <td>  -20.313</td>\n",
              "</tr>\n",
              "<tr>\n",
              "  <th>region_Albany</th>              <td>   -0.8192</td> <td>    0.080</td> <td>  -10.201</td> <td> 0.000</td> <td>   -0.977</td> <td>   -0.662</td>\n",
              "</tr>\n",
              "<tr>\n",
              "  <th>region_Atlanta</th>             <td>   -0.9743</td> <td>    0.080</td> <td>  -12.169</td> <td> 0.000</td> <td>   -1.131</td> <td>   -0.817</td>\n",
              "</tr>\n",
              "<tr>\n",
              "  <th>region_BaltimoreWashington</th> <td>   -0.7823</td> <td>    0.080</td> <td>   -9.762</td> <td> 0.000</td> <td>   -0.939</td> <td>   -0.625</td>\n",
              "</tr>\n",
              "<tr>\n",
              "  <th>region_Boise</th>               <td>   -0.9642</td> <td>    0.080</td> <td>  -12.039</td> <td> 0.000</td> <td>   -1.121</td> <td>   -0.807</td>\n",
              "</tr>\n",
              "<tr>\n",
              "  <th>region_Boston</th>              <td>   -0.7579</td> <td>    0.080</td> <td>   -9.445</td> <td> 0.000</td> <td>   -0.915</td> <td>   -0.601</td>\n",
              "</tr>\n",
              "<tr>\n",
              "  <th>region_BuffaloRochester</th>    <td>   -0.7835</td> <td>    0.080</td> <td>   -9.763</td> <td> 0.000</td> <td>   -0.941</td> <td>   -0.626</td>\n",
              "</tr>\n",
              "<tr>\n",
              "  <th>region_California</th>          <td>   -0.9522</td> <td>    0.080</td> <td>  -11.834</td> <td> 0.000</td> <td>   -1.110</td> <td>   -0.795</td>\n",
              "</tr>\n",
              "<tr>\n",
              "  <th>region_Charlotte</th>           <td>   -0.7094</td> <td>    0.080</td> <td>   -8.839</td> <td> 0.000</td> <td>   -0.867</td> <td>   -0.552</td>\n",
              "</tr>\n",
              "<tr>\n",
              "  <th>region_Chicago</th>             <td>   -0.7682</td> <td>    0.080</td> <td>   -9.552</td> <td> 0.000</td> <td>   -0.926</td> <td>   -0.611</td>\n",
              "</tr>\n",
              "<tr>\n",
              "  <th>region_CincinnatiDayton</th>    <td>   -1.1211</td> <td>    0.080</td> <td>  -14.018</td> <td> 0.000</td> <td>   -1.278</td> <td>   -0.964</td>\n",
              "</tr>\n",
              "<tr>\n",
              "  <th>region_Columbus</th>            <td>   -1.0521</td> <td>    0.080</td> <td>  -13.146</td> <td> 0.000</td> <td>   -1.209</td> <td>   -0.895</td>\n",
              "</tr>\n",
              "<tr>\n",
              "  <th>region_DallasFtWorth</th>       <td>   -1.2878</td> <td>    0.080</td> <td>  -16.069</td> <td> 0.000</td> <td>   -1.445</td> <td>   -1.131</td>\n",
              "</tr>\n",
              "<tr>\n",
              "  <th>region_Denver</th>              <td>   -1.0542</td> <td>    0.080</td> <td>  -13.178</td> <td> 0.000</td> <td>   -1.211</td> <td>   -0.897</td>\n",
              "</tr>\n",
              "<tr>\n",
              "  <th>region_Detroit</th>             <td>   -1.0279</td> <td>    0.080</td> <td>  -12.842</td> <td> 0.000</td> <td>   -1.185</td> <td>   -0.871</td>\n",
              "</tr>\n",
              "<tr>\n",
              "  <th>region_GrandRapids</th>         <td>   -0.8421</td> <td>    0.080</td> <td>  -10.514</td> <td> 0.000</td> <td>   -0.999</td> <td>   -0.685</td>\n",
              "</tr>\n",
              "<tr>\n",
              "  <th>region_GreatLakes</th>          <td>   -0.9134</td> <td>    0.080</td> <td>  -11.377</td> <td> 0.000</td> <td>   -1.071</td> <td>   -0.756</td>\n",
              "</tr>\n",
              "<tr>\n",
              "  <th>region_HarrisburgScranton</th>  <td>   -0.7714</td> <td>    0.080</td> <td>   -9.624</td> <td> 0.000</td> <td>   -0.929</td> <td>   -0.614</td>\n",
              "</tr>\n",
              "<tr>\n",
              "  <th>region_HartfordSpringfield</th> <td>   -0.4383</td> <td>    0.080</td> <td>   -5.466</td> <td> 0.000</td> <td>   -0.595</td> <td>   -0.281</td>\n",
              "</tr>\n",
              "<tr>\n",
              "  <th>region_Houston</th>             <td>   -1.3532</td> <td>    0.080</td> <td>  -16.871</td> <td> 0.000</td> <td>   -1.510</td> <td>   -1.196</td>\n",
              "</tr>\n",
              "<tr>\n",
              "  <th>region_Indianapolis</th>        <td>   -0.9801</td> <td>    0.080</td> <td>  -12.250</td> <td> 0.000</td> <td>   -1.137</td> <td>   -0.823</td>\n",
              "</tr>\n",
              "<tr>\n",
              "  <th>region_Jacksonville</th>        <td>   -0.8372</td> <td>    0.080</td> <td>  -10.441</td> <td> 0.000</td> <td>   -0.994</td> <td>   -0.680</td>\n",
              "</tr>\n",
              "<tr>\n",
              "  <th>region_LasVegas</th>            <td>   -0.9731</td> <td>    0.080</td> <td>  -12.145</td> <td> 0.000</td> <td>   -1.130</td> <td>   -0.816</td>\n",
              "</tr>\n",
              "<tr>\n",
              "  <th>region_LosAngeles</th>          <td>   -1.1090</td> <td>    0.080</td> <td>  -13.849</td> <td> 0.000</td> <td>   -1.266</td> <td>   -0.952</td>\n",
              "</tr>\n",
              "<tr>\n",
              "  <th>region_Louisville</th>          <td>   -1.0018</td> <td>    0.080</td> <td>  -12.512</td> <td> 0.000</td> <td>   -1.159</td> <td>   -0.845</td>\n",
              "</tr>\n",
              "<tr>\n",
              "  <th>region_MiamiFtLauderdale</th>   <td>   -0.8964</td> <td>    0.080</td> <td>  -11.184</td> <td> 0.000</td> <td>   -1.054</td> <td>   -0.739</td>\n",
              "</tr>\n",
              "<tr>\n",
              "  <th>region_Midsouth</th>            <td>   -0.8616</td> <td>    0.080</td> <td>  -10.766</td> <td> 0.000</td> <td>   -1.019</td> <td>   -0.705</td>\n",
              "</tr>\n",
              "<tr>\n",
              "  <th>region_Nashville</th>           <td>   -1.1439</td> <td>    0.080</td> <td>  -14.282</td> <td> 0.000</td> <td>   -1.301</td> <td>   -0.987</td>\n",
              "</tr>\n",
              "<tr>\n",
              "  <th>region_NewOrleansMobile</th>    <td>   -1.0236</td> <td>    0.080</td> <td>  -12.769</td> <td> 0.000</td> <td>   -1.181</td> <td>   -0.866</td>\n",
              "</tr>\n",
              "<tr>\n",
              "  <th>region_NewYork</th>             <td>   -0.5757</td> <td>    0.080</td> <td>   -7.184</td> <td> 0.000</td> <td>   -0.733</td> <td>   -0.419</td>\n",
              "</tr>\n",
              "<tr>\n",
              "  <th>region_Northeast</th>           <td>   -0.8501</td> <td>    0.081</td> <td>  -10.514</td> <td> 0.000</td> <td>   -1.009</td> <td>   -0.692</td>\n",
              "</tr>\n",
              "<tr>\n",
              "  <th>region_NorthernNewEngland</th>  <td>   -0.8827</td> <td>    0.080</td> <td>  -10.983</td> <td> 0.000</td> <td>   -1.040</td> <td>   -0.725</td>\n",
              "</tr>\n",
              "<tr>\n",
              "  <th>region_Orlando</th>             <td>   -0.8431</td> <td>    0.080</td> <td>  -10.518</td> <td> 0.000</td> <td>   -1.000</td> <td>   -0.686</td>\n",
              "</tr>\n",
              "<tr>\n",
              "  <th>region_Philadelphia</th>        <td>   -0.7158</td> <td>    0.080</td> <td>   -8.933</td> <td> 0.000</td> <td>   -0.873</td> <td>   -0.559</td>\n",
              "</tr>\n",
              "<tr>\n",
              "  <th>region_PhoenixTucson</th>       <td>   -1.1899</td> <td>    0.080</td> <td>  -14.836</td> <td> 0.000</td> <td>   -1.347</td> <td>   -1.033</td>\n",
              "</tr>\n",
              "<tr>\n",
              "  <th>region_Pittsburgh</th>          <td>   -0.8803</td> <td>    0.080</td> <td>  -10.976</td> <td> 0.000</td> <td>   -1.038</td> <td>   -0.723</td>\n",
              "</tr>\n",
              "<tr>\n",
              "  <th>region_Plains</th>              <td>   -0.8851</td> <td>    0.080</td> <td>  -11.058</td> <td> 0.000</td> <td>   -1.042</td> <td>   -0.728</td>\n",
              "</tr>\n",
              "<tr>\n",
              "  <th>region_Portland</th>            <td>   -1.0413</td> <td>    0.080</td> <td>  -13.025</td> <td> 0.000</td> <td>   -1.198</td> <td>   -0.885</td>\n",
              "</tr>\n",
              "<tr>\n",
              "  <th>region_RaleighGreensboro</th>   <td>   -0.7586</td> <td>    0.080</td> <td>   -9.464</td> <td> 0.000</td> <td>   -0.916</td> <td>   -0.601</td>\n",
              "</tr>\n",
              "<tr>\n",
              "  <th>region_RichmondNorfolk</th>     <td>   -0.9453</td> <td>    0.080</td> <td>  -11.792</td> <td> 0.000</td> <td>   -1.102</td> <td>   -0.788</td>\n",
              "</tr>\n",
              "<tr>\n",
              "  <th>region_Roanoke</th>             <td>   -1.0068</td> <td>    0.080</td> <td>  -12.565</td> <td> 0.000</td> <td>   -1.164</td> <td>   -0.850</td>\n",
              "</tr>\n",
              "<tr>\n",
              "  <th>region_Sacramento</th>          <td>   -0.6456</td> <td>    0.080</td> <td>   -8.038</td> <td> 0.000</td> <td>   -0.803</td> <td>   -0.488</td>\n",
              "</tr>\n",
              "<tr>\n",
              "  <th>region_SanDiego</th>            <td>   -0.9357</td> <td>    0.080</td> <td>  -11.668</td> <td> 0.000</td> <td>   -1.093</td> <td>   -0.779</td>\n",
              "</tr>\n",
              "<tr>\n",
              "  <th>region_SanFrancisco</th>        <td>   -0.5126</td> <td>    0.080</td> <td>   -6.384</td> <td> 0.000</td> <td>   -0.670</td> <td>   -0.355</td>\n",
              "</tr>\n",
              "<tr>\n",
              "  <th>region_Seattle</th>             <td>   -0.8633</td> <td>    0.080</td> <td>  -10.802</td> <td> 0.000</td> <td>   -1.020</td> <td>   -0.707</td>\n",
              "</tr>\n",
              "<tr>\n",
              "  <th>region_SouthCarolina</th>       <td>   -0.8711</td> <td>    0.080</td> <td>  -10.872</td> <td> 0.000</td> <td>   -1.028</td> <td>   -0.714</td>\n",
              "</tr>\n",
              "<tr>\n",
              "  <th>region_SouthCentral</th>        <td>   -1.2046</td> <td>    0.081</td> <td>  -14.955</td> <td> 0.000</td> <td>   -1.362</td> <td>   -1.047</td>\n",
              "</tr>\n",
              "<tr>\n",
              "  <th>region_Southeast</th>           <td>   -0.8734</td> <td>    0.080</td> <td>  -10.915</td> <td> 0.000</td> <td>   -1.030</td> <td>   -0.717</td>\n",
              "</tr>\n",
              "<tr>\n",
              "  <th>region_Spokane</th>             <td>   -0.8648</td> <td>    0.080</td> <td>  -10.785</td> <td> 0.000</td> <td>   -1.022</td> <td>   -0.708</td>\n",
              "</tr>\n",
              "<tr>\n",
              "  <th>region_StLouis</th>             <td>   -0.8691</td> <td>    0.080</td> <td>  -10.850</td> <td> 0.000</td> <td>   -1.026</td> <td>   -0.712</td>\n",
              "</tr>\n",
              "<tr>\n",
              "  <th>region_Syracuse</th>            <td>   -0.7882</td> <td>    0.080</td> <td>   -9.818</td> <td> 0.000</td> <td>   -0.946</td> <td>   -0.631</td>\n",
              "</tr>\n",
              "<tr>\n",
              "  <th>region_Tampa</th>               <td>   -0.9232</td> <td>    0.080</td> <td>  -11.513</td> <td> 0.000</td> <td>   -1.080</td> <td>   -0.766</td>\n",
              "</tr>\n",
              "<tr>\n",
              "  <th>region_TotalUS</th>             <td>   -0.8615</td> <td>    0.082</td> <td>  -10.544</td> <td> 0.000</td> <td>   -1.022</td> <td>   -0.701</td>\n",
              "</tr>\n",
              "<tr>\n",
              "  <th>region_West</th>                <td>   -1.0182</td> <td>    0.080</td> <td>  -12.764</td> <td> 0.000</td> <td>   -1.175</td> <td>   -0.862</td>\n",
              "</tr>\n",
              "<tr>\n",
              "  <th>region_WestTexNewMexico</th>    <td>   -1.1939</td> <td>    0.080</td> <td>  -14.898</td> <td> 0.000</td> <td>   -1.351</td> <td>   -1.037</td>\n",
              "</tr>\n",
              "</table>\n",
              "<table class=\"simpletable\">\n",
              "<tr>\n",
              "  <th>Omnibus:</th>       <td>138.965</td> <th>  Durbin-Watson:     </th> <td>   0.896</td>\n",
              "</tr>\n",
              "<tr>\n",
              "  <th>Prob(Omnibus):</th> <td> 0.000</td>  <th>  Jarque-Bera (JB):  </th> <td> 218.524</td>\n",
              "</tr>\n",
              "<tr>\n",
              "  <th>Skew:</th>          <td> 0.002</td>  <th>  Prob(JB):          </th> <td>3.53e-48</td>\n",
              "</tr>\n",
              "<tr>\n",
              "  <th>Kurtosis:</th>      <td> 3.536</td>  <th>  Cond. No.          </th> <td>9.70e+22</td>\n",
              "</tr>\n",
              "</table><br/><br/>Notes:<br/>[1] Standard Errors assume that the covariance matrix of the errors is correctly specified.<br/>[2] The smallest eigenvalue is 3.36e-29. This might indicate that there are<br/>strong multicollinearity problems or that the design matrix is singular."
            ]
          },
          "metadata": {},
          "execution_count": 184
        }
      ]
    },
    {
      "cell_type": "code",
      "source": [
        "# Check for Colinearity to decide to remove a variable using VIF\n",
        "# Assumption: VIF > 10 = colinearity\n",
        "# calculating VIF's values of independent variables\n",
        "rsq_tv = smf.ols('Total_Volume ~ tot_ava1+tot_ava2+tot_ava3+Total_Bags+Small_Bags+Large_Bags+XL_Bags+year+type_organic+region_Atlanta+region_BaltimoreWashington+region_Boise+region_Boston+region_BuffaloRochester+region_California+region_Charlotte+region_Chicago+region_CincinnatiDayton+region_Columbus+region_DallasFtWorth+region_Denver+region_Detroit+region_GrandRapids+region_GreatLakes+region_HarrisburgScranton+region_HartfordSpringfield+region_Houston+region_Indianapolis+region_Jacksonville+region_LasVegas+region_LosAngeles+region_Louisville+region_MiamiFtLauderdale+region_Midsouth+region_Nashville+region_NewOrleansMobile+region_NewYork+region_Northeast+region_NorthernNewEngland+region_Orlando+region_Philadelphia+region_PhoenixTucson+region_Pittsburgh+region_Plains+region_Portland+region_RaleighGreensboro+region_RichmondNorfolk+region_Roanoke+region_Sacramento+region_SanDiego+region_SanFrancisco+region_Seattle+region_SouthCarolina+region_SouthCentral+region_Southeast+region_Spokane+region_StLouis+region_Syracuse+region_Tampa+region_TotalUS+region_West+region_WestTexNewMexico', data = data).fit().rsquared  \n",
        "vif_tv = 1/(1 - rsq_tv) \n",
        "rsq_ta1 = smf.ols('tot_ava1 ~  Total_Volume+tot_ava2+tot_ava3+Total_Bags+Small_Bags+Large_Bags+XL_Bags+year+type_organic+region_Atlanta+region_BaltimoreWashington+region_Boise+region_Boston+region_BuffaloRochester+region_California+region_Charlotte+region_Chicago+region_CincinnatiDayton+region_Columbus+region_DallasFtWorth+region_Denver+region_Detroit+region_GrandRapids+region_GreatLakes+region_HarrisburgScranton+region_HartfordSpringfield+region_Houston+region_Indianapolis+region_Jacksonville+region_LasVegas+region_LosAngeles+region_Louisville+region_MiamiFtLauderdale+region_Midsouth+region_Nashville+region_NewOrleansMobile+region_NewYork+region_Northeast+region_NorthernNewEngland+region_Orlando+region_Philadelphia+region_PhoenixTucson+region_Pittsburgh+region_Plains+region_Portland+region_RaleighGreensboro+region_RichmondNorfolk+region_Roanoke+region_Sacramento+region_SanDiego+region_SanFrancisco+region_Seattle+region_SouthCarolina+region_SouthCentral+region_Southeast+region_Spokane+region_StLouis+region_Syracuse+region_Tampa+region_TotalUS+region_West+region_WestTexNewMexico', data = data).fit().rsquared  \n",
        "vif_ta1 = 1/(1 - rsq_ta1) \n",
        "rsq_ta2 = smf.ols('tot_ava2 ~ Total_Volume+tot_ava1+tot_ava3+Total_Bags+Small_Bags+Large_Bags+XL_Bags+year+type_organic+region_Atlanta+region_BaltimoreWashington+region_Boise+region_Boston+region_BuffaloRochester+region_California+region_Charlotte+region_Chicago+region_CincinnatiDayton+region_Columbus+region_DallasFtWorth+region_Denver+region_Detroit+region_GrandRapids+region_GreatLakes+region_HarrisburgScranton+region_HartfordSpringfield+region_Houston+region_Indianapolis+region_Jacksonville+region_LasVegas+region_LosAngeles+region_Louisville+region_MiamiFtLauderdale+region_Midsouth+region_Nashville+region_NewOrleansMobile+region_NewYork+region_Northeast+region_NorthernNewEngland+region_Orlando+region_Philadelphia+region_PhoenixTucson+region_Pittsburgh+region_Plains+region_Portland+region_RaleighGreensboro+region_RichmondNorfolk+region_Roanoke+region_Sacramento+region_SanDiego+region_SanFrancisco+region_Seattle+region_SouthCarolina+region_SouthCentral+region_Southeast+region_Spokane+region_StLouis+region_Syracuse+region_Tampa+region_TotalUS+region_West+region_WestTexNewMexico', data = data).fit().rsquared  \n",
        "vif_ta2 = 1/(1 - rsq_ta2)\n",
        "rsq_ta3 = smf.ols('tot_ava3 ~Total_Volume+tot_ava1+tot_ava2+Total_Bags+Small_Bags+Large_Bags+XL_Bags+year+type_organic+region_Atlanta+region_BaltimoreWashington+region_Boise+region_Boston+region_BuffaloRochester+region_California+region_Charlotte+region_Chicago+region_CincinnatiDayton+region_Columbus+region_DallasFtWorth+region_Denver+region_Detroit+region_GrandRapids+region_GreatLakes+region_HarrisburgScranton+region_HartfordSpringfield+region_Houston+region_Indianapolis+region_Jacksonville+region_LasVegas+region_LosAngeles+region_Louisville+region_MiamiFtLauderdale+region_Midsouth+region_Nashville+region_NewOrleansMobile+region_NewYork+region_Northeast+region_NorthernNewEngland+region_Orlando+region_Philadelphia+region_PhoenixTucson+region_Pittsburgh+region_Plains+region_Portland+region_RaleighGreensboro+region_RichmondNorfolk+region_Roanoke+region_Sacramento+region_SanDiego+region_SanFrancisco+region_Seattle+region_SouthCarolina+region_SouthCentral+region_Southeast+region_Spokane+region_StLouis+region_Syracuse+region_Tampa+region_TotalUS+region_West+region_WestTexNewMexico', data = data).fit().rsquared  \n",
        "vif_ta3 = 1/(1 - rsq_ta3)\n",
        "rsq_tb = smf.ols('Total_Bags ~ Total_Volume+tot_ava1+tot_ava2+tot_ava3+Small_Bags+Large_Bags+XL_Bags+year+type_organic+region_Atlanta+region_BaltimoreWashington+region_Boise+region_Boston+region_BuffaloRochester+region_California+region_Charlotte+region_Chicago+region_CincinnatiDayton+region_Columbus+region_DallasFtWorth+region_Denver+region_Detroit+region_GrandRapids+region_GreatLakes+region_HarrisburgScranton+region_HartfordSpringfield+region_Houston+region_Indianapolis+region_Jacksonville+region_LasVegas+region_LosAngeles+region_Louisville+region_MiamiFtLauderdale+region_Midsouth+region_Nashville+region_NewOrleansMobile+region_NewYork+region_Northeast+region_NorthernNewEngland+region_Orlando+region_Philadelphia+region_PhoenixTucson+region_Pittsburgh+region_Plains+region_Portland+region_RaleighGreensboro+region_RichmondNorfolk+region_Roanoke+region_Sacramento+region_SanDiego+region_SanFrancisco+region_Seattle+region_SouthCarolina+region_SouthCentral+region_Southeast+region_Spokane+region_StLouis+region_Syracuse+region_Tampa+region_TotalUS+region_West+region_WestTexNewMexico', data = data).fit().rsquared  \n",
        "vif_tb = 1/(1 - rsq_tb)\n",
        "rsq_sb = smf.ols('Small_Bags ~ Total_Volume+tot_ava1+tot_ava2+tot_ava3+Total_Bags+Large_Bags+XL_Bags+year+type_organic+region_Atlanta+region_BaltimoreWashington+region_Boise+region_Boston+region_BuffaloRochester+region_California+region_Charlotte+region_Chicago+region_CincinnatiDayton+region_Columbus+region_DallasFtWorth+region_Denver+region_Detroit+region_GrandRapids+region_GreatLakes+region_HarrisburgScranton+region_HartfordSpringfield+region_Houston+region_Indianapolis+region_Jacksonville+region_LasVegas+region_LosAngeles+region_Louisville+region_MiamiFtLauderdale+region_Midsouth+region_Nashville+region_NewOrleansMobile+region_NewYork+region_Northeast+region_NorthernNewEngland+region_Orlando+region_Philadelphia+region_PhoenixTucson+region_Pittsburgh+region_Plains+region_Portland+region_RaleighGreensboro+region_RichmondNorfolk+region_Roanoke+region_Sacramento+region_SanDiego+region_SanFrancisco+region_Seattle+region_SouthCarolina+region_SouthCentral+region_Southeast+region_Spokane+region_StLouis+region_Syracuse+region_Tampa+region_TotalUS+region_West+region_WestTexNewMexico', data = data).fit().rsquared  \n",
        "vif_sb = 1/(1 - rsq_sb)\n",
        "rsq_lb = smf.ols('Large_Bags ~ Total_Volume+tot_ava1+tot_ava2+tot_ava3+Total_Bags+Small_Bags+XL_Bags+year+type_organic+region_Atlanta+region_BaltimoreWashington+region_Boise+region_Boston+region_BuffaloRochester+region_California+region_Charlotte+region_Chicago+region_CincinnatiDayton+region_Columbus+region_DallasFtWorth+region_Denver+region_Detroit+region_GrandRapids+region_GreatLakes+region_HarrisburgScranton+region_HartfordSpringfield+region_Houston+region_Indianapolis+region_Jacksonville+region_LasVegas+region_LosAngeles+region_Louisville+region_MiamiFtLauderdale+region_Midsouth+region_Nashville+region_NewOrleansMobile+region_NewYork+region_Northeast+region_NorthernNewEngland+region_Orlando+region_Philadelphia+region_PhoenixTucson+region_Pittsburgh+region_Plains+region_Portland+region_RaleighGreensboro+region_RichmondNorfolk+region_Roanoke+region_Sacramento+region_SanDiego+region_SanFrancisco+region_Seattle+region_SouthCarolina+region_SouthCentral+region_Southeast+region_Spokane+region_StLouis+region_Syracuse+region_Tampa+region_TotalUS+region_West+region_WestTexNewMexico', data = data).fit().rsquared  \n",
        "vif_lb = 1/(1 - rsq_lb)\n",
        "rsq_xlb = smf.ols('XL_Bags ~ Total_Volume+tot_ava1+tot_ava2+tot_ava3+Total_Bags+Small_Bags+Large_Bags+year+type_organic+region_Atlanta+region_BaltimoreWashington+region_Boise+region_Boston+region_BuffaloRochester+region_California+region_Charlotte+region_Chicago+region_CincinnatiDayton+region_Columbus+region_DallasFtWorth+region_Denver+region_Detroit+region_GrandRapids+region_GreatLakes+region_HarrisburgScranton+region_HartfordSpringfield+region_Houston+region_Indianapolis+region_Jacksonville+region_LasVegas+region_LosAngeles+region_Louisville+region_MiamiFtLauderdale+region_Midsouth+region_Nashville+region_NewOrleansMobile+region_NewYork+region_Northeast+region_NorthernNewEngland+region_Orlando+region_Philadelphia+region_PhoenixTucson+region_Pittsburgh+region_Plains+region_Portland+region_RaleighGreensboro+region_RichmondNorfolk+region_Roanoke+region_Sacramento+region_SanDiego+region_SanFrancisco+region_Seattle+region_SouthCarolina+region_SouthCentral+region_Southeast+region_Spokane+region_StLouis+region_Syracuse+region_Tampa+region_TotalUS+region_West+region_WestTexNewMexico', data = data).fit().rsquared  \n",
        "vif_xlb = 1/(1 - rsq_xlb)"
      ],
      "metadata": {
        "id": "15zML-WbeizX"
      },
      "execution_count": 192,
      "outputs": []
    },
    {
      "cell_type": "code",
      "source": [
        "d1={\"variables\":[\"total_vol\",\"ava1\",\"ava2\",\"ava3\",\"tot_bag\",\"small\",\"large\",\"xlarge\"],\"vif\":[vif_tv,vif_ta1,vif_ta2,vif_ta3,vif_tb,vif_sb,vif_lb,vif_xlb]}\n",
        "dataframe=pd.DataFrame(d1)\n",
        "dataframe  #all values are less than 10"
      ],
      "metadata": {
        "colab": {
          "base_uri": "https://localhost:8080/",
          "height": 300
        },
        "id": "ynpOHY7xgTBh",
        "outputId": "2dc8b67c-4c4f-4ea3-c8dd-36069830e189"
      },
      "execution_count": 193,
      "outputs": [
        {
          "output_type": "execute_result",
          "data": {
            "text/plain": [
              "   variables           vif\n",
              "0  total_vol  5.189313e+09\n",
              "1       ava1  6.962288e+08\n",
              "2       ava2  6.308330e+08\n",
              "3       ava3  5.024408e+06\n",
              "4    tot_bag  3.384893e+12\n",
              "5      small  1.937032e+12\n",
              "6      large  2.070668e+11\n",
              "7     xlarge  1.089045e+09"
            ],
            "text/html": [
              "\n",
              "  <div id=\"df-e3d92f13-a3eb-4701-aa11-3311b864c776\">\n",
              "    <div class=\"colab-df-container\">\n",
              "      <div>\n",
              "<style scoped>\n",
              "    .dataframe tbody tr th:only-of-type {\n",
              "        vertical-align: middle;\n",
              "    }\n",
              "\n",
              "    .dataframe tbody tr th {\n",
              "        vertical-align: top;\n",
              "    }\n",
              "\n",
              "    .dataframe thead th {\n",
              "        text-align: right;\n",
              "    }\n",
              "</style>\n",
              "<table border=\"1\" class=\"dataframe\">\n",
              "  <thead>\n",
              "    <tr style=\"text-align: right;\">\n",
              "      <th></th>\n",
              "      <th>variables</th>\n",
              "      <th>vif</th>\n",
              "    </tr>\n",
              "  </thead>\n",
              "  <tbody>\n",
              "    <tr>\n",
              "      <th>0</th>\n",
              "      <td>total_vol</td>\n",
              "      <td>5.189313e+09</td>\n",
              "    </tr>\n",
              "    <tr>\n",
              "      <th>1</th>\n",
              "      <td>ava1</td>\n",
              "      <td>6.962288e+08</td>\n",
              "    </tr>\n",
              "    <tr>\n",
              "      <th>2</th>\n",
              "      <td>ava2</td>\n",
              "      <td>6.308330e+08</td>\n",
              "    </tr>\n",
              "    <tr>\n",
              "      <th>3</th>\n",
              "      <td>ava3</td>\n",
              "      <td>5.024408e+06</td>\n",
              "    </tr>\n",
              "    <tr>\n",
              "      <th>4</th>\n",
              "      <td>tot_bag</td>\n",
              "      <td>3.384893e+12</td>\n",
              "    </tr>\n",
              "    <tr>\n",
              "      <th>5</th>\n",
              "      <td>small</td>\n",
              "      <td>1.937032e+12</td>\n",
              "    </tr>\n",
              "    <tr>\n",
              "      <th>6</th>\n",
              "      <td>large</td>\n",
              "      <td>2.070668e+11</td>\n",
              "    </tr>\n",
              "    <tr>\n",
              "      <th>7</th>\n",
              "      <td>xlarge</td>\n",
              "      <td>1.089045e+09</td>\n",
              "    </tr>\n",
              "  </tbody>\n",
              "</table>\n",
              "</div>\n",
              "      <button class=\"colab-df-convert\" onclick=\"convertToInteractive('df-e3d92f13-a3eb-4701-aa11-3311b864c776')\"\n",
              "              title=\"Convert this dataframe to an interactive table.\"\n",
              "              style=\"display:none;\">\n",
              "        \n",
              "  <svg xmlns=\"http://www.w3.org/2000/svg\" height=\"24px\"viewBox=\"0 0 24 24\"\n",
              "       width=\"24px\">\n",
              "    <path d=\"M0 0h24v24H0V0z\" fill=\"none\"/>\n",
              "    <path d=\"M18.56 5.44l.94 2.06.94-2.06 2.06-.94-2.06-.94-.94-2.06-.94 2.06-2.06.94zm-11 1L8.5 8.5l.94-2.06 2.06-.94-2.06-.94L8.5 2.5l-.94 2.06-2.06.94zm10 10l.94 2.06.94-2.06 2.06-.94-2.06-.94-.94-2.06-.94 2.06-2.06.94z\"/><path d=\"M17.41 7.96l-1.37-1.37c-.4-.4-.92-.59-1.43-.59-.52 0-1.04.2-1.43.59L10.3 9.45l-7.72 7.72c-.78.78-.78 2.05 0 2.83L4 21.41c.39.39.9.59 1.41.59.51 0 1.02-.2 1.41-.59l7.78-7.78 2.81-2.81c.8-.78.8-2.07 0-2.86zM5.41 20L4 18.59l7.72-7.72 1.47 1.35L5.41 20z\"/>\n",
              "  </svg>\n",
              "      </button>\n",
              "      \n",
              "  <style>\n",
              "    .colab-df-container {\n",
              "      display:flex;\n",
              "      flex-wrap:wrap;\n",
              "      gap: 12px;\n",
              "    }\n",
              "\n",
              "    .colab-df-convert {\n",
              "      background-color: #E8F0FE;\n",
              "      border: none;\n",
              "      border-radius: 50%;\n",
              "      cursor: pointer;\n",
              "      display: none;\n",
              "      fill: #1967D2;\n",
              "      height: 32px;\n",
              "      padding: 0 0 0 0;\n",
              "      width: 32px;\n",
              "    }\n",
              "\n",
              "    .colab-df-convert:hover {\n",
              "      background-color: #E2EBFA;\n",
              "      box-shadow: 0px 1px 2px rgba(60, 64, 67, 0.3), 0px 1px 3px 1px rgba(60, 64, 67, 0.15);\n",
              "      fill: #174EA6;\n",
              "    }\n",
              "\n",
              "    [theme=dark] .colab-df-convert {\n",
              "      background-color: #3B4455;\n",
              "      fill: #D2E3FC;\n",
              "    }\n",
              "\n",
              "    [theme=dark] .colab-df-convert:hover {\n",
              "      background-color: #434B5C;\n",
              "      box-shadow: 0px 1px 3px 1px rgba(0, 0, 0, 0.15);\n",
              "      filter: drop-shadow(0px 1px 2px rgba(0, 0, 0, 0.3));\n",
              "      fill: #FFFFFF;\n",
              "    }\n",
              "  </style>\n",
              "\n",
              "      <script>\n",
              "        const buttonEl =\n",
              "          document.querySelector('#df-e3d92f13-a3eb-4701-aa11-3311b864c776 button.colab-df-convert');\n",
              "        buttonEl.style.display =\n",
              "          google.colab.kernel.accessAllowed ? 'block' : 'none';\n",
              "\n",
              "        async function convertToInteractive(key) {\n",
              "          const element = document.querySelector('#df-e3d92f13-a3eb-4701-aa11-3311b864c776');\n",
              "          const dataTable =\n",
              "            await google.colab.kernel.invokeFunction('convertToInteractive',\n",
              "                                                     [key], {});\n",
              "          if (!dataTable) return;\n",
              "\n",
              "          const docLinkHtml = 'Like what you see? Visit the ' +\n",
              "            '<a target=\"_blank\" href=https://colab.research.google.com/notebooks/data_table.ipynb>data table notebook</a>'\n",
              "            + ' to learn more about interactive tables.';\n",
              "          element.innerHTML = '';\n",
              "          dataTable['output_type'] = 'display_data';\n",
              "          await google.colab.output.renderOutput(dataTable, element);\n",
              "          const docLink = document.createElement('div');\n",
              "          docLink.innerHTML = docLinkHtml;\n",
              "          element.appendChild(docLink);\n",
              "        }\n",
              "      </script>\n",
              "    </div>\n",
              "  </div>\n",
              "  "
            ]
          },
          "metadata": {},
          "execution_count": 193
        }
      ]
    },
    {
      "cell_type": "code",
      "source": [
        "#so final model\n",
        "final_model = smf.ols(m1, data = data).fit()\n",
        "final_model.summary()"
      ],
      "metadata": {
        "colab": {
          "base_uri": "https://localhost:8080/",
          "height": 1000
        },
        "id": "B2LKXrkkh6YR",
        "outputId": "5a91401c-19e9-461e-ae08-21fd38d0cba8"
      },
      "execution_count": 199,
      "outputs": [
        {
          "output_type": "execute_result",
          "data": {
            "text/plain": [
              "<class 'statsmodels.iolib.summary.Summary'>\n",
              "\"\"\"\n",
              "                            OLS Regression Results                            \n",
              "==============================================================================\n",
              "Dep. Variable:           AveragePrice   R-squared:                       0.347\n",
              "Model:                            OLS   Adj. R-squared:                  0.345\n",
              "Method:                 Least Squares   F-statistic:                     153.5\n",
              "Date:                Fri, 25 Nov 2022   Prob (F-statistic):               0.00\n",
              "Time:                        06:55:16   Log-Likelihood:                -8523.8\n",
              "No. Observations:               18249   AIC:                         1.718e+04\n",
              "Df Residuals:                   18185   BIC:                         1.768e+04\n",
              "Df Model:                          63                                         \n",
              "Covariance Type:            nonrobust                                         \n",
              "==============================================================================================\n",
              "                                 coef    std err          t      P>|t|      [0.025      0.975]\n",
              "----------------------------------------------------------------------------------------------\n",
              "Intercept                    -49.1995      4.175    -11.784      0.000     -57.383     -41.016\n",
              "Total_Volume                  -0.0001   5.97e-05     -2.164      0.030      -0.000   -1.22e-05\n",
              "tot_ava1                       0.0001   5.97e-05      2.163      0.031    1.21e-05       0.000\n",
              "tot_ava2                       0.0001   5.97e-05      2.165      0.030    1.22e-05       0.000\n",
              "tot_ava3                       0.0001   5.97e-05      2.157      0.031    1.18e-05       0.000\n",
              "Total_Bags                    -0.0122      0.005     -2.289      0.022      -0.023      -0.002\n",
              "Small_Bags                     0.0124      0.005      2.313      0.021       0.002       0.023\n",
              "Large_Bags                     0.0124      0.005      2.313      0.021       0.002       0.023\n",
              "XL_Bags                        0.0124      0.005      2.314      0.021       0.002       0.023\n",
              "year                           0.0375      0.003     11.931      0.000       0.031       0.044\n",
              "type_conventional            -24.7950      2.087    -11.878      0.000     -28.886     -20.704\n",
              "type_organic                 -24.4045      2.088    -11.690      0.000     -28.497     -20.313\n",
              "region_Albany                 -0.8192      0.080    -10.201      0.000      -0.977      -0.662\n",
              "region_Atlanta                -0.9743      0.080    -12.169      0.000      -1.131      -0.817\n",
              "region_BaltimoreWashington    -0.7823      0.080     -9.762      0.000      -0.939      -0.625\n",
              "region_Boise                  -0.9642      0.080    -12.039      0.000      -1.121      -0.807\n",
              "region_Boston                 -0.7579      0.080     -9.445      0.000      -0.915      -0.601\n",
              "region_BuffaloRochester       -0.7835      0.080     -9.763      0.000      -0.941      -0.626\n",
              "region_California             -0.9522      0.080    -11.834      0.000      -1.110      -0.795\n",
              "region_Charlotte              -0.7094      0.080     -8.839      0.000      -0.867      -0.552\n",
              "region_Chicago                -0.7682      0.080     -9.552      0.000      -0.926      -0.611\n",
              "region_CincinnatiDayton       -1.1211      0.080    -14.018      0.000      -1.278      -0.964\n",
              "region_Columbus               -1.0521      0.080    -13.146      0.000      -1.209      -0.895\n",
              "region_DallasFtWorth          -1.2878      0.080    -16.069      0.000      -1.445      -1.131\n",
              "region_Denver                 -1.0542      0.080    -13.178      0.000      -1.211      -0.897\n",
              "region_Detroit                -1.0279      0.080    -12.842      0.000      -1.185      -0.871\n",
              "region_GrandRapids            -0.8421      0.080    -10.514      0.000      -0.999      -0.685\n",
              "region_GreatLakes             -0.9134      0.080    -11.377      0.000      -1.071      -0.756\n",
              "region_HarrisburgScranton     -0.7714      0.080     -9.624      0.000      -0.929      -0.614\n",
              "region_HartfordSpringfield    -0.4383      0.080     -5.466      0.000      -0.595      -0.281\n",
              "region_Houston                -1.3532      0.080    -16.871      0.000      -1.510      -1.196\n",
              "region_Indianapolis           -0.9801      0.080    -12.250      0.000      -1.137      -0.823\n",
              "region_Jacksonville           -0.8372      0.080    -10.441      0.000      -0.994      -0.680\n",
              "region_LasVegas               -0.9731      0.080    -12.145      0.000      -1.130      -0.816\n",
              "region_LosAngeles             -1.1090      0.080    -13.849      0.000      -1.266      -0.952\n",
              "region_Louisville             -1.0018      0.080    -12.512      0.000      -1.159      -0.845\n",
              "region_MiamiFtLauderdale      -0.8964      0.080    -11.184      0.000      -1.054      -0.739\n",
              "region_Midsouth               -0.8616      0.080    -10.766      0.000      -1.019      -0.705\n",
              "region_Nashville              -1.1439      0.080    -14.282      0.000      -1.301      -0.987\n",
              "region_NewOrleansMobile       -1.0236      0.080    -12.769      0.000      -1.181      -0.866\n",
              "region_NewYork                -0.5757      0.080     -7.184      0.000      -0.733      -0.419\n",
              "region_Northeast              -0.8501      0.081    -10.514      0.000      -1.009      -0.692\n",
              "region_NorthernNewEngland     -0.8827      0.080    -10.983      0.000      -1.040      -0.725\n",
              "region_Orlando                -0.8431      0.080    -10.518      0.000      -1.000      -0.686\n",
              "region_Philadelphia           -0.7158      0.080     -8.933      0.000      -0.873      -0.559\n",
              "region_PhoenixTucson          -1.1899      0.080    -14.836      0.000      -1.347      -1.033\n",
              "region_Pittsburgh             -0.8803      0.080    -10.976      0.000      -1.038      -0.723\n",
              "region_Plains                 -0.8851      0.080    -11.058      0.000      -1.042      -0.728\n",
              "region_Portland               -1.0413      0.080    -13.025      0.000      -1.198      -0.885\n",
              "region_RaleighGreensboro      -0.7586      0.080     -9.464      0.000      -0.916      -0.601\n",
              "region_RichmondNorfolk        -0.9453      0.080    -11.792      0.000      -1.102      -0.788\n",
              "region_Roanoke                -1.0068      0.080    -12.565      0.000      -1.164      -0.850\n",
              "region_Sacramento             -0.6456      0.080     -8.038      0.000      -0.803      -0.488\n",
              "region_SanDiego               -0.9357      0.080    -11.668      0.000      -1.093      -0.779\n",
              "region_SanFrancisco           -0.5126      0.080     -6.384      0.000      -0.670      -0.355\n",
              "region_Seattle                -0.8633      0.080    -10.802      0.000      -1.020      -0.707\n",
              "region_SouthCarolina          -0.8711      0.080    -10.872      0.000      -1.028      -0.714\n",
              "region_SouthCentral           -1.2046      0.081    -14.955      0.000      -1.362      -1.047\n",
              "region_Southeast              -0.8734      0.080    -10.915      0.000      -1.030      -0.717\n",
              "region_Spokane                -0.8648      0.080    -10.785      0.000      -1.022      -0.708\n",
              "region_StLouis                -0.8691      0.080    -10.850      0.000      -1.026      -0.712\n",
              "region_Syracuse               -0.7882      0.080     -9.818      0.000      -0.946      -0.631\n",
              "region_Tampa                  -0.9232      0.080    -11.513      0.000      -1.080      -0.766\n",
              "region_TotalUS                -0.8615      0.082    -10.544      0.000      -1.022      -0.701\n",
              "region_West                   -1.0182      0.080    -12.764      0.000      -1.175      -0.862\n",
              "region_WestTexNewMexico       -1.1939      0.080    -14.898      0.000      -1.351      -1.037\n",
              "==============================================================================\n",
              "Omnibus:                      138.965   Durbin-Watson:                   0.896\n",
              "Prob(Omnibus):                  0.000   Jarque-Bera (JB):              218.524\n",
              "Skew:                           0.002   Prob(JB):                     3.53e-48\n",
              "Kurtosis:                       3.536   Cond. No.                     9.70e+22\n",
              "==============================================================================\n",
              "\n",
              "Notes:\n",
              "[1] Standard Errors assume that the covariance matrix of the errors is correctly specified.\n",
              "[2] The smallest eigenvalue is 3.36e-29. This might indicate that there are\n",
              "strong multicollinearity problems or that the design matrix is singular.\n",
              "\"\"\""
            ],
            "text/html": [
              "<table class=\"simpletable\">\n",
              "<caption>OLS Regression Results</caption>\n",
              "<tr>\n",
              "  <th>Dep. Variable:</th>      <td>AveragePrice</td>   <th>  R-squared:         </th> <td>   0.347</td> \n",
              "</tr>\n",
              "<tr>\n",
              "  <th>Model:</th>                   <td>OLS</td>       <th>  Adj. R-squared:    </th> <td>   0.345</td> \n",
              "</tr>\n",
              "<tr>\n",
              "  <th>Method:</th>             <td>Least Squares</td>  <th>  F-statistic:       </th> <td>   153.5</td> \n",
              "</tr>\n",
              "<tr>\n",
              "  <th>Date:</th>             <td>Fri, 25 Nov 2022</td> <th>  Prob (F-statistic):</th>  <td>  0.00</td>  \n",
              "</tr>\n",
              "<tr>\n",
              "  <th>Time:</th>                 <td>06:55:16</td>     <th>  Log-Likelihood:    </th> <td> -8523.8</td> \n",
              "</tr>\n",
              "<tr>\n",
              "  <th>No. Observations:</th>      <td> 18249</td>      <th>  AIC:               </th> <td>1.718e+04</td>\n",
              "</tr>\n",
              "<tr>\n",
              "  <th>Df Residuals:</th>          <td> 18185</td>      <th>  BIC:               </th> <td>1.768e+04</td>\n",
              "</tr>\n",
              "<tr>\n",
              "  <th>Df Model:</th>              <td>    63</td>      <th>                     </th>     <td> </td>    \n",
              "</tr>\n",
              "<tr>\n",
              "  <th>Covariance Type:</th>      <td>nonrobust</td>    <th>                     </th>     <td> </td>    \n",
              "</tr>\n",
              "</table>\n",
              "<table class=\"simpletable\">\n",
              "<tr>\n",
              "               <td></td>                 <th>coef</th>     <th>std err</th>      <th>t</th>      <th>P>|t|</th>  <th>[0.025</th>    <th>0.975]</th>  \n",
              "</tr>\n",
              "<tr>\n",
              "  <th>Intercept</th>                  <td>  -49.1995</td> <td>    4.175</td> <td>  -11.784</td> <td> 0.000</td> <td>  -57.383</td> <td>  -41.016</td>\n",
              "</tr>\n",
              "<tr>\n",
              "  <th>Total_Volume</th>               <td>   -0.0001</td> <td> 5.97e-05</td> <td>   -2.164</td> <td> 0.030</td> <td>   -0.000</td> <td>-1.22e-05</td>\n",
              "</tr>\n",
              "<tr>\n",
              "  <th>tot_ava1</th>                   <td>    0.0001</td> <td> 5.97e-05</td> <td>    2.163</td> <td> 0.031</td> <td> 1.21e-05</td> <td>    0.000</td>\n",
              "</tr>\n",
              "<tr>\n",
              "  <th>tot_ava2</th>                   <td>    0.0001</td> <td> 5.97e-05</td> <td>    2.165</td> <td> 0.030</td> <td> 1.22e-05</td> <td>    0.000</td>\n",
              "</tr>\n",
              "<tr>\n",
              "  <th>tot_ava3</th>                   <td>    0.0001</td> <td> 5.97e-05</td> <td>    2.157</td> <td> 0.031</td> <td> 1.18e-05</td> <td>    0.000</td>\n",
              "</tr>\n",
              "<tr>\n",
              "  <th>Total_Bags</th>                 <td>   -0.0122</td> <td>    0.005</td> <td>   -2.289</td> <td> 0.022</td> <td>   -0.023</td> <td>   -0.002</td>\n",
              "</tr>\n",
              "<tr>\n",
              "  <th>Small_Bags</th>                 <td>    0.0124</td> <td>    0.005</td> <td>    2.313</td> <td> 0.021</td> <td>    0.002</td> <td>    0.023</td>\n",
              "</tr>\n",
              "<tr>\n",
              "  <th>Large_Bags</th>                 <td>    0.0124</td> <td>    0.005</td> <td>    2.313</td> <td> 0.021</td> <td>    0.002</td> <td>    0.023</td>\n",
              "</tr>\n",
              "<tr>\n",
              "  <th>XL_Bags</th>                    <td>    0.0124</td> <td>    0.005</td> <td>    2.314</td> <td> 0.021</td> <td>    0.002</td> <td>    0.023</td>\n",
              "</tr>\n",
              "<tr>\n",
              "  <th>year</th>                       <td>    0.0375</td> <td>    0.003</td> <td>   11.931</td> <td> 0.000</td> <td>    0.031</td> <td>    0.044</td>\n",
              "</tr>\n",
              "<tr>\n",
              "  <th>type_conventional</th>          <td>  -24.7950</td> <td>    2.087</td> <td>  -11.878</td> <td> 0.000</td> <td>  -28.886</td> <td>  -20.704</td>\n",
              "</tr>\n",
              "<tr>\n",
              "  <th>type_organic</th>               <td>  -24.4045</td> <td>    2.088</td> <td>  -11.690</td> <td> 0.000</td> <td>  -28.497</td> <td>  -20.313</td>\n",
              "</tr>\n",
              "<tr>\n",
              "  <th>region_Albany</th>              <td>   -0.8192</td> <td>    0.080</td> <td>  -10.201</td> <td> 0.000</td> <td>   -0.977</td> <td>   -0.662</td>\n",
              "</tr>\n",
              "<tr>\n",
              "  <th>region_Atlanta</th>             <td>   -0.9743</td> <td>    0.080</td> <td>  -12.169</td> <td> 0.000</td> <td>   -1.131</td> <td>   -0.817</td>\n",
              "</tr>\n",
              "<tr>\n",
              "  <th>region_BaltimoreWashington</th> <td>   -0.7823</td> <td>    0.080</td> <td>   -9.762</td> <td> 0.000</td> <td>   -0.939</td> <td>   -0.625</td>\n",
              "</tr>\n",
              "<tr>\n",
              "  <th>region_Boise</th>               <td>   -0.9642</td> <td>    0.080</td> <td>  -12.039</td> <td> 0.000</td> <td>   -1.121</td> <td>   -0.807</td>\n",
              "</tr>\n",
              "<tr>\n",
              "  <th>region_Boston</th>              <td>   -0.7579</td> <td>    0.080</td> <td>   -9.445</td> <td> 0.000</td> <td>   -0.915</td> <td>   -0.601</td>\n",
              "</tr>\n",
              "<tr>\n",
              "  <th>region_BuffaloRochester</th>    <td>   -0.7835</td> <td>    0.080</td> <td>   -9.763</td> <td> 0.000</td> <td>   -0.941</td> <td>   -0.626</td>\n",
              "</tr>\n",
              "<tr>\n",
              "  <th>region_California</th>          <td>   -0.9522</td> <td>    0.080</td> <td>  -11.834</td> <td> 0.000</td> <td>   -1.110</td> <td>   -0.795</td>\n",
              "</tr>\n",
              "<tr>\n",
              "  <th>region_Charlotte</th>           <td>   -0.7094</td> <td>    0.080</td> <td>   -8.839</td> <td> 0.000</td> <td>   -0.867</td> <td>   -0.552</td>\n",
              "</tr>\n",
              "<tr>\n",
              "  <th>region_Chicago</th>             <td>   -0.7682</td> <td>    0.080</td> <td>   -9.552</td> <td> 0.000</td> <td>   -0.926</td> <td>   -0.611</td>\n",
              "</tr>\n",
              "<tr>\n",
              "  <th>region_CincinnatiDayton</th>    <td>   -1.1211</td> <td>    0.080</td> <td>  -14.018</td> <td> 0.000</td> <td>   -1.278</td> <td>   -0.964</td>\n",
              "</tr>\n",
              "<tr>\n",
              "  <th>region_Columbus</th>            <td>   -1.0521</td> <td>    0.080</td> <td>  -13.146</td> <td> 0.000</td> <td>   -1.209</td> <td>   -0.895</td>\n",
              "</tr>\n",
              "<tr>\n",
              "  <th>region_DallasFtWorth</th>       <td>   -1.2878</td> <td>    0.080</td> <td>  -16.069</td> <td> 0.000</td> <td>   -1.445</td> <td>   -1.131</td>\n",
              "</tr>\n",
              "<tr>\n",
              "  <th>region_Denver</th>              <td>   -1.0542</td> <td>    0.080</td> <td>  -13.178</td> <td> 0.000</td> <td>   -1.211</td> <td>   -0.897</td>\n",
              "</tr>\n",
              "<tr>\n",
              "  <th>region_Detroit</th>             <td>   -1.0279</td> <td>    0.080</td> <td>  -12.842</td> <td> 0.000</td> <td>   -1.185</td> <td>   -0.871</td>\n",
              "</tr>\n",
              "<tr>\n",
              "  <th>region_GrandRapids</th>         <td>   -0.8421</td> <td>    0.080</td> <td>  -10.514</td> <td> 0.000</td> <td>   -0.999</td> <td>   -0.685</td>\n",
              "</tr>\n",
              "<tr>\n",
              "  <th>region_GreatLakes</th>          <td>   -0.9134</td> <td>    0.080</td> <td>  -11.377</td> <td> 0.000</td> <td>   -1.071</td> <td>   -0.756</td>\n",
              "</tr>\n",
              "<tr>\n",
              "  <th>region_HarrisburgScranton</th>  <td>   -0.7714</td> <td>    0.080</td> <td>   -9.624</td> <td> 0.000</td> <td>   -0.929</td> <td>   -0.614</td>\n",
              "</tr>\n",
              "<tr>\n",
              "  <th>region_HartfordSpringfield</th> <td>   -0.4383</td> <td>    0.080</td> <td>   -5.466</td> <td> 0.000</td> <td>   -0.595</td> <td>   -0.281</td>\n",
              "</tr>\n",
              "<tr>\n",
              "  <th>region_Houston</th>             <td>   -1.3532</td> <td>    0.080</td> <td>  -16.871</td> <td> 0.000</td> <td>   -1.510</td> <td>   -1.196</td>\n",
              "</tr>\n",
              "<tr>\n",
              "  <th>region_Indianapolis</th>        <td>   -0.9801</td> <td>    0.080</td> <td>  -12.250</td> <td> 0.000</td> <td>   -1.137</td> <td>   -0.823</td>\n",
              "</tr>\n",
              "<tr>\n",
              "  <th>region_Jacksonville</th>        <td>   -0.8372</td> <td>    0.080</td> <td>  -10.441</td> <td> 0.000</td> <td>   -0.994</td> <td>   -0.680</td>\n",
              "</tr>\n",
              "<tr>\n",
              "  <th>region_LasVegas</th>            <td>   -0.9731</td> <td>    0.080</td> <td>  -12.145</td> <td> 0.000</td> <td>   -1.130</td> <td>   -0.816</td>\n",
              "</tr>\n",
              "<tr>\n",
              "  <th>region_LosAngeles</th>          <td>   -1.1090</td> <td>    0.080</td> <td>  -13.849</td> <td> 0.000</td> <td>   -1.266</td> <td>   -0.952</td>\n",
              "</tr>\n",
              "<tr>\n",
              "  <th>region_Louisville</th>          <td>   -1.0018</td> <td>    0.080</td> <td>  -12.512</td> <td> 0.000</td> <td>   -1.159</td> <td>   -0.845</td>\n",
              "</tr>\n",
              "<tr>\n",
              "  <th>region_MiamiFtLauderdale</th>   <td>   -0.8964</td> <td>    0.080</td> <td>  -11.184</td> <td> 0.000</td> <td>   -1.054</td> <td>   -0.739</td>\n",
              "</tr>\n",
              "<tr>\n",
              "  <th>region_Midsouth</th>            <td>   -0.8616</td> <td>    0.080</td> <td>  -10.766</td> <td> 0.000</td> <td>   -1.019</td> <td>   -0.705</td>\n",
              "</tr>\n",
              "<tr>\n",
              "  <th>region_Nashville</th>           <td>   -1.1439</td> <td>    0.080</td> <td>  -14.282</td> <td> 0.000</td> <td>   -1.301</td> <td>   -0.987</td>\n",
              "</tr>\n",
              "<tr>\n",
              "  <th>region_NewOrleansMobile</th>    <td>   -1.0236</td> <td>    0.080</td> <td>  -12.769</td> <td> 0.000</td> <td>   -1.181</td> <td>   -0.866</td>\n",
              "</tr>\n",
              "<tr>\n",
              "  <th>region_NewYork</th>             <td>   -0.5757</td> <td>    0.080</td> <td>   -7.184</td> <td> 0.000</td> <td>   -0.733</td> <td>   -0.419</td>\n",
              "</tr>\n",
              "<tr>\n",
              "  <th>region_Northeast</th>           <td>   -0.8501</td> <td>    0.081</td> <td>  -10.514</td> <td> 0.000</td> <td>   -1.009</td> <td>   -0.692</td>\n",
              "</tr>\n",
              "<tr>\n",
              "  <th>region_NorthernNewEngland</th>  <td>   -0.8827</td> <td>    0.080</td> <td>  -10.983</td> <td> 0.000</td> <td>   -1.040</td> <td>   -0.725</td>\n",
              "</tr>\n",
              "<tr>\n",
              "  <th>region_Orlando</th>             <td>   -0.8431</td> <td>    0.080</td> <td>  -10.518</td> <td> 0.000</td> <td>   -1.000</td> <td>   -0.686</td>\n",
              "</tr>\n",
              "<tr>\n",
              "  <th>region_Philadelphia</th>        <td>   -0.7158</td> <td>    0.080</td> <td>   -8.933</td> <td> 0.000</td> <td>   -0.873</td> <td>   -0.559</td>\n",
              "</tr>\n",
              "<tr>\n",
              "  <th>region_PhoenixTucson</th>       <td>   -1.1899</td> <td>    0.080</td> <td>  -14.836</td> <td> 0.000</td> <td>   -1.347</td> <td>   -1.033</td>\n",
              "</tr>\n",
              "<tr>\n",
              "  <th>region_Pittsburgh</th>          <td>   -0.8803</td> <td>    0.080</td> <td>  -10.976</td> <td> 0.000</td> <td>   -1.038</td> <td>   -0.723</td>\n",
              "</tr>\n",
              "<tr>\n",
              "  <th>region_Plains</th>              <td>   -0.8851</td> <td>    0.080</td> <td>  -11.058</td> <td> 0.000</td> <td>   -1.042</td> <td>   -0.728</td>\n",
              "</tr>\n",
              "<tr>\n",
              "  <th>region_Portland</th>            <td>   -1.0413</td> <td>    0.080</td> <td>  -13.025</td> <td> 0.000</td> <td>   -1.198</td> <td>   -0.885</td>\n",
              "</tr>\n",
              "<tr>\n",
              "  <th>region_RaleighGreensboro</th>   <td>   -0.7586</td> <td>    0.080</td> <td>   -9.464</td> <td> 0.000</td> <td>   -0.916</td> <td>   -0.601</td>\n",
              "</tr>\n",
              "<tr>\n",
              "  <th>region_RichmondNorfolk</th>     <td>   -0.9453</td> <td>    0.080</td> <td>  -11.792</td> <td> 0.000</td> <td>   -1.102</td> <td>   -0.788</td>\n",
              "</tr>\n",
              "<tr>\n",
              "  <th>region_Roanoke</th>             <td>   -1.0068</td> <td>    0.080</td> <td>  -12.565</td> <td> 0.000</td> <td>   -1.164</td> <td>   -0.850</td>\n",
              "</tr>\n",
              "<tr>\n",
              "  <th>region_Sacramento</th>          <td>   -0.6456</td> <td>    0.080</td> <td>   -8.038</td> <td> 0.000</td> <td>   -0.803</td> <td>   -0.488</td>\n",
              "</tr>\n",
              "<tr>\n",
              "  <th>region_SanDiego</th>            <td>   -0.9357</td> <td>    0.080</td> <td>  -11.668</td> <td> 0.000</td> <td>   -1.093</td> <td>   -0.779</td>\n",
              "</tr>\n",
              "<tr>\n",
              "  <th>region_SanFrancisco</th>        <td>   -0.5126</td> <td>    0.080</td> <td>   -6.384</td> <td> 0.000</td> <td>   -0.670</td> <td>   -0.355</td>\n",
              "</tr>\n",
              "<tr>\n",
              "  <th>region_Seattle</th>             <td>   -0.8633</td> <td>    0.080</td> <td>  -10.802</td> <td> 0.000</td> <td>   -1.020</td> <td>   -0.707</td>\n",
              "</tr>\n",
              "<tr>\n",
              "  <th>region_SouthCarolina</th>       <td>   -0.8711</td> <td>    0.080</td> <td>  -10.872</td> <td> 0.000</td> <td>   -1.028</td> <td>   -0.714</td>\n",
              "</tr>\n",
              "<tr>\n",
              "  <th>region_SouthCentral</th>        <td>   -1.2046</td> <td>    0.081</td> <td>  -14.955</td> <td> 0.000</td> <td>   -1.362</td> <td>   -1.047</td>\n",
              "</tr>\n",
              "<tr>\n",
              "  <th>region_Southeast</th>           <td>   -0.8734</td> <td>    0.080</td> <td>  -10.915</td> <td> 0.000</td> <td>   -1.030</td> <td>   -0.717</td>\n",
              "</tr>\n",
              "<tr>\n",
              "  <th>region_Spokane</th>             <td>   -0.8648</td> <td>    0.080</td> <td>  -10.785</td> <td> 0.000</td> <td>   -1.022</td> <td>   -0.708</td>\n",
              "</tr>\n",
              "<tr>\n",
              "  <th>region_StLouis</th>             <td>   -0.8691</td> <td>    0.080</td> <td>  -10.850</td> <td> 0.000</td> <td>   -1.026</td> <td>   -0.712</td>\n",
              "</tr>\n",
              "<tr>\n",
              "  <th>region_Syracuse</th>            <td>   -0.7882</td> <td>    0.080</td> <td>   -9.818</td> <td> 0.000</td> <td>   -0.946</td> <td>   -0.631</td>\n",
              "</tr>\n",
              "<tr>\n",
              "  <th>region_Tampa</th>               <td>   -0.9232</td> <td>    0.080</td> <td>  -11.513</td> <td> 0.000</td> <td>   -1.080</td> <td>   -0.766</td>\n",
              "</tr>\n",
              "<tr>\n",
              "  <th>region_TotalUS</th>             <td>   -0.8615</td> <td>    0.082</td> <td>  -10.544</td> <td> 0.000</td> <td>   -1.022</td> <td>   -0.701</td>\n",
              "</tr>\n",
              "<tr>\n",
              "  <th>region_West</th>                <td>   -1.0182</td> <td>    0.080</td> <td>  -12.764</td> <td> 0.000</td> <td>   -1.175</td> <td>   -0.862</td>\n",
              "</tr>\n",
              "<tr>\n",
              "  <th>region_WestTexNewMexico</th>    <td>   -1.1939</td> <td>    0.080</td> <td>  -14.898</td> <td> 0.000</td> <td>   -1.351</td> <td>   -1.037</td>\n",
              "</tr>\n",
              "</table>\n",
              "<table class=\"simpletable\">\n",
              "<tr>\n",
              "  <th>Omnibus:</th>       <td>138.965</td> <th>  Durbin-Watson:     </th> <td>   0.896</td>\n",
              "</tr>\n",
              "<tr>\n",
              "  <th>Prob(Omnibus):</th> <td> 0.000</td>  <th>  Jarque-Bera (JB):  </th> <td> 218.524</td>\n",
              "</tr>\n",
              "<tr>\n",
              "  <th>Skew:</th>          <td> 0.002</td>  <th>  Prob(JB):          </th> <td>3.53e-48</td>\n",
              "</tr>\n",
              "<tr>\n",
              "  <th>Kurtosis:</th>      <td> 3.536</td>  <th>  Cond. No.          </th> <td>9.70e+22</td>\n",
              "</tr>\n",
              "</table><br/><br/>Notes:<br/>[1] Standard Errors assume that the covariance matrix of the errors is correctly specified.<br/>[2] The smallest eigenvalue is 3.36e-29. This might indicate that there are<br/>strong multicollinearity problems or that the design matrix is singular."
            ]
          },
          "metadata": {},
          "execution_count": 199
        }
      ]
    },
    {
      "cell_type": "code",
      "source": [
        "# Predictions\n",
        "\n",
        "pred = final_model.predict(data)"
      ],
      "metadata": {
        "id": "CTBc3HZYh_Il"
      },
      "execution_count": 200,
      "outputs": []
    },
    {
      "cell_type": "code",
      "source": [
        "# Q Q Plot\n",
        "res = final_model.resid\n",
        "sm.qqplot(res)\n",
        "plt.show()"
      ],
      "metadata": {
        "colab": {
          "base_uri": "https://localhost:8080/",
          "height": 279
        },
        "id": "iL1KZnw4kMoe",
        "outputId": "cbfabbd3-9253-47ba-800b-269552b5ed54"
      },
      "execution_count": 205,
      "outputs": [
        {
          "output_type": "display_data",
          "data": {
            "text/plain": [
              "<Figure size 432x288 with 1 Axes>"
            ],
            "image/png": "[encoded data removed]"
          },
          "metadata": {
            "needs_background": "light"
          }
        }
      ]
    },
    {
      "cell_type": "code",
      "source": [
        "### Splitting the data into train and test data \n",
        "from sklearn.model_selection import train_test_split\n",
        "data_train, data_test = train_test_split(data, test_size = 0.2) # 20% test data\n",
        "\n",
        "# preparing the model on train data \n",
        "model_train = smf.ols(m1 , data = data_train).fit()\n",
        "model_train.summary()"
      ],
      "metadata": {
        "colab": {
          "base_uri": "https://localhost:8080/",
          "height": 1000
        },
        "id": "FsgExmGgkjA8",
        "outputId": "19dde461-2af4-4d1e-8729-f0bbd1480cb5"
      },
      "execution_count": 207,
      "outputs": [
        {
          "output_type": "execute_result",
          "data": {
            "text/plain": [
              "<class 'statsmodels.iolib.summary.Summary'>\n",
              "\"\"\"\n",
              "                            OLS Regression Results                            \n",
              "==============================================================================\n",
              "Dep. Variable:           AveragePrice   R-squared:                       0.347\n",
              "Model:                            OLS   Adj. R-squared:                  0.344\n",
              "Method:                 Least Squares   F-statistic:                     122.8\n",
              "Date:                Fri, 25 Nov 2022   Prob (F-statistic):               0.00\n",
              "Time:                        06:57:51   Log-Likelihood:                -6807.2\n",
              "No. Observations:               14599   AIC:                         1.374e+04\n",
              "Df Residuals:                   14535   BIC:                         1.423e+04\n",
              "Df Model:                          63                                         \n",
              "Covariance Type:            nonrobust                                         \n",
              "==============================================================================================\n",
              "                                 coef    std err          t      P>|t|      [0.025      0.975]\n",
              "----------------------------------------------------------------------------------------------\n",
              "Intercept                    -46.0428      4.672     -9.856      0.000     -55.200     -36.886\n",
              "Total_Volume                  -0.0002   7.87e-05     -2.011      0.044      -0.000   -3.99e-06\n",
              "tot_ava1                       0.0002   7.87e-05      2.010      0.044    3.92e-06       0.000\n",
              "tot_ava2                       0.0002   7.87e-05      2.012      0.044    4.06e-06       0.000\n",
              "tot_ava3                       0.0002   7.87e-05      2.006      0.045    3.61e-06       0.000\n",
              "Total_Bags                    -0.0125      0.006     -2.090      0.037      -0.024      -0.001\n",
              "Small_Bags                     0.0126      0.006      2.117      0.034       0.001       0.024\n",
              "Large_Bags                     0.0126      0.006      2.117      0.034       0.001       0.024\n",
              "XL_Bags                        0.0126      0.006      2.118      0.034       0.001       0.024\n",
              "year                           0.0351      0.004      9.988      0.000       0.028       0.042\n",
              "type_conventional            -23.2182      2.336     -9.941      0.000     -27.796     -18.640\n",
              "type_organic                 -22.8246      2.336     -9.771      0.000     -27.403     -18.246\n",
              "region_Albany                 -0.7555      0.090     -8.398      0.000      -0.932      -0.579\n",
              "region_Atlanta                -0.9098      0.090    -10.140      0.000      -1.086      -0.734\n",
              "region_BaltimoreWashington    -0.7161      0.090     -7.985      0.000      -0.892      -0.540\n",
              "region_Boise                  -0.9067      0.090    -10.104      0.000      -1.083      -0.731\n",
              "region_Boston                 -0.6926      0.090     -7.724      0.000      -0.868      -0.517\n",
              "region_BuffaloRochester       -0.7280      0.090     -8.102      0.000      -0.904      -0.552\n",
              "region_California             -0.9236      0.090    -10.245      0.000      -1.100      -0.747\n",
              "region_Charlotte              -0.6642      0.090     -7.408      0.000      -0.840      -0.488\n",
              "region_Chicago                -0.7286      0.090     -8.076      0.000      -0.905      -0.552\n",
              "region_CincinnatiDayton       -1.0601      0.089    -11.856      0.000      -1.235      -0.885\n",
              "region_Columbus               -0.9845      0.089    -11.012      0.000      -1.160      -0.809\n",
              "region_DallasFtWorth          -1.2207      0.089    -13.645      0.000      -1.396      -1.045\n",
              "region_Denver                 -0.9965      0.090    -11.116      0.000      -1.172      -0.821\n",
              "region_Detroit                -0.9703      0.090    -10.822      0.000      -1.146      -0.795\n",
              "region_GrandRapids            -0.7898      0.089     -8.833      0.000      -0.965      -0.615\n",
              "region_GreatLakes             -0.8514      0.090     -9.469      0.000      -1.028      -0.675\n",
              "region_HarrisburgScranton     -0.7204      0.090     -8.047      0.000      -0.896      -0.545\n",
              "region_HartfordSpringfield    -0.3893      0.090     -4.335      0.000      -0.565      -0.213\n",
              "region_Houston                -1.3078      0.090    -14.580      0.000      -1.484      -1.132\n",
              "region_Indianapolis           -0.9160      0.089    -10.251      0.000      -1.091      -0.741\n",
              "region_Jacksonville           -0.7802      0.090     -8.706      0.000      -0.956      -0.605\n",
              "region_LasVegas               -0.8960      0.090    -10.002      0.000      -1.072      -0.720\n",
              "region_LosAngeles             -1.0393      0.090    -11.574      0.000      -1.215      -0.863\n",
              "region_Louisville             -0.9382      0.090    -10.480      0.000      -1.114      -0.763\n",
              "region_MiamiFtLauderdale      -0.8500      0.090     -9.471      0.000      -1.026      -0.674\n",
              "region_Midsouth               -0.7985      0.089     -8.937      0.000      -0.974      -0.623\n",
              "region_Nashville              -1.0868      0.090    -12.130      0.000      -1.262      -0.911\n",
              "region_NewOrleansMobile       -0.9379      0.090    -10.426      0.000      -1.114      -0.762\n",
              "region_NewYork                -0.5305      0.089     -5.930      0.000      -0.706      -0.355\n",
              "region_Northeast              -0.7947      0.091     -8.766      0.000      -0.972      -0.617\n",
              "region_NorthernNewEngland     -0.8138      0.090     -9.054      0.000      -0.990      -0.638\n",
              "region_Orlando                -0.7746      0.090     -8.653      0.000      -0.950      -0.599\n",
              "region_Philadelphia           -0.6621      0.090     -7.366      0.000      -0.838      -0.486\n",
              "region_PhoenixTucson          -1.1414      0.090    -12.727      0.000      -1.317      -0.966\n",
              "region_Pittsburgh             -0.8156      0.090     -9.102      0.000      -0.991      -0.640\n",
              "region_Plains                 -0.8258      0.089     -9.234      0.000      -1.001      -0.651\n",
              "region_Portland               -1.0047      0.090    -11.218      0.000      -1.180      -0.829\n",
              "region_RaleighGreensboro      -0.7103      0.090     -7.911      0.000      -0.886      -0.534\n",
              "region_RichmondNorfolk        -0.9062      0.090    -10.113      0.000      -1.082      -0.731\n",
              "region_Roanoke                -0.9354      0.090    -10.423      0.000      -1.111      -0.759\n",
              "region_Sacramento             -0.5818      0.090     -6.470      0.000      -0.758      -0.406\n",
              "region_SanDiego               -0.8566      0.090     -9.552      0.000      -1.032      -0.681\n",
              "region_SanFrancisco           -0.4441      0.090     -4.943      0.000      -0.620      -0.268\n",
              "region_Seattle                -0.8118      0.090     -9.063      0.000      -0.987      -0.636\n",
              "region_SouthCarolina          -0.8064      0.089     -9.014      0.000      -0.982      -0.631\n",
              "region_SouthCentral           -1.1467      0.090    -12.714      0.000      -1.324      -0.970\n",
              "region_Southeast              -0.8330      0.090     -9.307      0.000      -1.008      -0.658\n",
              "region_Spokane                -0.7870      0.090     -8.773      0.000      -0.963      -0.611\n",
              "region_StLouis                -0.8075      0.090     -9.017      0.000      -0.983      -0.632\n",
              "region_Syracuse               -0.7278      0.090     -8.091      0.000      -0.904      -0.551\n",
              "region_Tampa                  -0.8534      0.090     -9.504      0.000      -1.029      -0.677\n",
              "region_TotalUS                -0.8082      0.091     -8.867      0.000      -0.987      -0.630\n",
              "region_West                   -0.9698      0.089    -10.871      0.000      -1.145      -0.795\n",
              "region_WestTexNewMexico       -1.1345      0.090    -12.656      0.000      -1.310      -0.959\n",
              "==============================================================================\n",
              "Omnibus:                      122.369   Durbin-Watson:                   1.998\n",
              "Prob(Omnibus):                  0.000   Jarque-Bera (JB):              196.486\n",
              "Skew:                           0.012   Prob(JB):                     2.16e-43\n",
              "Kurtosis:                       3.568   Cond. No.                     7.50e+22\n",
              "==============================================================================\n",
              "\n",
              "Notes:\n",
              "[1] Standard Errors assume that the covariance matrix of the errors is correctly specified.\n",
              "[2] The smallest eigenvalue is 4.58e-29. This might indicate that there are\n",
              "strong multicollinearity problems or that the design matrix is singular.\n",
              "\"\"\""
            ],
            "text/html": [
              "<table class=\"simpletable\">\n",
              "<caption>OLS Regression Results</caption>\n",
              "<tr>\n",
              "  <th>Dep. Variable:</th>      <td>AveragePrice</td>   <th>  R-squared:         </th> <td>   0.347</td> \n",
              "</tr>\n",
              "<tr>\n",
              "  <th>Model:</th>                   <td>OLS</td>       <th>  Adj. R-squared:    </th> <td>   0.344</td> \n",
              "</tr>\n",
              "<tr>\n",
              "  <th>Method:</th>             <td>Least Squares</td>  <th>  F-statistic:       </th> <td>   122.8</td> \n",
              "</tr>\n",
              "<tr>\n",
              "  <th>Date:</th>             <td>Fri, 25 Nov 2022</td> <th>  Prob (F-statistic):</th>  <td>  0.00</td>  \n",
              "</tr>\n",
              "<tr>\n",
              "  <th>Time:</th>                 <td>06:57:51</td>     <th>  Log-Likelihood:    </th> <td> -6807.2</td> \n",
              "</tr>\n",
              "<tr>\n",
              "  <th>No. Observations:</th>      <td> 14599</td>      <th>  AIC:               </th> <td>1.374e+04</td>\n",
              "</tr>\n",
              "<tr>\n",
              "  <th>Df Residuals:</th>          <td> 14535</td>      <th>  BIC:               </th> <td>1.423e+04</td>\n",
              "</tr>\n",
              "<tr>\n",
              "  <th>Df Model:</th>              <td>    63</td>      <th>                     </th>     <td> </td>    \n",
              "</tr>\n",
              "<tr>\n",
              "  <th>Covariance Type:</th>      <td>nonrobust</td>    <th>                     </th>     <td> </td>    \n",
              "</tr>\n",
              "</table>\n",
              "<table class=\"simpletable\">\n",
              "<tr>\n",
              "               <td></td>                 <th>coef</th>     <th>std err</th>      <th>t</th>      <th>P>|t|</th>  <th>[0.025</th>    <th>0.975]</th>  \n",
              "</tr>\n",
              "<tr>\n",
              "  <th>Intercept</th>                  <td>  -46.0428</td> <td>    4.672</td> <td>   -9.856</td> <td> 0.000</td> <td>  -55.200</td> <td>  -36.886</td>\n",
              "</tr>\n",
              "<tr>\n",
              "  <th>Total_Volume</th>               <td>   -0.0002</td> <td> 7.87e-05</td> <td>   -2.011</td> <td> 0.044</td> <td>   -0.000</td> <td>-3.99e-06</td>\n",
              "</tr>\n",
              "<tr>\n",
              "  <th>tot_ava1</th>                   <td>    0.0002</td> <td> 7.87e-05</td> <td>    2.010</td> <td> 0.044</td> <td> 3.92e-06</td> <td>    0.000</td>\n",
              "</tr>\n",
              "<tr>\n",
              "  <th>tot_ava2</th>                   <td>    0.0002</td> <td> 7.87e-05</td> <td>    2.012</td> <td> 0.044</td> <td> 4.06e-06</td> <td>    0.000</td>\n",
              "</tr>\n",
              "<tr>\n",
              "  <th>tot_ava3</th>                   <td>    0.0002</td> <td> 7.87e-05</td> <td>    2.006</td> <td> 0.045</td> <td> 3.61e-06</td> <td>    0.000</td>\n",
              "</tr>\n",
              "<tr>\n",
              "  <th>Total_Bags</th>                 <td>   -0.0125</td> <td>    0.006</td> <td>   -2.090</td> <td> 0.037</td> <td>   -0.024</td> <td>   -0.001</td>\n",
              "</tr>\n",
              "<tr>\n",
              "  <th>Small_Bags</th>                 <td>    0.0126</td> <td>    0.006</td> <td>    2.117</td> <td> 0.034</td> <td>    0.001</td> <td>    0.024</td>\n",
              "</tr>\n",
              "<tr>\n",
              "  <th>Large_Bags</th>                 <td>    0.0126</td> <td>    0.006</td> <td>    2.117</td> <td> 0.034</td> <td>    0.001</td> <td>    0.024</td>\n",
              "</tr>\n",
              "<tr>\n",
              "  <th>XL_Bags</th>                    <td>    0.0126</td> <td>    0.006</td> <td>    2.118</td> <td> 0.034</td> <td>    0.001</td> <td>    0.024</td>\n",
              "</tr>\n",
              "<tr>\n",
              "  <th>year</th>                       <td>    0.0351</td> <td>    0.004</td> <td>    9.988</td> <td> 0.000</td> <td>    0.028</td> <td>    0.042</td>\n",
              "</tr>\n",
              "<tr>\n",
              "  <th>type_conventional</th>          <td>  -23.2182</td> <td>    2.336</td> <td>   -9.941</td> <td> 0.000</td> <td>  -27.796</td> <td>  -18.640</td>\n",
              "</tr>\n",
              "<tr>\n",
              "  <th>type_organic</th>               <td>  -22.8246</td> <td>    2.336</td> <td>   -9.771</td> <td> 0.000</td> <td>  -27.403</td> <td>  -18.246</td>\n",
              "</tr>\n",
              "<tr>\n",
              "  <th>region_Albany</th>              <td>   -0.7555</td> <td>    0.090</td> <td>   -8.398</td> <td> 0.000</td> <td>   -0.932</td> <td>   -0.579</td>\n",
              "</tr>\n",
              "<tr>\n",
              "  <th>region_Atlanta</th>             <td>   -0.9098</td> <td>    0.090</td> <td>  -10.140</td> <td> 0.000</td> <td>   -1.086</td> <td>   -0.734</td>\n",
              "</tr>\n",
              "<tr>\n",
              "  <th>region_BaltimoreWashington</th> <td>   -0.7161</td> <td>    0.090</td> <td>   -7.985</td> <td> 0.000</td> <td>   -0.892</td> <td>   -0.540</td>\n",
              "</tr>\n",
              "<tr>\n",
              "  <th>region_Boise</th>               <td>   -0.9067</td> <td>    0.090</td> <td>  -10.104</td> <td> 0.000</td> <td>   -1.083</td> <td>   -0.731</td>\n",
              "</tr>\n",
              "<tr>\n",
              "  <th>region_Boston</th>              <td>   -0.6926</td> <td>    0.090</td> <td>   -7.724</td> <td> 0.000</td> <td>   -0.868</td> <td>   -0.517</td>\n",
              "</tr>\n",
              "<tr>\n",
              "  <th>region_BuffaloRochester</th>    <td>   -0.7280</td> <td>    0.090</td> <td>   -8.102</td> <td> 0.000</td> <td>   -0.904</td> <td>   -0.552</td>\n",
              "</tr>\n",
              "<tr>\n",
              "  <th>region_California</th>          <td>   -0.9236</td> <td>    0.090</td> <td>  -10.245</td> <td> 0.000</td> <td>   -1.100</td> <td>   -0.747</td>\n",
              "</tr>\n",
              "<tr>\n",
              "  <th>region_Charlotte</th>           <td>   -0.6642</td> <td>    0.090</td> <td>   -7.408</td> <td> 0.000</td> <td>   -0.840</td> <td>   -0.488</td>\n",
              "</tr>\n",
              "<tr>\n",
              "  <th>region_Chicago</th>             <td>   -0.7286</td> <td>    0.090</td> <td>   -8.076</td> <td> 0.000</td> <td>   -0.905</td> <td>   -0.552</td>\n",
              "</tr>\n",
              "<tr>\n",
              "  <th>region_CincinnatiDayton</th>    <td>   -1.0601</td> <td>    0.089</td> <td>  -11.856</td> <td> 0.000</td> <td>   -1.235</td> <td>   -0.885</td>\n",
              "</tr>\n",
              "<tr>\n",
              "  <th>region_Columbus</th>            <td>   -0.9845</td> <td>    0.089</td> <td>  -11.012</td> <td> 0.000</td> <td>   -1.160</td> <td>   -0.809</td>\n",
              "</tr>\n",
              "<tr>\n",
              "  <th>region_DallasFtWorth</th>       <td>   -1.2207</td> <td>    0.089</td> <td>  -13.645</td> <td> 0.000</td> <td>   -1.396</td> <td>   -1.045</td>\n",
              "</tr>\n",
              "<tr>\n",
              "  <th>region_Denver</th>              <td>   -0.9965</td> <td>    0.090</td> <td>  -11.116</td> <td> 0.000</td> <td>   -1.172</td> <td>   -0.821</td>\n",
              "</tr>\n",
              "<tr>\n",
              "  <th>region_Detroit</th>             <td>   -0.9703</td> <td>    0.090</td> <td>  -10.822</td> <td> 0.000</td> <td>   -1.146</td> <td>   -0.795</td>\n",
              "</tr>\n",
              "<tr>\n",
              "  <th>region_GrandRapids</th>         <td>   -0.7898</td> <td>    0.089</td> <td>   -8.833</td> <td> 0.000</td> <td>   -0.965</td> <td>   -0.615</td>\n",
              "</tr>\n",
              "<tr>\n",
              "  <th>region_GreatLakes</th>          <td>   -0.8514</td> <td>    0.090</td> <td>   -9.469</td> <td> 0.000</td> <td>   -1.028</td> <td>   -0.675</td>\n",
              "</tr>\n",
              "<tr>\n",
              "  <th>region_HarrisburgScranton</th>  <td>   -0.7204</td> <td>    0.090</td> <td>   -8.047</td> <td> 0.000</td> <td>   -0.896</td> <td>   -0.545</td>\n",
              "</tr>\n",
              "<tr>\n",
              "  <th>region_HartfordSpringfield</th> <td>   -0.3893</td> <td>    0.090</td> <td>   -4.335</td> <td> 0.000</td> <td>   -0.565</td> <td>   -0.213</td>\n",
              "</tr>\n",
              "<tr>\n",
              "  <th>region_Houston</th>             <td>   -1.3078</td> <td>    0.090</td> <td>  -14.580</td> <td> 0.000</td> <td>   -1.484</td> <td>   -1.132</td>\n",
              "</tr>\n",
              "<tr>\n",
              "  <th>region_Indianapolis</th>        <td>   -0.9160</td> <td>    0.089</td> <td>  -10.251</td> <td> 0.000</td> <td>   -1.091</td> <td>   -0.741</td>\n",
              "</tr>\n",
              "<tr>\n",
              "  <th>region_Jacksonville</th>        <td>   -0.7802</td> <td>    0.090</td> <td>   -8.706</td> <td> 0.000</td> <td>   -0.956</td> <td>   -0.605</td>\n",
              "</tr>\n",
              "<tr>\n",
              "  <th>region_LasVegas</th>            <td>   -0.8960</td> <td>    0.090</td> <td>  -10.002</td> <td> 0.000</td> <td>   -1.072</td> <td>   -0.720</td>\n",
              "</tr>\n",
              "<tr>\n",
              "  <th>region_LosAngeles</th>          <td>   -1.0393</td> <td>    0.090</td> <td>  -11.574</td> <td> 0.000</td> <td>   -1.215</td> <td>   -0.863</td>\n",
              "</tr>\n",
              "<tr>\n",
              "  <th>region_Louisville</th>          <td>   -0.9382</td> <td>    0.090</td> <td>  -10.480</td> <td> 0.000</td> <td>   -1.114</td> <td>   -0.763</td>\n",
              "</tr>\n",
              "<tr>\n",
              "  <th>region_MiamiFtLauderdale</th>   <td>   -0.8500</td> <td>    0.090</td> <td>   -9.471</td> <td> 0.000</td> <td>   -1.026</td> <td>   -0.674</td>\n",
              "</tr>\n",
              "<tr>\n",
              "  <th>region_Midsouth</th>            <td>   -0.7985</td> <td>    0.089</td> <td>   -8.937</td> <td> 0.000</td> <td>   -0.974</td> <td>   -0.623</td>\n",
              "</tr>\n",
              "<tr>\n",
              "  <th>region_Nashville</th>           <td>   -1.0868</td> <td>    0.090</td> <td>  -12.130</td> <td> 0.000</td> <td>   -1.262</td> <td>   -0.911</td>\n",
              "</tr>\n",
              "<tr>\n",
              "  <th>region_NewOrleansMobile</th>    <td>   -0.9379</td> <td>    0.090</td> <td>  -10.426</td> <td> 0.000</td> <td>   -1.114</td> <td>   -0.762</td>\n",
              "</tr>\n",
              "<tr>\n",
              "  <th>region_NewYork</th>             <td>   -0.5305</td> <td>    0.089</td> <td>   -5.930</td> <td> 0.000</td> <td>   -0.706</td> <td>   -0.355</td>\n",
              "</tr>\n",
              "<tr>\n",
              "  <th>region_Northeast</th>           <td>   -0.7947</td> <td>    0.091</td> <td>   -8.766</td> <td> 0.000</td> <td>   -0.972</td> <td>   -0.617</td>\n",
              "</tr>\n",
              "<tr>\n",
              "  <th>region_NorthernNewEngland</th>  <td>   -0.8138</td> <td>    0.090</td> <td>   -9.054</td> <td> 0.000</td> <td>   -0.990</td> <td>   -0.638</td>\n",
              "</tr>\n",
              "<tr>\n",
              "  <th>region_Orlando</th>             <td>   -0.7746</td> <td>    0.090</td> <td>   -8.653</td> <td> 0.000</td> <td>   -0.950</td> <td>   -0.599</td>\n",
              "</tr>\n",
              "<tr>\n",
              "  <th>region_Philadelphia</th>        <td>   -0.6621</td> <td>    0.090</td> <td>   -7.366</td> <td> 0.000</td> <td>   -0.838</td> <td>   -0.486</td>\n",
              "</tr>\n",
              "<tr>\n",
              "  <th>region_PhoenixTucson</th>       <td>   -1.1414</td> <td>    0.090</td> <td>  -12.727</td> <td> 0.000</td> <td>   -1.317</td> <td>   -0.966</td>\n",
              "</tr>\n",
              "<tr>\n",
              "  <th>region_Pittsburgh</th>          <td>   -0.8156</td> <td>    0.090</td> <td>   -9.102</td> <td> 0.000</td> <td>   -0.991</td> <td>   -0.640</td>\n",
              "</tr>\n",
              "<tr>\n",
              "  <th>region_Plains</th>              <td>   -0.8258</td> <td>    0.089</td> <td>   -9.234</td> <td> 0.000</td> <td>   -1.001</td> <td>   -0.651</td>\n",
              "</tr>\n",
              "<tr>\n",
              "  <th>region_Portland</th>            <td>   -1.0047</td> <td>    0.090</td> <td>  -11.218</td> <td> 0.000</td> <td>   -1.180</td> <td>   -0.829</td>\n",
              "</tr>\n",
              "<tr>\n",
              "  <th>region_RaleighGreensboro</th>   <td>   -0.7103</td> <td>    0.090</td> <td>   -7.911</td> <td> 0.000</td> <td>   -0.886</td> <td>   -0.534</td>\n",
              "</tr>\n",
              "<tr>\n",
              "  <th>region_RichmondNorfolk</th>     <td>   -0.9062</td> <td>    0.090</td> <td>  -10.113</td> <td> 0.000</td> <td>   -1.082</td> <td>   -0.731</td>\n",
              "</tr>\n",
              "<tr>\n",
              "  <th>region_Roanoke</th>             <td>   -0.9354</td> <td>    0.090</td> <td>  -10.423</td> <td> 0.000</td> <td>   -1.111</td> <td>   -0.759</td>\n",
              "</tr>\n",
              "<tr>\n",
              "  <th>region_Sacramento</th>          <td>   -0.5818</td> <td>    0.090</td> <td>   -6.470</td> <td> 0.000</td> <td>   -0.758</td> <td>   -0.406</td>\n",
              "</tr>\n",
              "<tr>\n",
              "  <th>region_SanDiego</th>            <td>   -0.8566</td> <td>    0.090</td> <td>   -9.552</td> <td> 0.000</td> <td>   -1.032</td> <td>   -0.681</td>\n",
              "</tr>\n",
              "<tr>\n",
              "  <th>region_SanFrancisco</th>        <td>   -0.4441</td> <td>    0.090</td> <td>   -4.943</td> <td> 0.000</td> <td>   -0.620</td> <td>   -0.268</td>\n",
              "</tr>\n",
              "<tr>\n",
              "  <th>region_Seattle</th>             <td>   -0.8118</td> <td>    0.090</td> <td>   -9.063</td> <td> 0.000</td> <td>   -0.987</td> <td>   -0.636</td>\n",
              "</tr>\n",
              "<tr>\n",
              "  <th>region_SouthCarolina</th>       <td>   -0.8064</td> <td>    0.089</td> <td>   -9.014</td> <td> 0.000</td> <td>   -0.982</td> <td>   -0.631</td>\n",
              "</tr>\n",
              "<tr>\n",
              "  <th>region_SouthCentral</th>        <td>   -1.1467</td> <td>    0.090</td> <td>  -12.714</td> <td> 0.000</td> <td>   -1.324</td> <td>   -0.970</td>\n",
              "</tr>\n",
              "<tr>\n",
              "  <th>region_Southeast</th>           <td>   -0.8330</td> <td>    0.090</td> <td>   -9.307</td> <td> 0.000</td> <td>   -1.008</td> <td>   -0.658</td>\n",
              "</tr>\n",
              "<tr>\n",
              "  <th>region_Spokane</th>             <td>   -0.7870</td> <td>    0.090</td> <td>   -8.773</td> <td> 0.000</td> <td>   -0.963</td> <td>   -0.611</td>\n",
              "</tr>\n",
              "<tr>\n",
              "  <th>region_StLouis</th>             <td>   -0.8075</td> <td>    0.090</td> <td>   -9.017</td> <td> 0.000</td> <td>   -0.983</td> <td>   -0.632</td>\n",
              "</tr>\n",
              "<tr>\n",
              "  <th>region_Syracuse</th>            <td>   -0.7278</td> <td>    0.090</td> <td>   -8.091</td> <td> 0.000</td> <td>   -0.904</td> <td>   -0.551</td>\n",
              "</tr>\n",
              "<tr>\n",
              "  <th>region_Tampa</th>               <td>   -0.8534</td> <td>    0.090</td> <td>   -9.504</td> <td> 0.000</td> <td>   -1.029</td> <td>   -0.677</td>\n",
              "</tr>\n",
              "<tr>\n",
              "  <th>region_TotalUS</th>             <td>   -0.8082</td> <td>    0.091</td> <td>   -8.867</td> <td> 0.000</td> <td>   -0.987</td> <td>   -0.630</td>\n",
              "</tr>\n",
              "<tr>\n",
              "  <th>region_West</th>                <td>   -0.9698</td> <td>    0.089</td> <td>  -10.871</td> <td> 0.000</td> <td>   -1.145</td> <td>   -0.795</td>\n",
              "</tr>\n",
              "<tr>\n",
              "  <th>region_WestTexNewMexico</th>    <td>   -1.1345</td> <td>    0.090</td> <td>  -12.656</td> <td> 0.000</td> <td>   -1.310</td> <td>   -0.959</td>\n",
              "</tr>\n",
              "</table>\n",
              "<table class=\"simpletable\">\n",
              "<tr>\n",
              "  <th>Omnibus:</th>       <td>122.369</td> <th>  Durbin-Watson:     </th> <td>   1.998</td>\n",
              "</tr>\n",
              "<tr>\n",
              "  <th>Prob(Omnibus):</th> <td> 0.000</td>  <th>  Jarque-Bera (JB):  </th> <td> 196.486</td>\n",
              "</tr>\n",
              "<tr>\n",
              "  <th>Skew:</th>          <td> 0.012</td>  <th>  Prob(JB):          </th> <td>2.16e-43</td>\n",
              "</tr>\n",
              "<tr>\n",
              "  <th>Kurtosis:</th>      <td> 3.568</td>  <th>  Cond. No.          </th> <td>7.50e+22</td>\n",
              "</tr>\n",
              "</table><br/><br/>Notes:<br/>[1] Standard Errors assume that the covariance matrix of the errors is correctly specified.<br/>[2] The smallest eigenvalue is 4.58e-29. This might indicate that there are<br/>strong multicollinearity problems or that the design matrix is singular."
            ]
          },
          "metadata": {},
          "execution_count": 207
        }
      ]
    },
    {
      "cell_type": "code",
      "source": [
        "# prediction on test data set \n",
        "test_pred = model_train.predict(data_test)\n",
        "\n",
        "# test residual values \n",
        "test_resid = test_pred - data_test.AveragePrice\n",
        "# RMSE value for test data \n",
        "test_rmse = np.sqrt(np.mean(test_resid * test_resid))\n",
        "test_rmse #0.38"
      ],
      "metadata": {
        "colab": {
          "base_uri": "https://localhost:8080/"
        },
        "id": "ZY-WYcuOk2B1",
        "outputId": "591f5e2a-d31d-45a4-ceb9-c6a8e4ee7259"
      },
      "execution_count": 209,
      "outputs": [
        {
          "output_type": "execute_result",
          "data": {
            "text/plain": [
              "0.38817425635988356"
            ]
          },
          "metadata": {},
          "execution_count": 209
        }
      ]
    },
    {
      "cell_type": "code",
      "source": [
        "# train_data prediction\n",
        "train_pred = model_train.predict(data_train)\n",
        "\n",
        "# train residual values\n",
        "train_resid  = train_pred - data_train.AveragePrice\n",
        "# RMSE value for train data \n",
        "train_rmse = np.sqrt(np.mean(train_resid * train_resid))\n",
        "train_rmse #0.38"
      ],
      "metadata": {
        "colab": {
          "base_uri": "https://localhost:8080/"
        },
        "id": "NgygvZ34lG9T",
        "outputId": "f3bfba42-e89e-4413-ac56-de962d5de3c1"
      },
      "execution_count": 210,
      "outputs": [
        {
          "output_type": "execute_result",
          "data": {
            "text/plain": [
              "0.3857135635960523"
            ]
          },
          "metadata": {},
          "execution_count": 210
        }
      ]
    },
    {
      "cell_type": "code",
      "source": [
        "# Result : p_values for less than 0.05 &  R^2 =0.8\n",
        "#           train_rmse is 0.38 & test_rmse is 0.38\n",
        "\n",
        "#           Concluding the data is right fitting\n"
      ],
      "metadata": {
        "id": "7XN-kPkelX8f"
      },
      "execution_count": null,
      "outputs": []
    }
  ]
}