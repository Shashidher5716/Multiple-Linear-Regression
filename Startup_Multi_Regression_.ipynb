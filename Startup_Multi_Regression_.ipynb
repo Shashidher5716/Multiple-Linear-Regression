{
  "nbformat": 4,
  "nbformat_minor": 0,
  "metadata": {
    "colab": {
      "provenance": []
    },
    "kernelspec": {
      "name": "python3",
      "display_name": "Python 3"
    },
    "language_info": {
      "name": "python"
    }
  },
  "cells": [
    {
      "cell_type": "markdown",
      "source": [
        "**Business Objective** : The analytics company hwill have different roles to enhance their company"
      ],
      "metadata": {
        "id": "IRfTh7U2rWYB"
      }
    },
    {
      "cell_type": "markdown",
      "source": [
        "**Business Constraints** : In specific company what role will bring profit is unbaised so the accuracy will be little low"
      ],
      "metadata": {
        "id": "lxGH15A8rWUe"
      }
    },
    {
      "cell_type": "code",
      "execution_count": 49,
      "metadata": {
        "id": "iZXRQ6sDqhWS"
      },
      "outputs": [],
      "source": [
        "# Importing the Libraries\n",
        "\n",
        "import pandas as pd\n",
        "import matplotlib.pyplot as plt\n",
        "import numpy as np\n",
        "import seaborn as sns\n",
        "import scipy.stats as stats\n",
        "import pylab\n",
        "import statsmodels.api as sm"
      ]
    },
    {
      "cell_type": "code",
      "source": [
        "# Importing the warnings model to not get warnings\n",
        "\n",
        "import warnings\n",
        "warnings.filterwarnings('ignore')"
      ],
      "metadata": {
        "id": "hRd3M7qUrUsF"
      },
      "execution_count": 2,
      "outputs": []
    },
    {
      "cell_type": "code",
      "source": [
        "# Loading the dataset\n",
        "\n",
        "from google.colab import files\n",
        "\n",
        "uploaded = files.upload()\n"
      ],
      "metadata": {
        "colab": {
          "base_uri": "https://localhost:8080/",
          "height": 74
        },
        "id": "9gfscAAysN9E",
        "outputId": "008e6b28-1ea2-47e9-8caa-0c3b1131e9bf"
      },
      "execution_count": 3,
      "outputs": [
        {
          "output_type": "display_data",
          "data": {
            "text/plain": [
              "<IPython.core.display.HTML object>"
            ],
            "text/html": [
              "\n",
              "     <input type=\"file\" id=\"files-32002921-97a1-4db0-bf92-61a2074bb5eb\" name=\"files[]\" multiple disabled\n",
              "        style=\"border:none\" />\n",
              "     <output id=\"result-32002921-97a1-4db0-bf92-61a2074bb5eb\">\n",
              "      Upload widget is only available when the cell has been executed in the\n",
              "      current browser session. Please rerun this cell to enable.\n",
              "      </output>\n",
              "      <script>// Copyright 2017 Google LLC\n",
              "//\n",
              "// Licensed under the Apache License, Version 2.0 (the \"License\");\n",
              "// you may not use this file except in compliance with the License.\n",
              "// You may obtain a copy of the License at\n",
              "//\n",
              "//      http://www.apache.org/licenses/LICENSE-2.0\n",
              "//\n",
              "// Unless required by applicable law or agreed to in writing, software\n",
              "// distributed under the License is distributed on an \"AS IS\" BASIS,\n",
              "// WITHOUT WARRANTIES OR CONDITIONS OF ANY KIND, either express or implied.\n",
              "// See the License for the specific language governing permissions and\n",
              "// limitations under the License.\n",
              "\n",
              "/**\n",
              " * @fileoverview Helpers for google.colab Python module.\n",
              " */\n",
              "(function(scope) {\n",
              "function span(text, styleAttributes = {}) {\n",
              "  const element = document.createElement('span');\n",
              "  element.textContent = text;\n",
              "  for (const key of Object.keys(styleAttributes)) {\n",
              "    element.style[key] = styleAttributes[key];\n",
              "  }\n",
              "  return element;\n",
              "}\n",
              "\n",
              "// Max number of bytes which will be uploaded at a time.\n",
              "const MAX_PAYLOAD_SIZE = 100 * 1024;\n",
              "\n",
              "function _uploadFiles(inputId, outputId) {\n",
              "  const steps = uploadFilesStep(inputId, outputId);\n",
              "  const outputElement = document.getElementById(outputId);\n",
              "  // Cache steps on the outputElement to make it available for the next call\n",
              "  // to uploadFilesContinue from Python.\n",
              "  outputElement.steps = steps;\n",
              "\n",
              "  return _uploadFilesContinue(outputId);\n",
              "}\n",
              "\n",
              "// This is roughly an async generator (not supported in the browser yet),\n",
              "// where there are multiple asynchronous steps and the Python side is going\n",
              "// to poll for completion of each step.\n",
              "// This uses a Promise to block the python side on completion of each step,\n",
              "// then passes the result of the previous step as the input to the next step.\n",
              "function _uploadFilesContinue(outputId) {\n",
              "  const outputElement = document.getElementById(outputId);\n",
              "  const steps = outputElement.steps;\n",
              "\n",
              "  const next = steps.next(outputElement.lastPromiseValue);\n",
              "  return Promise.resolve(next.value.promise).then((value) => {\n",
              "    // Cache the last promise value to make it available to the next\n",
              "    // step of the generator.\n",
              "    outputElement.lastPromiseValue = value;\n",
              "    return next.value.response;\n",
              "  });\n",
              "}\n",
              "\n",
              "/**\n",
              " * Generator function which is called between each async step of the upload\n",
              " * process.\n",
              " * @param {string} inputId Element ID of the input file picker element.\n",
              " * @param {string} outputId Element ID of the output display.\n",
              " * @return {!Iterable<!Object>} Iterable of next steps.\n",
              " */\n",
              "function* uploadFilesStep(inputId, outputId) {\n",
              "  const inputElement = document.getElementById(inputId);\n",
              "  inputElement.disabled = false;\n",
              "\n",
              "  const outputElement = document.getElementById(outputId);\n",
              "  outputElement.innerHTML = '';\n",
              "\n",
              "  const pickedPromise = new Promise((resolve) => {\n",
              "    inputElement.addEventListener('change', (e) => {\n",
              "      resolve(e.target.files);\n",
              "    });\n",
              "  });\n",
              "\n",
              "  const cancel = document.createElement('button');\n",
              "  inputElement.parentElement.appendChild(cancel);\n",
              "  cancel.textContent = 'Cancel upload';\n",
              "  const cancelPromise = new Promise((resolve) => {\n",
              "    cancel.onclick = () => {\n",
              "      resolve(null);\n",
              "    };\n",
              "  });\n",
              "\n",
              "  // Wait for the user to pick the files.\n",
              "  const files = yield {\n",
              "    promise: Promise.race([pickedPromise, cancelPromise]),\n",
              "    response: {\n",
              "      action: 'starting',\n",
              "    }\n",
              "  };\n",
              "\n",
              "  cancel.remove();\n",
              "\n",
              "  // Disable the input element since further picks are not allowed.\n",
              "  inputElement.disabled = true;\n",
              "\n",
              "  if (!files) {\n",
              "    return {\n",
              "      response: {\n",
              "        action: 'complete',\n",
              "      }\n",
              "    };\n",
              "  }\n",
              "\n",
              "  for (const file of files) {\n",
              "    const li = document.createElement('li');\n",
              "    li.append(span(file.name, {fontWeight: 'bold'}));\n",
              "    li.append(span(\n",
              "        `(${file.type || 'n/a'}) - ${file.size} bytes, ` +\n",
              "        `last modified: ${\n",
              "            file.lastModifiedDate ? file.lastModifiedDate.toLocaleDateString() :\n",
              "                                    'n/a'} - `));\n",
              "    const percent = span('0% done');\n",
              "    li.appendChild(percent);\n",
              "\n",
              "    outputElement.appendChild(li);\n",
              "\n",
              "    const fileDataPromise = new Promise((resolve) => {\n",
              "      const reader = new FileReader();\n",
              "      reader.onload = (e) => {\n",
              "        resolve(e.target.result);\n",
              "      };\n",
              "      reader.readAsArrayBuffer(file);\n",
              "    });\n",
              "    // Wait for the data to be ready.\n",
              "    let fileData = yield {\n",
              "      promise: fileDataPromise,\n",
              "      response: {\n",
              "        action: 'continue',\n",
              "      }\n",
              "    };\n",
              "\n",
              "    // Use a chunked sending to avoid message size limits. See b/62115660.\n",
              "    let position = 0;\n",
              "    do {\n",
              "      const length = Math.min(fileData.byteLength - position, MAX_PAYLOAD_SIZE);\n",
              "      const chunk = new Uint8Array(fileData, position, length);\n",
              "      position += length;\n",
              "\n",
              "      const base64 = btoa(String.fromCharCode.apply(null, chunk));\n",
              "      yield {\n",
              "        response: {\n",
              "          action: 'append',\n",
              "          file: file.name,\n",
              "          data: base64,\n",
              "        },\n",
              "      };\n",
              "\n",
              "      let percentDone = fileData.byteLength === 0 ?\n",
              "          100 :\n",
              "          Math.round((position / fileData.byteLength) * 100);\n",
              "      percent.textContent = `${percentDone}% done`;\n",
              "\n",
              "    } while (position < fileData.byteLength);\n",
              "  }\n",
              "\n",
              "  // All done.\n",
              "  yield {\n",
              "    response: {\n",
              "      action: 'complete',\n",
              "    }\n",
              "  };\n",
              "}\n",
              "\n",
              "scope.google = scope.google || {};\n",
              "scope.google.colab = scope.google.colab || {};\n",
              "scope.google.colab._files = {\n",
              "  _uploadFiles,\n",
              "  _uploadFilesContinue,\n",
              "};\n",
              "})(self);\n",
              "</script> "
            ]
          },
          "metadata": {}
        },
        {
          "output_type": "stream",
          "name": "stdout",
          "text": [
            "Saving 50_Startups.csv to 50_Startups.csv\n"
          ]
        }
      ]
    },
    {
      "cell_type": "code",
      "source": [
        "# Accessing the csv file\n",
        "\n",
        "data = pd.read_csv('50_Startups.csv')"
      ],
      "metadata": {
        "id": "vxLtHcGUsk0z"
      },
      "execution_count": 4,
      "outputs": []
    },
    {
      "cell_type": "code",
      "source": [
        "# Checking the head of data\n",
        "\n",
        "data.head()"
      ],
      "metadata": {
        "colab": {
          "base_uri": "https://localhost:8080/",
          "height": 206
        },
        "id": "uvtOYsL0s20J",
        "outputId": "a8b9c3aa-3ab5-48c4-af4f-8d2923ce8e73"
      },
      "execution_count": 5,
      "outputs": [
        {
          "output_type": "execute_result",
          "data": {
            "text/plain": [
              "   R&D Spend  Administration  Marketing Spend       State     Profit\n",
              "0  165349.20       136897.80        471784.10    New York  192261.83\n",
              "1  162597.70       151377.59        443898.53  California  191792.06\n",
              "2  153441.51       101145.55        407934.54     Florida  191050.39\n",
              "3  144372.41       118671.85        383199.62    New York  182901.99\n",
              "4  142107.34        91391.77        366168.42     Florida  166187.94"
            ],
            "text/html": [
              "\n",
              "  <div id=\"df-09d69bc3-5fc3-4fd1-a598-1eb13483dffc\">\n",
              "    <div class=\"colab-df-container\">\n",
              "      <div>\n",
              "<style scoped>\n",
              "    .dataframe tbody tr th:only-of-type {\n",
              "        vertical-align: middle;\n",
              "    }\n",
              "\n",
              "    .dataframe tbody tr th {\n",
              "        vertical-align: top;\n",
              "    }\n",
              "\n",
              "    .dataframe thead th {\n",
              "        text-align: right;\n",
              "    }\n",
              "</style>\n",
              "<table border=\"1\" class=\"dataframe\">\n",
              "  <thead>\n",
              "    <tr style=\"text-align: right;\">\n",
              "      <th></th>\n",
              "      <th>R&amp;D Spend</th>\n",
              "      <th>Administration</th>\n",
              "      <th>Marketing Spend</th>\n",
              "      <th>State</th>\n",
              "      <th>Profit</th>\n",
              "    </tr>\n",
              "  </thead>\n",
              "  <tbody>\n",
              "    <tr>\n",
              "      <th>0</th>\n",
              "      <td>165349.20</td>\n",
              "      <td>136897.80</td>\n",
              "      <td>471784.10</td>\n",
              "      <td>New York</td>\n",
              "      <td>192261.83</td>\n",
              "    </tr>\n",
              "    <tr>\n",
              "      <th>1</th>\n",
              "      <td>162597.70</td>\n",
              "      <td>151377.59</td>\n",
              "      <td>443898.53</td>\n",
              "      <td>California</td>\n",
              "      <td>191792.06</td>\n",
              "    </tr>\n",
              "    <tr>\n",
              "      <th>2</th>\n",
              "      <td>153441.51</td>\n",
              "      <td>101145.55</td>\n",
              "      <td>407934.54</td>\n",
              "      <td>Florida</td>\n",
              "      <td>191050.39</td>\n",
              "    </tr>\n",
              "    <tr>\n",
              "      <th>3</th>\n",
              "      <td>144372.41</td>\n",
              "      <td>118671.85</td>\n",
              "      <td>383199.62</td>\n",
              "      <td>New York</td>\n",
              "      <td>182901.99</td>\n",
              "    </tr>\n",
              "    <tr>\n",
              "      <th>4</th>\n",
              "      <td>142107.34</td>\n",
              "      <td>91391.77</td>\n",
              "      <td>366168.42</td>\n",
              "      <td>Florida</td>\n",
              "      <td>166187.94</td>\n",
              "    </tr>\n",
              "  </tbody>\n",
              "</table>\n",
              "</div>\n",
              "      <button class=\"colab-df-convert\" onclick=\"convertToInteractive('df-09d69bc3-5fc3-4fd1-a598-1eb13483dffc')\"\n",
              "              title=\"Convert this dataframe to an interactive table.\"\n",
              "              style=\"display:none;\">\n",
              "        \n",
              "  <svg xmlns=\"http://www.w3.org/2000/svg\" height=\"24px\"viewBox=\"0 0 24 24\"\n",
              "       width=\"24px\">\n",
              "    <path d=\"M0 0h24v24H0V0z\" fill=\"none\"/>\n",
              "    <path d=\"M18.56 5.44l.94 2.06.94-2.06 2.06-.94-2.06-.94-.94-2.06-.94 2.06-2.06.94zm-11 1L8.5 8.5l.94-2.06 2.06-.94-2.06-.94L8.5 2.5l-.94 2.06-2.06.94zm10 10l.94 2.06.94-2.06 2.06-.94-2.06-.94-.94-2.06-.94 2.06-2.06.94z\"/><path d=\"M17.41 7.96l-1.37-1.37c-.4-.4-.92-.59-1.43-.59-.52 0-1.04.2-1.43.59L10.3 9.45l-7.72 7.72c-.78.78-.78 2.05 0 2.83L4 21.41c.39.39.9.59 1.41.59.51 0 1.02-.2 1.41-.59l7.78-7.78 2.81-2.81c.8-.78.8-2.07 0-2.86zM5.41 20L4 18.59l7.72-7.72 1.47 1.35L5.41 20z\"/>\n",
              "  </svg>\n",
              "      </button>\n",
              "      \n",
              "  <style>\n",
              "    .colab-df-container {\n",
              "      display:flex;\n",
              "      flex-wrap:wrap;\n",
              "      gap: 12px;\n",
              "    }\n",
              "\n",
              "    .colab-df-convert {\n",
              "      background-color: #E8F0FE;\n",
              "      border: none;\n",
              "      border-radius: 50%;\n",
              "      cursor: pointer;\n",
              "      display: none;\n",
              "      fill: #1967D2;\n",
              "      height: 32px;\n",
              "      padding: 0 0 0 0;\n",
              "      width: 32px;\n",
              "    }\n",
              "\n",
              "    .colab-df-convert:hover {\n",
              "      background-color: #E2EBFA;\n",
              "      box-shadow: 0px 1px 2px rgba(60, 64, 67, 0.3), 0px 1px 3px 1px rgba(60, 64, 67, 0.15);\n",
              "      fill: #174EA6;\n",
              "    }\n",
              "\n",
              "    [theme=dark] .colab-df-convert {\n",
              "      background-color: #3B4455;\n",
              "      fill: #D2E3FC;\n",
              "    }\n",
              "\n",
              "    [theme=dark] .colab-df-convert:hover {\n",
              "      background-color: #434B5C;\n",
              "      box-shadow: 0px 1px 3px 1px rgba(0, 0, 0, 0.15);\n",
              "      filter: drop-shadow(0px 1px 2px rgba(0, 0, 0, 0.3));\n",
              "      fill: #FFFFFF;\n",
              "    }\n",
              "  </style>\n",
              "\n",
              "      <script>\n",
              "        const buttonEl =\n",
              "          document.querySelector('#df-09d69bc3-5fc3-4fd1-a598-1eb13483dffc button.colab-df-convert');\n",
              "        buttonEl.style.display =\n",
              "          google.colab.kernel.accessAllowed ? 'block' : 'none';\n",
              "\n",
              "        async function convertToInteractive(key) {\n",
              "          const element = document.querySelector('#df-09d69bc3-5fc3-4fd1-a598-1eb13483dffc');\n",
              "          const dataTable =\n",
              "            await google.colab.kernel.invokeFunction('convertToInteractive',\n",
              "                                                     [key], {});\n",
              "          if (!dataTable) return;\n",
              "\n",
              "          const docLinkHtml = 'Like what you see? Visit the ' +\n",
              "            '<a target=\"_blank\" href=https://colab.research.google.com/notebooks/data_table.ipynb>data table notebook</a>'\n",
              "            + ' to learn more about interactive tables.';\n",
              "          element.innerHTML = '';\n",
              "          dataTable['output_type'] = 'display_data';\n",
              "          await google.colab.output.renderOutput(dataTable, element);\n",
              "          const docLink = document.createElement('div');\n",
              "          docLink.innerHTML = docLinkHtml;\n",
              "          element.appendChild(docLink);\n",
              "        }\n",
              "      </script>\n",
              "    </div>\n",
              "  </div>\n",
              "  "
            ]
          },
          "metadata": {},
          "execution_count": 5
        }
      ]
    },
    {
      "cell_type": "code",
      "source": [
        "# Checking the shape of data\n",
        "\n",
        "data.shape"
      ],
      "metadata": {
        "colab": {
          "base_uri": "https://localhost:8080/"
        },
        "id": "J50T8Ie5tAR8",
        "outputId": "3152b64a-1836-4cbe-8549-65197568f27d"
      },
      "execution_count": 6,
      "outputs": [
        {
          "output_type": "execute_result",
          "data": {
            "text/plain": [
              "(50, 5)"
            ]
          },
          "metadata": {},
          "execution_count": 6
        }
      ]
    },
    {
      "cell_type": "code",
      "source": [
        "# 1st Business Moment : Measures of Central Tendency\n",
        "# Which we calculate mean,median,mode\n",
        "\n",
        "data.mean()\n",
        "\n"
      ],
      "metadata": {
        "colab": {
          "base_uri": "https://localhost:8080/"
        },
        "id": "JpwFLHxJtNJc",
        "outputId": "e229b3eb-7e7d-4906-b9c3-5567c5efb4ae"
      },
      "execution_count": 7,
      "outputs": [
        {
          "output_type": "execute_result",
          "data": {
            "text/plain": [
              "R&D Spend           73721.6156\n",
              "Administration     121344.6396\n",
              "Marketing Spend    211025.0978\n",
              "Profit             112012.6392\n",
              "dtype: float64"
            ]
          },
          "metadata": {},
          "execution_count": 7
        }
      ]
    },
    {
      "cell_type": "code",
      "source": [
        "data.median()"
      ],
      "metadata": {
        "colab": {
          "base_uri": "https://localhost:8080/"
        },
        "id": "bxItaoTntfZP",
        "outputId": "10fcc695-aae3-4165-bb51-54b1fcc9166b"
      },
      "execution_count": 8,
      "outputs": [
        {
          "output_type": "execute_result",
          "data": {
            "text/plain": [
              "R&D Spend           73051.080\n",
              "Administration     122699.795\n",
              "Marketing Spend    212716.240\n",
              "Profit             107978.190\n",
              "dtype: float64"
            ]
          },
          "metadata": {},
          "execution_count": 8
        }
      ]
    },
    {
      "cell_type": "code",
      "source": [
        "data.mode()"
      ],
      "metadata": {
        "colab": {
          "base_uri": "https://localhost:8080/",
          "height": 1000
        },
        "id": "rEphuEl2thdp",
        "outputId": "1c5b818c-3d0b-439b-ee36-54b6355fb4a6"
      },
      "execution_count": 9,
      "outputs": [
        {
          "output_type": "execute_result",
          "data": {
            "text/plain": [
              "    R&D Spend  Administration  Marketing Spend       State     Profit\n",
              "0         0.0        51283.14              0.0  California   14681.40\n",
              "1         NaN        51743.15              NaN    New York   35673.41\n",
              "2         NaN        65947.93              NaN         NaN   42559.73\n",
              "3         NaN        82982.09              NaN         NaN   49490.75\n",
              "4         NaN        84710.77              NaN         NaN   64926.08\n",
              "5         NaN        85047.44              NaN         NaN   65200.33\n",
              "6         NaN        91391.77              NaN         NaN   69758.98\n",
              "7         NaN        91790.61              NaN         NaN   71498.49\n",
              "8         NaN        96189.63              NaN         NaN   77798.83\n",
              "9         NaN        99281.34              NaN         NaN   78239.91\n",
              "10        NaN        99814.71              NaN         NaN   81005.76\n",
              "11        NaN       101145.55              NaN         NaN   81229.06\n",
              "12        NaN       103057.49              NaN         NaN   89949.14\n",
              "13        NaN       105751.03              NaN         NaN   90708.19\n",
              "14        NaN       108679.17              NaN         NaN   96479.51\n",
              "15        NaN       110594.11              NaN         NaN   96712.80\n",
              "16        NaN       113867.30              NaN         NaN   96778.92\n",
              "17        NaN       114175.79              NaN         NaN   97427.84\n",
              "18        NaN       115641.28              NaN         NaN   97483.56\n",
              "19        NaN       115816.21              NaN         NaN   99937.59\n",
              "20        NaN       116983.80              NaN         NaN  101004.64\n",
              "21        NaN       118546.05              NaN         NaN  103282.38\n",
              "22        NaN       118671.85              NaN         NaN  105008.31\n",
              "23        NaN       121597.55              NaN         NaN  105733.54\n",
              "24        NaN       122616.84              NaN         NaN  107404.34\n",
              "25        NaN       122782.75              NaN         NaN  108552.04\n",
              "26        NaN       124153.04              NaN         NaN  108733.99\n",
              "27        NaN       127056.21              NaN         NaN  110352.25\n",
              "28        NaN       127320.38              NaN         NaN  111313.02\n",
              "29        NaN       127382.30              NaN         NaN  118474.03\n",
              "30        NaN       127864.55              NaN         NaN  122776.86\n",
              "31        NaN       129219.61              NaN         NaN  124266.90\n",
              "32        NaN       135426.92              NaN         NaN  125370.37\n",
              "33        NaN       135495.07              NaN         NaN  126992.93\n",
              "34        NaN       136897.80              NaN         NaN  129917.04\n",
              "35        NaN       139553.16              NaN         NaN  132602.65\n",
              "36        NaN       144135.98              NaN         NaN  134307.35\n",
              "37        NaN       145077.58              NaN         NaN  141585.52\n",
              "38        NaN       145530.06              NaN         NaN  144259.40\n",
              "39        NaN       147198.87              NaN         NaN  146121.95\n",
              "40        NaN       148718.95              NaN         NaN  149759.96\n",
              "41        NaN       151377.59              NaN         NaN  152211.77\n",
              "42        NaN       152701.92              NaN         NaN  155752.60\n",
              "43        NaN       153032.06              NaN         NaN  156122.51\n",
              "44        NaN       153514.11              NaN         NaN  156991.12\n",
              "45        NaN       153773.43              NaN         NaN  166187.94\n",
              "46        NaN       154806.14              NaN         NaN  182901.99\n",
              "47        NaN       156547.42              NaN         NaN  191050.39\n",
              "48        NaN       157693.92              NaN         NaN  191792.06\n",
              "49        NaN       182645.56              NaN         NaN  192261.83"
            ],
            "text/html": [
              "\n",
              "  <div id=\"df-16f8315c-6621-4898-a6fe-2aaf1418b817\">\n",
              "    <div class=\"colab-df-container\">\n",
              "      <div>\n",
              "<style scoped>\n",
              "    .dataframe tbody tr th:only-of-type {\n",
              "        vertical-align: middle;\n",
              "    }\n",
              "\n",
              "    .dataframe tbody tr th {\n",
              "        vertical-align: top;\n",
              "    }\n",
              "\n",
              "    .dataframe thead th {\n",
              "        text-align: right;\n",
              "    }\n",
              "</style>\n",
              "<table border=\"1\" class=\"dataframe\">\n",
              "  <thead>\n",
              "    <tr style=\"text-align: right;\">\n",
              "      <th></th>\n",
              "      <th>R&amp;D Spend</th>\n",
              "      <th>Administration</th>\n",
              "      <th>Marketing Spend</th>\n",
              "      <th>State</th>\n",
              "      <th>Profit</th>\n",
              "    </tr>\n",
              "  </thead>\n",
              "  <tbody>\n",
              "    <tr>\n",
              "      <th>0</th>\n",
              "      <td>0.0</td>\n",
              "      <td>51283.14</td>\n",
              "      <td>0.0</td>\n",
              "      <td>California</td>\n",
              "      <td>14681.40</td>\n",
              "    </tr>\n",
              "    <tr>\n",
              "      <th>1</th>\n",
              "      <td>NaN</td>\n",
              "      <td>51743.15</td>\n",
              "      <td>NaN</td>\n",
              "      <td>New York</td>\n",
              "      <td>35673.41</td>\n",
              "    </tr>\n",
              "    <tr>\n",
              "      <th>2</th>\n",
              "      <td>NaN</td>\n",
              "      <td>65947.93</td>\n",
              "      <td>NaN</td>\n",
              "      <td>NaN</td>\n",
              "      <td>42559.73</td>\n",
              "    </tr>\n",
              "    <tr>\n",
              "      <th>3</th>\n",
              "      <td>NaN</td>\n",
              "      <td>82982.09</td>\n",
              "      <td>NaN</td>\n",
              "      <td>NaN</td>\n",
              "      <td>49490.75</td>\n",
              "    </tr>\n",
              "    <tr>\n",
              "      <th>4</th>\n",
              "      <td>NaN</td>\n",
              "      <td>84710.77</td>\n",
              "      <td>NaN</td>\n",
              "      <td>NaN</td>\n",
              "      <td>64926.08</td>\n",
              "    </tr>\n",
              "    <tr>\n",
              "      <th>5</th>\n",
              "      <td>NaN</td>\n",
              "      <td>85047.44</td>\n",
              "      <td>NaN</td>\n",
              "      <td>NaN</td>\n",
              "      <td>65200.33</td>\n",
              "    </tr>\n",
              "    <tr>\n",
              "      <th>6</th>\n",
              "      <td>NaN</td>\n",
              "      <td>91391.77</td>\n",
              "      <td>NaN</td>\n",
              "      <td>NaN</td>\n",
              "      <td>69758.98</td>\n",
              "    </tr>\n",
              "    <tr>\n",
              "      <th>7</th>\n",
              "      <td>NaN</td>\n",
              "      <td>91790.61</td>\n",
              "      <td>NaN</td>\n",
              "      <td>NaN</td>\n",
              "      <td>71498.49</td>\n",
              "    </tr>\n",
              "    <tr>\n",
              "      <th>8</th>\n",
              "      <td>NaN</td>\n",
              "      <td>96189.63</td>\n",
              "      <td>NaN</td>\n",
              "      <td>NaN</td>\n",
              "      <td>77798.83</td>\n",
              "    </tr>\n",
              "    <tr>\n",
              "      <th>9</th>\n",
              "      <td>NaN</td>\n",
              "      <td>99281.34</td>\n",
              "      <td>NaN</td>\n",
              "      <td>NaN</td>\n",
              "      <td>78239.91</td>\n",
              "    </tr>\n",
              "    <tr>\n",
              "      <th>10</th>\n",
              "      <td>NaN</td>\n",
              "      <td>99814.71</td>\n",
              "      <td>NaN</td>\n",
              "      <td>NaN</td>\n",
              "      <td>81005.76</td>\n",
              "    </tr>\n",
              "    <tr>\n",
              "      <th>11</th>\n",
              "      <td>NaN</td>\n",
              "      <td>101145.55</td>\n",
              "      <td>NaN</td>\n",
              "      <td>NaN</td>\n",
              "      <td>81229.06</td>\n",
              "    </tr>\n",
              "    <tr>\n",
              "      <th>12</th>\n",
              "      <td>NaN</td>\n",
              "      <td>103057.49</td>\n",
              "      <td>NaN</td>\n",
              "      <td>NaN</td>\n",
              "      <td>89949.14</td>\n",
              "    </tr>\n",
              "    <tr>\n",
              "      <th>13</th>\n",
              "      <td>NaN</td>\n",
              "      <td>105751.03</td>\n",
              "      <td>NaN</td>\n",
              "      <td>NaN</td>\n",
              "      <td>90708.19</td>\n",
              "    </tr>\n",
              "    <tr>\n",
              "      <th>14</th>\n",
              "      <td>NaN</td>\n",
              "      <td>108679.17</td>\n",
              "      <td>NaN</td>\n",
              "      <td>NaN</td>\n",
              "      <td>96479.51</td>\n",
              "    </tr>\n",
              "    <tr>\n",
              "      <th>15</th>\n",
              "      <td>NaN</td>\n",
              "      <td>110594.11</td>\n",
              "      <td>NaN</td>\n",
              "      <td>NaN</td>\n",
              "      <td>96712.80</td>\n",
              "    </tr>\n",
              "    <tr>\n",
              "      <th>16</th>\n",
              "      <td>NaN</td>\n",
              "      <td>113867.30</td>\n",
              "      <td>NaN</td>\n",
              "      <td>NaN</td>\n",
              "      <td>96778.92</td>\n",
              "    </tr>\n",
              "    <tr>\n",
              "      <th>17</th>\n",
              "      <td>NaN</td>\n",
              "      <td>114175.79</td>\n",
              "      <td>NaN</td>\n",
              "      <td>NaN</td>\n",
              "      <td>97427.84</td>\n",
              "    </tr>\n",
              "    <tr>\n",
              "      <th>18</th>\n",
              "      <td>NaN</td>\n",
              "      <td>115641.28</td>\n",
              "      <td>NaN</td>\n",
              "      <td>NaN</td>\n",
              "      <td>97483.56</td>\n",
              "    </tr>\n",
              "    <tr>\n",
              "      <th>19</th>\n",
              "      <td>NaN</td>\n",
              "      <td>115816.21</td>\n",
              "      <td>NaN</td>\n",
              "      <td>NaN</td>\n",
              "      <td>99937.59</td>\n",
              "    </tr>\n",
              "    <tr>\n",
              "      <th>20</th>\n",
              "      <td>NaN</td>\n",
              "      <td>116983.80</td>\n",
              "      <td>NaN</td>\n",
              "      <td>NaN</td>\n",
              "      <td>101004.64</td>\n",
              "    </tr>\n",
              "    <tr>\n",
              "      <th>21</th>\n",
              "      <td>NaN</td>\n",
              "      <td>118546.05</td>\n",
              "      <td>NaN</td>\n",
              "      <td>NaN</td>\n",
              "      <td>103282.38</td>\n",
              "    </tr>\n",
              "    <tr>\n",
              "      <th>22</th>\n",
              "      <td>NaN</td>\n",
              "      <td>118671.85</td>\n",
              "      <td>NaN</td>\n",
              "      <td>NaN</td>\n",
              "      <td>105008.31</td>\n",
              "    </tr>\n",
              "    <tr>\n",
              "      <th>23</th>\n",
              "      <td>NaN</td>\n",
              "      <td>121597.55</td>\n",
              "      <td>NaN</td>\n",
              "      <td>NaN</td>\n",
              "      <td>105733.54</td>\n",
              "    </tr>\n",
              "    <tr>\n",
              "      <th>24</th>\n",
              "      <td>NaN</td>\n",
              "      <td>122616.84</td>\n",
              "      <td>NaN</td>\n",
              "      <td>NaN</td>\n",
              "      <td>107404.34</td>\n",
              "    </tr>\n",
              "    <tr>\n",
              "      <th>25</th>\n",
              "      <td>NaN</td>\n",
              "      <td>122782.75</td>\n",
              "      <td>NaN</td>\n",
              "      <td>NaN</td>\n",
              "      <td>108552.04</td>\n",
              "    </tr>\n",
              "    <tr>\n",
              "      <th>26</th>\n",
              "      <td>NaN</td>\n",
              "      <td>124153.04</td>\n",
              "      <td>NaN</td>\n",
              "      <td>NaN</td>\n",
              "      <td>108733.99</td>\n",
              "    </tr>\n",
              "    <tr>\n",
              "      <th>27</th>\n",
              "      <td>NaN</td>\n",
              "      <td>127056.21</td>\n",
              "      <td>NaN</td>\n",
              "      <td>NaN</td>\n",
              "      <td>110352.25</td>\n",
              "    </tr>\n",
              "    <tr>\n",
              "      <th>28</th>\n",
              "      <td>NaN</td>\n",
              "      <td>127320.38</td>\n",
              "      <td>NaN</td>\n",
              "      <td>NaN</td>\n",
              "      <td>111313.02</td>\n",
              "    </tr>\n",
              "    <tr>\n",
              "      <th>29</th>\n",
              "      <td>NaN</td>\n",
              "      <td>127382.30</td>\n",
              "      <td>NaN</td>\n",
              "      <td>NaN</td>\n",
              "      <td>118474.03</td>\n",
              "    </tr>\n",
              "    <tr>\n",
              "      <th>30</th>\n",
              "      <td>NaN</td>\n",
              "      <td>127864.55</td>\n",
              "      <td>NaN</td>\n",
              "      <td>NaN</td>\n",
              "      <td>122776.86</td>\n",
              "    </tr>\n",
              "    <tr>\n",
              "      <th>31</th>\n",
              "      <td>NaN</td>\n",
              "      <td>129219.61</td>\n",
              "      <td>NaN</td>\n",
              "      <td>NaN</td>\n",
              "      <td>124266.90</td>\n",
              "    </tr>\n",
              "    <tr>\n",
              "      <th>32</th>\n",
              "      <td>NaN</td>\n",
              "      <td>135426.92</td>\n",
              "      <td>NaN</td>\n",
              "      <td>NaN</td>\n",
              "      <td>125370.37</td>\n",
              "    </tr>\n",
              "    <tr>\n",
              "      <th>33</th>\n",
              "      <td>NaN</td>\n",
              "      <td>135495.07</td>\n",
              "      <td>NaN</td>\n",
              "      <td>NaN</td>\n",
              "      <td>126992.93</td>\n",
              "    </tr>\n",
              "    <tr>\n",
              "      <th>34</th>\n",
              "      <td>NaN</td>\n",
              "      <td>136897.80</td>\n",
              "      <td>NaN</td>\n",
              "      <td>NaN</td>\n",
              "      <td>129917.04</td>\n",
              "    </tr>\n",
              "    <tr>\n",
              "      <th>35</th>\n",
              "      <td>NaN</td>\n",
              "      <td>139553.16</td>\n",
              "      <td>NaN</td>\n",
              "      <td>NaN</td>\n",
              "      <td>132602.65</td>\n",
              "    </tr>\n",
              "    <tr>\n",
              "      <th>36</th>\n",
              "      <td>NaN</td>\n",
              "      <td>144135.98</td>\n",
              "      <td>NaN</td>\n",
              "      <td>NaN</td>\n",
              "      <td>134307.35</td>\n",
              "    </tr>\n",
              "    <tr>\n",
              "      <th>37</th>\n",
              "      <td>NaN</td>\n",
              "      <td>145077.58</td>\n",
              "      <td>NaN</td>\n",
              "      <td>NaN</td>\n",
              "      <td>141585.52</td>\n",
              "    </tr>\n",
              "    <tr>\n",
              "      <th>38</th>\n",
              "      <td>NaN</td>\n",
              "      <td>145530.06</td>\n",
              "      <td>NaN</td>\n",
              "      <td>NaN</td>\n",
              "      <td>144259.40</td>\n",
              "    </tr>\n",
              "    <tr>\n",
              "      <th>39</th>\n",
              "      <td>NaN</td>\n",
              "      <td>147198.87</td>\n",
              "      <td>NaN</td>\n",
              "      <td>NaN</td>\n",
              "      <td>146121.95</td>\n",
              "    </tr>\n",
              "    <tr>\n",
              "      <th>40</th>\n",
              "      <td>NaN</td>\n",
              "      <td>148718.95</td>\n",
              "      <td>NaN</td>\n",
              "      <td>NaN</td>\n",
              "      <td>149759.96</td>\n",
              "    </tr>\n",
              "    <tr>\n",
              "      <th>41</th>\n",
              "      <td>NaN</td>\n",
              "      <td>151377.59</td>\n",
              "      <td>NaN</td>\n",
              "      <td>NaN</td>\n",
              "      <td>152211.77</td>\n",
              "    </tr>\n",
              "    <tr>\n",
              "      <th>42</th>\n",
              "      <td>NaN</td>\n",
              "      <td>152701.92</td>\n",
              "      <td>NaN</td>\n",
              "      <td>NaN</td>\n",
              "      <td>155752.60</td>\n",
              "    </tr>\n",
              "    <tr>\n",
              "      <th>43</th>\n",
              "      <td>NaN</td>\n",
              "      <td>153032.06</td>\n",
              "      <td>NaN</td>\n",
              "      <td>NaN</td>\n",
              "      <td>156122.51</td>\n",
              "    </tr>\n",
              "    <tr>\n",
              "      <th>44</th>\n",
              "      <td>NaN</td>\n",
              "      <td>153514.11</td>\n",
              "      <td>NaN</td>\n",
              "      <td>NaN</td>\n",
              "      <td>156991.12</td>\n",
              "    </tr>\n",
              "    <tr>\n",
              "      <th>45</th>\n",
              "      <td>NaN</td>\n",
              "      <td>153773.43</td>\n",
              "      <td>NaN</td>\n",
              "      <td>NaN</td>\n",
              "      <td>166187.94</td>\n",
              "    </tr>\n",
              "    <tr>\n",
              "      <th>46</th>\n",
              "      <td>NaN</td>\n",
              "      <td>154806.14</td>\n",
              "      <td>NaN</td>\n",
              "      <td>NaN</td>\n",
              "      <td>182901.99</td>\n",
              "    </tr>\n",
              "    <tr>\n",
              "      <th>47</th>\n",
              "      <td>NaN</td>\n",
              "      <td>156547.42</td>\n",
              "      <td>NaN</td>\n",
              "      <td>NaN</td>\n",
              "      <td>191050.39</td>\n",
              "    </tr>\n",
              "    <tr>\n",
              "      <th>48</th>\n",
              "      <td>NaN</td>\n",
              "      <td>157693.92</td>\n",
              "      <td>NaN</td>\n",
              "      <td>NaN</td>\n",
              "      <td>191792.06</td>\n",
              "    </tr>\n",
              "    <tr>\n",
              "      <th>49</th>\n",
              "      <td>NaN</td>\n",
              "      <td>182645.56</td>\n",
              "      <td>NaN</td>\n",
              "      <td>NaN</td>\n",
              "      <td>192261.83</td>\n",
              "    </tr>\n",
              "  </tbody>\n",
              "</table>\n",
              "</div>\n",
              "      <button class=\"colab-df-convert\" onclick=\"convertToInteractive('df-16f8315c-6621-4898-a6fe-2aaf1418b817')\"\n",
              "              title=\"Convert this dataframe to an interactive table.\"\n",
              "              style=\"display:none;\">\n",
              "        \n",
              "  <svg xmlns=\"http://www.w3.org/2000/svg\" height=\"24px\"viewBox=\"0 0 24 24\"\n",
              "       width=\"24px\">\n",
              "    <path d=\"M0 0h24v24H0V0z\" fill=\"none\"/>\n",
              "    <path d=\"M18.56 5.44l.94 2.06.94-2.06 2.06-.94-2.06-.94-.94-2.06-.94 2.06-2.06.94zm-11 1L8.5 8.5l.94-2.06 2.06-.94-2.06-.94L8.5 2.5l-.94 2.06-2.06.94zm10 10l.94 2.06.94-2.06 2.06-.94-2.06-.94-.94-2.06-.94 2.06-2.06.94z\"/><path d=\"M17.41 7.96l-1.37-1.37c-.4-.4-.92-.59-1.43-.59-.52 0-1.04.2-1.43.59L10.3 9.45l-7.72 7.72c-.78.78-.78 2.05 0 2.83L4 21.41c.39.39.9.59 1.41.59.51 0 1.02-.2 1.41-.59l7.78-7.78 2.81-2.81c.8-.78.8-2.07 0-2.86zM5.41 20L4 18.59l7.72-7.72 1.47 1.35L5.41 20z\"/>\n",
              "  </svg>\n",
              "      </button>\n",
              "      \n",
              "  <style>\n",
              "    .colab-df-container {\n",
              "      display:flex;\n",
              "      flex-wrap:wrap;\n",
              "      gap: 12px;\n",
              "    }\n",
              "\n",
              "    .colab-df-convert {\n",
              "      background-color: #E8F0FE;\n",
              "      border: none;\n",
              "      border-radius: 50%;\n",
              "      cursor: pointer;\n",
              "      display: none;\n",
              "      fill: #1967D2;\n",
              "      height: 32px;\n",
              "      padding: 0 0 0 0;\n",
              "      width: 32px;\n",
              "    }\n",
              "\n",
              "    .colab-df-convert:hover {\n",
              "      background-color: #E2EBFA;\n",
              "      box-shadow: 0px 1px 2px rgba(60, 64, 67, 0.3), 0px 1px 3px 1px rgba(60, 64, 67, 0.15);\n",
              "      fill: #174EA6;\n",
              "    }\n",
              "\n",
              "    [theme=dark] .colab-df-convert {\n",
              "      background-color: #3B4455;\n",
              "      fill: #D2E3FC;\n",
              "    }\n",
              "\n",
              "    [theme=dark] .colab-df-convert:hover {\n",
              "      background-color: #434B5C;\n",
              "      box-shadow: 0px 1px 3px 1px rgba(0, 0, 0, 0.15);\n",
              "      filter: drop-shadow(0px 1px 2px rgba(0, 0, 0, 0.3));\n",
              "      fill: #FFFFFF;\n",
              "    }\n",
              "  </style>\n",
              "\n",
              "      <script>\n",
              "        const buttonEl =\n",
              "          document.querySelector('#df-16f8315c-6621-4898-a6fe-2aaf1418b817 button.colab-df-convert');\n",
              "        buttonEl.style.display =\n",
              "          google.colab.kernel.accessAllowed ? 'block' : 'none';\n",
              "\n",
              "        async function convertToInteractive(key) {\n",
              "          const element = document.querySelector('#df-16f8315c-6621-4898-a6fe-2aaf1418b817');\n",
              "          const dataTable =\n",
              "            await google.colab.kernel.invokeFunction('convertToInteractive',\n",
              "                                                     [key], {});\n",
              "          if (!dataTable) return;\n",
              "\n",
              "          const docLinkHtml = 'Like what you see? Visit the ' +\n",
              "            '<a target=\"_blank\" href=https://colab.research.google.com/notebooks/data_table.ipynb>data table notebook</a>'\n",
              "            + ' to learn more about interactive tables.';\n",
              "          element.innerHTML = '';\n",
              "          dataTable['output_type'] = 'display_data';\n",
              "          await google.colab.output.renderOutput(dataTable, element);\n",
              "          const docLink = document.createElement('div');\n",
              "          docLink.innerHTML = docLinkHtml;\n",
              "          element.appendChild(docLink);\n",
              "        }\n",
              "      </script>\n",
              "    </div>\n",
              "  </div>\n",
              "  "
            ]
          },
          "metadata": {},
          "execution_count": 9
        }
      ]
    },
    {
      "cell_type": "code",
      "source": [
        "# 2nd Business Moment : Measures of Dispertion\n",
        "# Calculating the Variance and Standard Deviation\n",
        "\n",
        "data.var()"
      ],
      "metadata": {
        "colab": {
          "base_uri": "https://localhost:8080/"
        },
        "id": "2HxXMhwftjdD",
        "outputId": "65cb7e7d-239b-4f04-c152-eca4a5bd6c7f"
      },
      "execution_count": 10,
      "outputs": [
        {
          "output_type": "execute_result",
          "data": {
            "text/plain": [
              "R&D Spend          2.107017e+09\n",
              "Administration     7.849973e+08\n",
              "Marketing Spend    1.495492e+10\n",
              "Profit             1.624588e+09\n",
              "dtype: float64"
            ]
          },
          "metadata": {},
          "execution_count": 10
        }
      ]
    },
    {
      "cell_type": "code",
      "source": [
        "data.std()"
      ],
      "metadata": {
        "colab": {
          "base_uri": "https://localhost:8080/"
        },
        "id": "hkbOVVxzt0Y6",
        "outputId": "21306b8d-05cc-4003-9ddd-c26522a2bd27"
      },
      "execution_count": 11,
      "outputs": [
        {
          "output_type": "execute_result",
          "data": {
            "text/plain": [
              "R&D Spend           45902.256482\n",
              "Administration      28017.802755\n",
              "Marketing Spend    122290.310726\n",
              "Profit              40306.180338\n",
              "dtype: float64"
            ]
          },
          "metadata": {},
          "execution_count": 11
        }
      ]
    },
    {
      "cell_type": "code",
      "source": [
        "# 3rd Business Moment : Measures of Skewness\n",
        "\n",
        "data.skew()"
      ],
      "metadata": {
        "colab": {
          "base_uri": "https://localhost:8080/"
        },
        "id": "-05XXbjft3hW",
        "outputId": "40f8079f-7f60-4235-8740-c5455fb3f28f"
      },
      "execution_count": 12,
      "outputs": [
        {
          "output_type": "execute_result",
          "data": {
            "text/plain": [
              "R&D Spend          0.164002\n",
              "Administration    -0.489025\n",
              "Marketing Spend   -0.046472\n",
              "Profit             0.023291\n",
              "dtype: float64"
            ]
          },
          "metadata": {},
          "execution_count": 12
        }
      ]
    },
    {
      "cell_type": "code",
      "source": [
        "# 4th Business Moment : Measures of Kurtisos\n",
        "\n",
        "data.kurt()"
      ],
      "metadata": {
        "colab": {
          "base_uri": "https://localhost:8080/"
        },
        "id": "lJNvWsWMt-p6",
        "outputId": "d7a432c5-ca8d-4539-9283-9ea7600e2420"
      },
      "execution_count": 13,
      "outputs": [
        {
          "output_type": "execute_result",
          "data": {
            "text/plain": [
              "R&D Spend         -0.761465\n",
              "Administration     0.225071\n",
              "Marketing Spend   -0.671701\n",
              "Profit            -0.063859\n",
              "dtype: float64"
            ]
          },
          "metadata": {},
          "execution_count": 13
        }
      ]
    },
    {
      "cell_type": "code",
      "source": [
        "# Graphical Representation\n",
        "# Using Boxplot to check outliers\n",
        "\n",
        "plt.boxplot(data['R&D Spend'])\n"
      ],
      "metadata": {
        "colab": {
          "base_uri": "https://localhost:8080/",
          "height": 404
        },
        "id": "gSoMYyxouJ7K",
        "outputId": "a5266d6b-58c2-4d36-ef5e-aceb52da8af7"
      },
      "execution_count": 14,
      "outputs": [
        {
          "output_type": "execute_result",
          "data": {
            "text/plain": [
              "{'whiskers': [<matplotlib.lines.Line2D at 0x7f226d57db10>,\n",
              "  <matplotlib.lines.Line2D at 0x7f226d59e0d0>],\n",
              " 'caps': [<matplotlib.lines.Line2D at 0x7f226d59e610>,\n",
              "  <matplotlib.lines.Line2D at 0x7f226d59ebd0>],\n",
              " 'boxes': [<matplotlib.lines.Line2D at 0x7f226d57d590>],\n",
              " 'medians': [<matplotlib.lines.Line2D at 0x7f226d5a5150>],\n",
              " 'fliers': [<matplotlib.lines.Line2D at 0x7f226d5a58d0>],\n",
              " 'means': []}"
            ]
          },
          "metadata": {},
          "execution_count": 14
        },
        {
          "output_type": "display_data",
          "data": {
            "text/plain": [
              "<Figure size 432x288 with 1 Axes>"
            ],
            "image/png": "[encoded data removed]"
          },
          "metadata": {
            "needs_background": "light"
          }
        }
      ]
    },
    {
      "cell_type": "code",
      "source": [
        "plt.boxplot(data['Administration'])"
      ],
      "metadata": {
        "colab": {
          "base_uri": "https://localhost:8080/",
          "height": 404
        },
        "id": "2cqHpvCsuXbE",
        "outputId": "cece1162-1e7b-4ae2-8b3e-94213ac75872"
      },
      "execution_count": 15,
      "outputs": [
        {
          "output_type": "execute_result",
          "data": {
            "text/plain": [
              "{'whiskers': [<matplotlib.lines.Line2D at 0x7f226d06f790>,\n",
              "  <matplotlib.lines.Line2D at 0x7f226d06fcd0>],\n",
              " 'caps': [<matplotlib.lines.Line2D at 0x7f226d077250>,\n",
              "  <matplotlib.lines.Line2D at 0x7f226d077790>],\n",
              " 'boxes': [<matplotlib.lines.Line2D at 0x7f226d06f290>],\n",
              " 'medians': [<matplotlib.lines.Line2D at 0x7f226d077d10>],\n",
              " 'fliers': [<matplotlib.lines.Line2D at 0x7f226d07e290>],\n",
              " 'means': []}"
            ]
          },
          "metadata": {},
          "execution_count": 15
        },
        {
          "output_type": "display_data",
          "data": {
            "text/plain": [
              "<Figure size 432x288 with 1 Axes>"
            ],
            "image/png": "[encoded data removed]"
          },
          "metadata": {
            "needs_background": "light"
          }
        }
      ]
    },
    {
      "cell_type": "code",
      "source": [
        "plt.boxplot(data['Marketing Spend'])"
      ],
      "metadata": {
        "colab": {
          "base_uri": "https://localhost:8080/",
          "height": 404
        },
        "id": "w8d-x8SHueTD",
        "outputId": "319407f8-28de-4055-90f9-236cfc1163e4"
      },
      "execution_count": 16,
      "outputs": [
        {
          "output_type": "execute_result",
          "data": {
            "text/plain": [
              "{'whiskers': [<matplotlib.lines.Line2D at 0x7f226cfe5d50>,\n",
              "  <matplotlib.lines.Line2D at 0x7f226cfe92d0>],\n",
              " 'caps': [<matplotlib.lines.Line2D at 0x7f226cfe9810>,\n",
              "  <matplotlib.lines.Line2D at 0x7f226cfe9d50>],\n",
              " 'boxes': [<matplotlib.lines.Line2D at 0x7f226cfe5850>],\n",
              " 'medians': [<matplotlib.lines.Line2D at 0x7f226cff1310>],\n",
              " 'fliers': [<matplotlib.lines.Line2D at 0x7f226cff1850>],\n",
              " 'means': []}"
            ]
          },
          "metadata": {},
          "execution_count": 16
        },
        {
          "output_type": "display_data",
          "data": {
            "text/plain": [
              "<Figure size 432x288 with 1 Axes>"
            ],
            "image/png": "[encoded data removed]"
          },
          "metadata": {
            "needs_background": "light"
          }
        }
      ]
    },
    {
      "cell_type": "code",
      "source": [
        "plt.boxplot(data['Profit'])"
      ],
      "metadata": {
        "colab": {
          "base_uri": "https://localhost:8080/",
          "height": 407
        },
        "id": "v9hinxUMunQF",
        "outputId": "15552223-d40a-41df-9563-d6f4106d54de"
      },
      "execution_count": 17,
      "outputs": [
        {
          "output_type": "execute_result",
          "data": {
            "text/plain": [
              "{'whiskers': [<matplotlib.lines.Line2D at 0x7f226cfd7310>,\n",
              "  <matplotlib.lines.Line2D at 0x7f226cfd7850>],\n",
              " 'caps': [<matplotlib.lines.Line2D at 0x7f226cfd7d90>,\n",
              "  <matplotlib.lines.Line2D at 0x7f226cf60310>],\n",
              " 'boxes': [<matplotlib.lines.Line2D at 0x7f226cfd3dd0>],\n",
              " 'medians': [<matplotlib.lines.Line2D at 0x7f226cf60890>],\n",
              " 'fliers': [<matplotlib.lines.Line2D at 0x7f226cf60dd0>],\n",
              " 'means': []}"
            ]
          },
          "metadata": {},
          "execution_count": 17
        },
        {
          "output_type": "display_data",
          "data": {
            "text/plain": [
              "<Figure size 432x288 with 1 Axes>"
            ],
            "image/png": "[encoded data removed]"
          },
          "metadata": {
            "needs_background": "light"
          }
        }
      ]
    },
    {
      "cell_type": "code",
      "source": [
        "# Using Histogram\n",
        "\n",
        "plt.hist(data['R&D Spend'])"
      ],
      "metadata": {
        "colab": {
          "base_uri": "https://localhost:8080/",
          "height": 334
        },
        "id": "P-TtmPh3uuzS",
        "outputId": "f50011d9-70a7-4522-c94f-f5b140a467b4"
      },
      "execution_count": 18,
      "outputs": [
        {
          "output_type": "execute_result",
          "data": {
            "text/plain": [
              "(array([6., 6., 4., 7., 8., 5., 3., 5., 3., 3.]),\n",
              " array([     0.  ,  16534.92,  33069.84,  49604.76,  66139.68,  82674.6 ,\n",
              "         99209.52, 115744.44, 132279.36, 148814.28, 165349.2 ]),\n",
              " <a list of 10 Patch objects>)"
            ]
          },
          "metadata": {},
          "execution_count": 18
        },
        {
          "output_type": "display_data",
          "data": {
            "text/plain": [
              "<Figure size 432x288 with 1 Axes>"
            ],
            "image/png": "[encoded data removed]"
          },
          "metadata": {
            "needs_background": "light"
          }
        }
      ]
    },
    {
      "cell_type": "code",
      "source": [
        "plt.hist(data['Administration'])"
      ],
      "metadata": {
        "colab": {
          "base_uri": "https://localhost:8080/",
          "height": 352
        },
        "id": "R3jP3ubWu5ap",
        "outputId": "6c5aa0ba-5a32-4a0e-e394-0aa6a76131c3"
      },
      "execution_count": 19,
      "outputs": [
        {
          "output_type": "execute_result",
          "data": {
            "text/plain": [
              "(array([ 2.,  1.,  3.,  7.,  7., 12.,  4., 11.,  2.,  1.]),\n",
              " array([ 51283.14 ,  64419.382,  77555.624,  90691.866, 103828.108,\n",
              "        116964.35 , 130100.592, 143236.834, 156373.076, 169509.318,\n",
              "        182645.56 ]),\n",
              " <a list of 10 Patch objects>)"
            ]
          },
          "metadata": {},
          "execution_count": 19
        },
        {
          "output_type": "display_data",
          "data": {
            "text/plain": [
              "<Figure size 432x288 with 1 Axes>"
            ],
            "image/png": "[encoded data removed]"
          },
          "metadata": {
            "needs_background": "light"
          }
        }
      ]
    },
    {
      "cell_type": "code",
      "source": [
        "plt.hist(data['Marketing Spend'])"
      ],
      "metadata": {
        "colab": {
          "base_uri": "https://localhost:8080/",
          "height": 334
        },
        "id": "QpxUSTiEvBIu",
        "outputId": "2c1f2898-3590-475e-8741-49e400e9e73e"
      },
      "execution_count": 20,
      "outputs": [
        {
          "output_type": "execute_result",
          "data": {
            "text/plain": [
              "(array([8., 2., 6., 5., 6., 7., 9., 3., 2., 2.]),\n",
              " array([     0.  ,  47178.41,  94356.82, 141535.23, 188713.64, 235892.05,\n",
              "        283070.46, 330248.87, 377427.28, 424605.69, 471784.1 ]),\n",
              " <a list of 10 Patch objects>)"
            ]
          },
          "metadata": {},
          "execution_count": 20
        },
        {
          "output_type": "display_data",
          "data": {
            "text/plain": [
              "<Figure size 432x288 with 1 Axes>"
            ],
            "image/png": "[encoded data removed]"
          },
          "metadata": {
            "needs_background": "light"
          }
        }
      ]
    },
    {
      "cell_type": "code",
      "source": [
        "plt.hist(data['Profit'])"
      ],
      "metadata": {
        "colab": {
          "base_uri": "https://localhost:8080/",
          "height": 352
        },
        "id": "3U_WtGwcvNPz",
        "outputId": "964d8aaa-8f3e-48a3-9b1a-43a5ff5b4108"
      },
      "execution_count": 21,
      "outputs": [
        {
          "output_type": "execute_result",
          "data": {
            "text/plain": [
              "(array([ 1.,  3.,  2.,  6., 10.,  8.,  7.,  7.,  2.,  4.]),\n",
              " array([ 14681.4  ,  32439.443,  50197.486,  67955.529,  85713.572,\n",
              "        103471.615, 121229.658, 138987.701, 156745.744, 174503.787,\n",
              "        192261.83 ]),\n",
              " <a list of 10 Patch objects>)"
            ]
          },
          "metadata": {},
          "execution_count": 21
        },
        {
          "output_type": "display_data",
          "data": {
            "text/plain": [
              "<Figure size 432x288 with 1 Axes>"
            ],
            "image/png": "[encoded data removed]"
          },
          "metadata": {
            "needs_background": "light"
          }
        }
      ]
    },
    {
      "cell_type": "code",
      "source": [
        "data['State'].value_counts()"
      ],
      "metadata": {
        "colab": {
          "base_uri": "https://localhost:8080/"
        },
        "id": "m5EQ7lh3vSn1",
        "outputId": "a6067fd9-a288-4dff-cd4e-bdde38f638bd"
      },
      "execution_count": 22,
      "outputs": [
        {
          "output_type": "execute_result",
          "data": {
            "text/plain": [
              "New York      17\n",
              "California    17\n",
              "Florida       16\n",
              "Name: State, dtype: int64"
            ]
          },
          "metadata": {},
          "execution_count": 22
        }
      ]
    },
    {
      "cell_type": "code",
      "source": [
        "# Pair plot\n",
        "\n",
        "sns.pairplot(data)"
      ],
      "metadata": {
        "colab": {
          "base_uri": "https://localhost:8080/",
          "height": 743
        },
        "id": "afiGJEfMvlm7",
        "outputId": "e761d7eb-1ce7-4627-aa99-30118f1d3bc5"
      },
      "execution_count": 23,
      "outputs": [
        {
          "output_type": "execute_result",
          "data": {
            "text/plain": [
              "<seaborn.axisgrid.PairGrid at 0x7f226cd47c10>"
            ]
          },
          "metadata": {},
          "execution_count": 23
        },
        {
          "output_type": "display_data",
          "data": {
            "text/plain": [
              "<Figure size 720x720 with 20 Axes>"
            ],
            "image/png": "[encoded data removed]"
          },
          "metadata": {
            "needs_background": "light"
          }
        }
      ]
    },
    {
      "cell_type": "code",
      "source": [
        "# Checking the Zero Variance\n",
        "\n",
        "data.var() == 0"
      ],
      "metadata": {
        "colab": {
          "base_uri": "https://localhost:8080/"
        },
        "id": "GcnRoejiwNNE",
        "outputId": "609fba1f-db08-4f0e-a966-8d5bc8e08bee"
      },
      "execution_count": 24,
      "outputs": [
        {
          "output_type": "execute_result",
          "data": {
            "text/plain": [
              "R&D Spend          False\n",
              "Administration     False\n",
              "Marketing Spend    False\n",
              "Profit             False\n",
              "dtype: bool"
            ]
          },
          "metadata": {},
          "execution_count": 24
        }
      ]
    },
    {
      "cell_type": "code",
      "source": [
        "# Checking the duplicates\n",
        "\n",
        "duplicates =data.duplicated()\n",
        "sum(duplicates)"
      ],
      "metadata": {
        "colab": {
          "base_uri": "https://localhost:8080/"
        },
        "id": "-dUeO205wpvT",
        "outputId": "b38e3dcb-89e4-4d94-9456-0a7020a0ae95"
      },
      "execution_count": 25,
      "outputs": [
        {
          "output_type": "execute_result",
          "data": {
            "text/plain": [
              "0"
            ]
          },
          "metadata": {},
          "execution_count": 25
        }
      ]
    },
    {
      "cell_type": "code",
      "source": [
        "# Checking the /missing Values\n",
        "\n",
        "data.isna().sum()"
      ],
      "metadata": {
        "colab": {
          "base_uri": "https://localhost:8080/"
        },
        "id": "5srfJBJXw0hK",
        "outputId": "92f96208-9217-4072-9339-83f343f0ff97"
      },
      "execution_count": 26,
      "outputs": [
        {
          "output_type": "execute_result",
          "data": {
            "text/plain": [
              "R&D Spend          0\n",
              "Administration     0\n",
              "Marketing Spend    0\n",
              "State              0\n",
              "Profit             0\n",
              "dtype: int64"
            ]
          },
          "metadata": {},
          "execution_count": 26
        }
      ]
    },
    {
      "cell_type": "code",
      "source": [
        "# Transformation\n",
        "\n",
        "stats.probplot(data['Administration'], dist = 'norm', plot = pylab)\n"
      ],
      "metadata": {
        "colab": {
          "base_uri": "https://localhost:8080/",
          "height": 642
        },
        "id": "IxLpQ6Zdw6lP",
        "outputId": "bec76f4f-abef-4cf3-e674-fe56861e78e9"
      },
      "execution_count": 27,
      "outputs": [
        {
          "output_type": "execute_result",
          "data": {
            "text/plain": [
              "((array([-2.20385432, -1.83293478, -1.61402323, -1.45296849, -1.32267759,\n",
              "         -1.21163342, -1.113805  , -1.02561527, -0.94475674, -0.86964726,\n",
              "         -0.79915021, -0.73241807, -0.66879925, -0.6077796 , -0.54894415,\n",
              "         -0.49195112, -0.43651377, -0.38238727, -0.32935914, -0.27724191,\n",
              "         -0.2258675 , -0.17508277, -0.12474591, -0.07472335, -0.02488719,\n",
              "          0.02488719,  0.07472335,  0.12474591,  0.17508277,  0.2258675 ,\n",
              "          0.27724191,  0.32935914,  0.38238727,  0.43651377,  0.49195112,\n",
              "          0.54894415,  0.6077796 ,  0.66879925,  0.73241807,  0.79915021,\n",
              "          0.86964726,  0.94475674,  1.02561527,  1.113805  ,  1.21163342,\n",
              "          1.32267759,  1.45296849,  1.61402323,  1.83293478,  2.20385432]),\n",
              "  array([ 51283.14,  51743.15,  65947.93,  82982.09,  84710.77,  85047.44,\n",
              "          91391.77,  91790.61,  96189.63,  99281.34,  99814.71, 101145.55,\n",
              "         103057.49, 105751.03, 108679.17, 110594.11, 113867.3 , 114175.79,\n",
              "         115641.28, 115816.21, 116983.8 , 118546.05, 118671.85, 121597.55,\n",
              "         122616.84, 122782.75, 124153.04, 127056.21, 127320.38, 127382.3 ,\n",
              "         127864.55, 129219.61, 135426.92, 135495.07, 136897.8 , 139553.16,\n",
              "         144135.98, 145077.58, 145530.06, 147198.87, 148718.95, 151377.59,\n",
              "         152701.92, 153032.06, 153514.11, 153773.43, 154806.14, 156547.42,\n",
              "         157693.92, 182645.56])),\n",
              " (28320.99829304397, 121344.6396, 0.9847464922456414))"
            ]
          },
          "metadata": {},
          "execution_count": 27
        },
        {
          "output_type": "display_data",
          "data": {
            "text/plain": [
              "<Figure size 432x288 with 1 Axes>"
            ],
            "image/png": "[encoded data removed]"
          },
          "metadata": {
            "needs_background": "light"
          }
        }
      ]
    },
    {
      "cell_type": "code",
      "source": [
        "stats.probplot(data['Marketing Spend'], dist = 'norm', plot = pylab)"
      ],
      "metadata": {
        "colab": {
          "base_uri": "https://localhost:8080/",
          "height": 642
        },
        "id": "3_6ubBQ4xZfU",
        "outputId": "3914d7fc-c667-44e5-f73b-ffd7cc38c912"
      },
      "execution_count": 28,
      "outputs": [
        {
          "output_type": "execute_result",
          "data": {
            "text/plain": [
              "((array([-2.20385432, -1.83293478, -1.61402323, -1.45296849, -1.32267759,\n",
              "         -1.21163342, -1.113805  , -1.02561527, -0.94475674, -0.86964726,\n",
              "         -0.79915021, -0.73241807, -0.66879925, -0.6077796 , -0.54894415,\n",
              "         -0.49195112, -0.43651377, -0.38238727, -0.32935914, -0.27724191,\n",
              "         -0.2258675 , -0.17508277, -0.12474591, -0.07472335, -0.02488719,\n",
              "          0.02488719,  0.07472335,  0.12474591,  0.17508277,  0.2258675 ,\n",
              "          0.27724191,  0.32935914,  0.38238727,  0.43651377,  0.49195112,\n",
              "          0.54894415,  0.6077796 ,  0.66879925,  0.73241807,  0.79915021,\n",
              "          0.86964726,  0.94475674,  1.02561527,  1.113805  ,  1.21163342,\n",
              "          1.32267759,  1.45296849,  1.61402323,  1.83293478,  2.20385432]),\n",
              "  array([     0.  ,      0.  ,      0.  ,   1903.93,  28334.72,  35534.17,\n",
              "          45173.06,  46085.25,  88218.23,  91131.24, 107138.38, 118148.2 ,\n",
              "         127716.82, 134050.07, 137962.62, 140574.81, 148001.11, 164470.71,\n",
              "         172795.67, 174999.3 , 185265.1 , 197029.42, 201126.82, 205517.64,\n",
              "         210797.67, 214634.81, 229160.95, 249744.55, 249839.44, 252664.93,\n",
              "         256512.92, 261776.23, 264346.06, 282574.31, 294919.57, 297114.46,\n",
              "         298664.47, 299737.29, 303319.26, 304768.73, 304981.62, 311613.29,\n",
              "         323876.68, 353183.81, 362861.36, 366168.42, 383199.62, 407934.54,\n",
              "         443898.53, 471784.1 ])),\n",
              " (124448.72386862864, 211025.09780000005, 0.9913987278815984))"
            ]
          },
          "metadata": {},
          "execution_count": 28
        },
        {
          "output_type": "display_data",
          "data": {
            "text/plain": [
              "<Figure size 432x288 with 1 Axes>"
            ],
            "image/png": "[encoded data removed]"
          },
          "metadata": {
            "needs_background": "light"
          }
        }
      ]
    },
    {
      "cell_type": "code",
      "source": [
        "stats.probplot(data['Profit'], dist = 'norm', plot = pylab)"
      ],
      "metadata": {
        "colab": {
          "base_uri": "https://localhost:8080/",
          "height": 642
        },
        "id": "6D8hACDNxj-4",
        "outputId": "85d8f6dd-74e2-48d0-9853-ff89f0cb1106"
      },
      "execution_count": 29,
      "outputs": [
        {
          "output_type": "execute_result",
          "data": {
            "text/plain": [
              "((array([-2.20385432, -1.83293478, -1.61402323, -1.45296849, -1.32267759,\n",
              "         -1.21163342, -1.113805  , -1.02561527, -0.94475674, -0.86964726,\n",
              "         -0.79915021, -0.73241807, -0.66879925, -0.6077796 , -0.54894415,\n",
              "         -0.49195112, -0.43651377, -0.38238727, -0.32935914, -0.27724191,\n",
              "         -0.2258675 , -0.17508277, -0.12474591, -0.07472335, -0.02488719,\n",
              "          0.02488719,  0.07472335,  0.12474591,  0.17508277,  0.2258675 ,\n",
              "          0.27724191,  0.32935914,  0.38238727,  0.43651377,  0.49195112,\n",
              "          0.54894415,  0.6077796 ,  0.66879925,  0.73241807,  0.79915021,\n",
              "          0.86964726,  0.94475674,  1.02561527,  1.113805  ,  1.21163342,\n",
              "          1.32267759,  1.45296849,  1.61402323,  1.83293478,  2.20385432]),\n",
              "  array([ 14681.4 ,  35673.41,  42559.73,  49490.75,  64926.08,  65200.33,\n",
              "          69758.98,  71498.49,  77798.83,  78239.91,  81005.76,  81229.06,\n",
              "          89949.14,  90708.19,  96479.51,  96712.8 ,  96778.92,  97427.84,\n",
              "          97483.56,  99937.59, 101004.64, 103282.38, 105008.31, 105733.54,\n",
              "         107404.34, 108552.04, 108733.99, 110352.25, 111313.02, 118474.03,\n",
              "         122776.86, 124266.9 , 125370.37, 126992.93, 129917.04, 132602.65,\n",
              "         134307.35, 141585.52, 144259.4 , 146121.95, 149759.96, 152211.77,\n",
              "         155752.6 , 156122.51, 156991.12, 166187.94, 182901.99, 191050.39,\n",
              "         191792.06, 192261.83])),\n",
              " (41113.810463821, 112012.6392, 0.9937246066249973))"
            ]
          },
          "metadata": {},
          "execution_count": 29
        },
        {
          "output_type": "display_data",
          "data": {
            "text/plain": [
              "<Figure size 432x288 with 1 Axes>"
            ],
            "image/png": "[encoded data removed]"
          },
          "metadata": {
            "needs_background": "light"
          }
        }
      ]
    },
    {
      "cell_type": "code",
      "source": [
        "stats.probplot(data['R&D Spend'], dist = 'norm', plot = pylab)"
      ],
      "metadata": {
        "colab": {
          "base_uri": "https://localhost:8080/",
          "height": 642
        },
        "id": "ZkSV_RpqxuKu",
        "outputId": "6d5556d0-8583-44d6-af17-fc59bd519903"
      },
      "execution_count": 30,
      "outputs": [
        {
          "output_type": "execute_result",
          "data": {
            "text/plain": [
              "((array([-2.20385432, -1.83293478, -1.61402323, -1.45296849, -1.32267759,\n",
              "         -1.21163342, -1.113805  , -1.02561527, -0.94475674, -0.86964726,\n",
              "         -0.79915021, -0.73241807, -0.66879925, -0.6077796 , -0.54894415,\n",
              "         -0.49195112, -0.43651377, -0.38238727, -0.32935914, -0.27724191,\n",
              "         -0.2258675 , -0.17508277, -0.12474591, -0.07472335, -0.02488719,\n",
              "          0.02488719,  0.07472335,  0.12474591,  0.17508277,  0.2258675 ,\n",
              "          0.27724191,  0.32935914,  0.38238727,  0.43651377,  0.49195112,\n",
              "          0.54894415,  0.6077796 ,  0.66879925,  0.73241807,  0.79915021,\n",
              "          0.86964726,  0.94475674,  1.02561527,  1.113805  ,  1.21163342,\n",
              "          1.32267759,  1.45296849,  1.61402323,  1.83293478,  2.20385432]),\n",
              "  array([     0.  ,      0.  ,    542.05,   1000.23,   1315.46,  15505.73,\n",
              "          20229.59,  22177.74,  23640.93,  27892.92,  28663.76,  28754.33,\n",
              "          38558.51,  44069.95,  46014.02,  46426.07,  55493.95,  61136.38,\n",
              "          61994.48,  63408.86,  64664.71,  65605.48,  66051.52,  67532.53,\n",
              "          72107.6 ,  73994.56,  75328.87,  76253.86,  77044.01,  78013.11,\n",
              "          78389.47,  86419.7 ,  91749.16,  91992.39,  93863.75,  94657.16,\n",
              "         100671.96, 101913.08, 114523.61, 119943.24, 120542.52, 123334.88,\n",
              "         130298.13, 131876.9 , 134615.46, 142107.34, 144372.41, 153441.51,\n",
              "         162597.7 , 165349.2 ])),\n",
              " (46606.351534768175, 73721.6156, 0.9891474357685069))"
            ]
          },
          "metadata": {},
          "execution_count": 30
        },
        {
          "output_type": "display_data",
          "data": {
            "text/plain": [
              "<Figure size 432x288 with 1 Axes>"
            ],
            "image/png": "[encoded data removed]"
          },
          "metadata": {
            "needs_background": "light"
          }
        }
      ]
    },
    {
      "cell_type": "code",
      "source": [
        "# 1 hot encoding for col state\n",
        "\n",
        "from sklearn.preprocessing import LabelEncoder\n",
        "\n",
        "lab = LabelEncoder()\n",
        "data['State'] = lab.fit_transform(data['State'])\n"
      ],
      "metadata": {
        "id": "AYUORVcSyGIW"
      },
      "execution_count": 31,
      "outputs": []
    },
    {
      "cell_type": "code",
      "source": [
        "data['State']"
      ],
      "metadata": {
        "colab": {
          "base_uri": "https://localhost:8080/"
        },
        "id": "Mq7GZM-OyVwu",
        "outputId": "0ab1756c-f3b9-46dd-96f2-fa63fe029893"
      },
      "execution_count": 32,
      "outputs": [
        {
          "output_type": "execute_result",
          "data": {
            "text/plain": [
              "0     2\n",
              "1     0\n",
              "2     1\n",
              "3     2\n",
              "4     1\n",
              "5     2\n",
              "6     0\n",
              "7     1\n",
              "8     2\n",
              "9     0\n",
              "10    1\n",
              "11    0\n",
              "12    1\n",
              "13    0\n",
              "14    1\n",
              "15    2\n",
              "16    0\n",
              "17    2\n",
              "18    1\n",
              "19    2\n",
              "20    0\n",
              "21    2\n",
              "22    1\n",
              "23    1\n",
              "24    2\n",
              "25    0\n",
              "26    1\n",
              "27    2\n",
              "28    1\n",
              "29    2\n",
              "30    1\n",
              "31    2\n",
              "32    0\n",
              "33    1\n",
              "34    0\n",
              "35    2\n",
              "36    1\n",
              "37    0\n",
              "38    2\n",
              "39    0\n",
              "40    0\n",
              "41    1\n",
              "42    0\n",
              "43    2\n",
              "44    0\n",
              "45    2\n",
              "46    1\n",
              "47    0\n",
              "48    2\n",
              "49    0\n",
              "Name: State, dtype: int64"
            ]
          },
          "metadata": {},
          "execution_count": 32
        }
      ]
    },
    {
      "cell_type": "code",
      "source": [
        "# Standardization using Scaler min =0 ,max = 1\n",
        "\n",
        "def norm_fun(i):\n",
        "  x = (i - i.min())/(i.max() - i.min())\n",
        "\n",
        "  return x"
      ],
      "metadata": {
        "id": "d3y2ESXmzCDE"
      },
      "execution_count": 33,
      "outputs": []
    },
    {
      "cell_type": "code",
      "source": [
        "data_norm = norm_fun(data)"
      ],
      "metadata": {
        "id": "Jpegq4NVzVlf"
      },
      "execution_count": 34,
      "outputs": []
    },
    {
      "cell_type": "code",
      "source": [
        "data = pd.DataFrame(data_norm)"
      ],
      "metadata": {
        "id": "d374lBNlzdZx"
      },
      "execution_count": 35,
      "outputs": []
    },
    {
      "cell_type": "code",
      "source": [
        "data.describe()"
      ],
      "metadata": {
        "colab": {
          "base_uri": "https://localhost:8080/",
          "height": 300
        },
        "id": "cTdN7WmK0HEq",
        "outputId": "9db3c5a1-a275-47a4-cb38-bdc55874482b"
      },
      "execution_count": 36,
      "outputs": [
        {
          "output_type": "execute_result",
          "data": {
            "text/plain": [
              "       R&D Spend  Administration  Marketing Spend      State     Profit\n",
              "count  50.000000       50.000000        50.000000  50.000000  50.000000\n",
              "mean    0.445854        0.533345         0.447292   0.500000   0.548097\n",
              "std     0.277608        0.213286         0.259208   0.416497   0.226974\n",
              "min     0.000000        0.000000         0.000000   0.000000   0.000000\n",
              "25%     0.241527        0.399260         0.274066   0.000000   0.424920\n",
              "50%     0.441799        0.543661         0.450876   0.500000   0.525378\n",
              "75%     0.614474        0.712221         0.634759   1.000000   0.704383\n",
              "max     1.000000        1.000000         1.000000   1.000000   1.000000"
            ],
            "text/html": [
              "\n",
              "  <div id=\"df-72811c1c-0411-4e4e-9ac8-153a180a7410\">\n",
              "    <div class=\"colab-df-container\">\n",
              "      <div>\n",
              "<style scoped>\n",
              "    .dataframe tbody tr th:only-of-type {\n",
              "        vertical-align: middle;\n",
              "    }\n",
              "\n",
              "    .dataframe tbody tr th {\n",
              "        vertical-align: top;\n",
              "    }\n",
              "\n",
              "    .dataframe thead th {\n",
              "        text-align: right;\n",
              "    }\n",
              "</style>\n",
              "<table border=\"1\" class=\"dataframe\">\n",
              "  <thead>\n",
              "    <tr style=\"text-align: right;\">\n",
              "      <th></th>\n",
              "      <th>R&amp;D Spend</th>\n",
              "      <th>Administration</th>\n",
              "      <th>Marketing Spend</th>\n",
              "      <th>State</th>\n",
              "      <th>Profit</th>\n",
              "    </tr>\n",
              "  </thead>\n",
              "  <tbody>\n",
              "    <tr>\n",
              "      <th>count</th>\n",
              "      <td>50.000000</td>\n",
              "      <td>50.000000</td>\n",
              "      <td>50.000000</td>\n",
              "      <td>50.000000</td>\n",
              "      <td>50.000000</td>\n",
              "    </tr>\n",
              "    <tr>\n",
              "      <th>mean</th>\n",
              "      <td>0.445854</td>\n",
              "      <td>0.533345</td>\n",
              "      <td>0.447292</td>\n",
              "      <td>0.500000</td>\n",
              "      <td>0.548097</td>\n",
              "    </tr>\n",
              "    <tr>\n",
              "      <th>std</th>\n",
              "      <td>0.277608</td>\n",
              "      <td>0.213286</td>\n",
              "      <td>0.259208</td>\n",
              "      <td>0.416497</td>\n",
              "      <td>0.226974</td>\n",
              "    </tr>\n",
              "    <tr>\n",
              "      <th>min</th>\n",
              "      <td>0.000000</td>\n",
              "      <td>0.000000</td>\n",
              "      <td>0.000000</td>\n",
              "      <td>0.000000</td>\n",
              "      <td>0.000000</td>\n",
              "    </tr>\n",
              "    <tr>\n",
              "      <th>25%</th>\n",
              "      <td>0.241527</td>\n",
              "      <td>0.399260</td>\n",
              "      <td>0.274066</td>\n",
              "      <td>0.000000</td>\n",
              "      <td>0.424920</td>\n",
              "    </tr>\n",
              "    <tr>\n",
              "      <th>50%</th>\n",
              "      <td>0.441799</td>\n",
              "      <td>0.543661</td>\n",
              "      <td>0.450876</td>\n",
              "      <td>0.500000</td>\n",
              "      <td>0.525378</td>\n",
              "    </tr>\n",
              "    <tr>\n",
              "      <th>75%</th>\n",
              "      <td>0.614474</td>\n",
              "      <td>0.712221</td>\n",
              "      <td>0.634759</td>\n",
              "      <td>1.000000</td>\n",
              "      <td>0.704383</td>\n",
              "    </tr>\n",
              "    <tr>\n",
              "      <th>max</th>\n",
              "      <td>1.000000</td>\n",
              "      <td>1.000000</td>\n",
              "      <td>1.000000</td>\n",
              "      <td>1.000000</td>\n",
              "      <td>1.000000</td>\n",
              "    </tr>\n",
              "  </tbody>\n",
              "</table>\n",
              "</div>\n",
              "      <button class=\"colab-df-convert\" onclick=\"convertToInteractive('df-72811c1c-0411-4e4e-9ac8-153a180a7410')\"\n",
              "              title=\"Convert this dataframe to an interactive table.\"\n",
              "              style=\"display:none;\">\n",
              "        \n",
              "  <svg xmlns=\"http://www.w3.org/2000/svg\" height=\"24px\"viewBox=\"0 0 24 24\"\n",
              "       width=\"24px\">\n",
              "    <path d=\"M0 0h24v24H0V0z\" fill=\"none\"/>\n",
              "    <path d=\"M18.56 5.44l.94 2.06.94-2.06 2.06-.94-2.06-.94-.94-2.06-.94 2.06-2.06.94zm-11 1L8.5 8.5l.94-2.06 2.06-.94-2.06-.94L8.5 2.5l-.94 2.06-2.06.94zm10 10l.94 2.06.94-2.06 2.06-.94-2.06-.94-.94-2.06-.94 2.06-2.06.94z\"/><path d=\"M17.41 7.96l-1.37-1.37c-.4-.4-.92-.59-1.43-.59-.52 0-1.04.2-1.43.59L10.3 9.45l-7.72 7.72c-.78.78-.78 2.05 0 2.83L4 21.41c.39.39.9.59 1.41.59.51 0 1.02-.2 1.41-.59l7.78-7.78 2.81-2.81c.8-.78.8-2.07 0-2.86zM5.41 20L4 18.59l7.72-7.72 1.47 1.35L5.41 20z\"/>\n",
              "  </svg>\n",
              "      </button>\n",
              "      \n",
              "  <style>\n",
              "    .colab-df-container {\n",
              "      display:flex;\n",
              "      flex-wrap:wrap;\n",
              "      gap: 12px;\n",
              "    }\n",
              "\n",
              "    .colab-df-convert {\n",
              "      background-color: #E8F0FE;\n",
              "      border: none;\n",
              "      border-radius: 50%;\n",
              "      cursor: pointer;\n",
              "      display: none;\n",
              "      fill: #1967D2;\n",
              "      height: 32px;\n",
              "      padding: 0 0 0 0;\n",
              "      width: 32px;\n",
              "    }\n",
              "\n",
              "    .colab-df-convert:hover {\n",
              "      background-color: #E2EBFA;\n",
              "      box-shadow: 0px 1px 2px rgba(60, 64, 67, 0.3), 0px 1px 3px 1px rgba(60, 64, 67, 0.15);\n",
              "      fill: #174EA6;\n",
              "    }\n",
              "\n",
              "    [theme=dark] .colab-df-convert {\n",
              "      background-color: #3B4455;\n",
              "      fill: #D2E3FC;\n",
              "    }\n",
              "\n",
              "    [theme=dark] .colab-df-convert:hover {\n",
              "      background-color: #434B5C;\n",
              "      box-shadow: 0px 1px 3px 1px rgba(0, 0, 0, 0.15);\n",
              "      filter: drop-shadow(0px 1px 2px rgba(0, 0, 0, 0.3));\n",
              "      fill: #FFFFFF;\n",
              "    }\n",
              "  </style>\n",
              "\n",
              "      <script>\n",
              "        const buttonEl =\n",
              "          document.querySelector('#df-72811c1c-0411-4e4e-9ac8-153a180a7410 button.colab-df-convert');\n",
              "        buttonEl.style.display =\n",
              "          google.colab.kernel.accessAllowed ? 'block' : 'none';\n",
              "\n",
              "        async function convertToInteractive(key) {\n",
              "          const element = document.querySelector('#df-72811c1c-0411-4e4e-9ac8-153a180a7410');\n",
              "          const dataTable =\n",
              "            await google.colab.kernel.invokeFunction('convertToInteractive',\n",
              "                                                     [key], {});\n",
              "          if (!dataTable) return;\n",
              "\n",
              "          const docLinkHtml = 'Like what you see? Visit the ' +\n",
              "            '<a target=\"_blank\" href=https://colab.research.google.com/notebooks/data_table.ipynb>data table notebook</a>'\n",
              "            + ' to learn more about interactive tables.';\n",
              "          element.innerHTML = '';\n",
              "          dataTable['output_type'] = 'display_data';\n",
              "          await google.colab.output.renderOutput(dataTable, element);\n",
              "          const docLink = document.createElement('div');\n",
              "          docLink.innerHTML = docLinkHtml;\n",
              "          element.appendChild(docLink);\n",
              "        }\n",
              "      </script>\n",
              "    </div>\n",
              "  </div>\n",
              "  "
            ]
          },
          "metadata": {},
          "execution_count": 36
        }
      ]
    },
    {
      "cell_type": "code",
      "source": [
        "\n",
        "data.columns = ['Rd', 'Adm', 'Mar', 'St', 'Pr']"
      ],
      "metadata": {
        "id": "hjHXi2HU0Joy"
      },
      "execution_count": 39,
      "outputs": []
    },
    {
      "cell_type": "code",
      "source": [
        "data.corr()"
      ],
      "metadata": {
        "colab": {
          "base_uri": "https://localhost:8080/",
          "height": 206
        },
        "id": "2if2VTVn0-nt",
        "outputId": "8cc6b5a0-3d7f-4838-870c-04b364e20ba3"
      },
      "execution_count": 40,
      "outputs": [
        {
          "output_type": "execute_result",
          "data": {
            "text/plain": [
              "           Rd       Adm       Mar        St        Pr\n",
              "Rd   1.000000  0.241955  0.724248  0.104685  0.972900\n",
              "Adm  0.241955  1.000000 -0.032154  0.011847  0.200717\n",
              "Mar  0.724248 -0.032154  1.000000  0.077670  0.747766\n",
              "St   0.104685  0.011847  0.077670  1.000000  0.101796\n",
              "Pr   0.972900  0.200717  0.747766  0.101796  1.000000"
            ],
            "text/html": [
              "\n",
              "  <div id=\"df-170effd5-7d2f-43e7-a8e8-e74fd27164d5\">\n",
              "    <div class=\"colab-df-container\">\n",
              "      <div>\n",
              "<style scoped>\n",
              "    .dataframe tbody tr th:only-of-type {\n",
              "        vertical-align: middle;\n",
              "    }\n",
              "\n",
              "    .dataframe tbody tr th {\n",
              "        vertical-align: top;\n",
              "    }\n",
              "\n",
              "    .dataframe thead th {\n",
              "        text-align: right;\n",
              "    }\n",
              "</style>\n",
              "<table border=\"1\" class=\"dataframe\">\n",
              "  <thead>\n",
              "    <tr style=\"text-align: right;\">\n",
              "      <th></th>\n",
              "      <th>Rd</th>\n",
              "      <th>Adm</th>\n",
              "      <th>Mar</th>\n",
              "      <th>St</th>\n",
              "      <th>Pr</th>\n",
              "    </tr>\n",
              "  </thead>\n",
              "  <tbody>\n",
              "    <tr>\n",
              "      <th>Rd</th>\n",
              "      <td>1.000000</td>\n",
              "      <td>0.241955</td>\n",
              "      <td>0.724248</td>\n",
              "      <td>0.104685</td>\n",
              "      <td>0.972900</td>\n",
              "    </tr>\n",
              "    <tr>\n",
              "      <th>Adm</th>\n",
              "      <td>0.241955</td>\n",
              "      <td>1.000000</td>\n",
              "      <td>-0.032154</td>\n",
              "      <td>0.011847</td>\n",
              "      <td>0.200717</td>\n",
              "    </tr>\n",
              "    <tr>\n",
              "      <th>Mar</th>\n",
              "      <td>0.724248</td>\n",
              "      <td>-0.032154</td>\n",
              "      <td>1.000000</td>\n",
              "      <td>0.077670</td>\n",
              "      <td>0.747766</td>\n",
              "    </tr>\n",
              "    <tr>\n",
              "      <th>St</th>\n",
              "      <td>0.104685</td>\n",
              "      <td>0.011847</td>\n",
              "      <td>0.077670</td>\n",
              "      <td>1.000000</td>\n",
              "      <td>0.101796</td>\n",
              "    </tr>\n",
              "    <tr>\n",
              "      <th>Pr</th>\n",
              "      <td>0.972900</td>\n",
              "      <td>0.200717</td>\n",
              "      <td>0.747766</td>\n",
              "      <td>0.101796</td>\n",
              "      <td>1.000000</td>\n",
              "    </tr>\n",
              "  </tbody>\n",
              "</table>\n",
              "</div>\n",
              "      <button class=\"colab-df-convert\" onclick=\"convertToInteractive('df-170effd5-7d2f-43e7-a8e8-e74fd27164d5')\"\n",
              "              title=\"Convert this dataframe to an interactive table.\"\n",
              "              style=\"display:none;\">\n",
              "        \n",
              "  <svg xmlns=\"http://www.w3.org/2000/svg\" height=\"24px\"viewBox=\"0 0 24 24\"\n",
              "       width=\"24px\">\n",
              "    <path d=\"M0 0h24v24H0V0z\" fill=\"none\"/>\n",
              "    <path d=\"M18.56 5.44l.94 2.06.94-2.06 2.06-.94-2.06-.94-.94-2.06-.94 2.06-2.06.94zm-11 1L8.5 8.5l.94-2.06 2.06-.94-2.06-.94L8.5 2.5l-.94 2.06-2.06.94zm10 10l.94 2.06.94-2.06 2.06-.94-2.06-.94-.94-2.06-.94 2.06-2.06.94z\"/><path d=\"M17.41 7.96l-1.37-1.37c-.4-.4-.92-.59-1.43-.59-.52 0-1.04.2-1.43.59L10.3 9.45l-7.72 7.72c-.78.78-.78 2.05 0 2.83L4 21.41c.39.39.9.59 1.41.59.51 0 1.02-.2 1.41-.59l7.78-7.78 2.81-2.81c.8-.78.8-2.07 0-2.86zM5.41 20L4 18.59l7.72-7.72 1.47 1.35L5.41 20z\"/>\n",
              "  </svg>\n",
              "      </button>\n",
              "      \n",
              "  <style>\n",
              "    .colab-df-container {\n",
              "      display:flex;\n",
              "      flex-wrap:wrap;\n",
              "      gap: 12px;\n",
              "    }\n",
              "\n",
              "    .colab-df-convert {\n",
              "      background-color: #E8F0FE;\n",
              "      border: none;\n",
              "      border-radius: 50%;\n",
              "      cursor: pointer;\n",
              "      display: none;\n",
              "      fill: #1967D2;\n",
              "      height: 32px;\n",
              "      padding: 0 0 0 0;\n",
              "      width: 32px;\n",
              "    }\n",
              "\n",
              "    .colab-df-convert:hover {\n",
              "      background-color: #E2EBFA;\n",
              "      box-shadow: 0px 1px 2px rgba(60, 64, 67, 0.3), 0px 1px 3px 1px rgba(60, 64, 67, 0.15);\n",
              "      fill: #174EA6;\n",
              "    }\n",
              "\n",
              "    [theme=dark] .colab-df-convert {\n",
              "      background-color: #3B4455;\n",
              "      fill: #D2E3FC;\n",
              "    }\n",
              "\n",
              "    [theme=dark] .colab-df-convert:hover {\n",
              "      background-color: #434B5C;\n",
              "      box-shadow: 0px 1px 3px 1px rgba(0, 0, 0, 0.15);\n",
              "      filter: drop-shadow(0px 1px 2px rgba(0, 0, 0, 0.3));\n",
              "      fill: #FFFFFF;\n",
              "    }\n",
              "  </style>\n",
              "\n",
              "      <script>\n",
              "        const buttonEl =\n",
              "          document.querySelector('#df-170effd5-7d2f-43e7-a8e8-e74fd27164d5 button.colab-df-convert');\n",
              "        buttonEl.style.display =\n",
              "          google.colab.kernel.accessAllowed ? 'block' : 'none';\n",
              "\n",
              "        async function convertToInteractive(key) {\n",
              "          const element = document.querySelector('#df-170effd5-7d2f-43e7-a8e8-e74fd27164d5');\n",
              "          const dataTable =\n",
              "            await google.colab.kernel.invokeFunction('convertToInteractive',\n",
              "                                                     [key], {});\n",
              "          if (!dataTable) return;\n",
              "\n",
              "          const docLinkHtml = 'Like what you see? Visit the ' +\n",
              "            '<a target=\"_blank\" href=https://colab.research.google.com/notebooks/data_table.ipynb>data table notebook</a>'\n",
              "            + ' to learn more about interactive tables.';\n",
              "          element.innerHTML = '';\n",
              "          dataTable['output_type'] = 'display_data';\n",
              "          await google.colab.output.renderOutput(dataTable, element);\n",
              "          const docLink = document.createElement('div');\n",
              "          docLink.innerHTML = docLinkHtml;\n",
              "          element.appendChild(docLink);\n",
              "        }\n",
              "      </script>\n",
              "    </div>\n",
              "  </div>\n",
              "  "
            ]
          },
          "metadata": {},
          "execution_count": 40
        }
      ]
    },
    {
      "cell_type": "code",
      "source": [
        "# Importing the Linear Regression Algo\n",
        "\n",
        "import statsmodels.formula.api as smf"
      ],
      "metadata": {
        "id": "WVkuE2zq1Oae"
      },
      "execution_count": 41,
      "outputs": []
    },
    {
      "cell_type": "code",
      "source": [
        "model = smf.ols('Pr ~ Rd + Adm + Mar + St ', data = data).fit()\n",
        "model.summary()"
      ],
      "metadata": {
        "colab": {
          "base_uri": "https://localhost:8080/",
          "height": 507
        },
        "id": "64CwXjLM1w64",
        "outputId": "7990c845-3701-4638-b63a-04bb5e7f93f0"
      },
      "execution_count": 43,
      "outputs": [
        {
          "output_type": "execute_result",
          "data": {
            "text/plain": [
              "<class 'statsmodels.iolib.summary.Summary'>\n",
              "\"\"\"\n",
              "                            OLS Regression Results                            \n",
              "==============================================================================\n",
              "Dep. Variable:                     Pr   R-squared:                       0.951\n",
              "Model:                            OLS   Adj. R-squared:                  0.946\n",
              "Method:                 Least Squares   F-statistic:                     217.2\n",
              "Date:                Thu, 24 Nov 2022   Prob (F-statistic):           8.51e-29\n",
              "Time:                        04:41:33   Log-Likelihood:                 78.973\n",
              "No. Observations:                  50   AIC:                            -147.9\n",
              "Df Residuals:                      45   BIC:                            -138.4\n",
              "Df Model:                           4                                         \n",
              "Covariance Type:            nonrobust                                         \n",
              "==============================================================================\n",
              "                 coef    std err          t      P>|t|      [0.025      0.975]\n",
              "------------------------------------------------------------------------------\n",
              "Intercept      0.1919      0.026      7.409      0.000       0.140       0.244\n",
              "Rd             0.7503      0.043     17.609      0.000       0.664       0.836\n",
              "Adm           -0.0198      0.038     -0.520      0.606      -0.097       0.057\n",
              "Mar            0.0723      0.044      1.637      0.109      -0.017       0.161\n",
              "St            -0.0003      0.018     -0.014      0.989      -0.037       0.036\n",
              "==============================================================================\n",
              "Omnibus:                       14.864   Durbin-Watson:                   1.282\n",
              "Prob(Omnibus):                  0.001   Jarque-Bera (JB):               21.542\n",
              "Skew:                          -0.949   Prob(JB):                     2.10e-05\n",
              "Kurtosis:                       5.596   Cond. No.                         11.7\n",
              "==============================================================================\n",
              "\n",
              "Notes:\n",
              "[1] Standard Errors assume that the covariance matrix of the errors is correctly specified.\n",
              "\"\"\""
            ],
            "text/html": [
              "<table class=\"simpletable\">\n",
              "<caption>OLS Regression Results</caption>\n",
              "<tr>\n",
              "  <th>Dep. Variable:</th>           <td>Pr</td>        <th>  R-squared:         </th> <td>   0.951</td>\n",
              "</tr>\n",
              "<tr>\n",
              "  <th>Model:</th>                   <td>OLS</td>       <th>  Adj. R-squared:    </th> <td>   0.946</td>\n",
              "</tr>\n",
              "<tr>\n",
              "  <th>Method:</th>             <td>Least Squares</td>  <th>  F-statistic:       </th> <td>   217.2</td>\n",
              "</tr>\n",
              "<tr>\n",
              "  <th>Date:</th>             <td>Thu, 24 Nov 2022</td> <th>  Prob (F-statistic):</th> <td>8.51e-29</td>\n",
              "</tr>\n",
              "<tr>\n",
              "  <th>Time:</th>                 <td>04:41:33</td>     <th>  Log-Likelihood:    </th> <td>  78.973</td>\n",
              "</tr>\n",
              "<tr>\n",
              "  <th>No. Observations:</th>      <td>    50</td>      <th>  AIC:               </th> <td>  -147.9</td>\n",
              "</tr>\n",
              "<tr>\n",
              "  <th>Df Residuals:</th>          <td>    45</td>      <th>  BIC:               </th> <td>  -138.4</td>\n",
              "</tr>\n",
              "<tr>\n",
              "  <th>Df Model:</th>              <td>     4</td>      <th>                     </th>     <td> </td>   \n",
              "</tr>\n",
              "<tr>\n",
              "  <th>Covariance Type:</th>      <td>nonrobust</td>    <th>                     </th>     <td> </td>   \n",
              "</tr>\n",
              "</table>\n",
              "<table class=\"simpletable\">\n",
              "<tr>\n",
              "      <td></td>         <th>coef</th>     <th>std err</th>      <th>t</th>      <th>P>|t|</th>  <th>[0.025</th>    <th>0.975]</th>  \n",
              "</tr>\n",
              "<tr>\n",
              "  <th>Intercept</th> <td>    0.1919</td> <td>    0.026</td> <td>    7.409</td> <td> 0.000</td> <td>    0.140</td> <td>    0.244</td>\n",
              "</tr>\n",
              "<tr>\n",
              "  <th>Rd</th>        <td>    0.7503</td> <td>    0.043</td> <td>   17.609</td> <td> 0.000</td> <td>    0.664</td> <td>    0.836</td>\n",
              "</tr>\n",
              "<tr>\n",
              "  <th>Adm</th>       <td>   -0.0198</td> <td>    0.038</td> <td>   -0.520</td> <td> 0.606</td> <td>   -0.097</td> <td>    0.057</td>\n",
              "</tr>\n",
              "<tr>\n",
              "  <th>Mar</th>       <td>    0.0723</td> <td>    0.044</td> <td>    1.637</td> <td> 0.109</td> <td>   -0.017</td> <td>    0.161</td>\n",
              "</tr>\n",
              "<tr>\n",
              "  <th>St</th>        <td>   -0.0003</td> <td>    0.018</td> <td>   -0.014</td> <td> 0.989</td> <td>   -0.037</td> <td>    0.036</td>\n",
              "</tr>\n",
              "</table>\n",
              "<table class=\"simpletable\">\n",
              "<tr>\n",
              "  <th>Omnibus:</th>       <td>14.864</td> <th>  Durbin-Watson:     </th> <td>   1.282</td>\n",
              "</tr>\n",
              "<tr>\n",
              "  <th>Prob(Omnibus):</th> <td> 0.001</td> <th>  Jarque-Bera (JB):  </th> <td>  21.542</td>\n",
              "</tr>\n",
              "<tr>\n",
              "  <th>Skew:</th>          <td>-0.949</td> <th>  Prob(JB):          </th> <td>2.10e-05</td>\n",
              "</tr>\n",
              "<tr>\n",
              "  <th>Kurtosis:</th>      <td> 5.596</td> <th>  Cond. No.          </th> <td>    11.7</td>\n",
              "</tr>\n",
              "</table><br/><br/>Notes:<br/>[1] Standard Errors assume that the covariance matrix of the errors is correctly specified."
            ]
          },
          "metadata": {},
          "execution_count": 43
        }
      ]
    },
    {
      "cell_type": "code",
      "source": [
        "# Variance Inflation Factor (VIF)\n",
        "# Check for Colinearity to decide to remove a variable using VIF\n",
        "# Assumption: VIF > 10 = colinearity\n",
        "# calculating VIF's values of independent variables\n",
        "rsq_Rd = smf.ols('Rd ~  Adm + Mar + St', data = data).fit().rsquared  \n",
        "vif_Rd = 1/(1 - rsq_Rd) \n",
        "\n",
        "rsq_Adm = smf.ols('Adm ~ Rd +  Mar + St', data = data).fit().rsquared  \n",
        "vif_Adm = 1/(1 - rsq_Adm)\n",
        "\n",
        "rsq_Mar = smf.ols('Mar ~ Rd + Adm + St', data = data).fit().rsquared  \n",
        "vif_Mar = 1/(1 - rsq_Mar) \n",
        "\n",
        "rsq_St = smf.ols('St ~ Rd + Adm + Mar', data = data).fit().rsquared  \n",
        "vif_St = 1/(1 - rsq_St) "
      ],
      "metadata": {
        "id": "KWfF2Wqq2Ji-"
      },
      "execution_count": 45,
      "outputs": []
    },
    {
      "cell_type": "code",
      "source": [
        "# Storing vif values in a data frame\n",
        "d1 = {'Variables':['Rd', 'Adm', 'Mar', 'St'], 'VIF':[vif_Rd, vif_Adm, vif_Mar, vif_St]}\n",
        "Vif_frame = pd.DataFrame(data)  \n",
        "Vif_frame"
      ],
      "metadata": {
        "colab": {
          "base_uri": "https://localhost:8080/",
          "height": 1000
        },
        "id": "p_5S1h20kdwR",
        "outputId": "376a2a18-1a69-493a-eb1f-eb2aea7ee1a0"
      },
      "execution_count": 46,
      "outputs": [
        {
          "output_type": "execute_result",
          "data": {
            "text/plain": [
              "          Rd       Adm       Mar   St        Pr\n",
              "0   1.000000  0.651744  1.000000  1.0  1.000000\n",
              "1   0.983359  0.761972  0.940893  0.0  0.997355\n",
              "2   0.927985  0.379579  0.864664  0.5  0.993178\n",
              "3   0.873136  0.512998  0.812235  1.0  0.947292\n",
              "4   0.859438  0.305328  0.776136  0.5  0.853171\n",
              "5   0.797566  0.369448  0.769126  1.0  0.801382\n",
              "6   0.814128  0.730161  0.270710  0.0  0.796490\n",
              "7   0.788018  0.717457  0.686493  0.5  0.794407\n",
              "8   0.729018  0.741733  0.660500  1.0  0.774468\n",
              "9   0.745906  0.436929  0.646443  0.0  0.760661\n",
              "10  0.616351  0.451506  0.485733  0.5  0.740175\n",
              "11  0.608845  0.308364  0.529362  0.0  0.729686\n",
              "12  0.567670  0.578836  0.529563  0.5  0.714629\n",
              "13  0.556352  0.641066  0.535552  0.0  0.673644\n",
              "14  0.725394  0.801327  0.543708  0.5  0.664044\n",
              "15  0.692617  0.543030  0.554864  1.0  0.648921\n",
              "16  0.471808  0.535270  0.560312  0.0  0.632454\n",
              "17  0.572468  0.714013  0.598948  1.0  0.623317\n",
              "18  0.554881  0.478772  0.625116  0.5  0.617103\n",
              "19  0.522650  0.778236  0.000000  1.0  0.608713\n",
              "20  0.461169  0.476424  0.633053  0.0  0.584482\n",
              "21  0.474084  0.780210  0.635327  1.0  0.544157\n",
              "22  0.447505  0.544293  0.642920  0.5  0.538747\n",
              "23  0.408424  0.414638  0.645992  0.5  0.529634\n",
              "24  0.465947  0.365388  0.297964  1.0  0.528609\n",
              "25  0.391080  0.671958  0.292427  0.0  0.522146\n",
              "26  0.455574  0.706845  0.284134  0.5  0.512737\n",
              "27  0.436093  0.582978  0.748613  1.0  0.508654\n",
              "28  0.399467  1.000000  0.250429  0.5  0.498934\n",
              "29  0.396769  0.774566  0.227092  1.0  0.486108\n",
              "30  0.374931  0.489928  0.193163  0.5  0.480099\n",
              "31  0.369741  0.772053  0.186989  1.0  0.466280\n",
              "32  0.383485  0.593294  0.097683  0.0  0.465966\n",
              "33  0.335617  0.394134  0.454943  0.5  0.462312\n",
              "34  0.280776  0.810055  0.446810  0.0  0.461939\n",
              "35  0.278284  0.257032  0.435618  1.0  0.460626\n",
              "36  0.173353  0.576825  0.426311  0.5  0.428126\n",
              "37  0.266527  0.000000  0.417626  0.0  0.423852\n",
              "38  0.122345  0.111636  0.392690  1.0  0.374747\n",
              "39  0.233194  0.241309  0.370931  0.0  0.373489\n",
              "40  0.173901  0.512041  0.366260  0.0  0.357914\n",
              "41  0.168691  0.254469  0.348614  0.5  0.355430\n",
              "42  0.142976  0.341852  0.313705  0.0  0.319951\n",
              "43  0.093776  0.579307  0.075319  1.0  0.310156\n",
              "44  0.134127  0.788072  0.060059  0.0  0.284485\n",
              "45  0.006049  0.554724  0.004036  1.0  0.282940\n",
              "46  0.007956  0.491260  0.629768  0.5  0.196020\n",
              "47  0.000000  0.640547  0.000000  0.0  0.156990\n",
              "48  0.003278  0.003502  0.000000  1.0  0.118211\n",
              "49  0.000000  0.500148  0.095749  0.0  0.000000"
            ],
            "text/html": [
              "\n",
              "  <div id=\"df-51d5b940-485d-4e69-bcb6-7f9ce375b25c\">\n",
              "    <div class=\"colab-df-container\">\n",
              "      <div>\n",
              "<style scoped>\n",
              "    .dataframe tbody tr th:only-of-type {\n",
              "        vertical-align: middle;\n",
              "    }\n",
              "\n",
              "    .dataframe tbody tr th {\n",
              "        vertical-align: top;\n",
              "    }\n",
              "\n",
              "    .dataframe thead th {\n",
              "        text-align: right;\n",
              "    }\n",
              "</style>\n",
              "<table border=\"1\" class=\"dataframe\">\n",
              "  <thead>\n",
              "    <tr style=\"text-align: right;\">\n",
              "      <th></th>\n",
              "      <th>Rd</th>\n",
              "      <th>Adm</th>\n",
              "      <th>Mar</th>\n",
              "      <th>St</th>\n",
              "      <th>Pr</th>\n",
              "    </tr>\n",
              "  </thead>\n",
              "  <tbody>\n",
              "    <tr>\n",
              "      <th>0</th>\n",
              "      <td>1.000000</td>\n",
              "      <td>0.651744</td>\n",
              "      <td>1.000000</td>\n",
              "      <td>1.0</td>\n",
              "      <td>1.000000</td>\n",
              "    </tr>\n",
              "    <tr>\n",
              "      <th>1</th>\n",
              "      <td>0.983359</td>\n",
              "      <td>0.761972</td>\n",
              "      <td>0.940893</td>\n",
              "      <td>0.0</td>\n",
              "      <td>0.997355</td>\n",
              "    </tr>\n",
              "    <tr>\n",
              "      <th>2</th>\n",
              "      <td>0.927985</td>\n",
              "      <td>0.379579</td>\n",
              "      <td>0.864664</td>\n",
              "      <td>0.5</td>\n",
              "      <td>0.993178</td>\n",
              "    </tr>\n",
              "    <tr>\n",
              "      <th>3</th>\n",
              "      <td>0.873136</td>\n",
              "      <td>0.512998</td>\n",
              "      <td>0.812235</td>\n",
              "      <td>1.0</td>\n",
              "      <td>0.947292</td>\n",
              "    </tr>\n",
              "    <tr>\n",
              "      <th>4</th>\n",
              "      <td>0.859438</td>\n",
              "      <td>0.305328</td>\n",
              "      <td>0.776136</td>\n",
              "      <td>0.5</td>\n",
              "      <td>0.853171</td>\n",
              "    </tr>\n",
              "    <tr>\n",
              "      <th>5</th>\n",
              "      <td>0.797566</td>\n",
              "      <td>0.369448</td>\n",
              "      <td>0.769126</td>\n",
              "      <td>1.0</td>\n",
              "      <td>0.801382</td>\n",
              "    </tr>\n",
              "    <tr>\n",
              "      <th>6</th>\n",
              "      <td>0.814128</td>\n",
              "      <td>0.730161</td>\n",
              "      <td>0.270710</td>\n",
              "      <td>0.0</td>\n",
              "      <td>0.796490</td>\n",
              "    </tr>\n",
              "    <tr>\n",
              "      <th>7</th>\n",
              "      <td>0.788018</td>\n",
              "      <td>0.717457</td>\n",
              "      <td>0.686493</td>\n",
              "      <td>0.5</td>\n",
              "      <td>0.794407</td>\n",
              "    </tr>\n",
              "    <tr>\n",
              "      <th>8</th>\n",
              "      <td>0.729018</td>\n",
              "      <td>0.741733</td>\n",
              "      <td>0.660500</td>\n",
              "      <td>1.0</td>\n",
              "      <td>0.774468</td>\n",
              "    </tr>\n",
              "    <tr>\n",
              "      <th>9</th>\n",
              "      <td>0.745906</td>\n",
              "      <td>0.436929</td>\n",
              "      <td>0.646443</td>\n",
              "      <td>0.0</td>\n",
              "      <td>0.760661</td>\n",
              "    </tr>\n",
              "    <tr>\n",
              "      <th>10</th>\n",
              "      <td>0.616351</td>\n",
              "      <td>0.451506</td>\n",
              "      <td>0.485733</td>\n",
              "      <td>0.5</td>\n",
              "      <td>0.740175</td>\n",
              "    </tr>\n",
              "    <tr>\n",
              "      <th>11</th>\n",
              "      <td>0.608845</td>\n",
              "      <td>0.308364</td>\n",
              "      <td>0.529362</td>\n",
              "      <td>0.0</td>\n",
              "      <td>0.729686</td>\n",
              "    </tr>\n",
              "    <tr>\n",
              "      <th>12</th>\n",
              "      <td>0.567670</td>\n",
              "      <td>0.578836</td>\n",
              "      <td>0.529563</td>\n",
              "      <td>0.5</td>\n",
              "      <td>0.714629</td>\n",
              "    </tr>\n",
              "    <tr>\n",
              "      <th>13</th>\n",
              "      <td>0.556352</td>\n",
              "      <td>0.641066</td>\n",
              "      <td>0.535552</td>\n",
              "      <td>0.0</td>\n",
              "      <td>0.673644</td>\n",
              "    </tr>\n",
              "    <tr>\n",
              "      <th>14</th>\n",
              "      <td>0.725394</td>\n",
              "      <td>0.801327</td>\n",
              "      <td>0.543708</td>\n",
              "      <td>0.5</td>\n",
              "      <td>0.664044</td>\n",
              "    </tr>\n",
              "    <tr>\n",
              "      <th>15</th>\n",
              "      <td>0.692617</td>\n",
              "      <td>0.543030</td>\n",
              "      <td>0.554864</td>\n",
              "      <td>1.0</td>\n",
              "      <td>0.648921</td>\n",
              "    </tr>\n",
              "    <tr>\n",
              "      <th>16</th>\n",
              "      <td>0.471808</td>\n",
              "      <td>0.535270</td>\n",
              "      <td>0.560312</td>\n",
              "      <td>0.0</td>\n",
              "      <td>0.632454</td>\n",
              "    </tr>\n",
              "    <tr>\n",
              "      <th>17</th>\n",
              "      <td>0.572468</td>\n",
              "      <td>0.714013</td>\n",
              "      <td>0.598948</td>\n",
              "      <td>1.0</td>\n",
              "      <td>0.623317</td>\n",
              "    </tr>\n",
              "    <tr>\n",
              "      <th>18</th>\n",
              "      <td>0.554881</td>\n",
              "      <td>0.478772</td>\n",
              "      <td>0.625116</td>\n",
              "      <td>0.5</td>\n",
              "      <td>0.617103</td>\n",
              "    </tr>\n",
              "    <tr>\n",
              "      <th>19</th>\n",
              "      <td>0.522650</td>\n",
              "      <td>0.778236</td>\n",
              "      <td>0.000000</td>\n",
              "      <td>1.0</td>\n",
              "      <td>0.608713</td>\n",
              "    </tr>\n",
              "    <tr>\n",
              "      <th>20</th>\n",
              "      <td>0.461169</td>\n",
              "      <td>0.476424</td>\n",
              "      <td>0.633053</td>\n",
              "      <td>0.0</td>\n",
              "      <td>0.584482</td>\n",
              "    </tr>\n",
              "    <tr>\n",
              "      <th>21</th>\n",
              "      <td>0.474084</td>\n",
              "      <td>0.780210</td>\n",
              "      <td>0.635327</td>\n",
              "      <td>1.0</td>\n",
              "      <td>0.544157</td>\n",
              "    </tr>\n",
              "    <tr>\n",
              "      <th>22</th>\n",
              "      <td>0.447505</td>\n",
              "      <td>0.544293</td>\n",
              "      <td>0.642920</td>\n",
              "      <td>0.5</td>\n",
              "      <td>0.538747</td>\n",
              "    </tr>\n",
              "    <tr>\n",
              "      <th>23</th>\n",
              "      <td>0.408424</td>\n",
              "      <td>0.414638</td>\n",
              "      <td>0.645992</td>\n",
              "      <td>0.5</td>\n",
              "      <td>0.529634</td>\n",
              "    </tr>\n",
              "    <tr>\n",
              "      <th>24</th>\n",
              "      <td>0.465947</td>\n",
              "      <td>0.365388</td>\n",
              "      <td>0.297964</td>\n",
              "      <td>1.0</td>\n",
              "      <td>0.528609</td>\n",
              "    </tr>\n",
              "    <tr>\n",
              "      <th>25</th>\n",
              "      <td>0.391080</td>\n",
              "      <td>0.671958</td>\n",
              "      <td>0.292427</td>\n",
              "      <td>0.0</td>\n",
              "      <td>0.522146</td>\n",
              "    </tr>\n",
              "    <tr>\n",
              "      <th>26</th>\n",
              "      <td>0.455574</td>\n",
              "      <td>0.706845</td>\n",
              "      <td>0.284134</td>\n",
              "      <td>0.5</td>\n",
              "      <td>0.512737</td>\n",
              "    </tr>\n",
              "    <tr>\n",
              "      <th>27</th>\n",
              "      <td>0.436093</td>\n",
              "      <td>0.582978</td>\n",
              "      <td>0.748613</td>\n",
              "      <td>1.0</td>\n",
              "      <td>0.508654</td>\n",
              "    </tr>\n",
              "    <tr>\n",
              "      <th>28</th>\n",
              "      <td>0.399467</td>\n",
              "      <td>1.000000</td>\n",
              "      <td>0.250429</td>\n",
              "      <td>0.5</td>\n",
              "      <td>0.498934</td>\n",
              "    </tr>\n",
              "    <tr>\n",
              "      <th>29</th>\n",
              "      <td>0.396769</td>\n",
              "      <td>0.774566</td>\n",
              "      <td>0.227092</td>\n",
              "      <td>1.0</td>\n",
              "      <td>0.486108</td>\n",
              "    </tr>\n",
              "    <tr>\n",
              "      <th>30</th>\n",
              "      <td>0.374931</td>\n",
              "      <td>0.489928</td>\n",
              "      <td>0.193163</td>\n",
              "      <td>0.5</td>\n",
              "      <td>0.480099</td>\n",
              "    </tr>\n",
              "    <tr>\n",
              "      <th>31</th>\n",
              "      <td>0.369741</td>\n",
              "      <td>0.772053</td>\n",
              "      <td>0.186989</td>\n",
              "      <td>1.0</td>\n",
              "      <td>0.466280</td>\n",
              "    </tr>\n",
              "    <tr>\n",
              "      <th>32</th>\n",
              "      <td>0.383485</td>\n",
              "      <td>0.593294</td>\n",
              "      <td>0.097683</td>\n",
              "      <td>0.0</td>\n",
              "      <td>0.465966</td>\n",
              "    </tr>\n",
              "    <tr>\n",
              "      <th>33</th>\n",
              "      <td>0.335617</td>\n",
              "      <td>0.394134</td>\n",
              "      <td>0.454943</td>\n",
              "      <td>0.5</td>\n",
              "      <td>0.462312</td>\n",
              "    </tr>\n",
              "    <tr>\n",
              "      <th>34</th>\n",
              "      <td>0.280776</td>\n",
              "      <td>0.810055</td>\n",
              "      <td>0.446810</td>\n",
              "      <td>0.0</td>\n",
              "      <td>0.461939</td>\n",
              "    </tr>\n",
              "    <tr>\n",
              "      <th>35</th>\n",
              "      <td>0.278284</td>\n",
              "      <td>0.257032</td>\n",
              "      <td>0.435618</td>\n",
              "      <td>1.0</td>\n",
              "      <td>0.460626</td>\n",
              "    </tr>\n",
              "    <tr>\n",
              "      <th>36</th>\n",
              "      <td>0.173353</td>\n",
              "      <td>0.576825</td>\n",
              "      <td>0.426311</td>\n",
              "      <td>0.5</td>\n",
              "      <td>0.428126</td>\n",
              "    </tr>\n",
              "    <tr>\n",
              "      <th>37</th>\n",
              "      <td>0.266527</td>\n",
              "      <td>0.000000</td>\n",
              "      <td>0.417626</td>\n",
              "      <td>0.0</td>\n",
              "      <td>0.423852</td>\n",
              "    </tr>\n",
              "    <tr>\n",
              "      <th>38</th>\n",
              "      <td>0.122345</td>\n",
              "      <td>0.111636</td>\n",
              "      <td>0.392690</td>\n",
              "      <td>1.0</td>\n",
              "      <td>0.374747</td>\n",
              "    </tr>\n",
              "    <tr>\n",
              "      <th>39</th>\n",
              "      <td>0.233194</td>\n",
              "      <td>0.241309</td>\n",
              "      <td>0.370931</td>\n",
              "      <td>0.0</td>\n",
              "      <td>0.373489</td>\n",
              "    </tr>\n",
              "    <tr>\n",
              "      <th>40</th>\n",
              "      <td>0.173901</td>\n",
              "      <td>0.512041</td>\n",
              "      <td>0.366260</td>\n",
              "      <td>0.0</td>\n",
              "      <td>0.357914</td>\n",
              "    </tr>\n",
              "    <tr>\n",
              "      <th>41</th>\n",
              "      <td>0.168691</td>\n",
              "      <td>0.254469</td>\n",
              "      <td>0.348614</td>\n",
              "      <td>0.5</td>\n",
              "      <td>0.355430</td>\n",
              "    </tr>\n",
              "    <tr>\n",
              "      <th>42</th>\n",
              "      <td>0.142976</td>\n",
              "      <td>0.341852</td>\n",
              "      <td>0.313705</td>\n",
              "      <td>0.0</td>\n",
              "      <td>0.319951</td>\n",
              "    </tr>\n",
              "    <tr>\n",
              "      <th>43</th>\n",
              "      <td>0.093776</td>\n",
              "      <td>0.579307</td>\n",
              "      <td>0.075319</td>\n",
              "      <td>1.0</td>\n",
              "      <td>0.310156</td>\n",
              "    </tr>\n",
              "    <tr>\n",
              "      <th>44</th>\n",
              "      <td>0.134127</td>\n",
              "      <td>0.788072</td>\n",
              "      <td>0.060059</td>\n",
              "      <td>0.0</td>\n",
              "      <td>0.284485</td>\n",
              "    </tr>\n",
              "    <tr>\n",
              "      <th>45</th>\n",
              "      <td>0.006049</td>\n",
              "      <td>0.554724</td>\n",
              "      <td>0.004036</td>\n",
              "      <td>1.0</td>\n",
              "      <td>0.282940</td>\n",
              "    </tr>\n",
              "    <tr>\n",
              "      <th>46</th>\n",
              "      <td>0.007956</td>\n",
              "      <td>0.491260</td>\n",
              "      <td>0.629768</td>\n",
              "      <td>0.5</td>\n",
              "      <td>0.196020</td>\n",
              "    </tr>\n",
              "    <tr>\n",
              "      <th>47</th>\n",
              "      <td>0.000000</td>\n",
              "      <td>0.640547</td>\n",
              "      <td>0.000000</td>\n",
              "      <td>0.0</td>\n",
              "      <td>0.156990</td>\n",
              "    </tr>\n",
              "    <tr>\n",
              "      <th>48</th>\n",
              "      <td>0.003278</td>\n",
              "      <td>0.003502</td>\n",
              "      <td>0.000000</td>\n",
              "      <td>1.0</td>\n",
              "      <td>0.118211</td>\n",
              "    </tr>\n",
              "    <tr>\n",
              "      <th>49</th>\n",
              "      <td>0.000000</td>\n",
              "      <td>0.500148</td>\n",
              "      <td>0.095749</td>\n",
              "      <td>0.0</td>\n",
              "      <td>0.000000</td>\n",
              "    </tr>\n",
              "  </tbody>\n",
              "</table>\n",
              "</div>\n",
              "      <button class=\"colab-df-convert\" onclick=\"convertToInteractive('df-51d5b940-485d-4e69-bcb6-7f9ce375b25c')\"\n",
              "              title=\"Convert this dataframe to an interactive table.\"\n",
              "              style=\"display:none;\">\n",
              "        \n",
              "  <svg xmlns=\"http://www.w3.org/2000/svg\" height=\"24px\"viewBox=\"0 0 24 24\"\n",
              "       width=\"24px\">\n",
              "    <path d=\"M0 0h24v24H0V0z\" fill=\"none\"/>\n",
              "    <path d=\"M18.56 5.44l.94 2.06.94-2.06 2.06-.94-2.06-.94-.94-2.06-.94 2.06-2.06.94zm-11 1L8.5 8.5l.94-2.06 2.06-.94-2.06-.94L8.5 2.5l-.94 2.06-2.06.94zm10 10l.94 2.06.94-2.06 2.06-.94-2.06-.94-.94-2.06-.94 2.06-2.06.94z\"/><path d=\"M17.41 7.96l-1.37-1.37c-.4-.4-.92-.59-1.43-.59-.52 0-1.04.2-1.43.59L10.3 9.45l-7.72 7.72c-.78.78-.78 2.05 0 2.83L4 21.41c.39.39.9.59 1.41.59.51 0 1.02-.2 1.41-.59l7.78-7.78 2.81-2.81c.8-.78.8-2.07 0-2.86zM5.41 20L4 18.59l7.72-7.72 1.47 1.35L5.41 20z\"/>\n",
              "  </svg>\n",
              "      </button>\n",
              "      \n",
              "  <style>\n",
              "    .colab-df-container {\n",
              "      display:flex;\n",
              "      flex-wrap:wrap;\n",
              "      gap: 12px;\n",
              "    }\n",
              "\n",
              "    .colab-df-convert {\n",
              "      background-color: #E8F0FE;\n",
              "      border: none;\n",
              "      border-radius: 50%;\n",
              "      cursor: pointer;\n",
              "      display: none;\n",
              "      fill: #1967D2;\n",
              "      height: 32px;\n",
              "      padding: 0 0 0 0;\n",
              "      width: 32px;\n",
              "    }\n",
              "\n",
              "    .colab-df-convert:hover {\n",
              "      background-color: #E2EBFA;\n",
              "      box-shadow: 0px 1px 2px rgba(60, 64, 67, 0.3), 0px 1px 3px 1px rgba(60, 64, 67, 0.15);\n",
              "      fill: #174EA6;\n",
              "    }\n",
              "\n",
              "    [theme=dark] .colab-df-convert {\n",
              "      background-color: #3B4455;\n",
              "      fill: #D2E3FC;\n",
              "    }\n",
              "\n",
              "    [theme=dark] .colab-df-convert:hover {\n",
              "      background-color: #434B5C;\n",
              "      box-shadow: 0px 1px 3px 1px rgba(0, 0, 0, 0.15);\n",
              "      filter: drop-shadow(0px 1px 2px rgba(0, 0, 0, 0.3));\n",
              "      fill: #FFFFFF;\n",
              "    }\n",
              "  </style>\n",
              "\n",
              "      <script>\n",
              "        const buttonEl =\n",
              "          document.querySelector('#df-51d5b940-485d-4e69-bcb6-7f9ce375b25c button.colab-df-convert');\n",
              "        buttonEl.style.display =\n",
              "          google.colab.kernel.accessAllowed ? 'block' : 'none';\n",
              "\n",
              "        async function convertToInteractive(key) {\n",
              "          const element = document.querySelector('#df-51d5b940-485d-4e69-bcb6-7f9ce375b25c');\n",
              "          const dataTable =\n",
              "            await google.colab.kernel.invokeFunction('convertToInteractive',\n",
              "                                                     [key], {});\n",
              "          if (!dataTable) return;\n",
              "\n",
              "          const docLinkHtml = 'Like what you see? Visit the ' +\n",
              "            '<a target=\"_blank\" href=https://colab.research.google.com/notebooks/data_table.ipynb>data table notebook</a>'\n",
              "            + ' to learn more about interactive tables.';\n",
              "          element.innerHTML = '';\n",
              "          dataTable['output_type'] = 'display_data';\n",
              "          await google.colab.output.renderOutput(dataTable, element);\n",
              "          const docLink = document.createElement('div');\n",
              "          docLink.innerHTML = docLinkHtml;\n",
              "          element.appendChild(docLink);\n",
              "        }\n",
              "      </script>\n",
              "    </div>\n",
              "  </div>\n",
              "  "
            ]
          },
          "metadata": {},
          "execution_count": 46
        }
      ]
    },
    {
      "cell_type": "code",
      "source": [
        "final_model = smf.ols('Pr ~ Rd + Adm + Mar + St ', data = data).fit()\n",
        "final_model.summary()"
      ],
      "metadata": {
        "colab": {
          "base_uri": "https://localhost:8080/",
          "height": 507
        },
        "id": "HCxk0CrnC1df",
        "outputId": "55f14a99-3540-4217-bfd7-0e8e94e9fd78"
      },
      "execution_count": 47,
      "outputs": [
        {
          "output_type": "execute_result",
          "data": {
            "text/plain": [
              "<class 'statsmodels.iolib.summary.Summary'>\n",
              "\"\"\"\n",
              "                            OLS Regression Results                            \n",
              "==============================================================================\n",
              "Dep. Variable:                     Pr   R-squared:                       0.951\n",
              "Model:                            OLS   Adj. R-squared:                  0.946\n",
              "Method:                 Least Squares   F-statistic:                     217.2\n",
              "Date:                Thu, 24 Nov 2022   Prob (F-statistic):           8.51e-29\n",
              "Time:                        05:11:50   Log-Likelihood:                 78.973\n",
              "No. Observations:                  50   AIC:                            -147.9\n",
              "Df Residuals:                      45   BIC:                            -138.4\n",
              "Df Model:                           4                                         \n",
              "Covariance Type:            nonrobust                                         \n",
              "==============================================================================\n",
              "                 coef    std err          t      P>|t|      [0.025      0.975]\n",
              "------------------------------------------------------------------------------\n",
              "Intercept      0.1919      0.026      7.409      0.000       0.140       0.244\n",
              "Rd             0.7503      0.043     17.609      0.000       0.664       0.836\n",
              "Adm           -0.0198      0.038     -0.520      0.606      -0.097       0.057\n",
              "Mar            0.0723      0.044      1.637      0.109      -0.017       0.161\n",
              "St            -0.0003      0.018     -0.014      0.989      -0.037       0.036\n",
              "==============================================================================\n",
              "Omnibus:                       14.864   Durbin-Watson:                   1.282\n",
              "Prob(Omnibus):                  0.001   Jarque-Bera (JB):               21.542\n",
              "Skew:                          -0.949   Prob(JB):                     2.10e-05\n",
              "Kurtosis:                       5.596   Cond. No.                         11.7\n",
              "==============================================================================\n",
              "\n",
              "Notes:\n",
              "[1] Standard Errors assume that the covariance matrix of the errors is correctly specified.\n",
              "\"\"\""
            ],
            "text/html": [
              "<table class=\"simpletable\">\n",
              "<caption>OLS Regression Results</caption>\n",
              "<tr>\n",
              "  <th>Dep. Variable:</th>           <td>Pr</td>        <th>  R-squared:         </th> <td>   0.951</td>\n",
              "</tr>\n",
              "<tr>\n",
              "  <th>Model:</th>                   <td>OLS</td>       <th>  Adj. R-squared:    </th> <td>   0.946</td>\n",
              "</tr>\n",
              "<tr>\n",
              "  <th>Method:</th>             <td>Least Squares</td>  <th>  F-statistic:       </th> <td>   217.2</td>\n",
              "</tr>\n",
              "<tr>\n",
              "  <th>Date:</th>             <td>Thu, 24 Nov 2022</td> <th>  Prob (F-statistic):</th> <td>8.51e-29</td>\n",
              "</tr>\n",
              "<tr>\n",
              "  <th>Time:</th>                 <td>05:11:50</td>     <th>  Log-Likelihood:    </th> <td>  78.973</td>\n",
              "</tr>\n",
              "<tr>\n",
              "  <th>No. Observations:</th>      <td>    50</td>      <th>  AIC:               </th> <td>  -147.9</td>\n",
              "</tr>\n",
              "<tr>\n",
              "  <th>Df Residuals:</th>          <td>    45</td>      <th>  BIC:               </th> <td>  -138.4</td>\n",
              "</tr>\n",
              "<tr>\n",
              "  <th>Df Model:</th>              <td>     4</td>      <th>                     </th>     <td> </td>   \n",
              "</tr>\n",
              "<tr>\n",
              "  <th>Covariance Type:</th>      <td>nonrobust</td>    <th>                     </th>     <td> </td>   \n",
              "</tr>\n",
              "</table>\n",
              "<table class=\"simpletable\">\n",
              "<tr>\n",
              "      <td></td>         <th>coef</th>     <th>std err</th>      <th>t</th>      <th>P>|t|</th>  <th>[0.025</th>    <th>0.975]</th>  \n",
              "</tr>\n",
              "<tr>\n",
              "  <th>Intercept</th> <td>    0.1919</td> <td>    0.026</td> <td>    7.409</td> <td> 0.000</td> <td>    0.140</td> <td>    0.244</td>\n",
              "</tr>\n",
              "<tr>\n",
              "  <th>Rd</th>        <td>    0.7503</td> <td>    0.043</td> <td>   17.609</td> <td> 0.000</td> <td>    0.664</td> <td>    0.836</td>\n",
              "</tr>\n",
              "<tr>\n",
              "  <th>Adm</th>       <td>   -0.0198</td> <td>    0.038</td> <td>   -0.520</td> <td> 0.606</td> <td>   -0.097</td> <td>    0.057</td>\n",
              "</tr>\n",
              "<tr>\n",
              "  <th>Mar</th>       <td>    0.0723</td> <td>    0.044</td> <td>    1.637</td> <td> 0.109</td> <td>   -0.017</td> <td>    0.161</td>\n",
              "</tr>\n",
              "<tr>\n",
              "  <th>St</th>        <td>   -0.0003</td> <td>    0.018</td> <td>   -0.014</td> <td> 0.989</td> <td>   -0.037</td> <td>    0.036</td>\n",
              "</tr>\n",
              "</table>\n",
              "<table class=\"simpletable\">\n",
              "<tr>\n",
              "  <th>Omnibus:</th>       <td>14.864</td> <th>  Durbin-Watson:     </th> <td>   1.282</td>\n",
              "</tr>\n",
              "<tr>\n",
              "  <th>Prob(Omnibus):</th> <td> 0.001</td> <th>  Jarque-Bera (JB):  </th> <td>  21.542</td>\n",
              "</tr>\n",
              "<tr>\n",
              "  <th>Skew:</th>          <td>-0.949</td> <th>  Prob(JB):          </th> <td>2.10e-05</td>\n",
              "</tr>\n",
              "<tr>\n",
              "  <th>Kurtosis:</th>      <td> 5.596</td> <th>  Cond. No.          </th> <td>    11.7</td>\n",
              "</tr>\n",
              "</table><br/><br/>Notes:<br/>[1] Standard Errors assume that the covariance matrix of the errors is correctly specified."
            ]
          },
          "metadata": {},
          "execution_count": 47
        }
      ]
    },
    {
      "cell_type": "code",
      "source": [
        "# Predictions\n",
        "\n",
        "pred = final_model.predict(data)"
      ],
      "metadata": {
        "id": "dMz2kl1YDJsf"
      },
      "execution_count": 52,
      "outputs": []
    },
    {
      "cell_type": "code",
      "source": [
        "# Q Q Plot\n",
        "res = final_model.resid\n",
        "sm.qqplot(res)\n",
        "plt.show()"
      ],
      "metadata": {
        "colab": {
          "base_uri": "https://localhost:8080/",
          "height": 279
        },
        "id": "sdkHaS8oDUfu",
        "outputId": "8cc2f8b9-2286-486c-a638-bb495424c405"
      },
      "execution_count": 50,
      "outputs": [
        {
          "output_type": "display_data",
          "data": {
            "text/plain": [
              "<Figure size 432x288 with 1 Axes>"
            ],
            "image/png": "[encoded data removed]"
          },
          "metadata": {
            "needs_background": "light"
          }
        }
      ]
    },
    {
      "cell_type": "code",
      "source": [
        "# Normal Q Q Plot\n",
        "\n",
        "stats.probplot(res, dist = 'norm', plot = pylab)"
      ],
      "metadata": {
        "colab": {
          "base_uri": "https://localhost:8080/",
          "height": 659
        },
        "id": "dsS3TN0-EPwl",
        "outputId": "4a68130b-1787-4740-ff4f-1c9b7748ffc0"
      },
      "execution_count": 51,
      "outputs": [
        {
          "output_type": "execute_result",
          "data": {
            "text/plain": [
              "((array([-2.20385432, -1.83293478, -1.61402323, -1.45296849, -1.32267759,\n",
              "         -1.21163342, -1.113805  , -1.02561527, -0.94475674, -0.86964726,\n",
              "         -0.79915021, -0.73241807, -0.66879925, -0.6077796 , -0.54894415,\n",
              "         -0.49195112, -0.43651377, -0.38238727, -0.32935914, -0.27724191,\n",
              "         -0.2258675 , -0.17508277, -0.12474591, -0.07472335, -0.02488719,\n",
              "          0.02488719,  0.07472335,  0.12474591,  0.17508277,  0.2258675 ,\n",
              "          0.27724191,  0.32935914,  0.38238727,  0.43651377,  0.49195112,\n",
              "          0.54894415,  0.6077796 ,  0.66879925,  0.73241807,  0.79915021,\n",
              "          0.86964726,  0.94475674,  1.02561527,  1.113805  ,  1.21163342,\n",
              "          1.32267759,  1.45296849,  1.61402323,  1.83293478,  2.20385432]),\n",
              "  array([-0.18894466, -0.09543672, -0.09177581, -0.07587077, -0.05280564,\n",
              "         -0.03757309, -0.03699782, -0.0336972 , -0.03353332, -0.02899726,\n",
              "         -0.02740681, -0.02703242, -0.02696806, -0.02673813, -0.02452237,\n",
              "         -0.0240511 , -0.02224251, -0.01545439, -0.01135487, -0.00898374,\n",
              "         -0.00710926, -0.00639402, -0.00432136, -0.00135676, -0.00102012,\n",
              "          0.0017339 ,  0.00273474,  0.00276276,  0.00320538,  0.00483003,\n",
              "          0.00914102,  0.0102032 ,  0.01469415,  0.01688214,  0.01916652,\n",
              "          0.02897194,  0.03373743,  0.03827212,  0.04034021,  0.04309474,\n",
              "          0.04877726,  0.05011493,  0.05194547,  0.05415489,  0.05662243,\n",
              "          0.05975645,  0.0650735 ,  0.07009016,  0.08685686,  0.09742594])),\n",
              " (0.04974567353892768, -3.9349466414555513e-16, 0.9620748943012911))"
            ]
          },
          "metadata": {},
          "execution_count": 51
        },
        {
          "output_type": "display_data",
          "data": {
            "text/plain": [
              "<Figure size 432x288 with 1 Axes>"
            ],
            "image/png": "[encoded data removed]"
          },
          "metadata": {
            "needs_background": "light"
          }
        }
      ]
    },
    {
      "cell_type": "code",
      "source": [
        "# Residuals vs Fitted plot\n",
        "sns.residplot(x = pred, y = data.Pr, lowess = True)\n",
        "plt.xlabel('Fitted')\n",
        "plt.ylabel('Residual')\n",
        "plt.title('Fitted vs Residual')\n",
        "plt.show()\n",
        "\n",
        "sm.graphics.influence_plot(final_model)"
      ],
      "metadata": {
        "colab": {
          "base_uri": "https://localhost:8080/",
          "height": 873
        },
        "id": "L1LCubluEiI1",
        "outputId": "347eafae-8b00-4239-9b3f-7157e5d438d9"
      },
      "execution_count": 53,
      "outputs": [
        {
          "output_type": "display_data",
          "data": {
            "text/plain": [
              "<Figure size 432x288 with 1 Axes>"
            ],
            "image/png": "[encoded data removed]"
          },
          "metadata": {
            "needs_background": "light"
          }
        },
        {
          "output_type": "execute_result",
          "data": {
            "text/plain": [
              "<Figure size 432x288 with 1 Axes>"
            ],
            "image/png": "[encoded data removed]"
          },
          "metadata": {},
          "execution_count": 53
        },
        {
          "output_type": "display_data",
          "data": {
            "text/plain": [
              "<Figure size 432x288 with 1 Axes>"
            ],
            "image/png": "[encoded data removed]"
          },
          "metadata": {
            "needs_background": "light"
          }
        }
      ]
    },
    {
      "cell_type": "code",
      "source": [
        "### Splitting the data into train and test data \n",
        "from sklearn.model_selection import train_test_split\n",
        "data_train, data_test = train_test_split(data, test_size = 0.2) # 20% test data\n",
        "\n",
        "# preparing the model on train data \n",
        "model_train = smf.ols('Pr ~ Rd + Adm + Mar + St ', data = data_train).fit()\n",
        "model_train.summary()"
      ],
      "metadata": {
        "colab": {
          "base_uri": "https://localhost:8080/",
          "height": 507
        },
        "id": "Fy6zNcMrE9sV",
        "outputId": "927fcd8c-a71b-4521-cd79-cd9926afe032"
      },
      "execution_count": 55,
      "outputs": [
        {
          "output_type": "execute_result",
          "data": {
            "text/plain": [
              "<class 'statsmodels.iolib.summary.Summary'>\n",
              "\"\"\"\n",
              "                            OLS Regression Results                            \n",
              "==============================================================================\n",
              "Dep. Variable:                     Pr   R-squared:                       0.945\n",
              "Model:                            OLS   Adj. R-squared:                  0.939\n",
              "Method:                 Least Squares   F-statistic:                     151.7\n",
              "Date:                Thu, 24 Nov 2022   Prob (F-statistic):           1.37e-21\n",
              "Time:                        05:25:12   Log-Likelihood:                 60.952\n",
              "No. Observations:                  40   AIC:                            -111.9\n",
              "Df Residuals:                      35   BIC:                            -103.5\n",
              "Df Model:                           4                                         \n",
              "Covariance Type:            nonrobust                                         \n",
              "==============================================================================\n",
              "                 coef    std err          t      P>|t|      [0.025      0.975]\n",
              "------------------------------------------------------------------------------\n",
              "Intercept      0.1832      0.031      5.954      0.000       0.121       0.246\n",
              "Rd             0.7026      0.062     11.388      0.000       0.577       0.828\n",
              "Adm           -0.0051      0.046     -0.110      0.913      -0.099       0.089\n",
              "Mar            0.1258      0.066      1.919      0.063      -0.007       0.259\n",
              "St            -0.0009      0.021     -0.044      0.965      -0.045       0.043\n",
              "==============================================================================\n",
              "Omnibus:                       15.658   Durbin-Watson:                   1.777\n",
              "Prob(Omnibus):                  0.000   Jarque-Bera (JB):               20.979\n",
              "Skew:                          -1.149   Prob(JB):                     2.78e-05\n",
              "Kurtosis:                       5.702   Cond. No.                         14.3\n",
              "==============================================================================\n",
              "\n",
              "Notes:\n",
              "[1] Standard Errors assume that the covariance matrix of the errors is correctly specified.\n",
              "\"\"\""
            ],
            "text/html": [
              "<table class=\"simpletable\">\n",
              "<caption>OLS Regression Results</caption>\n",
              "<tr>\n",
              "  <th>Dep. Variable:</th>           <td>Pr</td>        <th>  R-squared:         </th> <td>   0.945</td>\n",
              "</tr>\n",
              "<tr>\n",
              "  <th>Model:</th>                   <td>OLS</td>       <th>  Adj. R-squared:    </th> <td>   0.939</td>\n",
              "</tr>\n",
              "<tr>\n",
              "  <th>Method:</th>             <td>Least Squares</td>  <th>  F-statistic:       </th> <td>   151.7</td>\n",
              "</tr>\n",
              "<tr>\n",
              "  <th>Date:</th>             <td>Thu, 24 Nov 2022</td> <th>  Prob (F-statistic):</th> <td>1.37e-21</td>\n",
              "</tr>\n",
              "<tr>\n",
              "  <th>Time:</th>                 <td>05:25:12</td>     <th>  Log-Likelihood:    </th> <td>  60.952</td>\n",
              "</tr>\n",
              "<tr>\n",
              "  <th>No. Observations:</th>      <td>    40</td>      <th>  AIC:               </th> <td>  -111.9</td>\n",
              "</tr>\n",
              "<tr>\n",
              "  <th>Df Residuals:</th>          <td>    35</td>      <th>  BIC:               </th> <td>  -103.5</td>\n",
              "</tr>\n",
              "<tr>\n",
              "  <th>Df Model:</th>              <td>     4</td>      <th>                     </th>     <td> </td>   \n",
              "</tr>\n",
              "<tr>\n",
              "  <th>Covariance Type:</th>      <td>nonrobust</td>    <th>                     </th>     <td> </td>   \n",
              "</tr>\n",
              "</table>\n",
              "<table class=\"simpletable\">\n",
              "<tr>\n",
              "      <td></td>         <th>coef</th>     <th>std err</th>      <th>t</th>      <th>P>|t|</th>  <th>[0.025</th>    <th>0.975]</th>  \n",
              "</tr>\n",
              "<tr>\n",
              "  <th>Intercept</th> <td>    0.1832</td> <td>    0.031</td> <td>    5.954</td> <td> 0.000</td> <td>    0.121</td> <td>    0.246</td>\n",
              "</tr>\n",
              "<tr>\n",
              "  <th>Rd</th>        <td>    0.7026</td> <td>    0.062</td> <td>   11.388</td> <td> 0.000</td> <td>    0.577</td> <td>    0.828</td>\n",
              "</tr>\n",
              "<tr>\n",
              "  <th>Adm</th>       <td>   -0.0051</td> <td>    0.046</td> <td>   -0.110</td> <td> 0.913</td> <td>   -0.099</td> <td>    0.089</td>\n",
              "</tr>\n",
              "<tr>\n",
              "  <th>Mar</th>       <td>    0.1258</td> <td>    0.066</td> <td>    1.919</td> <td> 0.063</td> <td>   -0.007</td> <td>    0.259</td>\n",
              "</tr>\n",
              "<tr>\n",
              "  <th>St</th>        <td>   -0.0009</td> <td>    0.021</td> <td>   -0.044</td> <td> 0.965</td> <td>   -0.045</td> <td>    0.043</td>\n",
              "</tr>\n",
              "</table>\n",
              "<table class=\"simpletable\">\n",
              "<tr>\n",
              "  <th>Omnibus:</th>       <td>15.658</td> <th>  Durbin-Watson:     </th> <td>   1.777</td>\n",
              "</tr>\n",
              "<tr>\n",
              "  <th>Prob(Omnibus):</th> <td> 0.000</td> <th>  Jarque-Bera (JB):  </th> <td>  20.979</td>\n",
              "</tr>\n",
              "<tr>\n",
              "  <th>Skew:</th>          <td>-1.149</td> <th>  Prob(JB):          </th> <td>2.78e-05</td>\n",
              "</tr>\n",
              "<tr>\n",
              "  <th>Kurtosis:</th>      <td> 5.702</td> <th>  Cond. No.          </th> <td>    14.3</td>\n",
              "</tr>\n",
              "</table><br/><br/>Notes:<br/>[1] Standard Errors assume that the covariance matrix of the errors is correctly specified."
            ]
          },
          "metadata": {},
          "execution_count": 55
        }
      ]
    },
    {
      "cell_type": "code",
      "source": [
        "# prediction on test data set \n",
        "test_pred = model_train.predict(data_test)\n",
        "\n",
        "# test residual values \n",
        "test_resid = test_pred - data_test.Pr\n",
        "# RMSE value for test data \n",
        "test_rmse = np.sqrt(np.mean(test_resid * test_resid))\n",
        "test_rmse"
      ],
      "metadata": {
        "colab": {
          "base_uri": "https://localhost:8080/"
        },
        "id": "kxY-ldZXF6pj",
        "outputId": "73dfebfb-2ca9-4eea-86a0-10a4f89feb28"
      },
      "execution_count": 56,
      "outputs": [
        {
          "output_type": "execute_result",
          "data": {
            "text/plain": [
              "0.04196423701563778"
            ]
          },
          "metadata": {},
          "execution_count": 56
        }
      ]
    },
    {
      "cell_type": "code",
      "source": [
        "# train_data prediction\n",
        "train_pred = model_train.predict(data_train)\n",
        "\n",
        "# train residual values\n",
        "train_resid  = train_pred - data_train.Pr\n",
        "# RMSE value for train data \n",
        "train_rmse = np.sqrt(np.mean(train_resid * train_resid))\n",
        "train_rmse"
      ],
      "metadata": {
        "colab": {
          "base_uri": "https://localhost:8080/"
        },
        "id": "eLJfKmXnGI4o",
        "outputId": "099f6aec-d8b0-428b-c77b-344823c54dec"
      },
      "execution_count": 57,
      "outputs": [
        {
          "output_type": "execute_result",
          "data": {
            "text/plain": [
              "0.052720996738509794"
            ]
          },
          "metadata": {},
          "execution_count": 57
        }
      ]
    },
    {
      "cell_type": "code",
      "source": [],
      "metadata": {
        "id": "GsYMRh37GPC4"
      },
      "execution_count": null,
      "outputs": []
    }
  ]
}